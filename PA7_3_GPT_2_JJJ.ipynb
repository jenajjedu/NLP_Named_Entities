{
 "cells": [
  {
   "cell_type": "markdown",
   "metadata": {
    "id": "EKOTlwcmxmej"
   },
   "source": [
    "# GPT-2 Fine-Tuning Tutorial using raw text corpus\n",
    "\n",
    "From Rey Farhan (https://reyfarhan.com/posts/easy-gpt2-finetuning-huggingface/)\n",
    "\n",
    "\n"
   ]
  },
  {
   "cell_type": "markdown",
   "metadata": {
    "id": "0ZX8fCuuGA4P"
   },
   "source": [
    "Jena Jordahl\n",
    "Other people consulted\n",
    "\n",
    "Ran the first past of the pride and prejudice model on colab and then was unable to get a GPU to continue training on my own dataset.  Therefore, I switched to my own mac and processed on the CPU because I received errors when running pytorch using the GPU on the mac."
   ]
  },
  {
   "cell_type": "markdown",
   "metadata": {
    "id": "NKGBoVwuhM4H"
   },
   "source": [
    "This is a simplified script for fine-tuning GPT2 using Hugging Face's [Transformers library](https://huggingface.co/transformers/) and PyTorch on raw data. "
   ]
  },
  {
   "cell_type": "markdown",
   "metadata": {
    "id": "lS58Tugpg5gf"
   },
   "source": [
    "---------\n",
    "Your task is to modify this assignment on raw text of your choice (I have put Pride and Prejudice as an example below) and include 10 sample generations from your chosen text that you find interesting. \n"
   ]
  },
  {
   "cell_type": "markdown",
   "metadata": {
    "id": "Xf3Qw77SZGbS"
   },
   "source": [
    "# Setup"
   ]
  },
  {
   "cell_type": "code",
   "execution_count": 1,
   "metadata": {
    "colab": {
     "base_uri": "https://localhost:8080/"
    },
    "id": "0NmMdkZO8R6q",
    "outputId": "5642b62e-fbea-40ca-f3df-1b301d7a14df"
   },
   "outputs": [
    {
     "name": "stdout",
     "output_type": "stream",
     "text": [
      "Requirement already satisfied: transformers in ./venv/lib/python3.9/site-packages (4.25.1)\r\n",
      "Requirement already satisfied: tokenizers!=0.11.3,<0.14,>=0.11.1 in ./venv/lib/python3.9/site-packages (from transformers) (0.13.2)\r\n",
      "Requirement already satisfied: numpy>=1.17 in ./venv/lib/python3.9/site-packages (from transformers) (1.24.1)\r\n",
      "Requirement already satisfied: tqdm>=4.27 in ./venv/lib/python3.9/site-packages (from transformers) (4.64.1)\r\n",
      "Requirement already satisfied: regex!=2019.12.17 in ./venv/lib/python3.9/site-packages (from transformers) (2022.10.31)\r\n",
      "Requirement already satisfied: filelock in ./venv/lib/python3.9/site-packages (from transformers) (3.9.0)\r\n",
      "Requirement already satisfied: pyyaml>=5.1 in ./venv/lib/python3.9/site-packages (from transformers) (6.0)\r\n",
      "Requirement already satisfied: packaging>=20.0 in ./venv/lib/python3.9/site-packages (from transformers) (22.0)\r\n",
      "Requirement already satisfied: huggingface-hub<1.0,>=0.10.0 in ./venv/lib/python3.9/site-packages (from transformers) (0.11.1)\r\n",
      "Requirement already satisfied: requests in ./venv/lib/python3.9/site-packages (from transformers) (2.28.1)\r\n",
      "Requirement already satisfied: typing-extensions>=3.7.4.3 in ./venv/lib/python3.9/site-packages (from huggingface-hub<1.0,>=0.10.0->transformers) (4.4.0)\r\n",
      "Requirement already satisfied: idna<4,>=2.5 in ./venv/lib/python3.9/site-packages (from requests->transformers) (3.4)\r\n",
      "Requirement already satisfied: urllib3<1.27,>=1.21.1 in ./venv/lib/python3.9/site-packages (from requests->transformers) (1.26.13)\r\n",
      "Requirement already satisfied: certifi>=2017.4.17 in ./venv/lib/python3.9/site-packages (from requests->transformers) (2022.12.7)\r\n",
      "Requirement already satisfied: charset-normalizer<3,>=2 in ./venv/lib/python3.9/site-packages (from requests->transformers) (2.1.1)\r\n",
      "\u001B[33mWARNING: You are using pip version 21.3.1; however, version 22.3.1 is available.\r\n",
      "You should consider upgrading via the '/Users/mwh/PycharmProjects/pythonProject/venv/bin/python -m pip install --upgrade pip' command.\u001B[0m\r\n",
      "Requirement already satisfied: spacy in ./venv/lib/python3.9/site-packages (3.4.4)\r\n",
      "Requirement already satisfied: murmurhash<1.1.0,>=0.28.0 in ./venv/lib/python3.9/site-packages (from spacy) (1.0.9)\r\n",
      "Requirement already satisfied: srsly<3.0.0,>=2.4.3 in ./venv/lib/python3.9/site-packages (from spacy) (2.4.5)\r\n",
      "Requirement already satisfied: cymem<2.1.0,>=2.0.2 in ./venv/lib/python3.9/site-packages (from spacy) (2.0.7)\r\n",
      "Requirement already satisfied: jinja2 in ./venv/lib/python3.9/site-packages (from spacy) (3.1.2)\r\n",
      "Requirement already satisfied: packaging>=20.0 in ./venv/lib/python3.9/site-packages (from spacy) (22.0)\r\n",
      "Requirement already satisfied: spacy-loggers<2.0.0,>=1.0.0 in ./venv/lib/python3.9/site-packages (from spacy) (1.0.4)\r\n",
      "Requirement already satisfied: pathy>=0.3.5 in ./venv/lib/python3.9/site-packages (from spacy) (0.10.1)\r\n",
      "Requirement already satisfied: tqdm<5.0.0,>=4.38.0 in ./venv/lib/python3.9/site-packages (from spacy) (4.64.1)\r\n",
      "Requirement already satisfied: requests<3.0.0,>=2.13.0 in ./venv/lib/python3.9/site-packages (from spacy) (2.28.1)\r\n",
      "Requirement already satisfied: langcodes<4.0.0,>=3.2.0 in ./venv/lib/python3.9/site-packages (from spacy) (3.3.0)\r\n",
      "Requirement already satisfied: spacy-legacy<3.1.0,>=3.0.10 in ./venv/lib/python3.9/site-packages (from spacy) (3.0.10)\r\n",
      "Requirement already satisfied: smart-open<7.0.0,>=5.2.1 in ./venv/lib/python3.9/site-packages (from spacy) (6.3.0)\r\n",
      "Requirement already satisfied: thinc<8.2.0,>=8.1.0 in ./venv/lib/python3.9/site-packages (from spacy) (8.1.6)\r\n",
      "Requirement already satisfied: numpy>=1.15.0 in ./venv/lib/python3.9/site-packages (from spacy) (1.24.1)\r\n",
      "Requirement already satisfied: typer<0.8.0,>=0.3.0 in ./venv/lib/python3.9/site-packages (from spacy) (0.7.0)\r\n",
      "Requirement already satisfied: setuptools in ./venv/lib/python3.9/site-packages (from spacy) (60.2.0)\r\n",
      "Requirement already satisfied: preshed<3.1.0,>=3.0.2 in ./venv/lib/python3.9/site-packages (from spacy) (3.0.8)\r\n",
      "Requirement already satisfied: wasabi<1.1.0,>=0.9.1 in ./venv/lib/python3.9/site-packages (from spacy) (0.10.1)\r\n",
      "Requirement already satisfied: catalogue<2.1.0,>=2.0.6 in ./venv/lib/python3.9/site-packages (from spacy) (2.0.8)\r\n",
      "Requirement already satisfied: pydantic!=1.8,!=1.8.1,<1.11.0,>=1.7.4 in ./venv/lib/python3.9/site-packages (from spacy) (1.10.2)\r\n",
      "Requirement already satisfied: typing-extensions>=4.1.0 in ./venv/lib/python3.9/site-packages (from pydantic!=1.8,!=1.8.1,<1.11.0,>=1.7.4->spacy) (4.4.0)\r\n",
      "Requirement already satisfied: charset-normalizer<3,>=2 in ./venv/lib/python3.9/site-packages (from requests<3.0.0,>=2.13.0->spacy) (2.1.1)\r\n",
      "Requirement already satisfied: idna<4,>=2.5 in ./venv/lib/python3.9/site-packages (from requests<3.0.0,>=2.13.0->spacy) (3.4)\r\n",
      "Requirement already satisfied: urllib3<1.27,>=1.21.1 in ./venv/lib/python3.9/site-packages (from requests<3.0.0,>=2.13.0->spacy) (1.26.13)\r\n",
      "Requirement already satisfied: certifi>=2017.4.17 in ./venv/lib/python3.9/site-packages (from requests<3.0.0,>=2.13.0->spacy) (2022.12.7)\r\n",
      "Requirement already satisfied: confection<1.0.0,>=0.0.1 in ./venv/lib/python3.9/site-packages (from thinc<8.2.0,>=8.1.0->spacy) (0.0.3)\r\n",
      "Requirement already satisfied: blis<0.8.0,>=0.7.8 in ./venv/lib/python3.9/site-packages (from thinc<8.2.0,>=8.1.0->spacy) (0.7.9)\r\n",
      "Requirement already satisfied: click<9.0.0,>=7.1.1 in ./venv/lib/python3.9/site-packages (from typer<0.8.0,>=0.3.0->spacy) (8.1.3)\r\n",
      "Requirement already satisfied: MarkupSafe>=2.0 in ./venv/lib/python3.9/site-packages (from jinja2->spacy) (2.1.1)\r\n",
      "\u001B[33mWARNING: You are using pip version 21.3.1; however, version 22.3.1 is available.\r\n",
      "You should consider upgrading via the '/Users/mwh/PycharmProjects/pythonProject/venv/bin/python -m pip install --upgrade pip' command.\u001B[0m\r\n",
      "Requirement already satisfied: torch in ./venv/lib/python3.9/site-packages (1.13.1)\r\n",
      "Requirement already satisfied: typing-extensions in ./venv/lib/python3.9/site-packages (from torch) (4.4.0)\r\n",
      "\u001B[33mWARNING: You are using pip version 21.3.1; however, version 22.3.1 is available.\r\n",
      "You should consider upgrading via the '/Users/mwh/PycharmProjects/pythonProject/venv/bin/python -m pip install --upgrade pip' command.\u001B[0m\r\n"
     ]
    }
   ],
   "source": [
    "!pip install transformers\n",
    "!pip install -U spacy\n",
    "!pip install torch"
   ]
  },
  {
   "cell_type": "code",
   "execution_count": 2,
   "metadata": {
    "colab": {
     "base_uri": "https://localhost:8080/"
    },
    "id": "4RVP6rb1GHpw",
    "outputId": "45ea999d-79cc-44fa-899a-4593cbcb1cde"
   },
   "outputs": [
    {
     "name": "stdout",
     "output_type": "stream",
     "text": [
      "/Users/mwh/PycharmProjects/pythonProject/data\n"
     ]
    }
   ],
   "source": [
    "\n",
    "%cd ./data"
   ]
  },
  {
   "cell_type": "code",
   "execution_count": 3,
   "metadata": {
    "colab": {
     "base_uri": "https://localhost:8080/"
    },
    "id": "JCCeyhuDHdOu",
    "outputId": "7154f567-4f39-4d2f-e007-d02c23127196"
   },
   "outputs": [
    {
     "name": "stderr",
     "output_type": "stream",
     "text": [
      "[nltk_data] Downloading package punkt to /Users/mwh/nltk_data...\n",
      "[nltk_data]   Package punkt is already up-to-date!\n"
     ]
    },
    {
     "data": {
      "text/plain": "True"
     },
     "execution_count": 3,
     "metadata": {},
     "output_type": "execute_result"
    }
   ],
   "source": [
    "import os\n",
    "import time\n",
    "import datetime\n",
    "from __future__ import unicode_literals, print_function, division\n",
    "from io import open\n",
    "import glob\n",
    "import random\n",
    "random.seed(12)\n",
    "import spacy\n",
    "from tqdm import tqdm\n",
    "\n",
    "import pandas as pd\n",
    "import seaborn as sns\n",
    "import numpy as np\n",
    "\n",
    "import matplotlib.pyplot as plt\n",
    "%matplotlib inline\n",
    "\n",
    "\n",
    "import torch\n",
    "from torch.utils.data import Dataset, DataLoader, random_split, RandomSampler, SequentialSampler\n",
    "torch.manual_seed(42)\n",
    "from transformers import GPT2LMHeadModel,  GPT2Tokenizer, GPT2Config, GPT2LMHeadModel\n",
    "from transformers import AdamW, get_linear_schedule_with_warmup\n",
    "import nltk\n",
    "import ssl\n",
    "\n",
    "try:\n",
    "    _create_unverified_https_context = ssl._create_unverified_context\n",
    "except AttributeError:\n",
    "    pass\n",
    "else:\n",
    "    ssl._create_default_https_context = _create_unverified_https_context\n",
    "nltk.download('punkt')\n",
    "\n",
    "# !python -m spacy download en_core_web_lg\n"
   ]
  },
  {
   "cell_type": "code",
   "execution_count": 4,
   "metadata": {},
   "outputs": [],
   "source": [
    "# !PYTORCH_ENABLE_MPS_FALLBACK=1"
   ]
  },
  {
   "cell_type": "code",
   "execution_count": 5,
   "metadata": {
    "colab": {
     "base_uri": "https://localhost:8080/"
    },
    "id": "h995BTjQC7B5",
    "outputId": "17cb4314-726a-4142-a549-f755cba82db5"
   },
   "outputs": [
    {
     "name": "stdout",
     "output_type": "stream",
     "text": [
      "No GPU available, using the CPU instead.\n"
     ]
    }
   ],
   "source": [
    "# If there's a GPU available...\n",
    "# if torch.backends.mps.is_available():\n",
    "#     print(torch.backends.mps.is_built())\n",
    "#     dtype = torch.float\n",
    "#     device = torch.device(\"mps\")\n",
    "\n",
    "\n",
    "\n",
    "    # net.to(device)\n",
    "if torch.cuda.is_available():\n",
    "\n",
    "    # Tell PyTorch to use the GPU.\n",
    "    device = torch.device(\"cuda\")\n",
    "\n",
    "    print('There are %d GPU(s) available.' % torch.cuda.device_count())\n",
    "\n",
    "    print('We will use the GPU:', torch.cuda.get_device_name(0))\n",
    "\n",
    "# If not...\n",
    "else:\n",
    "    print('No GPU available, using the CPU instead.')\n",
    "    device = torch.device(\"cpu\")"
   ]
  },
  {
   "cell_type": "code",
   "execution_count": 6,
   "metadata": {},
   "outputs": [],
   "source": [
    "# !nvidia-smi"
   ]
  },
  {
   "cell_type": "code",
   "execution_count": 11,
   "metadata": {},
   "outputs": [],
   "source": [
    "def read_docs(story,idx,df_item=None):\n",
    "\n",
    "    if df_item:\n",
    "        f=open(story[idx], encoding='utf-8')\n",
    "        lines=f.read().strip().split('\\n' ) #.readlines()\n",
    "        doc=[line for line in lines]\n",
    "    else:\n",
    "        lines = pd.read_csv(story[idx],sep=',',header=0)\n",
    "        doc=[b.strip() for b in lines.Sentence.values]\n",
    "    print(doc[:5])\n",
    "    return doc\n",
    "\n",
    "\n",
    "def density_plot(docs):\n",
    "    doc_lengths = []\n",
    "\n",
    "    for doc in docs:\n",
    "\n",
    "        # get rough token count distribution\n",
    "        tokens = nltk.word_tokenize(doc)\n",
    "\n",
    "        doc_lengths.append(len(tokens))\n",
    "\n",
    "    doc_lengths = np.array(doc_lengths)\n",
    "\n",
    "    sns.distplot(doc_lengths)\n",
    "    return doc_lengths\n",
    "\n",
    "\n",
    "def format_time(elapsed):\n",
    "    return str(datetime.timedelta(seconds=int(round((elapsed)))))"
   ]
  },
  {
   "cell_type": "code",
   "execution_count": 12,
   "metadata": {},
   "outputs": [],
   "source": [
    "class GPT2Dataset(Dataset):\n",
    "\n",
    "  def __init__(self, txt_list, tokenizer, gpt2_type=\"gpt2\", max_length=768):\n",
    "\n",
    "    self.tokenizer = tokenizer\n",
    "    self.input_ids = []\n",
    "    self.attn_masks = []\n",
    "\n",
    "    for txt in txt_list:\n",
    "\n",
    "      encodings_dict = tokenizer('<|startoftext|>'+ txt + '<|endoftext|>', truncation=True, max_length=max_length, padding=\"max_length\")\n",
    "\n",
    "\n",
    "      self.input_ids.append(torch.tensor(encodings_dict['input_ids']))\n",
    "      self.attn_masks.append(torch.tensor(encodings_dict['attention_mask']))\n",
    "\n",
    "  def __len__(self):\n",
    "    return len(self.input_ids)\n",
    "\n",
    "  def __getitem__(self, idx):\n",
    "    return self.input_ids[idx], self.attn_masks[idx]"
   ]
  },
  {
   "cell_type": "code",
   "execution_count": 13,
   "outputs": [],
   "source": [
    "def preprocess(textList, batchsz=500):\n",
    "    # Input: text separated by new lines\n",
    "    # Output: sentences with space around punctuation\n",
    "\n",
    "    # sub-task 1: segment all the sentences in the wiki texts.\n",
    "    # sub-task 2: tokenize the sentences from sub-task 2.\n",
    "    # sub-task 3: lower-case the tokens from sub-task 3/4.\n",
    "\n",
    "    nlp = spacy.load('en_core_web_lg')\n",
    "    docDict = {}\n",
    "    docList = []\n",
    "    dropped = []\n",
    "    cnt = 0\n",
    "\n",
    "    for doc in tqdm(nlp.pipe(textList, batch_size=batchsz)): # Step 1\n",
    "        # if doc.has_annotation(\"DEP\"):\n",
    "        # for ent in doc.ents:\n",
    "            #  THIS LINE GIVES THE NAMED ENTITIES IN DOC\n",
    "            # print(ent.text, ent.start_char, ent.end_char, ent.label_)\n",
    "        docString = ''\n",
    "        for spanText in doc.sents:\n",
    "            spanT = spanText.text.strip()\n",
    "            if len(spanT) < 8:\n",
    "                dropped.append(spanT)\n",
    "                continue\n",
    "            if spanT:\n",
    "                for tok in spanText:\n",
    "                    docString += tok.text.strip().lower() + ' ' # Step 2 & 3\n",
    "                docDict[cnt]= docString\n",
    "                docList.append(docString)\n",
    "                cnt += 1\n",
    "    return  docDict, docList, dropped"
   ],
   "metadata": {
    "collapsed": false
   }
  },
  {
   "cell_type": "markdown",
   "source": [
    "# Create Training Set\n"
   ],
   "metadata": {
    "collapsed": false
   }
  },
  {
   "cell_type": "code",
   "execution_count": 23,
   "outputs": [
    {
     "data": {
      "text/plain": [
       "'./prideAndPrejudice.txt'"
      ]
     },
     "execution_count": 23,
     "metadata": {},
     "output_type": "execute_result"
    }
   ],
   "source": [
    "# files = filename=['/content/drive/MyDrive/Colab Notebooks/CS_505_PA7/prideAndPrejudice.txt']\n",
    "files = filename=['./prideAndPrejudice.txt']\n",
    "files[0]"
   ],
   "metadata": {
    "collapsed": false
   }
  },
  {
   "cell_type": "code",
   "execution_count": 15,
   "outputs": [
    {
     "name": "stdout",
     "output_type": "stream",
     "text": [
      "['It is a truth universally acknowledged, that a single man in possession of a good fortune, must be in want of a wife.', 'However little known the feelings or views of such a man may be on his first entering a neighbourhood, this truth is so well fixed in the minds of the surrounding families, that he is considered the rightful property of some one or other of their daughters.', '\"My dear Mr. Bennet,\" said his lady to him one day, \"have you heard that Netherfield Park is let at last?\"', 'Mr. Bennet replied that he had not.', '\"But it is,\" returned she; \"for Mrs. Long has just been here, and she told me all about it.\"']\n",
      "2063\n"
     ]
    }
   ],
   "source": [
    "docs= read_docs(files,0,True)\n",
    "print(len(docs))\n"
   ],
   "metadata": {
    "collapsed": false
   }
  },
  {
   "cell_type": "markdown",
   "source": [
    "We need to get an idea of how long our training documents are.\n",
    "\n",
    "I'm not going to use the same tokenizer as the GPT2 one, which is a [byte pair encoding tokenizer](https://blog.floydhub.com/tokenization-nlp/). Instead, I'm using a simple one just to get a rough understanding."
   ],
   "metadata": {
    "collapsed": false
   }
  },
  {
   "cell_type": "code",
   "execution_count": 27,
   "outputs": [
    {
     "name": "stderr",
     "output_type": "stream",
     "text": [
      "/var/folders/r3/znh92ysd4vbgxhnfwfl_c0lr0000gn/T/ipykernel_10440/3897218905.py:13: UserWarning: \n",
      "\n",
      "`distplot` is a deprecated function and will be removed in seaborn v0.14.0.\n",
      "\n",
      "Please adapt your code to use either `displot` (a figure-level function with\n",
      "similar flexibility) or `histplot` (an axes-level function for histograms).\n",
      "\n",
      "For a guide to updating your code to use the new functions, please see\n",
      "https://gist.github.com/mwaskom/de44147ed2974457ad6372750bbe5751\n",
      "\n",
      "  sns.distplot(doc_lengths)\n"
     ]
    },
    {
     "data": {
      "image/png": "[encoded data removed]",
      "text/plain": [
       "<Figure size 640x480 with 1 Axes>"
      ]
     },
     "metadata": {},
     "output_type": "display_data"
    }
   ],
   "source": [
    "doc_lengths = density_plot(docs)"
   ],
   "metadata": {
    "collapsed": false
   }
  },
  {
   "cell_type": "code",
   "execution_count": 28,
   "outputs": [
    {
     "name": "stdout",
     "output_type": "stream",
     "text": [
      "0.0004847309743092584\n"
     ]
    }
   ],
   "source": [
    "# the max token length\n",
    "print(len(doc_lengths[doc_lengths > 768])/len(doc_lengths))"
   ],
   "metadata": {
    "collapsed": false
   }
  },
  {
   "cell_type": "code",
   "execution_count": 29,
   "outputs": [
    {
     "data": {
      "text/plain": [
       "69.48763936015511"
      ]
     },
     "execution_count": 29,
     "metadata": {},
     "output_type": "execute_result"
    }
   ],
   "source": [
    "np.average(doc_lengths)"
   ],
   "metadata": {
    "collapsed": false
   }
  },
  {
   "cell_type": "markdown",
   "source": [
    "Even though these token counts won't match up to the BPE tokenizer's, I'm confident that most lines will be fit under the 768 embedding size limit for the small GPT2 model."
   ],
   "metadata": {
    "collapsed": false
   }
  },
  {
   "cell_type": "code",
   "execution_count": 30,
   "outputs": [
    {
     "name": "stderr",
     "output_type": "stream",
     "text": [
      "2063it [00:15, 133.40it/s]"
     ]
    },
    {
     "name": "stdout",
     "output_type": "stream",
     "text": [
      " \n",
      "line size: 6005\n",
      "['it is a truth universally acknowledged , that a single man in possession of a good fortune , must be in want of a wife . ', 'however little known the feelings or views of such a man may be on his first entering a neighbourhood , this truth is so well fixed in the minds of the surrounding families , that he is considered the rightful property of some one or other of their daughters . ']\n"
     ]
    },
    {
     "name": "stderr",
     "output_type": "stream",
     "text": [
      "\n"
     ]
    }
   ],
   "source": [
    "# The example output shows the data broken down by sentences not new line breaks.\n",
    "# Therefore, I modified the preprocessing module from other assignments to break\n",
    "# the input data into sentences.\n",
    "sentDict, sent_list, dropped = preprocess(docs)\n",
    "docs = sent_list\n",
    "print(f\" \\nline size: {len(sentDict)}\")\n",
    "print(sent_list[0:2])"
   ],
   "metadata": {
    "collapsed": false
   }
  },
  {
   "cell_type": "markdown",
   "source": [
    "# GPT2 Tokenizer"
   ],
   "metadata": {
    "collapsed": false
   }
  },
  {
   "cell_type": "markdown",
   "source": [
    "Although the defaults take care of this,I thought I'd show that you can specify some of the special tokens."
   ],
   "metadata": {
    "collapsed": false
   }
  },
  {
   "cell_type": "code",
   "execution_count": 31,
   "outputs": [
    {
     "data": {
      "application/vnd.jupyter.widget-view+json": {
       "model_id": "9fafb50d1ac54b6a9c438b08417c0abe",
       "version_major": 2,
       "version_minor": 0
      },
      "text/plain": [
       "Downloading:   0%|          | 0.00/1.04M [00:00<?, ?B/s]"
      ]
     },
     "metadata": {},
     "output_type": "display_data"
    },
    {
     "data": {
      "application/vnd.jupyter.widget-view+json": {
       "model_id": "cb07a2f1e4ac40b78f43345110b29a73",
       "version_major": 2,
       "version_minor": 0
      },
      "text/plain": [
       "Downloading:   0%|          | 0.00/456k [00:00<?, ?B/s]"
      ]
     },
     "metadata": {},
     "output_type": "display_data"
    },
    {
     "data": {
      "application/vnd.jupyter.widget-view+json": {
       "model_id": "9fa2fa18001f47b69990fbe34540172c",
       "version_major": 2,
       "version_minor": 0
      },
      "text/plain": [
       "Downloading:   0%|          | 0.00/665 [00:00<?, ?B/s]"
      ]
     },
     "metadata": {},
     "output_type": "display_data"
    },
    {
     "name": "stderr",
     "output_type": "stream",
     "text": [
      "Special tokens have been added in the vocabulary, make sure the associated word embeddings are fine-tuned or trained.\n"
     ]
    }
   ],
   "source": [
    "# Load the GPT tokenizer.\n",
    "tokenizer = GPT2Tokenizer.from_pretrained('gpt2', bos_token='<|startoftext|>', eos_token='<|endoftext|>', pad_token = '<|pad|>')\n",
    "#gpt2-medium\n"
   ],
   "metadata": {
    "collapsed": false
   }
  },
  {
   "cell_type": "code",
   "execution_count": 32,
   "outputs": [
    {
     "name": "stdout",
     "output_type": "stream",
     "text": [
      "The max model length is 1024 for this model, although the actual embedding size for GPT small is 768\n",
      "The beginning of sequence token <|startoftext|> token has the id 50257\n",
      "The end of sequence token <|endoftext|> has the id 50256\n",
      "The padding token <|pad|> has the id 50258\n"
     ]
    }
   ],
   "source": [
    "print(\"The max model length is {} for this model, although the actual embedding size for GPT small is 768\".format(tokenizer.model_max_length))\n",
    "print(\"The beginning of sequence token {} token has the id {}\".format(tokenizer.convert_ids_to_tokens(tokenizer.bos_token_id), tokenizer.bos_token_id))\n",
    "print(\"The end of sequence token {} has the id {}\".format(tokenizer.convert_ids_to_tokens(tokenizer.eos_token_id), tokenizer.eos_token_id))\n",
    "print(\"The padding token {} has the id {}\".format(tokenizer.convert_ids_to_tokens(tokenizer.pad_token_id), tokenizer.pad_token_id))"
   ],
   "metadata": {
    "collapsed": false
   }
  },
  {
   "cell_type": "markdown",
   "source": [
    "# PyTorch Datasets & Dataloaders\n"
   ],
   "metadata": {
    "collapsed": false
   }
  },
  {
   "cell_type": "markdown",
   "source": [
    "GPT2 is a large model. Increasing the batch size above 2 has lead to out of memory problems. This can be mitigated by accumulating the gradients but that is out of scope here."
   ],
   "metadata": {
    "collapsed": false
   }
  },
  {
   "cell_type": "code",
   "execution_count": 33,
   "outputs": [],
   "source": [
    "batch_size = 2"
   ],
   "metadata": {
    "collapsed": false
   }
  },
  {
   "cell_type": "markdown",
   "source": [
    "\n",
    "\n",
    "\n",
    "\n",
    "\n",
    "\n",
    "\n",
    "\n",
    "\n",
    "\n",
    "\n",
    "\n",
    "\n",
    "\n",
    "\n",
    "\n",
    "\n",
    "\n",
    "\n",
    "\n",
    "\n",
    "\n",
    "\n",
    "\n",
    "\n",
    "\n",
    "\n",
    "\n",
    "\n",
    "\n",
    "\n",
    "\n",
    "\n",
    "\n",
    "\n",
    "\n",
    "\n",
    "\n",
    "\n",
    "\n",
    "\n",
    "\n",
    "\n",
    "\n",
    "\n",
    "\n",
    "\n",
    "\n",
    "\n",
    "\n",
    "\n",
    "\n",
    "\n",
    "\n",
    "\n",
    "\n",
    "\n",
    "\n",
    "\n",
    "\n",
    "\n",
    "\n",
    "\n",
    "\n",
    "\n",
    "\n",
    "\n",
    "\n",
    "\n",
    "\n",
    "\n",
    "\n",
    "\n",
    "\n",
    "\n",
    "\n",
    "\n",
    "\n",
    "\n",
    "\n",
    "\n",
    "\n",
    "\n",
    "\n",
    "\n",
    "\n",
    "\n",
    "\n",
    "\n",
    "\n",
    "\n",
    "\n",
    "\n",
    "\n",
    "\n",
    "\n",
    "\n",
    "\n",
    "\n",
    "\n",
    "\n",
    "\n",
    "\n",
    "\n",
    "\n",
    "\n",
    "\n",
    "\n",
    "\n",
    "\n",
    "\n",
    "\n",
    "\n",
    "\n",
    "\n",
    "\n",
    "\n",
    "\n",
    "\n",
    "\n",
    "\n",
    "\n",
    "\n",
    "\n",
    "\n",
    "\n",
    "\n",
    "\n",
    "\n",
    "\n",
    "\n",
    "\n",
    "\n",
    "\n",
    "\n",
    "\n",
    "\n",
    "\n",
    "\n",
    "\n",
    "\n",
    "\n",
    "\n",
    "\n",
    "\n",
    "\n",
    "\n",
    "\n",
    "\n",
    "\n",
    "\n",
    "\n",
    "\n",
    "\n",
    "\n",
    "\n",
    "\n",
    "\n",
    "\n",
    "\n",
    "\n",
    "\n",
    "\n",
    "\n",
    "\n",
    "\n",
    "\n",
    "\n",
    "\n",
    "\n",
    "\n",
    "\n",
    "\n",
    "\n",
    "\n",
    "\n",
    "\n",
    "\n",
    "\n",
    "\n",
    "\n",
    "\n",
    "\n",
    "\n",
    "\n",
    "\n",
    "\n",
    "\n",
    "\n",
    "\n",
    "\n",
    "\n",
    "\n",
    "\n",
    "\n",
    "\n",
    "\n",
    "\n",
    "\n",
    "\n",
    "\n",
    "\n",
    "\n",
    "\n",
    "\n",
    "\n",
    "\n",
    "\n",
    "\n",
    "\n",
    "\n",
    "\n",
    "\n",
    "\n",
    "\n",
    "\n",
    "\n",
    "\n",
    "\n",
    "\n",
    "\n",
    "\n",
    "\n",
    "\n",
    "\n",
    "\n",
    "\n",
    "\n",
    "\n",
    "\n",
    "\n",
    "\n",
    "\n",
    "\n",
    "\n",
    "\n",
    "\n",
    "\n",
    "\n",
    "\n",
    "\n",
    "\n",
    "\n",
    "\n",
    "\n",
    "\n",
    "\n",
    "\n",
    "\n",
    "\n",
    "\n",
    "\n",
    "\n",
    "\n",
    "\n",
    "\n",
    "\n",
    "\n",
    "\n",
    "\n",
    "\n",
    "\n",
    "\n",
    "\n",
    "\n",
    "\n",
    "\n",
    "\n",
    "\n",
    "\n",
    "\n",
    "\n",
    "\n",
    "\n",
    "\n",
    "\n",
    "\n",
    "\n",
    "\n",
    "\n",
    "\n",
    "\n",
    "\n",
    "\n",
    "\n",
    "\n",
    "\n",
    "\n",
    "\n",
    "\n",
    "\n",
    "\n",
    "\n",
    "\n",
    "\n",
    "\n",
    "\n",
    "\n",
    "\n",
    "\n",
    "\n",
    "\n",
    "\n",
    "\n",
    "\n",
    "\n",
    "\n",
    "\n",
    "\n",
    "\n",
    "\n",
    "\n",
    "\n",
    "\n",
    "\n",
    "\n",
    "\n",
    "\n",
    "\n",
    "\n",
    "\n",
    "\n",
    "\n",
    "\n",
    "\n",
    "\n",
    "\n",
    "\n",
    "\n",
    "\n",
    "\n",
    "\n",
    "\n",
    "\n",
    "\n",
    "\n",
    "\n",
    "\n",
    "\n",
    "\n",
    "\n",
    "\n",
    "\n",
    "\n",
    "\n",
    "\n",
    "\n",
    "\n",
    "\n",
    "\n",
    "\n",
    "\n",
    "\n",
    "\n",
    "\n",
    "\n",
    "\n",
    "\n",
    "\n",
    "\n",
    "\n",
    "\n",
    "\n",
    "\n",
    "\n",
    "\n",
    "\n",
    "\n",
    "\n",
    "\n",
    "\n",
    "\n",
    "\n",
    "\n",
    "\n",
    "\n",
    "\n",
    "\n",
    "\n",
    "\n",
    "\n",
    "\n",
    "\n",
    "\n",
    "\n",
    "\n",
    "\n",
    "\n",
    "\n",
    "\n",
    "\n",
    "\n",
    "\n",
    "\n",
    "\n",
    "\n",
    "\n",
    "\n",
    "\n",
    "\n",
    "\n",
    "\n",
    "\n",
    "\n",
    "\n",
    "\n",
    "\n",
    "\n",
    "\n",
    "\n",
    "\n",
    "\n",
    "\n",
    "\n",
    "\n",
    "\n",
    "\n",
    "\n",
    "\n",
    "\n",
    "\n",
    "\n",
    "\n",
    "\n",
    "\n",
    "\n",
    "\n",
    "\n",
    "\n",
    "\n",
    "\n",
    "\n",
    "\n",
    "\n",
    "\n",
    "\n",
    "\n",
    "\n",
    "\n",
    "\n",
    "\n",
    "\n",
    "\n",
    "\n",
    "\n",
    "\n",
    "\n",
    "\n",
    "\n",
    "\n",
    "\n",
    "\n",
    "\n",
    "\n",
    "\n",
    "\n",
    "\n",
    "\n",
    "\n",
    "\n",
    "\n",
    "\n",
    "\n",
    "\n",
    "\n",
    "\n",
    "\n",
    "\n",
    "\n",
    "\n",
    "\n",
    "\n",
    "\n",
    "\n",
    "\n",
    "\n",
    "\n",
    "\n",
    "\n",
    "\n",
    "\n",
    "\n",
    "\n",
    "\n",
    "\n",
    "\n",
    "\n",
    "\n",
    "\n",
    "\n",
    "\n",
    "\n",
    "\n",
    "\n",
    "\n",
    "\n",
    "\n",
    "\n",
    "\n",
    "\n",
    "\n",
    "\n",
    "\n",
    "\n",
    "\n",
    "\n",
    "\n",
    "\n",
    "\n",
    "\n",
    "\n",
    "\n",
    "\n",
    "\n",
    "\n",
    "\n",
    "\n",
    "\n",
    "\n",
    "\n",
    "\n",
    "\n",
    "\n",
    "\n",
    "\n",
    "\n",
    "\n",
    "\n",
    "\n",
    "\n",
    "\n",
    "\n",
    "\n",
    "\n",
    "\n",
    "\n",
    "\n",
    "\n",
    "\n",
    "\n",
    "\n",
    "\n",
    "\n",
    "\n",
    "\n",
    "\n",
    "\n",
    "\n",
    "\n",
    "\n",
    "\n",
    "\n",
    "\n",
    "\n",
    "\n",
    "\n",
    "\n",
    "\n",
    "\n",
    "\n",
    "\n",
    "\n",
    "\n",
    "\n",
    "\n",
    "\n",
    "\n",
    "\n",
    "\n",
    "\n",
    "\n",
    "\n",
    "\n",
    "\n",
    "\n",
    "\n",
    "\n",
    "\n",
    "\n",
    "\n",
    "\n",
    "\n",
    "\n",
    "\n",
    "\n",
    "\n",
    "\n",
    "\n",
    "\n",
    "\n",
    "\n",
    "\n",
    "\n",
    "\n",
    "\n",
    "\n",
    "\n",
    "\n",
    "\n",
    "\n",
    "\n",
    "\n",
    "\n",
    "\n",
    "\n",
    "\n",
    "\n",
    "\n",
    "\n",
    "\n",
    "\n",
    "\n",
    "\n",
    "\n",
    "\n",
    "\n",
    "\n",
    "\n",
    "\n",
    "\n",
    "\n",
    "\n",
    "\n",
    "\n",
    "\n",
    "\n",
    "\n",
    "\n",
    "\n",
    "\n",
    "\n",
    "\n",
    "\n",
    "\n",
    "\n",
    "\n",
    "\n",
    "\n",
    "\n",
    "\n",
    "\n",
    "\n",
    "\n",
    "\n",
    "\n",
    "\n",
    "\n",
    "\n",
    "\n",
    "\n",
    "\n",
    "\n",
    "\n",
    "\n",
    "\n",
    "\n",
    "\n",
    "\n",
    "\n",
    "\n",
    "\n",
    "\n",
    "\n",
    "\n",
    "\n",
    "\n",
    "\n",
    "\n",
    "\n",
    "\n",
    "\n",
    "\n",
    "\n",
    "\n",
    "\n",
    "\n",
    "\n",
    "\n",
    "\n",
    "\n",
    "\n",
    "\n",
    "\n",
    "\n",
    "\n",
    "\n",
    "\n",
    "\n",
    "\n",
    "\n",
    "\n",
    "\n",
    "\n",
    "\n",
    "\n",
    "\n",
    "\n",
    "\n",
    "\n",
    "\n",
    "\n",
    "\n",
    "\n",
    "\n",
    "\n",
    "\n",
    "\n",
    "\n",
    "\n",
    "\n",
    "\n",
    "\n",
    "\n",
    "\n",
    "\n",
    "\n",
    "\n",
    "\n",
    "\n",
    "\n",
    "\n",
    "\n",
    "\n",
    "\n",
    "\n",
    "\n",
    "\n",
    "\n",
    "\n",
    "\n",
    "\n",
    "\n",
    "\n",
    "\n",
    "\n",
    "I'm using the standard PyTorch approach of loading data in using a [dataset class](https://pytorch.org/tutorials/beginner/data_loading_tutorial.html).\n",
    "\n",
    "I'm passing in the tokenizer as an argument but normally I would  instantiate it within the class."
   ],
   "metadata": {
    "collapsed": false
   }
  },
  {
   "cell_type": "markdown",
   "metadata": {},
   "source": [
    "To understand how I've used the tokenizer, it's worth reading [the docs](https://huggingface.co/transformers/main_classes/tokenizer.html). I've wrapped each line in the bos and eos tokens.\n",
    "\n",
    "Every tensor passed to the model should be the same length.\n",
    "\n",
    "If the line is shorter than 768 tokens, it will be padded to a length of 768 using the padding token. In addition, an attention mask will be returned that needs to be passed to the model to tell it to ignore the padding tokens.\n",
    "\n",
    "If the line is longer than 768 tokens, it will be truncated without the eos_token. This isn't a problem."
   ]
  },
  {
   "cell_type": "code",
   "execution_count": 186,
   "metadata": {},
   "outputs": [
    {
     "name": "stdout",
     "output_type": "stream",
     "text": [
      "5,404 training samples\n",
      "  601 validation samples\n"
     ]
    }
   ],
   "source": [
    "dataset = GPT2Dataset(docs, tokenizer, max_length=768)\n",
    "\n",
    "# Split into training and validation sets\n",
    "train_size = int(0.9 * len(dataset))\n",
    "val_size = len(dataset) - train_size\n",
    "\n",
    "train_dataset, val_dataset = random_split(dataset, [train_size, val_size])\n",
    "\n",
    "print('{:>5,} training samples'.format(train_size))\n",
    "print('{:>5,} validation samples'.format(val_size))"
   ]
  },
  {
   "cell_type": "code",
   "execution_count": 187,
   "metadata": {},
   "outputs": [],
   "source": [
    "# Create the DataLoaders for our training and validation datasets.\n",
    "# We'll take training samples in random order.\n",
    "train_dataloader = DataLoader(\n",
    "            train_dataset,  # The training samples.\n",
    "            sampler = RandomSampler(train_dataset), # Select batches randomly\n",
    "            batch_size = batch_size # Trains with this batch size.\n",
    "        )\n",
    "\n",
    "# For validation the order doesn't matter, so we'll just read them sequentially.\n",
    "validation_dataloader = DataLoader(\n",
    "            val_dataset, # The validation samples.\n",
    "            sampler = SequentialSampler(val_dataset), # Pull out batches sequentially.\n",
    "            batch_size = batch_size # Evaluate with this batch size.\n",
    "        )"
   ]
  },
  {
   "cell_type": "markdown",
   "metadata": {},
   "source": [
    "# Finetune GPT2 Language Model"
   ]
  },
  {
   "cell_type": "code",
   "execution_count": 188,
   "metadata": {},
   "outputs": [],
   "source": [
    "# I'm not really doing anything with the config buheret\n",
    "configuration = GPT2Config.from_pretrained('gpt2', output_hidden_states=False, pad_token_id=tokenizer.pad_token_id )\n",
    "\n",
    "# instantiate the model\n",
    "model = GPT2LMHeadModel.from_pretrained(\"gpt2\", config=configuration)\n",
    "\n",
    "# this step is necessary because I've added some tokens (bos_token, etc) to the embeddings\n",
    "# otherwise the tokenizer and model tensors won't match up\n",
    "model.resize_token_embeddings(len(tokenizer))\n",
    "\n",
    "# Tell pytorch to run this model on the GPU.\n",
    "device = torch.device(\"cuda\")\n",
    "model.cuda()\n",
    "\n",
    "# Set the seed value all over the place to make this reproducible.\n",
    "seed_val = 42\n",
    "\n",
    "random.seed(seed_val)\n",
    "np.random.seed(seed_val)\n",
    "torch.manual_seed(seed_val)\n",
    "torch.cuda.manual_seed_all(seed_val)"
   ]
  },
  {
   "cell_type": "code",
   "execution_count": 189,
   "metadata": {},
   "outputs": [],
   "source": [
    "# some parameters I cooked up that work reasonably well\n",
    "\n",
    "epochs = 5\n",
    "learning_rate = 5e-4\n",
    "warmup_steps = 1e2\n",
    "epsilon = 1e-8\n",
    "\n",
    "# this produces sample output every 100 steps\n",
    "sample_every = 100"
   ]
  },
  {
   "cell_type": "code",
   "execution_count": 190,
   "metadata": {},
   "outputs": [
    {
     "name": "stderr",
     "output_type": "stream",
     "text": [
      "/usr/local/lib/python3.8/dist-packages/transformers/optimization.py:306: FutureWarning: This implementation of AdamW is deprecated and will be removed in a future version. Use the PyTorch implementation torch.optim.AdamW instead, or set `no_deprecation_warning=True` to disable this warning\n",
      "  warnings.warn(\n"
     ]
    }
   ],
   "source": [
    "# Note: AdamW is a class from the huggingface library (as opposed to pytorch)\n",
    "optimizer = AdamW(model.parameters(),\n",
    "                  lr = learning_rate,\n",
    "                  eps = epsilon\n",
    "                )"
   ]
  },
  {
   "cell_type": "code",
   "execution_count": 191,
   "metadata": {},
   "outputs": [],
   "source": [
    "# Total number of training steps is [number of batches] x [number of epochs].\n",
    "# (Note that this is not the same as the number of training samples).\n",
    "total_steps = len(train_dataloader) * epochs\n",
    "\n",
    "# Create the learning rate scheduler.\n",
    "# This changes the learning rate as the training loop progresses\n",
    "scheduler = get_linear_schedule_with_warmup(optimizer,\n",
    "                                            num_warmup_steps = warmup_steps,\n",
    "                                            num_training_steps = total_steps)"
   ]
  },
  {
   "cell_type": "code",
   "execution_count": 193,
   "metadata": {
    "colab": {
     "base_uri": "https://localhost:8080/"
    },
    "id": "hCZRLtVwNk_M",
    "outputId": "e3c0a638-165a-4c6c-bab2-1bb48830ae24"
   },
   "outputs": [
    {
     "name": "stdout",
     "output_type": "stream",
     "text": [
      "\n",
      "======== Epoch 1 / 5 ========\n",
      "Training...\n",
      "  Batch   100  of  2,702. Loss: 0.2627270519733429.   Elapsed: 0:00:49.\n",
      "0:  bipartisan\" i have heard what he said he would not believe in his feelings \" but as a person, \" but her fear of being seen as no more than ten more than ten years after being afraid of being seen.. \" she was not afraid of being seen as it appeared as a ten times longer, and it could have been resolved.\n",
      " information, and. he, she. had not replied to any such letter, he was not the same to the last letter in that opinion of his opinion. \n",
      "  Batch   200  of  2,702. Loss: 0.3054927885532379.   Elapsed: 0:01:39.\n",
      "0:  increasing which we ought to call. \n",
      "  Batch   300  of  2,702. Loss: 1.0877103805541992.   Elapsed: 0:02:30.\n",
      "0: daythe day was over, and it seemed as if the morning had arrived on, for all. my brother, my cousin, did not appear to be in any ill humour. \n",
      "  Batch   400  of  2,702. Loss: 0.2223687469959259.   Elapsed: 0:03:20.\n",
      "0:  Hangit was only a short walk, it had been as long a walk. \" mr. darcy was, \" and mr. darcy was. \n",
      "  Batch   500  of  2,702. Loss: 0.1699652075767517.   Elapsed: 0:04:10.\n",
      "0:  foods\" i do not wish that your father should think too much. he is a kind man to her. \n",
      "  Batch   600  of  2,702. Loss: 0.38445591926574707.   Elapsed: 0:05:00.\n",
      "0:  trailin the evening, as much as possible of mr. wickham, were the two ladies in the garden ; and when they arrived, they were surprised by their visitor. \n",
      "  Batch   700  of  2,702. Loss: 0.2074824720621109.   Elapsed: 0:05:51.\n",
      "0: intendwith such affection as that he deserved, he walked thither. there was a smile on the lips, and there was an air of hope ; no longer that of an ugly smile, but something new in the air. the next day, he returned ; and with a smile that seemed beyond comparison, he took the opportunity of walking to hunsford again ; and there the next day, with her two children, and two small girls, in a walk through the village, made such a difference on their walk of it. there was still a great deal of pleasure in the world ; and the next morning, however, everything was very much softened. for jane was still with him ; and, with so much success as her, mrs. bennet, and mrs. bennet, walked together with him all day, after a day of walking, after a fortnight of walking, and till the next day, he was not at all sorry for such a change of behaviour\n",
      "  Batch   800  of  2,702. Loss: 0.4001465141773224.   Elapsed: 0:06:43.\n",
      "0:  surroundbut his behaviour was as he had hoped, that mr. bingley, whose own reason and his own feelings he must account for were not entirely altered by the change in his mind ; that it was no great misfortune for him, he had received a great deal from one of the gentlemen who were to follow him on. \n",
      "  Batch   900  of  2,702. Loss: 0.4601743221282959.   Elapsed: 0:07:34.\n",
      "0:  reflexin this manner, though as the gentleman acknowledged, it was certain that there was nothing to prevent his being entirely mistaken as to my being attached to mrs. jenkinson's wishes. mr. darcy's attentions to him, and his interference with her domestic affairs, to prevent the mismanagement of his schemes, could not but give me the conviction that his motives might be so well understood as could not be overlooked. it was, moreover, a conviction that there were, on the contrary, so much the more respectable and gentlewomanlike a woman i am, and so much superior to any other woman of his age. mr. darcy could not and could not be happy. but if that have prevented me from making any serious inquiries, the possibility of the latter, i can assure the latter, could have done better. it was in this manner, though, that the lady herself gave me the assurance that she would go into his private apartments,\n",
      "  Batch 1,000  of  2,702. Loss: 0.4429571032524109.   Elapsed: 0:08:26.\n",
      "0:  displayel this period of separation, however, allowed the ladies time to explore all that she could of her mother's acquaintance, and, having heard no other inquiries than those in hertfordshire, she ventured to inquire after their acquaintance, as soon it became known that mr. darcy had been forced from hertfordshire by an unfortunate event, as she had no disposition to inquire in that direction. mr. wickham was now at leisure enough to see her with elopement. \n",
      "  Batch 1,100  of  2,702. Loss: 0.2961183190345764.   Elapsed: 0:09:17.\n",
      "0:  pastoras elizabeth was going to speak of the regiment, they entered the dining parlour, where they had a pleasant visitor ; and, unexpectedly, it was mr. bingley. they had met jane, but not all of them understood the intimacy. \n",
      "  Batch 1,200  of  2,702. Loss: 0.2224677950143814.   Elapsed: 0:10:08.\n",
      "0:  illicit\" yes, it is very plain that you are acquainted with us. \n",
      "  Batch 1,300  of  2,702. Loss: 0.16135630011558533.   Elapsed: 0:10:58.\n",
      "0:  Liberation\" i am sorry you had been there, \" added mrs. gardiner ; \" but if i have really experienced you then i am sure i can not easily have mistaken, unless there may be circumstances of necessity in which i may think most advisable to return immediately. \" \n",
      "  Batch 1,400  of  2,702. Loss: 0.6004982590675354.   Elapsed: 0:11:48.\n",
      "0:  Namwhen they were alone, and with mrs. phillips, elizabeth ran up to her father, and after making assurances, took the long walk which led from the door, which curtseyed him and elizabeth by and miss bingley, and they had walked on. \n",
      "  Batch 1,500  of  2,702. Loss: 0.3037042021751404.   Elapsed: 0:12:39.\n",
      "0: ION\" you are coming down, sir, and i am afraid you will be coming so soon! i want to give it to you, i can assure you we are not going to be married till our wedding day, and by all means, i want you to be married in the meantime. \" \n",
      "  Batch 1,600  of  2,702. Loss: 0.1702897697687149.   Elapsed: 0:13:30.\n",
      "0:  glimpse\" i was excessively sorry to see him last night, \" said mrs. bennet, as soon as the door was shut. \" it is a great honour, \" she added, \" to be at longbourn last night, to be able to be intimate with mr. darcy. and, though the first - class entertainment yesterday went off, i am very glad you have taken your places, and to see him out of the room. if i had been able to see him again, i would have rejoiced to see him at netherfield. i always say never to be in a situation to see him in person's sight. i must not see the man again. the first letter of my sister's was last day. she was in such a pitiable state on the morrow. i have bad news for her -- she was the only creature in the room that morning i could see her. she is actually quite pale, and has\n",
      "  Batch 1,700  of  2,702. Loss: 0.14731715619564056.   Elapsed: 0:14:22.\n",
      "0:  Laure\" i can not assure you, \" said jane, \" that your feeling of innocence is not easily kept ; and i am convinced of your creditability. i will not make any apology, though he has still the respect of my father. your father is not a man to be intimidated, i shall not say ; but i trust you will be aware of that. your father is a man of principle, generous heart, and most excellent understanding ; and if he becomes really attached to me, i shall not see him in life. \n",
      "  Batch 1,800  of  2,702. Loss: 0.26667866110801697.   Elapsed: 0:15:13.\n",
      "0: ismwhen the gentlemen joined them, they took leave together ; and elizabeth could not help in fancying that the great gentleman's presence assured her that he were not to appear so distant. but she did not think it unreasonable for a man of importance to appear so near. \n",
      "  Batch 1,900  of  2,702. Loss: 0.23562830686569214.   Elapsed: 0:16:04.\n",
      "0: oun\" i am sure you did not. at that time i am sure i shall call me one of the very few people that i shall know what i would do ; i never heard a word ; and as to my relationship to mr. wickham's house, i never seen a look of it in my life. i never saw anything of its character in my life. i see it in various forms -- like a letter, an envelope, a book, and a pen. i have not seen anything of it in my life, since i left church. in one instance, i saw the parsonage, and in the last had an idea of its being a charmingly handsome house in town. i never saw anything so charming as the house of my cousin. mr. wickham, upon inquiring me about it, said he had not seen it in the first place ; that his own cousin was there the next day, and that he had seen it a day\n",
      "  Batch 2,000  of  2,702. Loss: 0.03424132615327835.   Elapsed: 0:16:56.\n",
      "0:  election\" oh, lord ;--but i was never bold enough to tell you. \n",
      "  Batch 2,100  of  2,702. Loss: 0.11251752823591232.   Elapsed: 0:17:46.\n",
      "0:  crazyin spite of her deeply - rooted dislike, she still saw elizabeth tremble lest lest the card - tables were over, and in vain to hear elizabeth hear from them. while they were thus arranging their tables, mr. darcy had once again been a favourite with her ; and had she the courage or inclination, for he was a very superior looking creature to elizabeth's, to persuade her that she ought not to give herself the trouble of talking, that it would always be as just as she chooses. \n",
      "  Batch 2,200  of  2,702. Loss: 0.18771624565124512.   Elapsed: 0:18:37.\n",
      "0:  bench\" very, very cordial, \" said she, \" to introduce their daughter, jane -- \" i am so pleased -- so happy. \n",
      "  Batch 2,300  of  2,702. Loss: 0.3121926188468933.   Elapsed: 0:19:28.\n",
      "0:  incorporated\" this is your master, \" replied elizabeth, \" who lived in derbyshire? \n",
      "  Batch 2,400  of  2,702. Loss: 0.16031116247177124.   Elapsed: 0:20:18.\n",
      "0: Peter\" my dear mr. bennet, i do not know whether i could bear so ungenerously ill consequence as you have done at netherfield ; but i do not suppose that, had it not been for the pleasant prospect of being able to say with all the civility, i should be in a way to thank you for so imprudent a match. you received, in my opinion, one of your earliest wishes on entering that place. i had a hope that jane would never be able to say there was something of this. had my having had time it may be, you could not have considered every circumstance with greater pleasure, no longer. your sister's calling yesterday morning would have been the cause of the happiness you soon afterwards. i would now feel that we are not at peace without a quarrel. \" \n",
      "  Batch 2,500  of  2,702. Loss: 0.0734771341085434.   Elapsed: 0:21:10.\n",
      "0: uring\" yes, sir, there are several families with which mr. wickham does not trace his route. the last mentioned were the last of his sisters, who are descended from the same line ; the last of whom, from the maternal line, was last seen about five years ago. mr. and mrs. phillips were found to be unwell this morning, and they were seen to continue the loo - table. after making every possible inquiry on that side lydia informed us at last of their present distress ; and with such inquiries as these, she was able to satisfy the whole party in a tolerably detached room, which is a short walk from the house. with good gracious! all that is known after this is, that they were seen to continue the loo - table with some of the young men who were seen to continue the engagements which she had with sir william, who is an informat in the town, and whose good conduct in the\n",
      "  Batch 2,600  of  2,702. Loss: 0.5637271404266357.   Elapsed: 0:22:02.\n",
      "0:  reproductivewhen the dancing recommenced, the two gentlemen with whom she was immediately acquainted, the two whom had long wished to know her were in very good spirits. \n",
      "  Batch 2,700  of  2,702. Loss: 0.08750864118337631.   Elapsed: 0:22:53.\n",
      "0:  zone\" i do not blame jane, \" replied elizabeth. \" for jane will lose interest as she knows not. her cousin may be prevailed on to give her no notice of their attentions. but she is too little for her own amusement, and will continue the occupation, though she means well. \n",
      "\n",
      "  Average training loss: 0.35\n",
      "  Training epoch took: 0:22:54\n",
      "\n",
      "Running Validation...\n",
      "  Validation Loss: 0.18\n",
      "  Validation took: 0:00:48\n",
      "\n",
      "======== Epoch 2 / 5 ========\n",
      "Training...\n",
      "  Batch   100  of  2,702. Loss: 0.8872039318084717.   Elapsed: 0:00:50.\n",
      "0:  commits\" mr. darcy, \" said elizabeth, \" had you been with us, i do not think we behaved very handsomely, for you, my love, were not only fond of this kind ; we looked the very best of men, and the best of men looked the best. \n",
      "  Batch   200  of  2,702. Loss: 0.1484115719795227.   Elapsed: 0:01:41.\n",
      "0:  irony\" i am sure, \" said she, \" mr. darcy has two or three young ladies in the room ; and he is almost a stranger. \" \n",
      "  Batch   300  of  2,702. Loss: 0.22112762928009033.   Elapsed: 0:02:31.\n",
      "0:  Sah\" he did ; and he had nothing further to do. \n",
      "  Batch   400  of  2,702. Loss: 0.097300224006176.   Elapsed: 0:03:21.\n",
      "0:  Bryanelizabeth was pleased to be congratulated on his figure ; but it was too much for her, as his other compliments were not far from the vestibule. \n",
      "  Batch   500  of  2,702. Loss: 0.1060333326458931.   Elapsed: 0:04:11.\n",
      "0:  spirits\" my aunt told me so, \" said she. \n",
      "  Batch   600  of  2,702. Loss: 0.429957777261734.   Elapsed: 0:05:01.\n",
      "0:  sees\" you need not fret. i have often said, that a young lady is brought up very differently from the rest of the neighbourhood ; and one who had been used to live in the neighbourhood, and whose own manners are decidedly to the advantage of everybody, was so excessively handsome as to meet so young a girl, and live in hertfordshire, that she was so well - bred as to be handsome as to dance with a stranger. i think you will agree with me, that the lady whom you chose to dance with, and who married her to - night, is by all means handsome and charming. \n",
      "  Batch   700  of  2,702. Loss: 0.0629553347826004.   Elapsed: 0:05:53.\n",
      "0:  hungry\" it would be my father, \" cried elizabeth, with some complacency, \" if he had not a father. but what do you mean, mr. darcy? \" \n",
      "  Batch   800  of  2,702. Loss: 0.22662651538848877.   Elapsed: 0:06:43.\n",
      "0:  PTthe tumult of her mind, was painfully great. she was afraid, was sure she would never speak another word. it was impossible. her heart had never been better racked. she was afraid of giving more trouble. \n",
      "  Batch   900  of  2,702. Loss: 0.8617957830429077.   Elapsed: 0:07:33.\n",
      "0: üafter the first fortnight or three weeks of separation, mrs. bennet found that the two youngest were depending on their own judgment in favour of her nephew, in that respect she should be particularly careful to be certain, if he took leave, of their meaning to spend his vacant hours as soon as they were married. this observation, however, had not been entirely without foundation ; as mr. bennet had been rendered so exceedingly agreeable, and as his attachment excited the admiration ofability, her contemplation and his behaviour during the day seemed at times to have been increasing, she considered it necessary to make such a judgement call on his friend, and by such a judgement he recommended it as much as possible. he then invited her to walk into his room, which was large and well laid out, and mr. bennet accepted him into his comfortable and convenient manner of living, of which he was happy to have the comfort of reading two or three times a week, and\n",
      "  Batch 1,000  of  2,702. Loss: 0.11190012842416763.   Elapsed: 0:08:26.\n",
      "0: ruce\" oh, mary, \" said she, \" what say you all? \n",
      "  Batch 1,100  of  2,702. Loss: 0.07892732322216034.   Elapsed: 0:09:16.\n",
      "0:  derivatives\" i am astonished, \" said elizabeth, \" that he could not have chosen a more promising motive from a distance of two miles. perhaps that is why he could not marry so small a distance ; but that he must marry at so low a distance does nothing. it has been very hard. far alone he has taken up half of a kingdom. \n",
      "  Batch 1,200  of  2,702. Loss: 0.13942070305347443.   Elapsed: 0:10:06.\n",
      "0: \u0019the dinner was now a quadrille ball. mr. bennet could neither of them talk fast enough ; darcy looked forward with a heightened complexion than usual to the most agitated questions he must ask while he was alone ; and his daughter said he looked very much fatigued than he had been at any time at rosings. \n",
      "  Batch 1,300  of  2,702. Loss: 0.26637691259384155.   Elapsed: 0:10:57.\n",
      "0:  rememberingelizabeth talked on, but without seeming to have any intention of speaking again of the subjects which had been connected with their last letter. \n",
      "  Batch 1,400  of  2,702. Loss: 0.24659180641174316.   Elapsed: 0:11:47.\n",
      "0:  Sources\" that is too great. \" \n",
      "  Batch 1,500  of  2,702. Loss: 0.04575202614068985.   Elapsed: 0:12:37.\n",
      "0: emsthe longbourn party were the only people in the neighbourhood who continued to be amused with him, and he never looked at miss bennet. \n",
      "  Batch 1,600  of  2,702. Loss: 0.2941335439682007.   Elapsed: 0:13:27.\n",
      "0: tzwithin a short walk of longbourn lived a family with whom the british court was particularly intimate. lady lucas had married a man of nearly the same age, having only one daughter. sir william lucas had been formerly in trade in meryton, where he had made a tolerable fortune, and risen to the honour of knighthood by an address to the king during his mayoralty. he was now, in time, almost a hundred pounds. his residence there was to the purpose ; for a mayoralty in that county, and the business there was not to be mercenary. \n",
      "  Batch 1,700  of  2,702. Loss: 0.1108870655298233.   Elapsed: 0:14:19.\n",
      "0: matic\" yes, miss eliza, \" cried he, slightly relieved as his words were borne. \" do not think me obstinate if i still assert that he is perfectly amiable, and perfectly unassuming ; and that the belief of his sister's being partial to mr. darcy is perfectly false, at least, and i am sincerely grieved to hear that he is not, with respect to any other girl. it is the most unfortunate affair in the world, and perhaps the only point on which we can be at variance.--'there, mrs. bennet, with her daughters. '--my poor mother!--how thankful am i that you have not distressing me by dwelling on her family favourite, mr. darcy. \n",
      "  Batch 1,800  of  2,702. Loss: 0.04165591299533844.   Elapsed: 0:15:11.\n",
      "0:  synd\" if i do not give an answer, \" cried elizabeth, \" i shall be in danger of hating him for it. and who knows who will maintain him? or, with the assistance of her five daughters, who can be benefited by my marrying him? well, my dear jane, we shall be better off than we were last wednesday. and now nothing is to be talked of except the mention of his name and the carriage. it is a relation which no one can or ought to know of. we shall be down in five minutes. \" \n",
      "  Batch 1,900  of  2,702. Loss: 0.03696928545832634.   Elapsed: 0:16:02.\n",
      "0:  gam\" i have not been long in hertfordshire, and, from my time, i am almost ashamed of ever seeing anybody. \n",
      "  Batch 2,000  of  2,702. Loss: 0.18081173300743103.   Elapsed: 0:16:52.\n",
      "0:  injury\" i have told you every thing. i am going to say it without saying how long you may depend upon it ; it has passed. \n",
      "  Batch 2,100  of  2,702. Loss: 0.08437536656856537.   Elapsed: 0:17:42.\n",
      "0: azashe wrote again when the visit was paid, and she had seen miss bingley. her daughter, as she had seen him, was still with jane, but would not leave her -- she wanted to persuade herself that she had no pleasure in being home, that her fancy was sunk in her esteem ; and when she returned, to see how everybody looked after her, she was convinced that jane was still a very tender, elegant woman ; and, consequently, that it was very likely that miss bingley would soon marry mr. darcy. but this was not all settled ; mrs. bennet would not see her, neither in the least nor in the least, and her attentions had continually been pretty much admired by her. nothing would be like it. what was most remarkable how well they behaved! \n",
      "  Batch 2,200  of  2,702. Loss: 0.29714155197143555.   Elapsed: 0:18:34.\n",
      "0:  membranethey entered the woods, and bidding adieu to the river for a while, ascended some of the higher grounds ; when, in spots where the opening of the trees gave the eye power to wander, were many charming views of the opposite hills, with the long range of woods overspreading many, and occasionally part of the stream. \n",
      "  Batch 2,300  of  2,702. Loss: 0.09230975806713104.   Elapsed: 0:19:25.\n",
      "0: ijing\" the engagement between us is of a peculiar kind. from their infancy, they have been intended for each other. they have been intended for each other. \n",
      "  Batch 2,400  of  2,702. Loss: 0.22362306714057922.   Elapsed: 0:20:15.\n",
      "0:  cast\" i beg your pardon, i will try again. at present i am not in love with mr. wickham ; no, i have not. but he is, i believe, the most agreeable man i ever saw -- and if he becomes really attached to me -- i believe it will be better that he should not. i see the imprudence of it. oh! _ that _ abominable mr. darcy! my father's opinion of me does me the greatest honour, and i should be miserable to forfeit it. but since the death of my father's favourite mr. wickham -- how miserable it must be for him to be here -- i have nothing more to wish for his happiness. but this hope is not quite so faulty, as my dear father can be easily prevailed on to overlook it entirely, when he has reason to think as they choose, to heal him from the melancholy scene he has set down. his attachment to\n",
      "  Batch 2,500  of  2,702. Loss: 0.1754768341779709.   Elapsed: 0:21:08.\n",
      "0:  purch\" i would not have thanked you before, my dear aunt, as i ought to have done, for your long, kind, satisfactory, detail of particulars ; but to say the truth, i was too cross to write. you supposed more than really existed. but _ now _ suppose as much as you choose ; give a loose rein to the fancy, indulge the imagination, and wish the belief of the governess. how could i be so silly as to wish it! you must write again very soon, and praise her a great deal more than you did in your last. i thank you, again and again, for not going to the lakes. i thank you, again and again, for not going to the lakes. how could i be so silly as to wish it! your idea of the ponies is delightful. we will go no farther northwards than _ we _ do. mrs. long said so too. how could _ we _ know that she would be the wife of\n",
      "  Batch 2,600  of  2,702. Loss: 0.42684832215309143.   Elapsed: 0:22:00.\n",
      "0:  shoulderselizabeth was prepared to receive her and her noble guest into the house, which as a convenient distance from her own party afforded, and which she could tell lady catherine, was affectionate and obliging. \n",
      "  Batch 2,700  of  2,702. Loss: 0.16189755499362946.   Elapsed: 0:22:51.\n",
      "0:  built\" if you, my dear aunt, are truly sensible of what your sister's situation must be, \" she added, \" and truly do, you ought to have accepted her. i shall not scruple to assert, that the establishment i would receive would be materially lessen your friend's anxiety ; or, on the contrary, to assure you, that if you, i am sure, have actually met with two instances. i have merely proved that i know my sister, that i can perceive that her anxiety for her brother is the cause of all this. i shall not scruple to assert, however, that the serenity of her countenance and manner was in proportion to the distress she was receiving in refusing him. \" \n",
      "\n",
      "  Average training loss: 0.16\n",
      "  Training epoch took: 0:22:53\n",
      "\n",
      "Running Validation...\n",
      "  Validation Loss: 0.12\n",
      "  Validation took: 0:00:48\n",
      "\n",
      "======== Epoch 3 / 5 ========\n",
      "Training...\n",
      "  Batch   100  of  2,702. Loss: 0.058208417147397995.   Elapsed: 0:00:50.\n",
      "0:  openly\" i must go instantly to my mother ; \" she cried. \" i would not on any account trifle with her affectionate solicitude ; or allow her to hear it from anyone but myself. \n",
      "  Batch   200  of  2,702. Loss: 0.23860713839530945.   Elapsed: 0:01:40.\n",
      "0:  haltedthis was not all miss darcy's reply, but elizabeth was in the least more obliged to give implicit confidence to her cousin's assertions, than her own ; and her acceptance of them was entirely dependent on the goodwill of her own feelings ; and elizabeth had moreover a dependence on their cordiality ; and jane, who had been less than steady, and was almost as dependent on them all, as ever on their goodwill. there was nothing else to be done that she could do ; her own interest had been the only sacrifice, her patience had been the only sacrifice, she could think of, which jane could not receive. there was nothing else, however, to be done that she could do ; and the power of doing whatever she could without her husband's encouragement, of engaging their brother's heart in darcy's behalf was by no means capable of engaging them in the act of their affection. she had always been grateful to jane\n",
      "  Batch   300  of  2,702. Loss: 0.040761031210422516.   Elapsed: 0:02:33.\n",
      "0:  Nikelizabeth felt herself completely taken in. \" this is delightful indeed! \n",
      "  Batch   400  of  2,702. Loss: 0.20217011868953705.   Elapsed: 0:03:23.\n",
      "0:  tinelizabeth's astonishment was beyond expression. she stared, coloured, doubted, and was silent. \n",
      "  Batch   500  of  2,702. Loss: 0.06019583344459534.   Elapsed: 0:04:13.\n",
      "0:  clinicalin spite of her deeply - rooted dislike, and though her intentions did not vary for an instant, her feelings towards darcy were at first unwillingly admitted. \n",
      "  Batch   600  of  2,702. Loss: 0.054603561758995056.   Elapsed: 0:05:03.\n",
      "0: lections\" i do not see what has been done or what a good thing done in the education of this parish, but what we have done for the recovery of the parish, and in the discharge of the various pecuniary actions and settlements of settlements, and have occasion to add, to my own family, the names of all the executors and their parents, and all their own children. the situation of your mother's finances, and your father's, seems such a remarkable one. i am sure i never in my life saw him without some assistance to the recovery of his parish, and it was but just done by me, to lessen the pain of separation by an article of news which then brought on a realign of all the advantages which a situation of such amiable companions can boast. \n",
      "  Batch   700  of  2,702. Loss: 0.10634180158376694.   Elapsed: 0:05:55.\n",
      "0: els\" and there is a lady, it seems, a mrs. younge, who was some time ago governess to miss darcy, and was dismissed from her charge on some cause of disapprobation, though he did not say what. she then took a large house in edward - street, and has since maintained herself by letting lodgings. this mrs. younge was, he knew, intimately acquainted with wickham ; and he went to her for intelligence of him as soon as he got to town. but it was two or three days before he could get from her what he wanted. she would not betray her trust, i suppose, without bribery and corruption, for she really did know where her friend was to be found. wickham indeed had gone to her on their first arrival in london, and had she been able to receive them into her house, they would have taken up their abode with her. at length, however\n",
      "  Batch   800  of  2,702. Loss: 0.04406142979860306.   Elapsed: 0:06:48.\n",
      "0: lab\" i do not blame jane, \" she continued, \" for jane would have got mr. bingley if she could. but lizzy! oh, sister! it is very hard to think that she might have been mr. collins's wife by this time, had it not been for her own perverseness. he made her an offer in this very room, and she refused him. the consequence of it is, that lady lucas will have a daughter married before i have, and that the longbourn estate is just as i came back. the lucases are very artful people indeed, sister. they are all for what they can get. i am sorry it took them so long to marry _ prudently _, prudently, prudently, but prudently! they must always be \n",
      "  Batch   900  of  2,702. Loss: 0.20033259689807892.   Elapsed: 0:07:40.\n",
      "0:  triple\" my reasons for marrying are, first, that i think it a right thing for every clergyman in easy circumstances ( like myself ) to set the example of matrimony in his parish ; secondly, that i am convinced that it will add very greatly to my happiness ; and thirdly -- which perhaps i ought to have mentioned earlier, that it is the living in which i should promote and establish a uniform cheerfulness of behaviour in all families within the reach of my influence ; and it is of particular importance that you should not allow the clergyman's estate to be vacant. in this light, i am not afraid of speaking of the church again. \n",
      "  Batch 1,000  of  2,702. Loss: 0.05690024420619011.   Elapsed: 0:08:31.\n",
      "0: 220\" aye, that is just like your formality and discretion. you thought the waiter must not hear, as if he cared! \n",
      "  Batch 1,100  of  2,702. Loss: 0.04282142594456673.   Elapsed: 0:09:22.\n",
      "0:  Seedarcy was fixed in astonishment. \" i have never been a more interesting young man ; \" she added in a yet more agitated voice. \" i have not the talent of _ my _, \" she added in a yet more agitated voice. \" i have not the talent of _ my _, if i had not been taught. \n",
      "  Batch 1,200  of  2,702. Loss: 0.012681015767157078.   Elapsed: 0:10:12.\n",
      "0: @@\" you are perfectly right. your modesty, i trust, does not disgrace you. \n",
      "  Batch 1,300  of  2,702. Loss: 0.14054036140441895.   Elapsed: 0:11:03.\n",
      "0:  host\" miss eliza bennet, \" said miss bingley, \" you puzzle me exceedingly. \n",
      "  Batch 1,400  of  2,702. Loss: 0.09374025464057922.   Elapsed: 0:11:53.\n",
      "0: role\" how very suddenly i rained! i was almost out of my senses! i did not know when i should have said no more. how i detested your language. but i was never bold enough to write to you. i knew you as well as i felt you believed me ; and if i could but tell you how ardently i admire and love, i should think you could not. i do not blame jane, though i never. \n",
      "  Batch 1,500  of  2,702. Loss: 0.05414976552128792.   Elapsed: 0:12:44.\n",
      "0: iac\" we have had a most excellent week, \" said she, as soon as they were left to themselves. \" i wish you had been there. \" \n",
      "  Batch 1,600  of  2,702. Loss: 0.057586416602134705.   Elapsed: 0:13:34.\n",
      "0:  LDthe discomposure of spirits which this extraordinary visit threw elizabeth into, could not be easily overcome ; nor could she, for many hours, learn to think of it less than incessantly. lady catherine, it appeared, had actually taken the trouble of this journey from rosings, for the sole purpose of breaking off her supposed engagement with mr. darcy. it was a rational scheme, to be sure! but from the very day of her arrival in hertfordshire, there was a very good sort of pride in her family, which, in addition to the fear of disadvantage from the connection, had been designed for her. \n",
      "  Batch 1,700  of  2,702. Loss: 0.0452946275472641.   Elapsed: 0:14:26.\n",
      "0:  Listen\" i never gave him credit for any philosophy. my temper, i believe, is not likely to be so marked as your own. it is not known, i believe, by anything but your own. \n",
      "  Batch 1,800  of  2,702. Loss: 0.033292703330516815.   Elapsed: 0:15:17.\n",
      "0:  dy\" and of this place, \" thought she, \" may be deceiving you. \" \n",
      "  Batch 1,900  of  2,702. Loss: 0.05563323572278023.   Elapsed: 0:16:07.\n",
      "0:  Domesticshe did not know at all of his other expressions. in her recollectment, he often addressed her with an expression of mingled incredulity and mortification. he was not always speaking to her, though occasionally looking round her, and sometimes looking at her for a moment. her fancy, however, was extreme, and continually increasing, and continually calling out : \n",
      "  Batch 2,000  of  2,702. Loss: 0.05809710919857025.   Elapsed: 0:16:58.\n",
      "0:  beneficiaries\" good heaven! how strange is this discovery? how abominable! \n",
      "  Batch 2,100  of  2,702. Loss: 0.07771411538124084.   Elapsed: 0:17:48.\n",
      "0:  Title\" no, \" said she, \" i never have. i have a high respect for your nerves. they give me great pleasure every moment. \n",
      "  Batch 2,200  of  2,702. Loss: 0.0928758904337883.   Elapsed: 0:18:38.\n",
      "0:  μ\" there is a lady, it seems, a mrs. younge, who was some time ago governess to miss darcy, and was dismissed from her charge on some cause of disapprobation, though he did not say what. she then took a large house in edward - street, and has since maintained herself by letting lodgings. this mrs. younge was, he knew, intimately acquainted with wickham ; and he went to her for intelligence of him as soon as he got to town. but it was two or three days before he could get from her what he wanted. she would not betray her trust, i suppose, without bribery and corruption, for she really did know where her friend was to be found. wickham indeed had gone to her on their first arrival in london, and had she been able to receive them into her house, they would have taken up their abode with her. at length, however,\n",
      "  Batch 2,300  of  2,702. Loss: 0.02052990533411503.   Elapsed: 0:19:31.\n",
      "0:  selling\" mr. darcy asked him why he had not married your sister at once. though mr. bennet had not imagined such a marriage to take place, he was persuaded that when mr. collins was no longer in his thoughts, he would go to bed. \" \n",
      "  Batch 2,400  of  2,702. Loss: 0.1088847666978836.   Elapsed: 0:20:22.\n",
      "0:  migrant\" my reasons for marrying are, first, that i think it a right thing for every clergyman in easy circumstances ( like myself ) to set the example of matrimony in his parish ; secondly, that i am convinced that it will add very greatly to my happiness ; and thirdly -- which perhaps i ought to have mentioned earlier, that it is the particular advice and recommendation of the very noble lady whom i have the honour of calling patroness. twice has she condescended to give me her opinion ( unasked too! ) on this subject ; and it was but the very saturday night before i left hunsford -- between our pools at quadrille, while mrs. jenkinson was arranging miss de bourgh's footstool, that she said,'mr. collins, you must marry. a clergyman like you must marry. choose properly, choose a gentlewoman for _ my _ sake ; and for your _ own _, let\n",
      "  Batch 2,500  of  2,702. Loss: 0.15369844436645508.   Elapsed: 0:21:14.\n",
      "0: ively\" i have found out, \" said he, \" by a singular accident, that there is now in the room a near relation of my patroness. i happened to overhear the gentleman himself mentioning to the young lady who does the honours of the house the names of his cousin miss de bourgh, and of her mother lady catherine. how wonderfully these sort of things occur! \" \n",
      "  Batch 2,600  of  2,702. Loss: 0.024903971701860428.   Elapsed: 0:22:05.\n",
      "0:  order\" i should not mind aye, \" said wickham, \" if it were ; but i can assure you that when a visitor comes to netherfield, it can be very pretty. \n",
      "  Batch 2,700  of  2,702. Loss: 0.03359893709421158.   Elapsed: 0:22:56.\n",
      "0:  VPNbut why mr. darcy came so often to the parsonage, it was more difficult to understand. it could not be for society, as he frequently sat there ten minutes together without opening his lips ; and when he did speak, it seemed the effect of necessity rather than of choice -- a sacrifice to propriety, not a pleasure to himself. he seldom appeared really animated. mrs. collins knew not what to make of him. colonel forster seldom appeared really animated. mrs. collins knew not what to make of him. colonel forster seldom appeared that he had animation. \n",
      "\n",
      "  Average training loss: 0.09\n",
      "  Training epoch took: 0:22:58\n",
      "\n",
      "Running Validation...\n",
      "  Validation Loss: 0.09\n",
      "  Validation took: 0:00:48\n",
      "\n",
      "======== Epoch 4 / 5 ========\n",
      "Training...\n",
      "  Batch   100  of  2,702. Loss: 0.036563098430633545.   Elapsed: 0:00:50.\n",
      "0:  explanationher father lifted up his eyes in amazement ; and as he sat down to a table set out with his usual deliberation, talked on, of his hope that a letter from jane might be sent from him by express. but the post was always coming, and always moving. bingley had done his duty in that parish, and had he been a regular visitor he could not have been always on good terms with mr.. when his father went away, all bingley had to do. \n",
      "  Batch   200  of  2,702. Loss: 0.08089621365070343.   Elapsed: 0:01:42.\n",
      "0:  Bachshe was immediately told that the two gentlemen from rosings had each called during her absence, and had mr. collins been in waiting near the lodges, when their carriage arrived, or had mr. and mrs. collins appeared at the door, and the lady had entered into conversation directly on the subject, which put an end to by the approach of mr. and mrs. bennet. lady catherine listened in silence to their conversation, and then hurried home with the answer. mr. collins immediately began : \n",
      "  Batch   300  of  2,702. Loss: 0.08046787977218628.   Elapsed: 0:02:34.\n",
      "0:  folder\" your picture may be very exact, louisa, \" said bingley ; \" but this was all lost upon me. \n",
      "  Batch   400  of  2,702. Loss: 0.049379654228687286.   Elapsed: 0:03:24.\n",
      "0:  building\" you are quite right. you can now have nothing further to say, but to say'no more _ \n",
      "  Batch   500  of  2,702. Loss: 0.08944708108901978.   Elapsed: 0:04:15.\n",
      "0:  Babylon\" indeed i had not. i knew nothing at all of lady catherine's connections. that she had been intimately acquainted with every particular of them ; and she would have been equally happy, had i dared endeavour to venture in my endeavour to give greater -- if iambarded against the prepossession of prepossessed strong objections ; or, as i might, prevented the construction of so much more. \n",
      "  Batch   600  of  2,702. Loss: 0.09530472755432129.   Elapsed: 0:05:06.\n",
      "0: perial\" i beg your pardon. it gives me great pleasure to hear that you have passed your time not disagreeably. our journey has not been long, as we saw all the beauty of your sister. \n",
      "  Batch   700  of  2,702. Loss: 0.0449947863817215.   Elapsed: 0:05:56.\n",
      "0:  rents\" i should like balls infinitely better, \" she replied, \" if they were carried on in a different manner ; but there is something insufferably tedious in the usual process of such a meeting. \n",
      "  Batch   800  of  2,702. Loss: 0.0822053849697113.   Elapsed: 0:06:47.\n",
      "0:  Reg\" my dearest sister, now _ be _ serious. \n",
      "  Batch   900  of  2,702. Loss: 0.07072348892688751.   Elapsed: 0:07:37.\n",
      "0: olasthe morrow produced no abatement of mrs. bennet's ill - humour or ill health. mr. collins was also in the same state of angry pride. his resentment was in proportion to the distress of his daughter, and having no reserves from jane, he was anxious to get everyone on the spot ; lest she should hear of him from anybody. \n",
      "  Batch 1,000  of  2,702. Loss: 0.0209131371229887.   Elapsed: 0:08:28.\n",
      "0:  responses\" and of your infliction, \" cried elizabeth with energy. \" you have reduced him to his present state of poverty -- comparative poverty. you have withheld the advantages which you must know to have been designed for him. you have deprived the best years of his life of that independence which was no less his due than his desert. \n",
      "  Batch 1,100  of  2,702. Loss: 0.03225706145167351.   Elapsed: 0:09:18.\n",
      "0:  attendance\" upon my word, i can not pretend to be sorry, sir, for the entail, of so very heavy a sum as three thousand pounds! the more to the advantage of your estate, than of your own, to settle on my own children, i shall endeavour to do away with another of your nearest relations. \" \n",
      "  Batch 1,200  of  2,702. Loss: 0.039141468703746796.   Elapsed: 0:10:09.\n",
      "0:  rigidas for elizabeth, her thoughts were at pemberley this evening more than the last ; and the evening, though as it passed it seemed long, was not long enough to determine her feelings towards _ one _ in that mansion ; and she lay awake two whole hours endeavouring to make them out. she certainly did not hate him. no ; hatred had vanished long ago, and she had almost as long been ashamed of ever feeling a dislike against him, that could be so called. the respect created by the conviction of his valuable qualities, though at first unwillingly admitted, had for some time ceased to be repugnant to her feeling ; and it was now heightened into somewhat of a friendlier nature, by the testimony so highly in his favour, and bringing forward his disposition in so amiable a light, which yesterday had produced. but above all, above respect and esteem, there was a motive within her of goodwill which could not be overlooked. it was gratitude ; gratitude,\n",
      "  Batch 1,300  of  2,702. Loss: 0.025573454797267914.   Elapsed: 0:11:01.\n",
      "0: gro\" i have a high respect for your nerves, \" said mrs. bennet more than once, as they were still very young. \" they are my old friends. \" \n",
      "  Batch 1,400  of  2,702. Loss: 0.0809401348233223.   Elapsed: 0:11:52.\n",
      "0:  Greelizabeth, as she had no longer any interest of her own to pursue, turned her attention almost entirely on her sister and mr. bingley ; and the train of agreeable reflections which her observations gave birth to, made her perhaps almost as happy as jane. she saw her in idea settled in that very house, in all the felicity which a marriage of true affection could bestow ; and she felt capable, under such circumstances, of endeavouring even to like bingley's two sisters. her mother's thoughts she plainly saw were bent the same way, and she determined not to venture near her, lest she might hear too much. when they sat down to supper, therefore, she considered it a most unlucky perverseness which placed them within one of each other ; and deeply was she vexed to find that her mother was talking to that one person ( lady lucas ) freely, openly, and of nothing else but her expectation that jane would soon\n",
      "  Batch 1,500  of  2,702. Loss: 0.024310123175382614.   Elapsed: 0:12:44.\n",
      "0: urabut self, though it would intrude, could not engross her. lydia -- the humiliation, the misery she was bringing on them all, soon swallowed up every private care ; and covering her face with her handkerchief, elizabeth felt how little would be gained by _ coming _ to see her. \n",
      "  Batch 1,600  of  2,702. Loss: 0.02131923846900463.   Elapsed: 0:13:35.\n",
      "0:  2020elizabeth listened, wondered, doubted, and was impatient for more. she wanted to hear, and hoped that she might. but the carriage was not to be had ; and after sitting a few minutes, she found herself, when almost all her attention was on her face, earnestly looking at her with a smile over the evening, and earnestly looking at her with a smile over the evening, that she might have believed the offer of the chaise to be sincere, had not jane pictured to herself a happy evening in the society of her friends. \n",
      "  Batch 1,700  of  2,702. Loss: 0.05788693204522133.   Elapsed: 0:14:27.\n",
      "0:  chargingthe whole party were in hopes of a letter from mr. bennet the next morning, but the post came in without bringing a single line from him. his family knew him to be, on all common occasions, a most negligent and dilatory correspondent ; but at such a time they had hoped for exertion. his friends, though grateful for his affection, could not be insensible to the compliment of such a man. how thankful did the ladies feel for him at such premeditation, and how grateful did the ladies for his kindness to them! they could hardly comprehend his coming to london only to express his sense of inferiority, or relate his character to anybody else. their letters to mrs. bennet, with the greatest attention, were rather thin, and he probably looked at least as handsome as he had been last year at netherfield. \" when i am in your head, \" said jane, \" i am not afraid of his coming here\n",
      "  Batch 1,800  of  2,702. Loss: 0.048711054027080536.   Elapsed: 0:15:19.\n",
      "0:  Sarbut why mr. darcy came so often to the parsonage, it was more difficult to understand. it could not be for society, as he frequently sat there ten minutes together without opening his lips ; and when he did speak, it seemed the effect of necessity rather than of choice -- a sacrifice to propriety, not a pleasure to himself. he seldom appeared really animated. mrs. collins knew not what to make of him. colonel fitzwilliam's occasionally laughing at his stupidity, proved him to be generally different, which her own knowledge of him could not have told her ; and as she would liked to have believed this change the effect of love, and the object of that love her friend eliza, she set herself seriously to work to find it out. they parted from the chaise, and then from the door into the dining - room. \n",
      "  Batch 1,900  of  2,702. Loss: 0.025661733001470566.   Elapsed: 0:16:11.\n",
      "0:  Jas\" by this time, my dearest sister, you have received my hurried letter ; i wish this may be more intelligible, but though not confined for time, my head is so bewildered that i can not answer for being coherent. dearest lizzy, i hardly know what i would write, but i have bad news for you, and it can not be delayed. imprudent as the marriage between mr. wickham and our poor lydia would be, we are now anxious to be assured it has taken place, for there is but too much reason to fear they are not gone to scotland. colonel forster came yesterday, having left brighton the day before, not many hours after the express. though lydia's short letter to mrs. f. gave them to understand that they were going to gretna green, something was dropped by denny expressing his belief that w. never intended to go there, or to marry lydia\n",
      "  Batch 2,000  of  2,702. Loss: 0.11252344399690628.   Elapsed: 0:17:04.\n",
      "0:  permit\" it was greatly my wish that he should do so, \" he added, \" as soon as his marriage was fixed on. and i think you will agree with me, in considering the removal from that corps as highly advisable, both on his account and my niece's. it is mr. wickham's intention to go into the regulars ; and he has the promise of an ensigncy in general ----'s regiment, now quartered in the north. it is an advantage to have it so far from this part of the kingdom. he promises fairly ; and i hope among different people, where they may each have a character to preserve, they will both be more prudent. \n",
      "  Batch 2,100  of  2,702. Loss: 0.041897304356098175.   Elapsed: 0:17:56.\n",
      "0:  Administrator\" i was not so fastidious as i was in myself. \" \n",
      "  Batch 2,200  of  2,702. Loss: 0.02395710162818432.   Elapsed: 0:18:46.\n",
      "0:  EVENTS\" oh, yes!--that, that is the worst of all. till i was in kent, and saw so much both of mr. darcy and his relation colonel fitzwilliam, i was ignorant of the truth myself. and when i returned home, the ----shire was to leave meryton in a week or fortnight's time. as that was the case, neither jane, to whom i related the whole, nor i, thought it necessary to make our knowledge public ; for of what use could it apparently be to any one, that the good opinion which all the neighbourhood had of him should then be overthrown? and even when it was settled that lydia should go with mrs. forster, the necessity of opening her eyes to his character never occurred to me. \n",
      "  Batch 2,300  of  2,702. Loss: 0.01701679639518261.   Elapsed: 0:19:38.\n",
      "0:  Mentalin this perturbed state of mind, with thoughts that could rest on nothing, she walked on ; but it would not do ; in half a minute the letter was unfolded again, and collecting herself as well as she could, she again began the mortifying perusal of all that related to wickham, and commanded herself so far as to examine the meaning of every sentence. the account of his connection with the pemberley family was exactly what he had related himself ; and the kindness of the late mr. darcy, though she had not before known its extent, agreed equally well with his own words. so far each recital confirmed the other ; but when she came to the will, the difference was great. what wickham had said of the living was fresh in her memory, and as she recalled his very words, it was impossible not to feel that there was gross duplicity on one side or the other ; and, for a few moments, she flattered\n",
      "  Batch 2,400  of  2,702. Loss: 0.01759503409266472.   Elapsed: 0:20:30.\n",
      "0: idswhen they were gone, elizabeth, as if intending to exasperate herself as much as possible against mr. darcy, chose for her employment the examination of all the letters which jane had written to her since her being in kent. they contained no actual complaint, nor was there any revival of past occurrences, or any communication of present suffering. but in all, and in almost every line of each, there was a want of that cheerfulness which had been used to characterise her style, and which, proceeding from the serenity of a mind at ease with itself and kindly disposed towards everyone, had been scarcely ever clouded. elizabeth noticed every sentence conveying the idea of uneasiness, with an attention which it had hardly received on the first perusal. mr. darcy's shameful boast of what misery he had been able to inflict, gave her all the shame and misery of that independence which years of happiness could not enough acknowledge\n",
      "  Batch 2,500  of  2,702. Loss: 0.0411582812666893.   Elapsed: 0:21:23.\n",
      "0: ceans\" but why all this secrecy? why any fear of detection? why must their marriage be private? oh, no, no -- this is not likely. his most particular friend, you see by jane's account, was persuaded of his never intending to marry her. wickham will never marry a woman without some money. he can not afford it. and what claims has lydia -- what attraction has she beyond youth, health, and good humour that could make him, for her sake, forego every chance of benefiting himself by marrying well? and as to her using her marriage application, i am not able to judge ; for i know nothing of the effects that a woman who has once been refused in money, can have so large a family. \" \n",
      "  Batch 2,600  of  2,702. Loss: 0.017920516431331635.   Elapsed: 0:22:15.\n",
      "0:  genetically\" why, at that rate, you will have been here only six weeks. i expected you to stay two months. i told mrs. collins so before you came. there was a reason to my delay. \n",
      "  Batch 2,700  of  2,702. Loss: 0.022061601281166077.   Elapsed: 0:23:05.\n",
      "0:  advice\" my dear miss elizabeth, i have the highest opinion in the world in your excellent judgement in all matters within the scope of your understanding ; but permit me to say, that there must be a wide difference between the established forms of ceremony amongst the laity, and those which regulate the clergy ; for, give me leave to observe that i consider the clerical office as equal in point of dignity with the highest rank in the kingdom -- provided that a proper humility of behaviour is at the same time maintained. you must therefore allow me to follow the dictates of my conscience on this occasion, which leads me to perform what i look on as a point of duty. pardon me for neglecting to profit by your advice, which on every other subject shall be my constant guide, though in the case before us i consider myself more fitted by education and habitual study to decide on what is right than a young lady like yourself. \" and with a low bow he left her to attack mr. d\n",
      "\n",
      "  Average training loss: 0.05\n",
      "  Training epoch took: 0:23:08\n",
      "\n",
      "Running Validation...\n",
      "  Validation Loss: 0.09\n",
      "  Validation took: 0:00:48\n",
      "\n",
      "======== Epoch 5 / 5 ========\n",
      "Training...\n",
      "  Batch   100  of  2,702. Loss: 0.031659599393606186.   Elapsed: 0:00:50.\n",
      "0:  incomplete\" i have been making the tour of the park every day, \" he said ; \" but the most part of it is not so pleasant as some of the others. \n",
      "  Batch   200  of  2,702. Loss: 0.0168153028935194.   Elapsed: 0:01:41.\n",
      "0: comment\" oh, yes ; and nobody can ever be introduced in a ball - room. well, colonel fitzwilliam, what do i play next? my fingers wait your orders. \" \n",
      "  Batch   300  of  2,702. Loss: 0.027043092995882034.   Elapsed: 0:02:31.\n",
      "0:  pilotif elizabeth, when mr. darcy gave her the letter, did not expect it to contain a renewal of his offers, she had formed no expectation at all of its contents. but such as they were, it may well be supposed how eagerly she went through them, and what a contrariety of emotion they excited. her feelings as she read were scarcely to be defined. with amazement did she first understand that he believed any apology to be in his power ; and steadfastly was she persuaded, that he could have no explanation to give, which a just sense of shame would not conceal. with a strong prejudice against everything he might say, she began his account of what had happened at netherfield. she read with an eagerness which hardly left her power of comprehension, and from impatience of knowing what the next sentence might bring, was incapable of attending to the sense of the one before her eyes. his belief of her sister's insensibility she instantly\n",
      "  Batch   400  of  2,702. Loss: 0.0149936368688941.   Elapsed: 0:03:24.\n",
      "0: gers\" i think she will. \" \n",
      "  Batch   500  of  2,702. Loss: 0.015285642817616463.   Elapsed: 0:04:14.\n",
      "0:  mutation\" you may as well call it impertinence at once. it was very little less. the fact is, that you were sick of civility, of deference, of officious attention. you were disgusted with the women who were always speaking, and looking, and thinking for _ your _ approbation alone. i roused, and interested you, because i was so unlike _ them _. had you not been really amiable, you would have hated me for it ; but in spite of the pains you took to disguise yourself, your feelings were always noble and just ; and in your heart, you thoroughly despised the persons who so assiduously courted you. there -- i have saved you the trouble of accounting for it ; and really, all things considered, i begin to think it perfectly reasonable. to be sure, you knew no actual good of me -- but nobody thinks of _ that _ in the first place. \" \n",
      "  Batch   600  of  2,702. Loss: 0.046997200697660446.   Elapsed: 0:05:06.\n",
      "0:  Driver\" if i, \" said mr. collins, \" were so fortunate as to be able to sing, i should have great pleasure, i am sure, in obliging the company with an air ; for i consider music as a very innocent diversion, and perfectly compatible with the profession of a clergyman. i do not mean, however, to assert that we can be justified in devoting too much of our time to music, for there are certainly other things to be attended to. the rector of a parish has much to do. in the first place, he must make such an agreement for tithes as may be beneficial to himself and not offensive to his patron. he must write his own sermons ; and the time that remains will not be too much for his parish duties, and the care and improvement of his dwelling, which he can not be excused from making as comfortable as possible. and i do not think it of light importance that he should have attentive and conc\n",
      "  Batch   700  of  2,702. Loss: 0.017678571864962578.   Elapsed: 0:05:59.\n",
      "0: iti\" you need not distress yourself. the moral will be perfectly fair. lady catherine's unjustifiable endeavours to separate us were the means of removing all my doubts. i am not indebted for my present happiness to your eager desire of expressing your gratitude. i was not in a humour to wait for any opening of yours. mr. collins, to be sure, was not a very rational man. \" \n",
      "  Batch   800  of  2,702. Loss: 0.031231949105858803.   Elapsed: 0:06:50.\n",
      "0: fff\" there can be no doubt of that. it is settled between us already, that we are to be the happiest couple in the world. but are you pleased, jane? \n",
      "  Batch   900  of  2,702. Loss: 0.016088036820292473.   Elapsed: 0:07:40.\n",
      "0: riminationmrs. bennet, with great condescension, wished to introduce the subject ; and as she said this, attended the whole house in the drawing - room, as soon as her ladyship was expected. \n",
      "  Batch 1,000  of  2,702. Loss: 0.03411952033638954.   Elapsed: 0:08:31.\n",
      "0: aque\" you are a good girl ; \" he replied, \" and i have great pleasure in thinking you will be so happily settled. i have not a doubt of your doing very well together. your tempers are by no means unlike. \n",
      "  Batch 1,100  of  2,702. Loss: 0.013510585762560368.   Elapsed: 0:09:21.\n",
      "0: lee\" i never heard from you that you were so severe on george wickham as to think him quite the man who, with all his wealth, the true admirer, could ever be so well - bred and agreeable as to be able to keep a man - servant, or allow him to marry a daughter. he was a most highly esteemed, extremely agreeable man, and excessively proud. your mother, miss lydia, i think, had a most attentive mother. you may remember that i never heard you speak ill of him ; and i believe i must have heard you mentioned to you the necessity of placing him in the greatest share of the notice. \" \n",
      "  Batch 1,200  of  2,702. Loss: 0.07276290655136108.   Elapsed: 0:10:13.\n",
      "0:  Alzheimerwhen the party broke up, lydia returned with mrs. forster to meryton, from whence they were to set out early the next morning. the separation between her and her family was rather noisy than pathetic. \n",
      "  Batch 1,300  of  2,702. Loss: 0.02602740377187729.   Elapsed: 0:11:04.\n",
      "0:  checking\" i do not think we were speaking at all. \n",
      "  Batch 1,400  of  2,702. Loss: 0.033326055854558945.   Elapsed: 0:11:54.\n",
      "0: nesiumthe evening altogether passed off pleasantly to the whole family. mrs. bennet had seen her eldest daughter much admired by the netherfield party. mr. bingley had danced with her twice, and she had been distinguished by his sisters. jane was as much gratified by this as her mother could be, though in a quieter way. elizabeth felt jane's pleasure. \n",
      "  Batch 1,500  of  2,702. Loss: 0.020573213696479797.   Elapsed: 0:12:45.\n",
      "0:  1957\" i do assure you, sir, that i have no pretensions whatever to that kind of elegance which consists in tormenting a respectable man. i would rather be paid the compliment of being believed sincere. i thank you again and again for the honour you have done me in your proposals, but to accept them is absolutely impossible. my feelings in every respect forbid it. can i speak plainer? \" \n",
      "  Batch 1,600  of  2,702. Loss: 0.016152873635292053.   Elapsed: 0:13:36.\n",
      "0: manship\" i am sure, \" she added, \" if it was not for such good friends i do not know what would become of her, for she is very ill indeed, and suffers a vast deal, though with the greatest patience in the world, which is always the way with her, for she has, without exception, the sweetest temper i have ever met with. i often tell my other girls they are nothing to _ her _. you have a sweet room here, mr. bingley, and a charming prospect over the gravel walk. \n",
      "  Batch 1,700  of  2,702. Loss: 0.015587401576340199.   Elapsed: 0:14:27.\n",
      "0:  understandas for wickham and lydia, their characters suffered no revolution from the marriage of her sisters. he bore with philosophy the conviction that elizabeth must now become acquainted with whatever of his ingratitude and falsehood had before been unknown to her ; and in spite of every thing, was not wholly without hope that darcy might yet be prevailed on to make his fortune. \n",
      "  Batch 1,800  of  2,702. Loss: 0.014630218036472797.   Elapsed: 0:15:18.\n",
      "0:  passion\" to jane herself, \" she exclaimed, \" there could be no possibility of objection ; all loveliness and goodness as she is!--her understanding excellent, her mind improved, and her manners captivating. neither could anything be urged against my father, who, though with some peculiarities, has abilities mr. darcy himself need not disdain. \" \n",
      "  Batch 1,900  of  2,702. Loss: 0.03484564647078514.   Elapsed: 0:16:10.\n",
      "0:  curvedshe then changed the discourse to one more gratifying to each, and on which there could be no difference of sentiment. elizabeth listened with delight to the happy, though modest hopes which jane entertained of mr. bingley's regard, and said all in her power to heighten her confidence in it. \n",
      "  Batch 2,000  of  2,702. Loss: 0.028758155182003975.   Elapsed: 0:17:01.\n",
      "0:  An\" yes -- the late mr. darcy bequeathed me the next presentation of the best living in his gift. \n",
      "  Batch 2,100  of  2,702. Loss: 0.016735592857003212.   Elapsed: 0:17:51.\n",
      "0: ottimiss bingley's congratulations to her brother, on his approaching marriage, were all that was affectionate and insincere. she wrote even to jane on the occasion, to express her delight, and repeat all her former professions of regard. but georgiana would not join her. she wrote to her brother lydia on the occasion, without any previous acquaintance with their family, or any communication of their plans, except to say that they were under frequent discussion between themselves. \n",
      "  Batch 2,200  of  2,702. Loss: 0.018560970202088356.   Elapsed: 0:18:42.\n",
      "0:  intake\" yes, \" replied mr. wickham ; \" his estate there is a noble one. a clear ten thousand per annum. \n",
      "  Batch 2,300  of  2,702. Loss: 0.024451572448015213.   Elapsed: 0:19:33.\n",
      "0:  Ts\" by this time, my dearest sister, you have received my hurried letter ; i wish this may be more intelligible, but though not confined for time, my head is so bewildered that i can not answer for being coherent. dearest lizzy, i hardly know what i would write, but i have bad news for you, and it can not be delayed. imprudent as the marriage between mr. wickham and our poor lydia would be, we are now anxious to be assured it has taken place, for there is but too much reason to fear they are not gone to scotland. colonel forster came yesterday, having left brighton the day before, not many hours after the express. though lydia's short letter to mrs. f. gave them to understand that they were going to gretna green, something was dropped by denny expressing his belief that w. never intended to go there, or to marry lydia\n",
      "  Batch 2,400  of  2,702. Loss: 0.017994699999690056.   Elapsed: 0:20:25.\n",
      "0:  Main\" i must now mention a circumstance which i would wish to forget myself, and which no obligation less than the present should induce me to unfold to any human being. having said thus much, i feel no doubt of your secrecy. my sister, who is more than ten years my junior, was left to the guardianship of my mother's nephew, colonel fitzwilliam, and myself. about a year ago, she was taken from school, and an establishment formed for her in london ; and last summer she went with the lady who presided over it, to ramsgate ; and thither also went mr. wickham, undoubtedly by design ; for there proved to have been a prior acquaintance between him and mrs. younge, in whose character we were most unhappily deceived ; and by her connivance and aid, he so far recommended himself to georgiana, whose affectionate heart retained a strong impression of his kindness to her as a\n",
      "  Batch 2,500  of  2,702. Loss: 0.03520582616329193.   Elapsed: 0:21:18.\n",
      "0:  tem\" you will laugh when you know where i am gone, and i can not help laughing myself at your surprise to - morrow morning, as soon as i am missed. i am going to gretna green, and if you can not guess with who, i shall think you a simpleton, for there is but one man in the world i love, and he is an angel. i should never be happy without him, so think it no harm to be off. you need not send them word at longbourn of my going, if you do not like it, for it will make the surprise the greater, when i write to them and sign my name'lydia wickham.'what a good joke it will be! i can hardly write for laughing. pray make my excuses to pratt for not keeping my engagement, and dancing with him to - night. tell him i hope he will excuse me when he knows all ; and tell him i will dance with\n",
      "  Batch 2,600  of  2,702. Loss: 0.037343960255384445.   Elapsed: 0:22:10.\n",
      "0:  Clickfrom herself to jane -- from jane to bingley, her thoughts were in a line which soon brought to her recollection that mr. darcy's explanation _ there _ had appeared very insufficient, and she read it again. widely different was the effect of a second perusal. how could she deny that credit to his assertions in one instance, which she had been obliged to give in the other? he declared himself to be totally unsuspicious of her sister's attachment ; and she could not help remembering what charlotte's opinion had always been. neither could she deny the justice of his description of jane. she could not help remembering what charlotte's opinion had always been, and how far off she might have gone with him to meet her, and to justify his description of her as she pointed out. neither could she deny the justice of his description of her. \" she _ saw him go with regret ; she saw him in every\n",
      "  Batch 2,700  of  2,702. Loss: 0.021597670391201973.   Elapsed: 0:23:03.\n",
      "0:  XV\" miss eliza bennet, \" said miss bingley, in an angry tone, \" despises cards. \n",
      "\n",
      "  Average training loss: 0.03\n",
      "  Training epoch took: 0:23:04\n",
      "\n",
      "Running Validation...\n",
      "  Validation Loss: 0.09\n",
      "  Validation took: 0:00:48\n",
      "\n",
      "Training complete!\n",
      "Total training took 1:58:58 (h:mm:ss)\n"
     ]
    }
   ],
   "source": [
    "total_t0 = time.time()\n",
    "\n",
    "training_stats = []\n",
    "\n",
    "model = model.to(device)\n",
    "\n",
    "for epoch_i in range(0, epochs):\n",
    "\n",
    "    # ========================================\n",
    "    #               Training\n",
    "    # ========================================\n",
    "\n",
    "    print(\"\")\n",
    "    print('======== Epoch {:} / {:} ========'.format(epoch_i + 1, epochs))\n",
    "    print('Training...')\n",
    "\n",
    "    t0 = time.time()\n",
    "\n",
    "    total_train_loss = 0\n",
    "\n",
    "    model.train()\n",
    "\n",
    "    for step, batch in enumerate(train_dataloader):\n",
    "\n",
    "        b_input_ids = batch[0].to(device)\n",
    "        b_labels = batch[0].to(device)\n",
    "        b_masks = batch[1].to(device)\n",
    "\n",
    "        model.zero_grad()        \n",
    "\n",
    "        outputs = model(  b_input_ids,\n",
    "                          labels=b_labels, \n",
    "                          attention_mask = b_masks,\n",
    "                          token_type_ids=None\n",
    "                        )\n",
    "\n",
    "        loss = outputs[0]  \n",
    "\n",
    "        batch_loss = loss.item()\n",
    "        total_train_loss += batch_loss\n",
    "\n",
    "        # Get sample every x batches.\n",
    "        if step % sample_every == 0 and not step == 0:\n",
    "\n",
    "            elapsed = format_time(time.time() - t0)\n",
    "            print('  Batch {:>5,}  of  {:>5,}. Loss: {:>5,}.   Elapsed: {:}.'.format(step, len(train_dataloader), batch_loss, elapsed))\n",
    "\n",
    "            model.eval()\n",
    "\n",
    "            sample_outputs = model.generate(\n",
    "                                    bos_token_id=random.randint(1,30000),\n",
    "                                    do_sample=True,   \n",
    "                                    top_k=50, \n",
    "                                    max_length = 200,\n",
    "                                    top_p=0.95, \n",
    "                                    num_return_sequences=1\n",
    "                                )\n",
    "            for i, sample_output in enumerate(sample_outputs):\n",
    "                  print(\"{}: {}\".format(i, tokenizer.decode(sample_output, skip_special_tokens=True)))\n",
    "            \n",
    "            model.train()\n",
    "\n",
    "        loss.backward()\n",
    "\n",
    "        optimizer.step()\n",
    "\n",
    "        scheduler.step()\n",
    "\n",
    "    # Calculate the average loss over all of the batches.\n",
    "    avg_train_loss = total_train_loss / len(train_dataloader)       \n",
    "    \n",
    "    # Measure how long this epoch took.\n",
    "    training_time = format_time(time.time() - t0)\n",
    "\n",
    "    print(\"\")\n",
    "    print(\"  Average training loss: {0:.2f}\".format(avg_train_loss))\n",
    "    print(\"  Training epoch took: {:}\".format(training_time))\n",
    "        \n",
    "    # ========================================\n",
    "    #               Validation\n",
    "    # ========================================\n",
    "\n",
    "    print(\"\")\n",
    "    print(\"Running Validation...\")\n",
    "\n",
    "    t0 = time.time()\n",
    "\n",
    "    model.eval()\n",
    "\n",
    "    total_eval_loss = 0\n",
    "    nb_eval_steps = 0\n",
    "\n",
    "    # Evaluate data for one epoch\n",
    "    for batch in validation_dataloader:\n",
    "        \n",
    "        b_input_ids = batch[0].to(device)\n",
    "        b_labels = batch[0].to(device)\n",
    "        b_masks = batch[1].to(device)\n",
    "        \n",
    "        with torch.no_grad():        \n",
    "\n",
    "            outputs  = model(b_input_ids, \n",
    "                          #  token_type_ids=None, \n",
    "                             attention_mask = b_masks,\n",
    "                            labels=b_labels)\n",
    "          \n",
    "            loss = outputs[0]  \n",
    "            \n",
    "        batch_loss = loss.item()\n",
    "        total_eval_loss += batch_loss        \n",
    "\n",
    "    avg_val_loss = total_eval_loss / len(validation_dataloader)\n",
    "    \n",
    "    validation_time = format_time(time.time() - t0)    \n",
    "\n",
    "    print(\"  Validation Loss: {0:.2f}\".format(avg_val_loss))\n",
    "    print(\"  Validation took: {:}\".format(validation_time))\n",
    "\n",
    "    # Record all statistics from this epoch.\n",
    "    training_stats.append(\n",
    "        {\n",
    "            'epoch': epoch_i + 1,\n",
    "            'Training Loss': avg_train_loss,\n",
    "            'Valid. Loss': avg_val_loss,\n",
    "            'Training Time': training_time,\n",
    "            'Validation Time': validation_time\n",
    "        }\n",
    "    )\n",
    "\n",
    "print(\"\")\n",
    "print(\"Training complete!\")\n",
    "print(\"Total training took {:} (h:mm:ss)\".format(format_time(time.time()-total_t0)))"
   ]
  },
  {
   "cell_type": "markdown",
   "metadata": {
    "id": "DBJc6_eo8Mky"
   },
   "source": [
    "This experiment was run using SPACEY to segment the text into sentences before sending it into GPT2 tokenizer and Model."
   ]
  },
  {
   "cell_type": "code",
   "execution_count": 194,
   "metadata": {
    "colab": {
     "base_uri": "https://localhost:8080/",
     "height": 238
    },
    "id": "ci-wliJU5qeT",
    "outputId": "8ab79f78-2916-406c-cd77-729f73af6d93"
   },
   "outputs": [
    {
     "data": {
      "text/html": [
       "\n",
       "  <div id=\"df-351b7cdc-7a85-4777-bb5e-7189a84c641c\">\n",
       "    <div class=\"colab-df-container\">\n",
       "      <div>\n",
       "<style scoped>\n",
       "    .dataframe tbody tr th:only-of-type {\n",
       "        vertical-align: middle;\n",
       "    }\n",
       "\n",
       "    .dataframe tbody tr th {\n",
       "        vertical-align: top;\n",
       "    }\n",
       "\n",
       "    .dataframe thead th {\n",
       "        text-align: right;\n",
       "    }\n",
       "</style>\n",
       "<table border=\"1\" class=\"dataframe\">\n",
       "  <thead>\n",
       "    <tr style=\"text-align: right;\">\n",
       "      <th></th>\n",
       "      <th>Training Loss</th>\n",
       "      <th>Valid. Loss</th>\n",
       "      <th>Training Time</th>\n",
       "      <th>Validation Time</th>\n",
       "    </tr>\n",
       "    <tr>\n",
       "      <th>epoch</th>\n",
       "      <th></th>\n",
       "      <th></th>\n",
       "      <th></th>\n",
       "      <th></th>\n",
       "    </tr>\n",
       "  </thead>\n",
       "  <tbody>\n",
       "    <tr>\n",
       "      <th>1</th>\n",
       "      <td>0.35</td>\n",
       "      <td>0.18</td>\n",
       "      <td>0:22:54</td>\n",
       "      <td>0:00:48</td>\n",
       "    </tr>\n",
       "    <tr>\n",
       "      <th>2</th>\n",
       "      <td>0.16</td>\n",
       "      <td>0.12</td>\n",
       "      <td>0:22:53</td>\n",
       "      <td>0:00:48</td>\n",
       "    </tr>\n",
       "    <tr>\n",
       "      <th>3</th>\n",
       "      <td>0.09</td>\n",
       "      <td>0.09</td>\n",
       "      <td>0:22:58</td>\n",
       "      <td>0:00:48</td>\n",
       "    </tr>\n",
       "    <tr>\n",
       "      <th>4</th>\n",
       "      <td>0.05</td>\n",
       "      <td>0.09</td>\n",
       "      <td>0:23:08</td>\n",
       "      <td>0:00:48</td>\n",
       "    </tr>\n",
       "    <tr>\n",
       "      <th>5</th>\n",
       "      <td>0.03</td>\n",
       "      <td>0.09</td>\n",
       "      <td>0:23:04</td>\n",
       "      <td>0:00:48</td>\n",
       "    </tr>\n",
       "  </tbody>\n",
       "</table>\n",
       "</div>\n",
       "      <button class=\"colab-df-convert\" onclick=\"convertToInteractive('df-351b7cdc-7a85-4777-bb5e-7189a84c641c')\"\n",
       "              title=\"Convert this dataframe to an interactive table.\"\n",
       "              style=\"display:none;\">\n",
       "        \n",
       "  <svg xmlns=\"http://www.w3.org/2000/svg\" height=\"24px\"viewBox=\"0 0 24 24\"\n",
       "       width=\"24px\">\n",
       "    <path d=\"M0 0h24v24H0V0z\" fill=\"none\"/>\n",
       "    <path d=\"M18.56 5.44l.94 2.06.94-2.06 2.06-.94-2.06-.94-.94-2.06-.94 2.06-2.06.94zm-11 1L8.5 8.5l.94-2.06 2.06-.94-2.06-.94L8.5 2.5l-.94 2.06-2.06.94zm10 10l.94 2.06.94-2.06 2.06-.94-2.06-.94-.94-2.06-.94 2.06-2.06.94z\"/><path d=\"M17.41 7.96l-1.37-1.37c-.4-.4-.92-.59-1.43-.59-.52 0-1.04.2-1.43.59L10.3 9.45l-7.72 7.72c-.78.78-.78 2.05 0 2.83L4 21.41c.39.39.9.59 1.41.59.51 0 1.02-.2 1.41-.59l7.78-7.78 2.81-2.81c.8-.78.8-2.07 0-2.86zM5.41 20L4 18.59l7.72-7.72 1.47 1.35L5.41 20z\"/>\n",
       "  </svg>\n",
       "      </button>\n",
       "      \n",
       "  <style>\n",
       "    .colab-df-container {\n",
       "      display:flex;\n",
       "      flex-wrap:wrap;\n",
       "      gap: 12px;\n",
       "    }\n",
       "\n",
       "    .colab-df-convert {\n",
       "      background-color: #E8F0FE;\n",
       "      border: none;\n",
       "      border-radius: 50%;\n",
       "      cursor: pointer;\n",
       "      display: none;\n",
       "      fill: #1967D2;\n",
       "      height: 32px;\n",
       "      padding: 0 0 0 0;\n",
       "      width: 32px;\n",
       "    }\n",
       "\n",
       "    .colab-df-convert:hover {\n",
       "      background-color: #E2EBFA;\n",
       "      box-shadow: 0px 1px 2px rgba(60, 64, 67, 0.3), 0px 1px 3px 1px rgba(60, 64, 67, 0.15);\n",
       "      fill: #174EA6;\n",
       "    }\n",
       "\n",
       "    [theme=dark] .colab-df-convert {\n",
       "      background-color: #3B4455;\n",
       "      fill: #D2E3FC;\n",
       "    }\n",
       "\n",
       "    [theme=dark] .colab-df-convert:hover {\n",
       "      background-color: #434B5C;\n",
       "      box-shadow: 0px 1px 3px 1px rgba(0, 0, 0, 0.15);\n",
       "      filter: drop-shadow(0px 1px 2px rgba(0, 0, 0, 0.3));\n",
       "      fill: #FFFFFF;\n",
       "    }\n",
       "  </style>\n",
       "\n",
       "      <script>\n",
       "        const buttonEl =\n",
       "          document.querySelector('#df-351b7cdc-7a85-4777-bb5e-7189a84c641c button.colab-df-convert');\n",
       "        buttonEl.style.display =\n",
       "          google.colab.kernel.accessAllowed ? 'block' : 'none';\n",
       "\n",
       "        async function convertToInteractive(key) {\n",
       "          const element = document.querySelector('#df-351b7cdc-7a85-4777-bb5e-7189a84c641c');\n",
       "          const dataTable =\n",
       "            await google.colab.kernel.invokeFunction('convertToInteractive',\n",
       "                                                     [key], {});\n",
       "          if (!dataTable) return;\n",
       "\n",
       "          const docLinkHtml = 'Like what you see? Visit the ' +\n",
       "            '<a target=\"_blank\" href=https://colab.research.google.com/notebooks/data_table.ipynb>data table notebook</a>'\n",
       "            + ' to learn more about interactive tables.';\n",
       "          element.innerHTML = '';\n",
       "          dataTable['output_type'] = 'display_data';\n",
       "          await google.colab.output.renderOutput(dataTable, element);\n",
       "          const docLink = document.createElement('div');\n",
       "          docLink.innerHTML = docLinkHtml;\n",
       "          element.appendChild(docLink);\n",
       "        }\n",
       "      </script>\n",
       "    </div>\n",
       "  </div>\n",
       "  "
      ],
      "text/plain": [
       "       Training Loss  Valid. Loss Training Time Validation Time\n",
       "epoch                                                          \n",
       "1               0.35         0.18       0:22:54         0:00:48\n",
       "2               0.16         0.12       0:22:53         0:00:48\n",
       "3               0.09         0.09       0:22:58         0:00:48\n",
       "4               0.05         0.09       0:23:08         0:00:48\n",
       "5               0.03         0.09       0:23:04         0:00:48"
      ]
     },
     "execution_count": 194,
     "metadata": {},
     "output_type": "execute_result"
    }
   ],
   "source": [
    "# MINE Display floats with two decimal places.\n",
    "pd.set_option('precision', 2)\n",
    "\n",
    "# Create a DataFrame from our training statistics.\n",
    "df_stats = pd.DataFrame(data=training_stats)\n",
    "\n",
    "# Use the 'epoch' as the row index.\n",
    "df_stats = df_stats.set_index('epoch')\n",
    "\n",
    "# A hack to force the column headers to wrap.\n",
    "#df = df.style.set_table_styles([dict(selector=\"th\",props=[('max-width', '70px')])])\n",
    "\n",
    "# Display the table.\n",
    "df_stats"
   ]
  },
  {
   "cell_type": "markdown",
   "metadata": {
    "id": "VQTvJ1vRP7u4"
   },
   "source": [
    "Let's view the summary of the training process."
   ]
  },
  {
   "cell_type": "code",
   "execution_count": 196,
   "metadata": {
    "colab": {
     "base_uri": "https://localhost:8080/",
     "height": 427
    },
    "id": "v6guJA4k8VOv",
    "outputId": "5e8eacbb-bf54-491b-fc1c-1c7b245c9591"
   },
   "outputs": [
    {
     "data": {
      "image/png": "[encoded data removed]",
      "text/plain": [
       "<Figure size 864x432 with 1 Axes>"
      ]
     },
     "metadata": {},
     "output_type": "display_data"
    }
   ],
   "source": [
    "# Use plot styling from seaborn.\n",
    "sns.set(style='darkgrid')\n",
    "\n",
    "# Increase the plot size and font size.\n",
    "sns.set(font_scale=1.5)\n",
    "plt.rcParams[\"figure.figsize\"] = (12,6)\n",
    "\n",
    "# Plot the learning curve.\n",
    "plt.plot(df_stats['Training Loss'], 'b-o', label=\"Training\")\n",
    "plt.plot(df_stats['Valid. Loss'], 'g-o', label=\"Validation\")\n",
    "\n",
    "# Label the plot.\n",
    "plt.title(\"Training & Validation Loss\")\n",
    "plt.xlabel(\"Epoch\")\n",
    "plt.ylabel(\"Loss\")\n",
    "plt.legend()\n",
    "plt.xticks([1, 2, 3, 4])\n",
    "\n",
    "plt.show()"
   ]
  },
  {
   "cell_type": "markdown",
   "metadata": {
    "id": "1PsNQ4lTRQY6"
   },
   "source": [
    "### By using sentences I got a much better model."
   ]
  },
  {
   "cell_type": "markdown",
   "metadata": {
    "id": "bW1JVrui7rX5"
   },
   "source": [
    "### This experiment was run using newlines to segment the text before sending it into GPT2 tokenizer and Model."
   ]
  },
  {
   "cell_type": "code",
   "execution_count": 114,
   "metadata": {
    "colab": {
     "base_uri": "https://localhost:8080/",
     "height": 238
    },
    "id": "fIdRPGARkAEZ",
    "outputId": "d12e4258-bc31-4d87-d463-2628c2aff1f1"
   },
   "outputs": [
    {
     "data": {
      "text/html": [
       "\n",
       "  <div id=\"df-bfcad860-2832-4f6b-a657-d2a88872f5b3\">\n",
       "    <div class=\"colab-df-container\">\n",
       "      <div>\n",
       "<style scoped>\n",
       "    .dataframe tbody tr th:only-of-type {\n",
       "        vertical-align: middle;\n",
       "    }\n",
       "\n",
       "    .dataframe tbody tr th {\n",
       "        vertical-align: top;\n",
       "    }\n",
       "\n",
       "    .dataframe thead th {\n",
       "        text-align: right;\n",
       "    }\n",
       "</style>\n",
       "<table border=\"1\" class=\"dataframe\">\n",
       "  <thead>\n",
       "    <tr style=\"text-align: right;\">\n",
       "      <th></th>\n",
       "      <th>Training Loss</th>\n",
       "      <th>Valid. Loss</th>\n",
       "      <th>Training Time</th>\n",
       "      <th>Validation Time</th>\n",
       "    </tr>\n",
       "    <tr>\n",
       "      <th>epoch</th>\n",
       "      <th></th>\n",
       "      <th></th>\n",
       "      <th></th>\n",
       "      <th></th>\n",
       "    </tr>\n",
       "  </thead>\n",
       "  <tbody>\n",
       "    <tr>\n",
       "      <th>1</th>\n",
       "      <td>0.56</td>\n",
       "      <td>0.33</td>\n",
       "      <td>0:07:59</td>\n",
       "      <td>0:00:16</td>\n",
       "    </tr>\n",
       "    <tr>\n",
       "      <th>2</th>\n",
       "      <td>0.30</td>\n",
       "      <td>0.33</td>\n",
       "      <td>0:07:51</td>\n",
       "      <td>0:00:16</td>\n",
       "    </tr>\n",
       "    <tr>\n",
       "      <th>3</th>\n",
       "      <td>0.26</td>\n",
       "      <td>0.33</td>\n",
       "      <td>0:07:52</td>\n",
       "      <td>0:00:17</td>\n",
       "    </tr>\n",
       "    <tr>\n",
       "      <th>4</th>\n",
       "      <td>0.22</td>\n",
       "      <td>0.35</td>\n",
       "      <td>0:07:49</td>\n",
       "      <td>0:00:16</td>\n",
       "    </tr>\n",
       "    <tr>\n",
       "      <th>5</th>\n",
       "      <td>0.17</td>\n",
       "      <td>0.38</td>\n",
       "      <td>0:07:48</td>\n",
       "      <td>0:00:16</td>\n",
       "    </tr>\n",
       "  </tbody>\n",
       "</table>\n",
       "</div>\n",
       "      <button class=\"colab-df-convert\" onclick=\"convertToInteractive('df-bfcad860-2832-4f6b-a657-d2a88872f5b3')\"\n",
       "              title=\"Convert this dataframe to an interactive table.\"\n",
       "              style=\"display:none;\">\n",
       "        \n",
       "  <svg xmlns=\"http://www.w3.org/2000/svg\" height=\"24px\"viewBox=\"0 0 24 24\"\n",
       "       width=\"24px\">\n",
       "    <path d=\"M0 0h24v24H0V0z\" fill=\"none\"/>\n",
       "    <path d=\"M18.56 5.44l.94 2.06.94-2.06 2.06-.94-2.06-.94-.94-2.06-.94 2.06-2.06.94zm-11 1L8.5 8.5l.94-2.06 2.06-.94-2.06-.94L8.5 2.5l-.94 2.06-2.06.94zm10 10l.94 2.06.94-2.06 2.06-.94-2.06-.94-.94-2.06-.94 2.06-2.06.94z\"/><path d=\"M17.41 7.96l-1.37-1.37c-.4-.4-.92-.59-1.43-.59-.52 0-1.04.2-1.43.59L10.3 9.45l-7.72 7.72c-.78.78-.78 2.05 0 2.83L4 21.41c.39.39.9.59 1.41.59.51 0 1.02-.2 1.41-.59l7.78-7.78 2.81-2.81c.8-.78.8-2.07 0-2.86zM5.41 20L4 18.59l7.72-7.72 1.47 1.35L5.41 20z\"/>\n",
       "  </svg>\n",
       "      </button>\n",
       "      \n",
       "  <style>\n",
       "    .colab-df-container {\n",
       "      display:flex;\n",
       "      flex-wrap:wrap;\n",
       "      gap: 12px;\n",
       "    }\n",
       "\n",
       "    .colab-df-convert {\n",
       "      background-color: #E8F0FE;\n",
       "      border: none;\n",
       "      border-radius: 50%;\n",
       "      cursor: pointer;\n",
       "      display: none;\n",
       "      fill: #1967D2;\n",
       "      height: 32px;\n",
       "      padding: 0 0 0 0;\n",
       "      width: 32px;\n",
       "    }\n",
       "\n",
       "    .colab-df-convert:hover {\n",
       "      background-color: #E2EBFA;\n",
       "      box-shadow: 0px 1px 2px rgba(60, 64, 67, 0.3), 0px 1px 3px 1px rgba(60, 64, 67, 0.15);\n",
       "      fill: #174EA6;\n",
       "    }\n",
       "\n",
       "    [theme=dark] .colab-df-convert {\n",
       "      background-color: #3B4455;\n",
       "      fill: #D2E3FC;\n",
       "    }\n",
       "\n",
       "    [theme=dark] .colab-df-convert:hover {\n",
       "      background-color: #434B5C;\n",
       "      box-shadow: 0px 1px 3px 1px rgba(0, 0, 0, 0.15);\n",
       "      filter: drop-shadow(0px 1px 2px rgba(0, 0, 0, 0.3));\n",
       "      fill: #FFFFFF;\n",
       "    }\n",
       "  </style>\n",
       "\n",
       "      <script>\n",
       "        const buttonEl =\n",
       "          document.querySelector('#df-bfcad860-2832-4f6b-a657-d2a88872f5b3 button.colab-df-convert');\n",
       "        buttonEl.style.display =\n",
       "          google.colab.kernel.accessAllowed ? 'block' : 'none';\n",
       "\n",
       "        async function convertToInteractive(key) {\n",
       "          const element = document.querySelector('#df-bfcad860-2832-4f6b-a657-d2a88872f5b3');\n",
       "          const dataTable =\n",
       "            await google.colab.kernel.invokeFunction('convertToInteractive',\n",
       "                                                     [key], {});\n",
       "          if (!dataTable) return;\n",
       "\n",
       "          const docLinkHtml = 'Like what you see? Visit the ' +\n",
       "            '<a target=\"_blank\" href=https://colab.research.google.com/notebooks/data_table.ipynb>data table notebook</a>'\n",
       "            + ' to learn more about interactive tables.';\n",
       "          element.innerHTML = '';\n",
       "          dataTable['output_type'] = 'display_data';\n",
       "          await google.colab.output.renderOutput(dataTable, element);\n",
       "          const docLink = document.createElement('div');\n",
       "          docLink.innerHTML = docLinkHtml;\n",
       "          element.appendChild(docLink);\n",
       "        }\n",
       "      </script>\n",
       "    </div>\n",
       "  </div>\n",
       "  "
      ],
      "text/plain": [
       "       Training Loss  Valid. Loss Training Time Validation Time\n",
       "epoch                                                          \n",
       "1               0.56         0.33       0:07:59         0:00:16\n",
       "2               0.30         0.33       0:07:51         0:00:16\n",
       "3               0.26         0.33       0:07:52         0:00:17\n",
       "4               0.22         0.35       0:07:49         0:00:16\n",
       "5               0.17         0.38       0:07:48         0:00:16"
      ]
     },
     "execution_count": 114,
     "metadata": {},
     "output_type": "execute_result"
    }
   ],
   "source": [
    "# MINE Display floats with two decimal places.\n",
    "pd.set_option('precision', 2)\n",
    "\n",
    "# Create a DataFrame from our training statistics.\n",
    "df_stats = pd.DataFrame(data=training_stats)\n",
    "\n",
    "# Use the 'epoch' as the row index.\n",
    "df_stats = df_stats.set_index('epoch')\n",
    "\n",
    "# A hack to force the column headers to wrap.\n",
    "#df = df.style.set_table_styles([dict(selector=\"th\",props=[('max-width', '70px')])])\n",
    "\n",
    "# Display the table.\n",
    "df_stats"
   ]
  },
  {
   "cell_type": "code",
   "execution_count": 153,
   "metadata": {
    "colab": {
     "base_uri": "https://localhost:8080/",
     "height": 427
    },
    "id": "68xreA9JAmG5",
    "outputId": "10e8fffa-034e-44c9-ef4e-3f8f1a9c188d"
   },
   "outputs": [
    {
     "data": {
      "image/png": "[encoded data removed]",
      "text/plain": [
       "<Figure size 864x432 with 1 Axes>"
      ]
     },
     "metadata": {},
     "output_type": "display_data"
    }
   ],
   "source": [
    "# Example\n",
    "# Use plot styling from seaborn.\n",
    "sns.set(style='darkgrid')\n",
    "\n",
    "# Increase the plot size and font size.\n",
    "sns.set(font_scale=1.5)\n",
    "plt.rcParams[\"figure.figsize\"] = (12,6)\n",
    "\n",
    "# Plot the learning curve.\n",
    "plt.plot(df_stats['Training Loss'], 'b-o', label=\"Training\")\n",
    "plt.plot(df_stats['Valid. Loss'], 'g-o', label=\"Validation\")\n",
    "\n",
    "# Label the plot.\n",
    "plt.title(\"Training & Validation Loss\")\n",
    "plt.xlabel(\"Epoch\")\n",
    "plt.ylabel(\"Loss\")\n",
    "plt.legend()\n",
    "plt.xticks([1, 2, 3, 4])\n",
    "\n",
    "plt.show()"
   ]
  },
  {
   "cell_type": "code",
   "execution_count": 151,
   "metadata": {
    "colab": {
     "base_uri": "https://localhost:8080/",
     "height": 238
    },
    "id": "puUjv33Bizja",
    "outputId": "f85da619-7bfa-4fc5-99a2-3e4cf23a2933"
   },
   "outputs": [
    {
     "data": {
      "text/html": [
       "\n",
       "  <div id=\"df-9d2e581c-7325-44b7-889a-fc273469e7bf\">\n",
       "    <div class=\"colab-df-container\">\n",
       "      <div>\n",
       "<style scoped>\n",
       "    .dataframe tbody tr th:only-of-type {\n",
       "        vertical-align: middle;\n",
       "    }\n",
       "\n",
       "    .dataframe tbody tr th {\n",
       "        vertical-align: top;\n",
       "    }\n",
       "\n",
       "    .dataframe thead th {\n",
       "        text-align: right;\n",
       "    }\n",
       "</style>\n",
       "<table border=\"1\" class=\"dataframe\">\n",
       "  <thead>\n",
       "    <tr style=\"text-align: right;\">\n",
       "      <th></th>\n",
       "      <th>Training Loss</th>\n",
       "      <th>Valid. Loss</th>\n",
       "      <th>Training Time</th>\n",
       "      <th>Validation Time</th>\n",
       "    </tr>\n",
       "    <tr>\n",
       "      <th>epoch</th>\n",
       "      <th></th>\n",
       "      <th></th>\n",
       "      <th></th>\n",
       "      <th></th>\n",
       "    </tr>\n",
       "  </thead>\n",
       "  <tbody>\n",
       "    <tr>\n",
       "      <th>1</th>\n",
       "      <td>0.51</td>\n",
       "      <td>0.32</td>\n",
       "      <td>0:08:38</td>\n",
       "      <td>0:00:19</td>\n",
       "    </tr>\n",
       "    <tr>\n",
       "      <th>2</th>\n",
       "      <td>0.30</td>\n",
       "      <td>0.32</td>\n",
       "      <td>0:08:32</td>\n",
       "      <td>0:00:19</td>\n",
       "    </tr>\n",
       "    <tr>\n",
       "      <th>3</th>\n",
       "      <td>0.25</td>\n",
       "      <td>0.33</td>\n",
       "      <td>0:08:32</td>\n",
       "      <td>0:00:19</td>\n",
       "    </tr>\n",
       "    <tr>\n",
       "      <th>4</th>\n",
       "      <td>0.20</td>\n",
       "      <td>0.35</td>\n",
       "      <td>0:08:26</td>\n",
       "      <td>0:00:19</td>\n",
       "    </tr>\n",
       "    <tr>\n",
       "      <th>5</th>\n",
       "      <td>0.15</td>\n",
       "      <td>0.39</td>\n",
       "      <td>0:08:28</td>\n",
       "      <td>0:00:19</td>\n",
       "    </tr>\n",
       "  </tbody>\n",
       "</table>\n",
       "</div>\n",
       "      <button class=\"colab-df-convert\" onclick=\"convertToInteractive('df-9d2e581c-7325-44b7-889a-fc273469e7bf')\"\n",
       "              title=\"Convert this dataframe to an interactive table.\"\n",
       "              style=\"display:none;\">\n",
       "        \n",
       "  <svg xmlns=\"http://www.w3.org/2000/svg\" height=\"24px\"viewBox=\"0 0 24 24\"\n",
       "       width=\"24px\">\n",
       "    <path d=\"M0 0h24v24H0V0z\" fill=\"none\"/>\n",
       "    <path d=\"M18.56 5.44l.94 2.06.94-2.06 2.06-.94-2.06-.94-.94-2.06-.94 2.06-2.06.94zm-11 1L8.5 8.5l.94-2.06 2.06-.94-2.06-.94L8.5 2.5l-.94 2.06-2.06.94zm10 10l.94 2.06.94-2.06 2.06-.94-2.06-.94-.94-2.06-.94 2.06-2.06.94z\"/><path d=\"M17.41 7.96l-1.37-1.37c-.4-.4-.92-.59-1.43-.59-.52 0-1.04.2-1.43.59L10.3 9.45l-7.72 7.72c-.78.78-.78 2.05 0 2.83L4 21.41c.39.39.9.59 1.41.59.51 0 1.02-.2 1.41-.59l7.78-7.78 2.81-2.81c.8-.78.8-2.07 0-2.86zM5.41 20L4 18.59l7.72-7.72 1.47 1.35L5.41 20z\"/>\n",
       "  </svg>\n",
       "      </button>\n",
       "      \n",
       "  <style>\n",
       "    .colab-df-container {\n",
       "      display:flex;\n",
       "      flex-wrap:wrap;\n",
       "      gap: 12px;\n",
       "    }\n",
       "\n",
       "    .colab-df-convert {\n",
       "      background-color: #E8F0FE;\n",
       "      border: none;\n",
       "      border-radius: 50%;\n",
       "      cursor: pointer;\n",
       "      display: none;\n",
       "      fill: #1967D2;\n",
       "      height: 32px;\n",
       "      padding: 0 0 0 0;\n",
       "      width: 32px;\n",
       "    }\n",
       "\n",
       "    .colab-df-convert:hover {\n",
       "      background-color: #E2EBFA;\n",
       "      box-shadow: 0px 1px 2px rgba(60, 64, 67, 0.3), 0px 1px 3px 1px rgba(60, 64, 67, 0.15);\n",
       "      fill: #174EA6;\n",
       "    }\n",
       "\n",
       "    [theme=dark] .colab-df-convert {\n",
       "      background-color: #3B4455;\n",
       "      fill: #D2E3FC;\n",
       "    }\n",
       "\n",
       "    [theme=dark] .colab-df-convert:hover {\n",
       "      background-color: #434B5C;\n",
       "      box-shadow: 0px 1px 3px 1px rgba(0, 0, 0, 0.15);\n",
       "      filter: drop-shadow(0px 1px 2px rgba(0, 0, 0, 0.3));\n",
       "      fill: #FFFFFF;\n",
       "    }\n",
       "  </style>\n",
       "\n",
       "      <script>\n",
       "        const buttonEl =\n",
       "          document.querySelector('#df-9d2e581c-7325-44b7-889a-fc273469e7bf button.colab-df-convert');\n",
       "        buttonEl.style.display =\n",
       "          google.colab.kernel.accessAllowed ? 'block' : 'none';\n",
       "\n",
       "        async function convertToInteractive(key) {\n",
       "          const element = document.querySelector('#df-9d2e581c-7325-44b7-889a-fc273469e7bf');\n",
       "          const dataTable =\n",
       "            await google.colab.kernel.invokeFunction('convertToInteractive',\n",
       "                                                     [key], {});\n",
       "          if (!dataTable) return;\n",
       "\n",
       "          const docLinkHtml = 'Like what you see? Visit the ' +\n",
       "            '<a target=\"_blank\" href=https://colab.research.google.com/notebooks/data_table.ipynb>data table notebook</a>'\n",
       "            + ' to learn more about interactive tables.';\n",
       "          element.innerHTML = '';\n",
       "          dataTable['output_type'] = 'display_data';\n",
       "          await google.colab.output.renderOutput(dataTable, element);\n",
       "          const docLink = document.createElement('div');\n",
       "          docLink.innerHTML = docLinkHtml;\n",
       "          element.appendChild(docLink);\n",
       "        }\n",
       "      </script>\n",
       "    </div>\n",
       "  </div>\n",
       "  "
      ],
      "text/plain": [
       "       Training Loss  Valid. Loss Training Time Validation Time\n",
       "epoch                                                          \n",
       "1               0.51         0.32       0:08:38         0:00:19\n",
       "2               0.30         0.32       0:08:32         0:00:19\n",
       "3               0.25         0.33       0:08:32         0:00:19\n",
       "4               0.20         0.35       0:08:26         0:00:19\n",
       "5               0.15         0.39       0:08:28         0:00:19"
      ]
     },
     "execution_count": 151,
     "metadata": {},
     "output_type": "execute_result"
    }
   ],
   "source": [
    "df_stats2 = pd.DataFrame([[1,\t0.51,\t0.32,\t'0:08:38', '0:00:19'],\n",
    "      [2,\t0.30,\t0.32,\t'0:08:32', '0:00:19'],    \n",
    "      [3,\t0.25,\t0.33,\t'0:08:32', '0:00:19'],   \n",
    "      [4,\t0.20,\t0.35,\t'0:08:26', '0:00:19'],    \n",
    "      [5,\t0.15,\t0.39,\t'0:08:28',' 0:00:19']] , \n",
    "      columns=['epoch','Training Loss', 'Valid. Loss', 'Training Time', 'Validation Time'])\n",
    "\n",
    "df_stats2 = df_stats2.set_index('epoch')\n",
    "df_stats2"
   ]
  },
  {
   "cell_type": "code",
   "execution_count": 152,
   "metadata": {
    "colab": {
     "base_uri": "https://localhost:8080/",
     "height": 427
    },
    "id": "KcTshopXkNOJ",
    "outputId": "234116ad-af02-456e-cc68-82ac46ed8c8c"
   },
   "outputs": [
    {
     "data": {
      "image/png": "[encoded data removed]",
      "text/plain": [
       "<Figure size 864x432 with 1 Axes>"
      ]
     },
     "metadata": {},
     "output_type": "display_data"
    }
   ],
   "source": [
    "# Use plot styling from seaborn.\n",
    "sns.set(style='darkgrid')\n",
    "\n",
    "# Increase the plot size and font size.\n",
    "sns.set(font_scale=1.5)\n",
    "plt.rcParams[\"figure.figsize\"] = (12,6)\n",
    "\n",
    "# Plot the learning curve.\n",
    "plt.plot(df_stats2['Training Loss'], 'b-o', label=\"Training\")\n",
    "plt.plot(df_stats2['Valid. Loss'], 'g-o', label=\"Validation\")\n",
    "\n",
    "# Label the plot.\n",
    "plt.title(\"Training & Validation Loss\")\n",
    "plt.xlabel(\"Epoch\")\n",
    "plt.ylabel(\"Loss\")\n",
    "plt.legend()\n",
    "plt.xticks([1, 2, 3, 4])\n",
    "\n",
    "plt.show()"
   ]
  },
  {
   "cell_type": "markdown",
   "metadata": {
    "id": "GfjYoa6WmkN6"
   },
   "source": [
    "# Display Model Info"
   ]
  },
  {
   "cell_type": "code",
   "execution_count": 197,
   "metadata": {
    "colab": {
     "base_uri": "https://localhost:8080/"
    },
    "id": "EQ4X-oZukWpH",
    "outputId": "136901d6-6197-4b5f-ca3f-74553c05ea59"
   },
   "outputs": [
    {
     "name": "stdout",
     "output_type": "stream",
     "text": [
      "The GPT-2 model has 148 different named parameters.\n",
      "\n",
      "==== Embedding Layer ====\n",
      "\n",
      "transformer.wte.weight                                  (50259, 768)\n",
      "transformer.wpe.weight                                   (1024, 768)\n",
      "\n",
      "==== First Transformer ====\n",
      "\n",
      "transformer.h.0.ln_1.weight                                   (768,)\n",
      "transformer.h.0.ln_1.bias                                     (768,)\n",
      "transformer.h.0.attn.c_attn.weight                       (768, 2304)\n",
      "transformer.h.0.attn.c_attn.bias                             (2304,)\n",
      "transformer.h.0.attn.c_proj.weight                        (768, 768)\n",
      "transformer.h.0.attn.c_proj.bias                              (768,)\n",
      "transformer.h.0.ln_2.weight                                   (768,)\n",
      "transformer.h.0.ln_2.bias                                     (768,)\n",
      "transformer.h.0.mlp.c_fc.weight                          (768, 3072)\n",
      "transformer.h.0.mlp.c_fc.bias                                (3072,)\n",
      "transformer.h.0.mlp.c_proj.weight                        (3072, 768)\n",
      "transformer.h.0.mlp.c_proj.bias                               (768,)\n",
      "\n",
      "==== Output Layer ====\n",
      "\n",
      "transformer.ln_f.weight                                       (768,)\n",
      "transformer.ln_f.bias                                         (768,)\n"
     ]
    }
   ],
   "source": [
    "# Get all of the model's parameters as a list of tuples.\n",
    "params = list(model.named_parameters())\n",
    "\n",
    "print('The GPT-2 model has {:} different named parameters.\\n'.format(len(params)))\n",
    "\n",
    "print('==== Embedding Layer ====\\n')\n",
    "\n",
    "for p in params[0:2]:\n",
    "    print(\"{:<55} {:>12}\".format(p[0], str(tuple(p[1].size()))))\n",
    "\n",
    "print('\\n==== First Transformer ====\\n')\n",
    "\n",
    "for p in params[2:14]:\n",
    "    print(\"{:<55} {:>12}\".format(p[0], str(tuple(p[1].size()))))\n",
    "\n",
    "print('\\n==== Output Layer ====\\n')\n",
    "\n",
    "for p in params[-2:]:\n",
    "    print(\"{:<55} {:>12}\".format(p[0], str(tuple(p[1].size()))))"
   ]
  },
  {
   "cell_type": "markdown",
   "metadata": {
    "id": "q2079Qyn8Mt8"
   },
   "source": [
    "# Saving & Loading Fine-Tuned Model\n"
   ]
  },
  {
   "cell_type": "code",
   "execution_count": 198,
   "metadata": {
    "id": "mA_7b69-k9pq"
   },
   "outputs": [],
   "source": [
    "!cd '/content/drive/MyDrive/Colab Notebooks/CS_505_PA7/'"
   ]
  },
  {
   "cell_type": "code",
   "execution_count": 199,
   "metadata": {
    "colab": {
     "base_uri": "https://localhost:8080/"
    },
    "id": "6ulTWaOr8QNY",
    "outputId": "522f3b0c-158a-4cc7-c207-8559e33a6e80"
   },
   "outputs": [
    {
     "name": "stdout",
     "output_type": "stream",
     "text": [
      "Saving model to /content/drive/MyDrive/Colab Notebooks/CS_505_PA7/sent_model_save/\n"
     ]
    },
    {
     "data": {
      "text/plain": [
       "('/content/drive/MyDrive/Colab Notebooks/CS_505_PA7/sent_model_save/tokenizer_config.json',\n",
       " '/content/drive/MyDrive/Colab Notebooks/CS_505_PA7/sent_model_save/special_tokens_map.json',\n",
       " '/content/drive/MyDrive/Colab Notebooks/CS_505_PA7/sent_model_save/vocab.json',\n",
       " '/content/drive/MyDrive/Colab Notebooks/CS_505_PA7/sent_model_save/merges.txt',\n",
       " '/content/drive/MyDrive/Colab Notebooks/CS_505_PA7/sent_model_save/added_tokens.json')"
      ]
     },
     "execution_count": 199,
     "metadata": {},
     "output_type": "execute_result"
    }
   ],
   "source": [
    "# Saving best-practices: if you use defaults names for the model, you can reload it using from_pretrained()\n",
    "\n",
    "output_dir = '/content/drive/MyDrive/Colab Notebooks/CS_505_PA7/sent_model_save/'\n",
    "\n",
    "# Create output directory if needed\n",
    "if not os.path.exists(output_dir):\n",
    "    os.makedirs(output_dir)\n",
    "\n",
    "# Copy the model files to a directory in your Google Drive.\n",
    "print(\"Saving model to %s\" % output_dir)\n",
    "\n",
    "# Save a trained model, configuration and tokenizer using `save_pretrained()`.\n",
    "# They can then be reloaded using `from_pretrained()`\n",
    "model_to_save = model.module if hasattr(model, 'module') else model  # Take care of distributed/parallel training\n",
    "model_to_save.save_pretrained(output_dir)\n",
    "tokenizer.save_pretrained(output_dir)\n",
    "\n",
    "# Good practice: save your training arguments together with the trained model\n",
    "# torch.save(args, os.path.join(output_dir, 'training_args.bin'))\n"
   ]
  },
  {
   "cell_type": "code",
   "execution_count": 200,
   "metadata": {
    "colab": {
     "base_uri": "https://localhost:8080/"
    },
    "id": "mqMzI3VTCZo5",
    "outputId": "e88b8634-2763-4230-fcad-9101782a3891"
   },
   "outputs": [
    {
     "name": "stdout",
     "output_type": "stream",
     "text": [
      "total 499868K\n",
      "-rw------- 1 root root      1K Dec 28 05:48 added_tokens.json\n",
      "-rw------- 1 root root      1K Dec 28 05:48 config.json\n",
      "-rw------- 1 root root    446K Dec 28 05:48 merges.txt\n",
      "-rw------- 1 root root 498442K Dec 28 05:48 pytorch_model.bin\n",
      "-rw------- 1 root root      1K Dec 28 05:48 special_tokens_map.json\n",
      "-rw------- 1 root root      1K Dec 28 05:48 tokenizer_config.json\n",
      "-rw------- 1 root root    976K Dec 28 05:48 vocab.json\n"
     ]
    }
   ],
   "source": [
    "!ls -l --block-size=K ./sent_model_save/"
   ]
  },
  {
   "cell_type": "code",
   "execution_count": 201,
   "metadata": {
    "colab": {
     "base_uri": "https://localhost:8080/"
    },
    "id": "-WUFUIQ8Cu8D",
    "outputId": "26698642-54f3-496b-db97-c188a277e213"
   },
   "outputs": [
    {
     "name": "stdout",
     "output_type": "stream",
     "text": [
      "-rw------- 1 root root 487M Dec 28 05:48 '/content/drive/My Drive/Colab Notebooks/CS_505_PA7/sent_model_save/pytorch_model.bin'\n"
     ]
    }
   ],
   "source": [
    "!ls -l --block-size=M /content/drive/My\\ Drive/Colab\\ Notebooks/CS_505_PA7/sent_model_save/pytorch_model.bin"
   ]
  },
  {
   "cell_type": "code",
   "execution_count": 202,
   "metadata": {
    "colab": {
     "base_uri": "https://localhost:8080/"
    },
    "id": "NxlZsafTC-V5",
    "outputId": "42235e83-3cbf-4195-f2af-05bfd77de732"
   },
   "outputs": [
    {
     "data": {
      "text/plain": [
       "GPT2LMHeadModel(\n",
       "  (transformer): GPT2Model(\n",
       "    (wte): Embedding(50259, 768)\n",
       "    (wpe): Embedding(1024, 768)\n",
       "    (drop): Dropout(p=0.1, inplace=False)\n",
       "    (h): ModuleList(\n",
       "      (0): GPT2Block(\n",
       "        (ln_1): LayerNorm((768,), eps=1e-05, elementwise_affine=True)\n",
       "        (attn): GPT2Attention(\n",
       "          (c_attn): Conv1D()\n",
       "          (c_proj): Conv1D()\n",
       "          (attn_dropout): Dropout(p=0.1, inplace=False)\n",
       "          (resid_dropout): Dropout(p=0.1, inplace=False)\n",
       "        )\n",
       "        (ln_2): LayerNorm((768,), eps=1e-05, elementwise_affine=True)\n",
       "        (mlp): GPT2MLP(\n",
       "          (c_fc): Conv1D()\n",
       "          (c_proj): Conv1D()\n",
       "          (act): NewGELUActivation()\n",
       "          (dropout): Dropout(p=0.1, inplace=False)\n",
       "        )\n",
       "      )\n",
       "      (1): GPT2Block(\n",
       "        (ln_1): LayerNorm((768,), eps=1e-05, elementwise_affine=True)\n",
       "        (attn): GPT2Attention(\n",
       "          (c_attn): Conv1D()\n",
       "          (c_proj): Conv1D()\n",
       "          (attn_dropout): Dropout(p=0.1, inplace=False)\n",
       "          (resid_dropout): Dropout(p=0.1, inplace=False)\n",
       "        )\n",
       "        (ln_2): LayerNorm((768,), eps=1e-05, elementwise_affine=True)\n",
       "        (mlp): GPT2MLP(\n",
       "          (c_fc): Conv1D()\n",
       "          (c_proj): Conv1D()\n",
       "          (act): NewGELUActivation()\n",
       "          (dropout): Dropout(p=0.1, inplace=False)\n",
       "        )\n",
       "      )\n",
       "      (2): GPT2Block(\n",
       "        (ln_1): LayerNorm((768,), eps=1e-05, elementwise_affine=True)\n",
       "        (attn): GPT2Attention(\n",
       "          (c_attn): Conv1D()\n",
       "          (c_proj): Conv1D()\n",
       "          (attn_dropout): Dropout(p=0.1, inplace=False)\n",
       "          (resid_dropout): Dropout(p=0.1, inplace=False)\n",
       "        )\n",
       "        (ln_2): LayerNorm((768,), eps=1e-05, elementwise_affine=True)\n",
       "        (mlp): GPT2MLP(\n",
       "          (c_fc): Conv1D()\n",
       "          (c_proj): Conv1D()\n",
       "          (act): NewGELUActivation()\n",
       "          (dropout): Dropout(p=0.1, inplace=False)\n",
       "        )\n",
       "      )\n",
       "      (3): GPT2Block(\n",
       "        (ln_1): LayerNorm((768,), eps=1e-05, elementwise_affine=True)\n",
       "        (attn): GPT2Attention(\n",
       "          (c_attn): Conv1D()\n",
       "          (c_proj): Conv1D()\n",
       "          (attn_dropout): Dropout(p=0.1, inplace=False)\n",
       "          (resid_dropout): Dropout(p=0.1, inplace=False)\n",
       "        )\n",
       "        (ln_2): LayerNorm((768,), eps=1e-05, elementwise_affine=True)\n",
       "        (mlp): GPT2MLP(\n",
       "          (c_fc): Conv1D()\n",
       "          (c_proj): Conv1D()\n",
       "          (act): NewGELUActivation()\n",
       "          (dropout): Dropout(p=0.1, inplace=False)\n",
       "        )\n",
       "      )\n",
       "      (4): GPT2Block(\n",
       "        (ln_1): LayerNorm((768,), eps=1e-05, elementwise_affine=True)\n",
       "        (attn): GPT2Attention(\n",
       "          (c_attn): Conv1D()\n",
       "          (c_proj): Conv1D()\n",
       "          (attn_dropout): Dropout(p=0.1, inplace=False)\n",
       "          (resid_dropout): Dropout(p=0.1, inplace=False)\n",
       "        )\n",
       "        (ln_2): LayerNorm((768,), eps=1e-05, elementwise_affine=True)\n",
       "        (mlp): GPT2MLP(\n",
       "          (c_fc): Conv1D()\n",
       "          (c_proj): Conv1D()\n",
       "          (act): NewGELUActivation()\n",
       "          (dropout): Dropout(p=0.1, inplace=False)\n",
       "        )\n",
       "      )\n",
       "      (5): GPT2Block(\n",
       "        (ln_1): LayerNorm((768,), eps=1e-05, elementwise_affine=True)\n",
       "        (attn): GPT2Attention(\n",
       "          (c_attn): Conv1D()\n",
       "          (c_proj): Conv1D()\n",
       "          (attn_dropout): Dropout(p=0.1, inplace=False)\n",
       "          (resid_dropout): Dropout(p=0.1, inplace=False)\n",
       "        )\n",
       "        (ln_2): LayerNorm((768,), eps=1e-05, elementwise_affine=True)\n",
       "        (mlp): GPT2MLP(\n",
       "          (c_fc): Conv1D()\n",
       "          (c_proj): Conv1D()\n",
       "          (act): NewGELUActivation()\n",
       "          (dropout): Dropout(p=0.1, inplace=False)\n",
       "        )\n",
       "      )\n",
       "      (6): GPT2Block(\n",
       "        (ln_1): LayerNorm((768,), eps=1e-05, elementwise_affine=True)\n",
       "        (attn): GPT2Attention(\n",
       "          (c_attn): Conv1D()\n",
       "          (c_proj): Conv1D()\n",
       "          (attn_dropout): Dropout(p=0.1, inplace=False)\n",
       "          (resid_dropout): Dropout(p=0.1, inplace=False)\n",
       "        )\n",
       "        (ln_2): LayerNorm((768,), eps=1e-05, elementwise_affine=True)\n",
       "        (mlp): GPT2MLP(\n",
       "          (c_fc): Conv1D()\n",
       "          (c_proj): Conv1D()\n",
       "          (act): NewGELUActivation()\n",
       "          (dropout): Dropout(p=0.1, inplace=False)\n",
       "        )\n",
       "      )\n",
       "      (7): GPT2Block(\n",
       "        (ln_1): LayerNorm((768,), eps=1e-05, elementwise_affine=True)\n",
       "        (attn): GPT2Attention(\n",
       "          (c_attn): Conv1D()\n",
       "          (c_proj): Conv1D()\n",
       "          (attn_dropout): Dropout(p=0.1, inplace=False)\n",
       "          (resid_dropout): Dropout(p=0.1, inplace=False)\n",
       "        )\n",
       "        (ln_2): LayerNorm((768,), eps=1e-05, elementwise_affine=True)\n",
       "        (mlp): GPT2MLP(\n",
       "          (c_fc): Conv1D()\n",
       "          (c_proj): Conv1D()\n",
       "          (act): NewGELUActivation()\n",
       "          (dropout): Dropout(p=0.1, inplace=False)\n",
       "        )\n",
       "      )\n",
       "      (8): GPT2Block(\n",
       "        (ln_1): LayerNorm((768,), eps=1e-05, elementwise_affine=True)\n",
       "        (attn): GPT2Attention(\n",
       "          (c_attn): Conv1D()\n",
       "          (c_proj): Conv1D()\n",
       "          (attn_dropout): Dropout(p=0.1, inplace=False)\n",
       "          (resid_dropout): Dropout(p=0.1, inplace=False)\n",
       "        )\n",
       "        (ln_2): LayerNorm((768,), eps=1e-05, elementwise_affine=True)\n",
       "        (mlp): GPT2MLP(\n",
       "          (c_fc): Conv1D()\n",
       "          (c_proj): Conv1D()\n",
       "          (act): NewGELUActivation()\n",
       "          (dropout): Dropout(p=0.1, inplace=False)\n",
       "        )\n",
       "      )\n",
       "      (9): GPT2Block(\n",
       "        (ln_1): LayerNorm((768,), eps=1e-05, elementwise_affine=True)\n",
       "        (attn): GPT2Attention(\n",
       "          (c_attn): Conv1D()\n",
       "          (c_proj): Conv1D()\n",
       "          (attn_dropout): Dropout(p=0.1, inplace=False)\n",
       "          (resid_dropout): Dropout(p=0.1, inplace=False)\n",
       "        )\n",
       "        (ln_2): LayerNorm((768,), eps=1e-05, elementwise_affine=True)\n",
       "        (mlp): GPT2MLP(\n",
       "          (c_fc): Conv1D()\n",
       "          (c_proj): Conv1D()\n",
       "          (act): NewGELUActivation()\n",
       "          (dropout): Dropout(p=0.1, inplace=False)\n",
       "        )\n",
       "      )\n",
       "      (10): GPT2Block(\n",
       "        (ln_1): LayerNorm((768,), eps=1e-05, elementwise_affine=True)\n",
       "        (attn): GPT2Attention(\n",
       "          (c_attn): Conv1D()\n",
       "          (c_proj): Conv1D()\n",
       "          (attn_dropout): Dropout(p=0.1, inplace=False)\n",
       "          (resid_dropout): Dropout(p=0.1, inplace=False)\n",
       "        )\n",
       "        (ln_2): LayerNorm((768,), eps=1e-05, elementwise_affine=True)\n",
       "        (mlp): GPT2MLP(\n",
       "          (c_fc): Conv1D()\n",
       "          (c_proj): Conv1D()\n",
       "          (act): NewGELUActivation()\n",
       "          (dropout): Dropout(p=0.1, inplace=False)\n",
       "        )\n",
       "      )\n",
       "      (11): GPT2Block(\n",
       "        (ln_1): LayerNorm((768,), eps=1e-05, elementwise_affine=True)\n",
       "        (attn): GPT2Attention(\n",
       "          (c_attn): Conv1D()\n",
       "          (c_proj): Conv1D()\n",
       "          (attn_dropout): Dropout(p=0.1, inplace=False)\n",
       "          (resid_dropout): Dropout(p=0.1, inplace=False)\n",
       "        )\n",
       "        (ln_2): LayerNorm((768,), eps=1e-05, elementwise_affine=True)\n",
       "        (mlp): GPT2MLP(\n",
       "          (c_fc): Conv1D()\n",
       "          (c_proj): Conv1D()\n",
       "          (act): NewGELUActivation()\n",
       "          (dropout): Dropout(p=0.1, inplace=False)\n",
       "        )\n",
       "      )\n",
       "    )\n",
       "    (ln_f): LayerNorm((768,), eps=1e-05, elementwise_affine=True)\n",
       "  )\n",
       "  (lm_head): Linear(in_features=768, out_features=50259, bias=False)\n",
       ")"
      ]
     },
     "execution_count": 202,
     "metadata": {},
     "output_type": "execute_result"
    }
   ],
   "source": [
    "# Load a trained model and vocabulary that you have fine-tuned\n",
    "model = GPT2LMHeadModel.from_pretrained(output_dir)\n",
    "tokenizer = GPT2Tokenizer.from_pretrained(output_dir)\n",
    "model.to(device)"
   ]
  },
  {
   "cell_type": "markdown",
   "metadata": {
    "id": "ZLf6rbRglYhQ"
   },
   "source": [
    "# Generate Text"
   ]
  },
  {
   "cell_type": "markdown",
   "metadata": {
    "id": "YVNk0HBWSQ8m"
   },
   "source": [
    "### Sentence trained version"
   ]
  },
  {
   "cell_type": "code",
   "execution_count": 203,
   "metadata": {
    "colab": {
     "base_uri": "https://localhost:8080/"
    },
    "id": "FyR-1_oWR_YU",
    "outputId": "e94c8cd8-7603-4811-b084-f085d3ca5888"
   },
   "outputs": [
    {
     "name": "stdout",
     "output_type": "stream",
     "text": [
      "tensor([[50257]], device='cuda:0')\n",
      "0: \" yes, very agreeable. \" \n",
      "\n",
      "\n",
      "1: \" yes, sir. \" \n",
      "\n",
      "\n",
      "2: \" i have written to colonel forster to desire him to find out, if possible, from some of the young man's intimates in the regiment, whether wickham has any relations or connections who would be likely to know in what part of town he has now concealed himself. if there were anyone that one could apply to with a probability of gaining such a clue as that, it might be of essential consequence. at present we have nothing to guide us. colonel forster will, i dare say, do everything in his power to satisfy us on this head. \n",
      "\n",
      "\n"
     ]
    }
   ],
   "source": [
    "model.eval()\n",
    "\n",
    "prompt = \"<|startoftext|>\"\n",
    "\n",
    "generated = torch.tensor(tokenizer.encode(prompt)).unsqueeze(0)\n",
    "generated = generated.to(device)\n",
    "\n",
    "print(generated)\n",
    "\n",
    "sample_outputs = model.generate(\n",
    "                                generated, \n",
    "                                bos_token_id=random.randint(1,30000),\n",
    "                                do_sample=True,   \n",
    "                                top_k=50, \n",
    "                                max_length = 300,\n",
    "                                top_p=0.95, \n",
    "                                num_return_sequences=3\n",
    "                                )\n",
    "\n",
    "for i, sample_output in enumerate(sample_outputs):\n",
    "  print(\"{}: {}\\n\\n\".format(i, tokenizer.decode(sample_output, skip_special_tokens=True)))"
   ]
  },
  {
   "cell_type": "markdown",
   "metadata": {
    "id": "dnne9EO7SU0j"
   },
   "source": [
    "### Newline break out of text"
   ]
  },
  {
   "cell_type": "code",
   "execution_count": 163,
   "metadata": {
    "colab": {
     "base_uri": "https://localhost:8080/"
    },
    "id": "v4XhewaV93-_",
    "outputId": "6126654a-f094-467d-b459-1302d7db51d4"
   },
   "outputs": [
    {
     "name": "stdout",
     "output_type": "stream",
     "text": [
      "tensor([[50257]], device='cuda:0')\n",
      "0: Jane soon had enough to say in her answer.\n",
      "\n",
      "\n",
      "1: Elizabeth assured her with real sorrow that she was. \"I could not bear to think her mother's ill; but there were two or three tears in the room upstairs.\"\n",
      "\n",
      "\n",
      "2: Mr. Bennet, though disconcerted by her approach, and unwilling to give her a formal answer, said very stiffly:\n",
      "\n",
      "\n"
     ]
    }
   ],
   "source": [
    "model.eval()\n",
    "\n",
    "prompt = \"<|startoftext|>\"\n",
    "\n",
    "generated = torch.tensor(tokenizer.encode(prompt)).unsqueeze(0)\n",
    "generated = generated.to(device)\n",
    "\n",
    "print(generated)\n",
    "\n",
    "sample_outputs = model.generate(\n",
    "                                generated, \n",
    "                                bos_token_id=random.randint(1,30000),\n",
    "                                do_sample=True,   \n",
    "                                top_k=50, \n",
    "                                max_length = 300,\n",
    "                                top_p=0.95, \n",
    "                                num_return_sequences=3\n",
    "                                )\n",
    "\n",
    "for i, sample_output in enumerate(sample_outputs):\n",
    "  print(\"{}: {}\\n\\n\".format(i, tokenizer.decode(sample_output, skip_special_tokens=True)))"
   ]
  },
  {
   "cell_type": "markdown",
   "metadata": {
    "id": "t4LrX5H-0nAU"
   },
   "source": [
    "These aren't bad at all! Now train the model on your chosen raw text that is roughly comparable in size to pride and prejudice. \n",
    "\n",
    "(5 pts) Draw a figure for tracking train and validation losses. \n",
    "\n",
    "(5 pts) Print out some sample text from your chosen data and report 10 example generations that you think are interesting! Do your examples look like your training text?\n"
   ]
  },
  {
   "cell_type": "markdown",
   "metadata": {
    "id": "Hw2NP8fbwsDk"
   },
   "source": [
    "##MY ANSWER\n",
    "\n",
    "Using the Game of Thrones script, I selected a small section of the first episodes which was about the same size as pride and prejudice. "
   ]
  },
  {
   "cell_type": "code",
   "execution_count": 16,
   "metadata": {
    "colab": {
     "base_uri": "https://localhost:8080/"
    },
    "id": "Z_UDSUe4DSTx",
    "outputId": "f90c212a-9ccf-442a-d19e-3df84b2487e0"
   },
   "outputs": [
    {
     "name": "stdout",
     "output_type": "stream",
     "text": [
      "['It is a truth universally acknowledged, that a single man in possession of a good fortune, must be in want of a wife.', 'However little known the feelings or views of such a man may be on his first entering a neighbourhood, this truth is so well fixed in the minds of the surrounding families, that he is considered the rightful property of some one or other of their daughters.', '\"My dear Mr. Bennet,\" said his lady to him one day, \"have you heard that Netherfield Park is let at last?\"', 'Mr. Bennet replied that he had not.', '\"But it is,\" returned she; \"for Mrs. Long has just been here, and she told me all about it.\"']\n",
      "[\"What do you expect? They're savages. One lot steals a goat from another lot and before you know it, they're ripping each other to pieces.\", \"I've never seen wildlings do a thing like this. I've never seen a thing like this, not ever in my life.\", 'How close did you get?', 'Close as any man would.', 'We should head back to the wall.']\n"
     ]
    },
    {
     "data": {
      "text/plain": "2063"
     },
     "execution_count": 16,
     "metadata": {},
     "output_type": "execute_result"
    }
   ],
   "source": [
    "# files = filename=['/content/drive/MyDrive/Colab Notebooks/CS_505_PA7/prideAndPrejudice.txt',\n",
    "#                   '/content/drive/MyDrive/Colab Notebooks/CS_505_PA7/Game_of_Thrones_Script_new.csv'\n",
    "files = filename=['./prideAndPrejudice.txt',\n",
    "                  './Game_of_Thrones_Script_new.csv'\n",
    "                  ]\n",
    "files[1]\n",
    "\n",
    "# docs= read_docs(files,0,True)\n",
    "got_docs= read_docs(files,1,False)\n",
    "got_docs= got_docs[:len(docs)]\n",
    "\n",
    "len(got_docs)"
   ]
  },
  {
   "cell_type": "code",
   "execution_count": 17,
   "metadata": {
    "colab": {
     "base_uri": "https://localhost:8080/",
     "height": 441
    },
    "id": "pDidjgnKTLqS",
    "outputId": "f3de41c3-c7a4-41aa-8c5d-8f8dc3c8bd82"
   },
   "outputs": [
    {
     "name": "stderr",
     "output_type": "stream",
     "text": [
      "/var/folders/r3/znh92ysd4vbgxhnfwfl_c0lr0000gn/T/ipykernel_12356/3412140581.py:26: UserWarning: \n",
      "\n",
      "`distplot` is a deprecated function and will be removed in seaborn v0.14.0.\n",
      "\n",
      "Please adapt your code to use either `displot` (a figure-level function with\n",
      "similar flexibility) or `histplot` (an axes-level function for histograms).\n",
      "\n",
      "For a guide to updating your code to use the new functions, please see\n",
      "https://gist.github.com/mwaskom/de44147ed2974457ad6372750bbe5751\n",
      "\n",
      "  sns.distplot(doc_lengths)\n"
     ]
    },
    {
     "data": {
      "text/plain": "<Figure size 640x480 with 1 Axes>",
      "image/png": "[encoded data removed]"
     },
     "metadata": {},
     "output_type": "display_data"
    }
   ],
   "source": [
    "\n",
    "got_doc_lengths = density_plot(got_docs)\n",
    "# getty_doc_lengths = density_plot(getty_docs)"
   ]
  },
  {
   "cell_type": "code",
   "execution_count": 18,
   "metadata": {
    "colab": {
     "base_uri": "https://localhost:8080/"
    },
    "id": "Rmq38y-eTsCZ",
    "outputId": "923fbb6b-78d3-4a59-be9a-ec5878928962"
   },
   "outputs": [
    {
     "name": "stdout",
     "output_type": "stream",
     "text": [
      "Max token length greater than 768: 0.0, \n",
      "average length of sentence: 15.652932622394571\n"
     ]
    }
   ],
   "source": [
    "print(f'Max token length greater than 768: {len(got_doc_lengths[got_doc_lengths > 768])/len(got_doc_lengths)}, \\naverage length of sentence: {np.average(got_doc_lengths)}')"
   ]
  },
  {
   "cell_type": "code",
   "execution_count": 19,
   "metadata": {
    "colab": {
     "base_uri": "https://localhost:8080/"
    },
    "id": "MbfoZ1E3UzDQ",
    "outputId": "c7ef685c-5892-46f2-813d-1d790a709579"
   },
   "outputs": [
    {
     "name": "stderr",
     "output_type": "stream",
     "text": [
      "Special tokens have been added in the vocabulary, make sure the associated word embeddings are fine-tuned or trained.\n"
     ]
    }
   ],
   "source": [
    "# Load the GPT tokenizer.\n",
    "tokenizer = GPT2Tokenizer.from_pretrained('gpt2', bos_token='<|startoftext|>', eos_token='<|endoftext|>', pad_token='<|pad|>') #gpt2-medium"
   ]
  },
  {
   "cell_type": "code",
   "execution_count": 20,
   "metadata": {
    "colab": {
     "base_uri": "https://localhost:8080/"
    },
    "id": "1Hlqxl2cU5bs",
    "outputId": "0df0722b-f989-42d6-f4ac-5e846f3cf962"
   },
   "outputs": [
    {
     "name": "stdout",
     "output_type": "stream",
     "text": [
      "The max model length is 1024 for this model, although the actual embedding size for GPT small is 768\n",
      "The beginning of sequence token <|startoftext|> token has the id 50257\n",
      "The end of sequence token <|endoftext|> has the id 50256\n",
      "The padding token <|pad|> has the id 50258\n"
     ]
    }
   ],
   "source": [
    "print(\"The max model length is {} for this model, although the actual embedding size for GPT small is 768\".format(tokenizer.model_max_length))\n",
    "print(\"The beginning of sequence token {} token has the id {}\".format(tokenizer.convert_ids_to_tokens(tokenizer.bos_token_id), tokenizer.bos_token_id))\n",
    "print(\"The end of sequence token {} has the id {}\".format(tokenizer.convert_ids_to_tokens(tokenizer.eos_token_id), tokenizer.eos_token_id))\n",
    "print(\"The padding token {} has the id {}\".format(tokenizer.convert_ids_to_tokens(tokenizer.pad_token_id), tokenizer.pad_token_id))"
   ]
  },
  {
   "cell_type": "code",
   "execution_count": 21,
   "metadata": {
    "colab": {
     "base_uri": "https://localhost:8080/"
    },
    "id": "H-RquWRqU8_6",
    "outputId": "0c82616a-8a92-4ccf-bd17-160b930a13d5"
   },
   "outputs": [
    {
     "name": "stdout",
     "output_type": "stream",
     "text": [
      "1,856 training samples\n",
      "  207 validation samples\n"
     ]
    }
   ],
   "source": [
    "# Create new data loaders\n",
    "batch_size = 2\n",
    "\n",
    "dataset = GPT2Dataset(got_docs, tokenizer, max_length=768)\n",
    "\n",
    "# Split into training and validation sets\n",
    "train_size = int(0.9 * len(dataset))\n",
    "val_size = len(dataset) - train_size\n",
    "\n",
    "train_dataset, val_dataset = random_split(dataset, [train_size, val_size])\n",
    "\n",
    "print('{:>5,} training samples'.format(train_size))\n",
    "print('{:>5,} validation samples'.format(val_size))"
   ]
  },
  {
   "cell_type": "code",
   "execution_count": 22,
   "metadata": {
    "id": "F6Jg-prtV2le"
   },
   "outputs": [],
   "source": [
    "# Create the DataLoaders for our training and validation datasets.\n",
    "# We'll take training samples in random order. \n",
    "train_dataloader = DataLoader(\n",
    "            train_dataset,  # The training samples.\n",
    "            sampler = RandomSampler(train_dataset), # Select batches randomly\n",
    "            batch_size = batch_size # Trains with this batch size.\n",
    "        )\n",
    "\n",
    "# For validation the order doesn't matter, so we'll just read them sequentially.\n",
    "validation_dataloader = DataLoader(\n",
    "            val_dataset, # The validation samples.\n",
    "            sampler = SequentialSampler(val_dataset), # Pull out batches sequentially.\n",
    "            batch_size = batch_size # Evaluate with this batch size.\n",
    "        )"
   ]
  },
  {
   "cell_type": "code",
   "execution_count": 23,
   "metadata": {
    "id": "Fxd6F3gyV7vC"
   },
   "outputs": [],
   "source": [
    "# I'm not really doing anything with the config buheret\n",
    "configuration = GPT2Config.from_pretrained('gpt2', output_hidden_states=False, pad_token_id=tokenizer.pad_token_id )\n",
    "\n",
    "# instantiate the model\n",
    "model = GPT2LMHeadModel.from_pretrained(\"gpt2\", config=configuration)\n",
    "\n",
    "# this step is necessary because I've added some tokens (bos_token, etc) to the embeddings\n",
    "# otherwise the tokenizer and model tensors won't match up\n",
    "model.resize_token_embeddings(len(tokenizer))\n",
    "\n",
    "# Tell pytorch to run this model on the GPU.\n",
    "# device = torch.device(\"cuda\")\n",
    "# model.cuda()\n",
    "model #.to(device)\n",
    "\n",
    "# Set the seed value all over the place to make this reproducible.\n",
    "seed_val = 42\n",
    "\n",
    "random.seed(seed_val)\n",
    "np.random.seed(seed_val)\n",
    "torch.manual_seed(seed_val)\n",
    "torch.cuda.manual_seed_all(seed_val)"
   ]
  },
  {
   "cell_type": "code",
   "execution_count": 24,
   "metadata": {
    "id": "8JjeUWocWCFp"
   },
   "outputs": [
    {
     "name": "stderr",
     "output_type": "stream",
     "text": [
      "/Users/mwh/PycharmProjects/pythonProject/venv/lib/python3.9/site-packages/transformers/optimization.py:306: FutureWarning: This implementation of AdamW is deprecated and will be removed in a future version. Use the PyTorch implementation torch.optim.AdamW instead, or set `no_deprecation_warning=True` to disable this warning\n",
      "  warnings.warn(\n"
     ]
    }
   ],
   "source": [
    "# some parameters I cooked up that work reasonably well\n",
    "\n",
    "epochs = 5\n",
    "learning_rate = 5e-4\n",
    "warmup_steps = 1e2\n",
    "epsilon = 1e-8\n",
    "\n",
    "# this produces sample output every 100 steps\n",
    "sample_every = 100\n",
    "\n",
    "optimizer = AdamW(model.parameters(),\n",
    "                  lr = learning_rate,\n",
    "                  eps = epsilon\n",
    "                )\n",
    "\n",
    "# Total number of training steps is [number of batches] x [number of epochs]. \n",
    "# (Note that this is not the same as the number of training samples).\n",
    "total_steps = len(train_dataloader) * epochs\n",
    "\n",
    "# Create the learning rate scheduler.\n",
    "# This changes the learning rate as the training loop progresses\n",
    "scheduler = get_linear_schedule_with_warmup(optimizer, \n",
    "                                            num_warmup_steps = warmup_steps, \n",
    "                                            num_training_steps = total_steps)"
   ]
  },
  {
   "cell_type": "code",
   "execution_count": 25,
   "metadata": {
    "colab": {
     "base_uri": "https://localhost:8080/"
    },
    "id": "WoIKq1TiWQL_",
    "outputId": "a31aac5f-7c6c-4998-dc3a-ec6c374656db"
   },
   "outputs": [
    {
     "name": "stdout",
     "output_type": "stream",
     "text": [
      "\n",
      "======== Epoch 1 / 5 ========\n",
      "Training...\n",
      "  Batch   100  of    928. Loss: 0.045271921902894974.   Elapsed: 0:05:02.\n",
      "0:  bipartisanThe law of it will make all of the people, at the law of your husband. I know that I am talking about one thing.\n",
      "  Batch   200  of    928. Loss: 0.07716172933578491.   Elapsed: 0:10:03.\n",
      "0:  increasingThe title of this council is me, my father is going to have a family... A boy! You're a family.\n",
      "  Batch   300  of    928. Loss: 0.08584555238485336.   Elapsed: 0:15:03.\n",
      "0: dayAye.\n",
      "  Batch   400  of    928. Loss: 0.6756883263587952.   Elapsed: 0:20:03.\n",
      "0:  HangYou're doing great work, Ben.\n",
      "  Batch   500  of    928. Loss: 0.2853453755378723.   Elapsed: 0:25:04.\n",
      "0:  foodsArya.\n",
      "  Batch   600  of    928. Loss: 0.1586478352546692.   Elapsed: 0:30:04.\n",
      "0:  trailIf you're with the Kings - and what is the meaning of the last line?\n",
      "  Batch   700  of    928. Loss: 0.11679034680128098.   Elapsed: 0:35:04.\n",
      "0: intendAnd I know not.\n",
      "  Batch   800  of    928. Loss: 0.0815797820687294.   Elapsed: 0:40:04.\n",
      "0:  surroundThis is not the King. My sister is not a slave.\n",
      "  Batch   900  of    928. Loss: 0.15475915372371674.   Elapsed: 0:45:03.\n",
      "0:  reflexWell, I'm sorry about that. I was taken in by Lady Stark. I'm sure I was always a pretty girl with tits and tits and lots of holes and big tits and lots of big tits and big tits to accommodate you all. My mother was never able to accommodate his size. What I am telling you is not a bit of cock but an almost belly?\n",
      "\n",
      "  Average training loss: 0.17\n",
      "  Training epoch took: 0:46:28\n",
      "\n",
      "Running Validation...\n",
      "  Validation Loss: 0.07\n",
      "  Validation took: 0:01:21\n",
      "\n",
      "======== Epoch 2 / 5 ========\n",
      "Training...\n",
      "  Batch   100  of    928. Loss: 0.03519320487976074.   Elapsed: 0:05:01.\n",
      "0:  displayThe Hand was also brought to life, your Grace, by Lord Stark, the last of the Hand's great thieves, Robert Baratheon, the last of his own sons and daughters. The Hand came to visit your father on your behalf, but now it is the day he died...\n",
      "  Batch   200  of    928. Loss: 0.22139136493206024.   Elapsed: 0:10:02.\n",
      "0:  pastorAll the people who were fighting for you.\n",
      "  Batch   300  of    928. Loss: 0.09914465993642807.   Elapsed: 0:15:01.\n",
      "0:  illicitArya, please don't.\n",
      "  Batch   400  of    928. Loss: 0.05657783895730972.   Elapsed: 0:20:00.\n",
      "0:  LiberationDo you know why the people chose you?\n",
      "  Batch   500  of    928. Loss: 0.02748161181807518.   Elapsed: 0:24:58.\n",
      "0:  NamThis is what you've done, my lord. You've been too stupid to understand and you still aren't sure if you want your father back now.\n",
      "  Batch   600  of    928. Loss: 0.05111237242817879.   Elapsed: 0:29:57.\n",
      "0: IONThe queen has turned her face into a lion.\n",
      "  Batch   700  of    928. Loss: 0.08841230720281601.   Elapsed: 0:34:55.\n",
      "0:  glimpseIt's not like that.\n",
      "  Batch   800  of    928. Loss: 0.0559534914791584.   Elapsed: 0:39:54.\n",
      "0:  LaureIt was a wild affair. But you'd never walk again.\n",
      "  Batch   900  of    928. Loss: 0.08242017775774002.   Elapsed: 0:44:53.\n",
      "0: ismYou have my blood. I'm the King's Hand. Now you want me to murder my son, Ned. We need to talk.\n",
      "\n",
      "  Average training loss: 0.07\n",
      "  Training epoch took: 0:46:15\n",
      "\n",
      "Running Validation...\n",
      "  Validation Loss: 0.08\n",
      "  Validation took: 0:01:21\n",
      "\n",
      "======== Epoch 3 / 5 ========\n",
      "Training...\n",
      "  Batch   100  of    928. Loss: 0.059403881430625916.   Elapsed: 0:05:01.\n",
      "0: ounOh, wait. What are you doing here?\n",
      "  Batch   200  of    928. Loss: 0.05381014943122864.   Elapsed: 0:10:00.\n",
      "0:  electionI hear so.\n",
      "  Batch   300  of    928. Loss: 0.027708204463124275.   Elapsed: 0:14:58.\n",
      "0:  crazyI've been practicing a lot over there since you last saw me. You said you were being good.\n",
      "  Batch   400  of    928. Loss: 0.10373298823833466.   Elapsed: 0:19:58.\n",
      "0:  benchWhat?\n",
      "  Batch   500  of    928. Loss: 0.0818726196885109.   Elapsed: 0:24:58.\n",
      "0:  incorporatedThe city is full.\n",
      "  Batch   600  of    928. Loss: 0.028487134724855423.   Elapsed: 0:29:57.\n",
      "0: PeterMy dear lord, my Lady. Your sister will be having a visit. I beg you, Lady Stark, to help me with my travel.\n",
      "  Batch   700  of    928. Loss: 0.0277921911329031.   Elapsed: 0:34:55.\n",
      "0: uringWe'll make it happen.\n",
      "  Batch   800  of    928. Loss: 0.056804705411195755.   Elapsed: 0:39:51.\n",
      "0:  reproductiveNot enough of this! I'm not your boy anymore! Go on! Put the blade on me! Keep practicing! You're starting to get tired. That wasn't the summer! That wasn't summer. I was coming to see my father.\n",
      "  Batch   900  of    928. Loss: 0.11826629936695099.   Elapsed: 0:44:48.\n",
      "0:  zoneAnd what if he's wrong? We're not speaking of Ser Gregor...\n",
      "\n",
      "  Average training loss: 0.06\n",
      "  Training epoch took: 0:46:11\n",
      "\n",
      "Running Validation...\n",
      "  Validation Loss: 0.08\n",
      "  Validation took: 0:01:21\n",
      "\n",
      "======== Epoch 4 / 5 ========\n",
      "Training...\n",
      "  Batch   100  of    928. Loss: 0.016102053225040436.   Elapsed: 0:04:59.\n",
      "0:  commitsI don't trust them to do it. I trust them to do it.\n",
      "  Batch   200  of    928. Loss: 0.0271990355104208.   Elapsed: 0:10:00.\n",
      "0:  ironyHe still likes to do that when you're looking for a match with a girl.\n",
      "  Batch   300  of    928. Loss: 0.047344133257865906.   Elapsed: 0:15:02.\n",
      "0:  SahI have been practicing this for a month.\n",
      "  Batch   400  of    928. Loss: 0.046613361686468124.   Elapsed: 0:20:08.\n",
      "0:  BryanOh, your Grace, how much did Jon Arryn drink?\n",
      "  Batch   500  of    928. Loss: 0.03171553835272789.   Elapsed: 0:25:10.\n",
      "0:  spiritsOh, we have three stables. Fifty thousand barrels of ale from these barrels of ale from the Riverlands. I demand that you deliver these barrels to me.\n",
      "  Batch   600  of    928. Loss: 0.013965717516839504.   Elapsed: 0:30:13.\n",
      "0:  seesI'm not thirsty.\n",
      "  Batch   700  of    928. Loss: 0.03893030062317848.   Elapsed: 0:35:11.\n",
      "0:  hungryIf not, your Grace. Magister Illyrio will let us both go. I hear it concerns us, my Lord. Everyman is as much concerned with our health and safety as they are with their lives. Now here we sit, seventeen years later, holding still.\n",
      "  Batch   800  of    928. Loss: 0.04132451117038727.   Elapsed: 0:40:06.\n",
      "0:  PTI want them all dead. I want them all to go away. I can't stand the wailing of women.\n",
      "  Batch   900  of    928. Loss: 0.018708471208810806.   Elapsed: 0:45:04.\n",
      "0: üI'm not here to give you back your homes or restore your dead to life.\n",
      "\n",
      "  Average training loss: 0.04\n",
      "  Training epoch took: 0:46:26\n",
      "\n",
      "Running Validation...\n",
      "  Validation Loss: 0.09\n",
      "  Validation took: 0:01:20\n",
      "\n",
      "======== Epoch 5 / 5 ========\n",
      "Training...\n",
      "  Batch   100  of    928. Loss: 0.049612198024988174.   Elapsed: 0:05:00.\n",
      "0: ruceI saw them. The Imp was crazed with the wolves.\n",
      "  Batch   200  of    928. Loss: 0.02649920992553234.   Elapsed: 0:09:57.\n",
      "0:  derivativesThis tournament is called Needle. And we carry a token of his esteem from Lord Stark.\n",
      "  Batch   300  of    928. Loss: 0.03052724152803421.   Elapsed: 0:14:53.\n",
      "0: \u0019The King rides well.\n",
      "  Batch   400  of    928. Loss: 0.04616786539554596.   Elapsed: 0:19:48.\n",
      "0:  rememberingI didn't touch a thing for three years, Lord. But now I'm going to get a hold of some of his men and start breeding.\n",
      "  Batch   500  of    928. Loss: 0.029593873769044876.   Elapsed: 0:24:42.\n",
      "0:  SourcesAye.\n",
      "  Batch   600  of    928. Loss: 0.035066619515419006.   Elapsed: 0:29:37.\n",
      "0: emsI'm speaking of myself.\n",
      "  Batch   700  of    928. Loss: 0.02663484588265419.   Elapsed: 0:34:32.\n",
      "0: tzI was taken at my command to answer for what I had done to Joffrey. When I was brought before the King and Queen, my father asked me to do what he asked. I told him I wanted to do what I could. He asked me to do what I wanted, which I very much did.\n",
      "  Batch   800  of    928. Loss: 0.01767195202410221.   Elapsed: 0:39:29.\n",
      "0: maticThe Hound killed your friend.\n",
      "  Batch   900  of    928. Loss: 0.03024100698530674.   Elapsed: 0:44:25.\n",
      "0:  syndBut he's coming right now. We're at war. And it's only fitting that Ned Stark should have his head when fighting happens.\n",
      "\n",
      "  Average training loss: 0.03\n",
      "  Training epoch took: 0:45:47\n",
      "\n",
      "Running Validation...\n",
      "  Validation Loss: 0.10\n",
      "  Validation took: 0:01:20\n",
      "\n",
      "Training complete!\n",
      "Total training took 3:57:49 (h:mm:ss)\n"
     ]
    }
   ],
   "source": [
    "total_t0 = time.time()\n",
    "\n",
    "training_stats = []\n",
    "\n",
    "model = model #.to(device)\n",
    "\n",
    "for epoch_i in range(0, epochs):\n",
    "\n",
    "    # ========================================\n",
    "    #               Training\n",
    "    # ========================================\n",
    "\n",
    "    print(\"\")\n",
    "    print('======== Epoch {:} / {:} ========'.format(epoch_i + 1, epochs))\n",
    "    print('Training...')\n",
    "\n",
    "    t0 = time.time()\n",
    "\n",
    "    total_train_loss = 0\n",
    "\n",
    "    model.train()\n",
    "\n",
    "    for step, batch in enumerate(train_dataloader):\n",
    "\n",
    "        b_input_ids = batch[0] #.to(device)\n",
    "        b_labels = batch[0] #.to(device)\n",
    "        b_masks = batch[1]  #.to(device)\n",
    "\n",
    "        model.zero_grad()        \n",
    "\n",
    "        outputs = model(  b_input_ids,\n",
    "                          labels=b_labels, \n",
    "                          attention_mask = b_masks,\n",
    "                          token_type_ids=None\n",
    "                        )\n",
    "\n",
    "        loss = outputs[0]  \n",
    "\n",
    "        batch_loss = loss.item()\n",
    "        total_train_loss += batch_loss\n",
    "\n",
    "        # Get sample every x batches.\n",
    "        if step % sample_every == 0 and not step == 0:\n",
    "\n",
    "            elapsed = format_time(time.time() - t0)\n",
    "            print('  Batch {:>5,}  of  {:>5,}. Loss: {:>5,}.   Elapsed: {:}.'.format(step, len(train_dataloader), batch_loss, elapsed))\n",
    "\n",
    "            model.eval()\n",
    "\n",
    "            sample_outputs = model.generate(\n",
    "                                    bos_token_id=random.randint(1,30000),\n",
    "                                    do_sample=True,   \n",
    "                                    top_k=50, \n",
    "                                    max_length = 200,\n",
    "                                    top_p=0.95, \n",
    "                                    num_return_sequences=1\n",
    "                                )\n",
    "            for i, sample_output in enumerate(sample_outputs):\n",
    "                  print(\"{}: {}\".format(i, tokenizer.decode(sample_output, skip_special_tokens=True)))\n",
    "            \n",
    "            model.train()\n",
    "\n",
    "        loss.backward()\n",
    "\n",
    "        optimizer.step()\n",
    "\n",
    "        scheduler.step()\n",
    "\n",
    "    # Calculate the average loss over all of the batches.\n",
    "    avg_train_loss = total_train_loss / len(train_dataloader)       \n",
    "    \n",
    "    # Measure how long this epoch took.\n",
    "    training_time = format_time(time.time() - t0)\n",
    "\n",
    "    print(\"\")\n",
    "    print(\"  Average training loss: {0:.2f}\".format(avg_train_loss))\n",
    "    print(\"  Training epoch took: {:}\".format(training_time))\n",
    "        \n",
    "    # ========================================\n",
    "    #               Validation\n",
    "    # ========================================\n",
    "\n",
    "    print(\"\")\n",
    "    print(\"Running Validation...\")\n",
    "\n",
    "    t0 = time.time()\n",
    "\n",
    "    model.eval()\n",
    "\n",
    "    total_eval_loss = 0\n",
    "    nb_eval_steps = 0\n",
    "\n",
    "    # Evaluate data for one epoch\n",
    "    for batch in validation_dataloader:\n",
    "        \n",
    "        b_input_ids = batch[0] #.to(device)\n",
    "        b_labels = batch[0] #.to(device)\n",
    "        b_masks = batch[1] #.to(device)\n",
    "        \n",
    "        with torch.no_grad():        \n",
    "\n",
    "            outputs  = model(b_input_ids, \n",
    "                          #  token_type_ids=None, \n",
    "                             attention_mask = b_masks,\n",
    "                            labels=b_labels)\n",
    "          \n",
    "            loss = outputs[0]  \n",
    "            \n",
    "        batch_loss = loss.item()\n",
    "        total_eval_loss += batch_loss        \n",
    "\n",
    "    avg_val_loss = total_eval_loss / len(validation_dataloader)\n",
    "    \n",
    "    validation_time = format_time(time.time() - t0)    \n",
    "\n",
    "    print(\"  Validation Loss: {0:.2f}\".format(avg_val_loss))\n",
    "    print(\"  Validation took: {:}\".format(validation_time))\n",
    "\n",
    "    # Record all statistics from this epoch.\n",
    "    training_stats.append(\n",
    "        {\n",
    "            'epoch': epoch_i + 1,\n",
    "            'Training Loss': avg_train_loss,\n",
    "            'Valid. Loss': avg_val_loss,\n",
    "            'Training Time': training_time,\n",
    "            'Validation Time': validation_time\n",
    "        }\n",
    "    )\n",
    "\n",
    "print(\"\")\n",
    "print(\"Training complete!\")\n",
    "print(\"Total training took {:} (h:mm:ss)\".format(format_time(time.time()-total_t0)))"
   ]
  },
  {
   "cell_type": "markdown",
   "metadata": {
    "id": "iFWRvt0eWoWT"
   },
   "source": [
    "### (5 pts) Draw a figure for tracking train and validation losses.\n",
    "\n"
   ]
  },
  {
   "cell_type": "code",
   "execution_count": 34,
   "metadata": {
    "id": "OpHbfXL5WwRt"
   },
   "outputs": [
    {
     "data": {
      "text/plain": "       Training Loss  Valid. Loss Training Time Validation Time\nepoch                                                          \n1               0.17         0.07       0:46:28         0:01:21\n2               0.07         0.08       0:46:15         0:01:21\n3               0.06         0.08       0:46:11         0:01:21\n4               0.04         0.09       0:46:26         0:01:20\n5               0.03         0.10       0:45:47         0:01:20",
      "text/html": "<div>\n<style scoped>\n    .dataframe tbody tr th:only-of-type {\n        vertical-align: middle;\n    }\n\n    .dataframe tbody tr th {\n        vertical-align: top;\n    }\n\n    .dataframe thead th {\n        text-align: right;\n    }\n</style>\n<table border=\"1\" class=\"dataframe\">\n  <thead>\n    <tr style=\"text-align: right;\">\n      <th></th>\n      <th>Training Loss</th>\n      <th>Valid. Loss</th>\n      <th>Training Time</th>\n      <th>Validation Time</th>\n    </tr>\n    <tr>\n      <th>epoch</th>\n      <th></th>\n      <th></th>\n      <th></th>\n      <th></th>\n    </tr>\n  </thead>\n  <tbody>\n    <tr>\n      <th>1</th>\n      <td>0.17</td>\n      <td>0.07</td>\n      <td>0:46:28</td>\n      <td>0:01:21</td>\n    </tr>\n    <tr>\n      <th>2</th>\n      <td>0.07</td>\n      <td>0.08</td>\n      <td>0:46:15</td>\n      <td>0:01:21</td>\n    </tr>\n    <tr>\n      <th>3</th>\n      <td>0.06</td>\n      <td>0.08</td>\n      <td>0:46:11</td>\n      <td>0:01:21</td>\n    </tr>\n    <tr>\n      <th>4</th>\n      <td>0.04</td>\n      <td>0.09</td>\n      <td>0:46:26</td>\n      <td>0:01:20</td>\n    </tr>\n    <tr>\n      <th>5</th>\n      <td>0.03</td>\n      <td>0.10</td>\n      <td>0:45:47</td>\n      <td>0:01:20</td>\n    </tr>\n  </tbody>\n</table>\n</div>"
     },
     "execution_count": 34,
     "metadata": {},
     "output_type": "execute_result"
    }
   ],
   "source": [
    "# Display floats with two decimal places.\n",
    "pd.set_option('display.precision', 2)\n",
    "\n",
    "# Create a DataFrame from our training statistics.\n",
    "df_stats = pd.DataFrame(data=training_stats)\n",
    "\n",
    "# Use the 'epoch' as the row index.\n",
    "df_stats = df_stats.set_index('epoch')\n",
    "\n",
    "# A hack to force the column headers to wrap.\n",
    "# df_stats = df_stats.style.set_table_styles([dict(selector=\"th\",props=[('max-width', '70px')])])\n",
    "\n",
    "# Display the table.\n",
    "df_stats"
   ]
  },
  {
   "cell_type": "code",
   "execution_count": 35,
   "metadata": {
    "id": "tknIDXM0W3I5"
   },
   "outputs": [
    {
     "data": {
      "text/plain": "<Figure size 1200x600 with 1 Axes>",
      "image/png": "[encoded data removed]"
     },
     "metadata": {},
     "output_type": "display_data"
    }
   ],
   "source": [
    "# Use plot styling from seaborn.\n",
    "sns.set(style='darkgrid')\n",
    "\n",
    "# Increase the plot size and font size.\n",
    "sns.set(font_scale=1.5)\n",
    "plt.rcParams[\"figure.figsize\"] = (12,6)\n",
    "\n",
    "# Plot the learning curve.\n",
    "plt.plot(df_stats['Training Loss'], 'b-o', label=\"Training\")\n",
    "plt.plot(df_stats['Valid. Loss'], 'g-o', label=\"Validation\")\n",
    "\n",
    "# Label the plot.\n",
    "plt.title(\"Training & Validation Loss\")\n",
    "plt.xlabel(\"Epoch\")\n",
    "plt.ylabel(\"Loss\")\n",
    "plt.legend()\n",
    "plt.xticks([1, 2, 3, 4])\n",
    "\n",
    "plt.show()"
   ]
  },
  {
   "cell_type": "markdown",
   "metadata": {
    "id": "FCc9dfGNWsmL"
   },
   "source": [
    "### (5 pts) Print out some sample text from your chosen data and report 10 example generations that you think are interesting! Do your examples look like your training text?"
   ]
  },
  {
   "cell_type": "code",
   "execution_count": 33,
   "metadata": {
    "id": "tXI7LuxEXMxV"
   },
   "outputs": [
    {
     "name": "stdout",
     "output_type": "stream",
     "text": [
      "tensor([[50257]])\n",
      "0: I'm not a boy.\n",
      "\n",
      "\n",
      "1: But you couldn't kill him. You just stood there and watched.\n",
      "\n",
      "\n",
      "2: What did I buy you for?\n",
      "\n",
      "\n"
     ]
    }
   ],
   "source": [
    "model.eval()\n",
    "\n",
    "prompt = \"<|startoftext|>\"\n",
    "\n",
    "generated = torch.tensor(tokenizer.encode(prompt)).unsqueeze(0)\n",
    "generated = generated #.to(device)\n",
    "\n",
    "print(generated)\n",
    "\n",
    "sample_outputs = model.generate(\n",
    "                                generated, \n",
    "                                #bos_token_id=random.randint(1,30000),\n",
    "                                do_sample=True,   \n",
    "                                top_k=50, \n",
    "                                max_length = 300,\n",
    "                                top_p=0.95, \n",
    "                                num_return_sequences=3\n",
    "                                )\n",
    "\n",
    "for i, sample_output in enumerate(sample_outputs):\n",
    "  print(\"{}: {}\\n\\n\".format(i, tokenizer.decode(sample_output, skip_special_tokens=True)))"
   ]
  },
  {
   "cell_type": "code",
   "execution_count": 37,
   "metadata": {
    "id": "Q-dL8G_aXmmo"
   },
   "outputs": [
    {
     "name": "stdout",
     "output_type": "stream",
     "text": [
      "Saving model to ./got_model_save/\n"
     ]
    },
    {
     "data": {
      "text/plain": "('./got_model_save/tokenizer_config.json',\n './got_model_save/special_tokens_map.json',\n './got_model_save/vocab.json',\n './got_model_save/merges.txt',\n './got_model_save/added_tokens.json')"
     },
     "execution_count": 37,
     "metadata": {},
     "output_type": "execute_result"
    }
   ],
   "source": [
    "# Saving best-practices: if you use defaults names for the model, you can reload it using from_pretrained()\n",
    "\n",
    "output_dir = './got_model_save/'\n",
    "\n",
    "# Create output directory if needed\n",
    "if not os.path.exists(output_dir):\n",
    "    os.makedirs(output_dir)\n",
    "\n",
    "# Copy the model files to a directory in your Google Drive.\n",
    "print(\"Saving model to %s\" % output_dir)\n",
    "\n",
    "# Save a trained model, configuration and tokenizer using `save_pretrained()`.\n",
    "# They can then be reloaded using `from_pretrained()`\n",
    "model_to_save = model.module if hasattr(model, 'module') else model  # Take care of distributed/parallel training\n",
    "model_to_save.save_pretrained(output_dir)\n",
    "tokenizer.save_pretrained(output_dir)"
   ]
  },
  {
   "cell_type": "code",
   "execution_count": null,
   "metadata": {
    "id": "sU89G1xpYcgS"
   },
   "outputs": [],
   "source": [
    "# Good practice: save your training arguments together with the trained model\n",
    "# torch.save(args, os.path.join(output_dir, 'training_args.bin'))"
   ]
  },
  {
   "cell_type": "markdown",
   "metadata": {
    "id": "-LRDJV1_h735"
   },
   "source": [
    "> YOUR ANSWER HERE"
   ]
  },
  {
   "cell_type": "markdown",
   "metadata": {
    "id": "OdsK8Z7PC63N"
   },
   "source": []
  },
  {
   "cell_type": "code",
   "execution_count": 62,
   "metadata": {
    "colab": {
     "base_uri": "https://localhost:8080/"
    },
    "id": "FUJn2ItQD3KG",
    "outputId": "b453a122-0081-460d-aa35-635faf650471"
   },
   "outputs": [
    {
     "name": "stdout",
     "output_type": "stream",
     "text": [
      "Looking in indexes: https://pypi.org/simple, https://us-python.pkg.dev/colab-wheels/public/simple/\n",
      "Requirement already satisfied: lxml in /usr/local/lib/python3.8/dist-packages (4.9.2)\n"
     ]
    }
   ],
   "source": [
    "!pip install lxml"
   ]
  },
  {
   "cell_type": "code",
   "execution_count": 63,
   "metadata": {
    "id": "yZSbUP0-HZmh"
   },
   "outputs": [],
   "source": [
    "def findFiles(path): return glob.glob(path)\n",
    "\n",
    "# Build the category_lines dictionary, a list of names per language\n",
    "all_categories = []\n",
    "\n",
    "# Read a file and split into lines\n",
    "def readLines(filename):\n",
    "    lines = open(filename, encoding='utf-8').read().strip().split('\\n')\n",
    "    return [line for line in lines]\n",
    "\n",
    "for filename in findFiles('./pride*.txt'):\n",
    "    novel = os.path.splitext(os.path.basename(filename))\n",
    "    all_categories.append(novel)\n",
    "    lines = readLines(filename)"
   ]
  },
  {
   "cell_type": "code",
   "execution_count": 65,
   "metadata": {
    "colab": {
     "base_uri": "https://localhost:8080/",
     "height": 222
    },
    "id": "C_qOq2CzyYJC",
    "outputId": "21f12a22-f007-42d1-9e88-b472847ac7b0"
   },
   "outputs": [
    {
     "ename": "NameError",
     "evalue": "ignored",
     "output_type": "error",
     "traceback": [
      "\u001B[0;31m---------------------------------------------------------------------------\u001B[0m",
      "\u001B[0;31mNameError\u001B[0m                                 Traceback (most recent call last)",
      "\u001B[0;32m<ipython-input-65-e8d24db5c7d7>\u001B[0m in \u001B[0;36m<module>\u001B[0;34m\u001B[0m\n\u001B[0;32m----> 1\u001B[0;31m \u001B[0mdf_lines\u001B[0m\u001B[0;34m\u001B[0m\u001B[0;34m\u001B[0m\u001B[0m\n\u001B[0m\u001B[1;32m      2\u001B[0m \u001B[0;34m\u001B[0m\u001B[0m\n\u001B[1;32m      3\u001B[0m \u001B[0mn\u001B[0m \u001B[0;34m=\u001B[0m \u001B[0;36m5\u001B[0m\u001B[0;34m\u001B[0m\u001B[0;34m\u001B[0m\u001B[0m\n\u001B[1;32m      4\u001B[0m \u001B[0mdf_lines\u001B[0m\u001B[0;34m.\u001B[0m\u001B[0msample\u001B[0m\u001B[0;34m(\u001B[0m\u001B[0mn\u001B[0m\u001B[0;34m,\u001B[0m \u001B[0mrandom_state\u001B[0m\u001B[0;34m=\u001B[0m\u001B[0;36m12\u001B[0m\u001B[0;34m)\u001B[0m\u001B[0;34m\u001B[0m\u001B[0;34m\u001B[0m\u001B[0m\n",
      "\u001B[0;31mNameError\u001B[0m: name 'df_lines' is not defined"
     ]
    }
   ],
   "source": [
    "df_lines\n",
    "\n",
    "n = 5\n",
    "df_lines.sample(n, random_state=12)"
   ]
  },
  {
   "cell_type": "code",
   "execution_count": 66,
   "metadata": {
    "colab": {
     "base_uri": "https://localhost:8080/",
     "height": 204
    },
    "id": "-heH17PYykej",
    "outputId": "a83de6e9-ce14-42de-8161-349f0a5ebd60"
   },
   "outputs": [
    {
     "ename": "NameError",
     "evalue": "ignored",
     "output_type": "error",
     "traceback": [
      "\u001B[0;31m---------------------------------------------------------------------------\u001B[0m",
      "\u001B[0;31mNameError\u001B[0m                                 Traceback (most recent call last)",
      "\u001B[0;32m<ipython-input-66-b1402535f784>\u001B[0m in \u001B[0;36m<module>\u001B[0;34m\u001B[0m\n\u001B[0;32m----> 1\u001B[0;31m \u001B[0mlines_dict\u001B[0m \u001B[0;34m=\u001B[0m \u001B[0mdict\u001B[0m\u001B[0;34m(\u001B[0m\u001B[0menumerate\u001B[0m\u001B[0;34m(\u001B[0m\u001B[0mdf_lines\u001B[0m\u001B[0;34m.\u001B[0m\u001B[0mSentence\u001B[0m\u001B[0;34m.\u001B[0m\u001B[0mvalues\u001B[0m\u001B[0;34m)\u001B[0m\u001B[0;34m)\u001B[0m\u001B[0;34m\u001B[0m\u001B[0;34m\u001B[0m\u001B[0m\n\u001B[0m\u001B[1;32m      2\u001B[0m \u001B[0mprint\u001B[0m\u001B[0;34m(\u001B[0m\u001B[0mlines_dict\u001B[0m\u001B[0;34m)\u001B[0m\u001B[0;34m\u001B[0m\u001B[0;34m\u001B[0m\u001B[0m\n\u001B[1;32m      3\u001B[0m \u001B[0mprint\u001B[0m\u001B[0;34m(\u001B[0m\u001B[0mlen\u001B[0m\u001B[0;34m(\u001B[0m\u001B[0mlines_dict\u001B[0m\u001B[0;34m)\u001B[0m\u001B[0;34m)\u001B[0m\u001B[0;34m\u001B[0m\u001B[0;34m\u001B[0m\u001B[0m\n",
      "\u001B[0;31mNameError\u001B[0m: name 'df_lines' is not defined"
     ]
    }
   ],
   "source": [
    "lines_dict = dict(enumerate(df_lines.Sentence.values))\n",
    "print(lines_dict)\n",
    "print(len(lines_dict))"
   ]
  },
  {
   "cell_type": "code",
   "execution_count": 67,
   "metadata": {
    "colab": {
     "base_uri": "https://localhost:8080/",
     "height": 143
    },
    "id": "VR_uJMAOi8Y4",
    "outputId": "ef684cd0-dc50-4921-c9da-ed35a157c000"
   },
   "outputs": [
    {
     "data": {
      "application/vnd.google.colaboratory.intrinsic+json": {
       "type": "string"
      },
      "text/plain": [
       "'                          In June 1863 after more than two years  of bloody conflict . . .                            the Confederate army of Northern  Virginia, Robert E . Lee commanding . . .                            slips across the Potomac  to begin the invasion of the North .                            It is an army of       men .                            They move slowly behind the Blue Ridge . . .                            using the mountains  to screen their movements .                            Their objective is to draw  the Union army out into the open . . .                            where it can be destroyed .                            Late in June, the Union army  of the Potomac,       men . . .                             turns north from Virginia to begin  the great pursuit up the narrow roads . . .                             across Maryland and into Pennsylvania .                             General Lee knows that a letter has been  prepared by the Southern government .                             A letter which offers peace .                             It is to be placed on the desk  of Abraham Lincoln, President of the U . S . . .                             the day after Lee has destroyed  the Army of the Potomac . . .                             some'"
      ]
     },
     "execution_count": 67,
     "metadata": {},
     "output_type": "execute_result"
    }
   ],
   "source": [
    "import re\n",
    "import spacy\n",
    "from tqdm import tqdm\n",
    "def remove_extras(in_texts):\n",
    "    textList = []\n",
    "    for in_text in in_texts:\n",
    "        t_en = in_text.encode(\"ascii\", \"ignore\")\n",
    "        t = t_en.decode()\n",
    "        t = re.sub(\"\\n\", \" \", t)\n",
    "        t = re.sub(\"\\r\", \" \", t)\n",
    "        t = re.sub(\"&lt;\", \"<\", t)\n",
    "        t = re.sub(\"&gt;\", \">\", t)\n",
    "        t = re.sub(\"&amp;\", \"&\", t)\n",
    "        t = re.sub(r'(https|http)?:\\/\\/(\\w|\\.|\\/|\\?|\\=|\\&|\\%)*\\b', '', t, flags=re.MULTILINE) # URLs\n",
    "        t = re.sub(r'@[\\w]+','', t, flags=re.MULTILINE) # mentions\n",
    "        t = re.sub(r'#[\\w]+','', t, flags=re.MULTILINE) # hashtags\n",
    "        t = re.sub(\"[!@#$%^&*()[]{};:,/<>\\|`~-=_+]\", \" \", t)\n",
    "        t = re.sub(r\"([.!?])\", r\" \\1\", t)\n",
    "        textList.append(t)\n",
    "    return textList\n",
    "\n",
    "getty = remove_extras(getty)\n",
    "getty[0][:1300]"
   ]
  },
  {
   "cell_type": "code",
   "execution_count": 68,
   "metadata": {
    "id": "rQMgGLFfyx_S"
   },
   "outputs": [],
   "source": [
    "def preprocess(textList, batchsz=500):\n",
    "    # Input: text separated by new lines\n",
    "    # Output: sentences with space around punctuation\n",
    "\n",
    "    # sub-task 1: segment all the sentences in the wiki texts.\n",
    "    # sub-task 2: tokenize the sentences from sub-task 2.\n",
    "    # sub-task 3: lower-case the tokens from sub-task 3/4.\n",
    "\n",
    "    nlp = spacy.load('en_core_web_lg')\n",
    "    docDict = {}\n",
    "    docList = []\n",
    "    dropped = []\n",
    "    cnt = 0\n",
    "\n",
    "    for doc in tqdm(nlp.pipe(textList, batch_size=batchsz)): # Step 1\n",
    "        # if doc.has_annotation(\"DEP\"):\n",
    "        # for ent in doc.ents:\n",
    "            #  THIS LINE GIVES THE NAMED ENTITIES IN DOC\n",
    "            # print(ent.text, ent.start_char, ent.end_char, ent.label_)\n",
    "        for spanText in doc.sents:\n",
    "            spanT = spanText.text.strip()\n",
    "            if len(spanT) < 8:\n",
    "                dropped.append(spanT)\n",
    "                continue\n",
    "            if spanT:\n",
    "                for tok in spanText:\n",
    "                    docString += tok.text.strip().lower() + ' ' # Step 2 & 3\n",
    "                docDict[cnt]= docString\n",
    "                docList.append(docString)\n",
    "                cnt += 1\n",
    "    return  docDict, docList, dropped"
   ]
  },
  {
   "cell_type": "code",
   "execution_count": 69,
   "metadata": {
    "colab": {
     "base_uri": "https://localhost:8080/",
     "height": 204
    },
    "id": "lNBeZdN4y5SK",
    "outputId": "c723928c-a116-4f10-fc57-946e4b583c91"
   },
   "outputs": [
    {
     "ename": "NameError",
     "evalue": "ignored",
     "output_type": "error",
     "traceback": [
      "\u001B[0;31m---------------------------------------------------------------------------\u001B[0m",
      "\u001B[0;31mNameError\u001B[0m                                 Traceback (most recent call last)",
      "\u001B[0;32m<ipython-input-69-15870c836a2c>\u001B[0m in \u001B[0;36m<module>\u001B[0;34m\u001B[0m\n\u001B[0;32m----> 1\u001B[0;31m \u001B[0msentDict\u001B[0m\u001B[0;34m,\u001B[0m \u001B[0msent_list\u001B[0m\u001B[0;34m,\u001B[0m \u001B[0mdropped\u001B[0m \u001B[0;34m=\u001B[0m \u001B[0mpreprocess\u001B[0m\u001B[0;34m(\u001B[0m\u001B[0mdf_lines\u001B[0m\u001B[0;34m.\u001B[0m\u001B[0mSentence\u001B[0m\u001B[0;34m.\u001B[0m\u001B[0mvalues\u001B[0m\u001B[0;34m)\u001B[0m\u001B[0;34m\u001B[0m\u001B[0;34m\u001B[0m\u001B[0m\n\u001B[0m\u001B[1;32m      2\u001B[0m \u001B[0mprint\u001B[0m\u001B[0;34m(\u001B[0m\u001B[0;34mf\" \\nline size: {len(sentDict)}\"\u001B[0m\u001B[0;34m)\u001B[0m\u001B[0;34m\u001B[0m\u001B[0;34m\u001B[0m\u001B[0m\n\u001B[1;32m      3\u001B[0m \u001B[0mprint\u001B[0m\u001B[0;34m(\u001B[0m\u001B[0msent_list\u001B[0m\u001B[0;34m[\u001B[0m\u001B[0;36m0\u001B[0m\u001B[0;34m:\u001B[0m\u001B[0;36m2\u001B[0m\u001B[0;34m]\u001B[0m\u001B[0;34m)\u001B[0m\u001B[0;34m\u001B[0m\u001B[0;34m\u001B[0m\u001B[0m\n",
      "\u001B[0;31mNameError\u001B[0m: name 'df_lines' is not defined"
     ]
    }
   ],
   "source": [
    "sentDict, sent_list, dropped = preprocess(df_lines.Sentence.values)\n",
    "print(f\" \\nline size: {len(sentDict)}\")\n",
    "print(sent_list[0:2])"
   ]
  },
  {
   "cell_type": "code",
   "execution_count": 72,
   "metadata": {
    "colab": {
     "base_uri": "https://localhost:8080/",
     "height": 347
    },
    "id": "wnnijdZqzHzU",
    "outputId": "c100e38b-4ddb-4da0-c3a1-249b8da9e7b4"
   },
   "outputs": [
    {
     "name": "stderr",
     "output_type": "stream",
     "text": [
      "0it [00:04, ?it/s]\n"
     ]
    },
    {
     "ename": "UnboundLocalError",
     "evalue": "ignored",
     "output_type": "error",
     "traceback": [
      "\u001B[0;31m---------------------------------------------------------------------------\u001B[0m",
      "\u001B[0;31mUnboundLocalError\u001B[0m                         Traceback (most recent call last)",
      "\u001B[0;32m<ipython-input-72-ad8b05b20895>\u001B[0m in \u001B[0;36m<module>\u001B[0;34m\u001B[0m\n\u001B[0;32m----> 1\u001B[0;31m \u001B[0mgettyDict\u001B[0m\u001B[0;34m,\u001B[0m \u001B[0mgetty_list\u001B[0m\u001B[0;34m,\u001B[0m \u001B[0mdropped\u001B[0m \u001B[0;34m=\u001B[0m \u001B[0mpreprocess\u001B[0m\u001B[0;34m(\u001B[0m\u001B[0mgetty\u001B[0m\u001B[0;34m)\u001B[0m\u001B[0;34m\u001B[0m\u001B[0;34m\u001B[0m\u001B[0m\n\u001B[0m\u001B[1;32m      2\u001B[0m \u001B[0mprint\u001B[0m\u001B[0;34m(\u001B[0m\u001B[0;34mf\" \\nline size: {len(getty_list)}\"\u001B[0m\u001B[0;34m)\u001B[0m\u001B[0;34m\u001B[0m\u001B[0;34m\u001B[0m\u001B[0m\n\u001B[1;32m      3\u001B[0m \u001B[0mprint\u001B[0m\u001B[0;34m(\u001B[0m\u001B[0mgetty_list\u001B[0m\u001B[0;34m[\u001B[0m\u001B[0;36m0\u001B[0m\u001B[0;34m:\u001B[0m\u001B[0;36m2\u001B[0m\u001B[0;34m]\u001B[0m\u001B[0;34m)\u001B[0m\u001B[0;34m\u001B[0m\u001B[0;34m\u001B[0m\u001B[0m\n",
      "\u001B[0;32m<ipython-input-68-dd95d241ecbf>\u001B[0m in \u001B[0;36mpreprocess\u001B[0;34m(textList, batchsz)\u001B[0m\n\u001B[1;32m     25\u001B[0m             \u001B[0;32mif\u001B[0m \u001B[0mspanT\u001B[0m\u001B[0;34m:\u001B[0m\u001B[0;34m\u001B[0m\u001B[0;34m\u001B[0m\u001B[0m\n\u001B[1;32m     26\u001B[0m                 \u001B[0;32mfor\u001B[0m \u001B[0mtok\u001B[0m \u001B[0;32min\u001B[0m \u001B[0mspanText\u001B[0m\u001B[0;34m:\u001B[0m\u001B[0;34m\u001B[0m\u001B[0;34m\u001B[0m\u001B[0m\n\u001B[0;32m---> 27\u001B[0;31m                     \u001B[0mdocString\u001B[0m \u001B[0;34m+=\u001B[0m \u001B[0mtok\u001B[0m\u001B[0;34m.\u001B[0m\u001B[0mtext\u001B[0m\u001B[0;34m.\u001B[0m\u001B[0mstrip\u001B[0m\u001B[0;34m(\u001B[0m\u001B[0;34m)\u001B[0m\u001B[0;34m.\u001B[0m\u001B[0mlower\u001B[0m\u001B[0;34m(\u001B[0m\u001B[0;34m)\u001B[0m \u001B[0;34m+\u001B[0m \u001B[0;34m' '\u001B[0m \u001B[0;31m# Step 2 & 3\u001B[0m\u001B[0;34m\u001B[0m\u001B[0;34m\u001B[0m\u001B[0m\n\u001B[0m\u001B[1;32m     28\u001B[0m                 \u001B[0mdocDict\u001B[0m\u001B[0;34m[\u001B[0m\u001B[0mcnt\u001B[0m\u001B[0;34m]\u001B[0m\u001B[0;34m=\u001B[0m \u001B[0mdocString\u001B[0m\u001B[0;34m\u001B[0m\u001B[0;34m\u001B[0m\u001B[0m\n\u001B[1;32m     29\u001B[0m                 \u001B[0mdocList\u001B[0m\u001B[0;34m.\u001B[0m\u001B[0mappend\u001B[0m\u001B[0;34m(\u001B[0m\u001B[0mdocString\u001B[0m\u001B[0;34m)\u001B[0m\u001B[0;34m\u001B[0m\u001B[0;34m\u001B[0m\u001B[0m\n",
      "\u001B[0;31mUnboundLocalError\u001B[0m: local variable 'docString' referenced before assignment"
     ]
    }
   ],
   "source": [
    "gettyDict, getty_list, dropped = preprocess(getty)\n",
    "print(f\" \\nline size: {len(getty_list)}\")\n",
    "print(getty_list[0:2])"
   ]
  },
  {
   "cell_type": "code",
   "execution_count": 8,
   "metadata": {
    "colab": {
     "base_uri": "https://localhost:8080/"
    },
    "id": "_U3m6wr3Ahzt",
    "outputId": "de9b151f-ae1a-4d7d-9c7b-4d278c6a045d"
   },
   "outputs": [
    {
     "name": "stdout",
     "output_type": "stream",
     "text": [
      "2063 3039 23911\n"
     ]
    }
   ],
   "source": [
    "filename= '/content/drive/MyDrive/Colab Notebooks/CS_505_PA7/reduced_33121.txt'\n",
    "f=open(filename)\n",
    "getty_docs=f.readlines()\n",
    "getty_docs=[b.strip() for b in getty_docs if b != '\\n']\n",
    "getty_docs[:5]\n",
    "print(len(docs), len(getty_docs), len(got_docs))"
   ]
  },
  {
   "cell_type": "code",
   "execution_count": null,
   "metadata": {
    "id": "uJwKHS0txHpR"
   },
   "outputs": [],
   "source": []
  },
  {
   "cell_type": "code",
   "execution_count": null,
   "metadata": {
    "colab": {
     "base_uri": "https://localhost:8080/"
    },
    "id": "4EJvfJuv-ggl",
    "outputId": "923fc896-96d6-4abc-ec45-54e182f5d39f"
   },
   "outputs": [
    {
     "name": "stdout",
     "output_type": "stream",
     "text": [
      "2063 208128 23911\n",
      " THE BATTLE OF GETTYSBURG WISCONSIN HISTORY COMMISSION December, 1908 The Great battle of Gettysburg is now an event of the past. The composition and strength of the armies, their leaders, the strategy, the tactics, the result, of that field are to-day by the side of those of Waterloo--matters of history. A few days ago these things were otherwise. This great event did not so \"cast its shadow before,\" as to moderate the hot sunshine that streamed upon our preceding march, or to relieve our minds of all apprehension of the result of the second great Rebel invasion of the soil North of the Potomac. No, not many days since, at times we were filled with fears and forebodings. The people of the country, I suppose, shared the anxieties of the army, somewhat in common with us, but they could not have felt them as keenly as we did. We were upon the immediate theatre of events, as they occurred from day to day, and were of them. We were the army whose province it should be to meet this invasion and repel it; on us was the immediate responsibility for results, most momentous for good or ill, as yet in the future. And so in addition to the solicitude of all good patriots, we felt that our own honor as men and as an army, as well as the safety of the Capitol and the country, were at stake. And what if that invasion should be successful, and in the coming battle, the Army of the Potomac should be overpowered? Would it not be? When our army was much larger than at present--had rested all winter--and, nearly perfect in all its departments and arrangements, was the most splendid army this continent ever saw, only a part of the Rebel force, which it now had to contend with, had defeated it--its leader, rather--at Chancellorsville! Now the Rebel had his whole force assembled, he was flushed with recent victory, was arrogant in his career of unopposed invasion, at a favorable season of the year. His daring plans, made by no unskilled head, to transfer the war from his own to his enemies' ground, were being successful. He had gone a day's march from his front before Hooker moved, or was aware of his departure. Then, I believe, the army in general, both officers and men, had no confidence in Hooker, in either his honesty or ability. Did they not charge him personally, with the defeat at Chancellorsville? Were they not still burning with indignation against him for that disgrace? And now, again under his leadership, they were marching against the enemy! And they knew of nothing, short of the providence of God, that could, or would, remove him. For many reasons, during the marches prior to the battle, we were anxious, and at times heavy at heart. But the Army of the Potomac was no band of school girls. They were not the men likely to be crushed or utterly discouraged by any new circumstances in which they might find themselves placed. They had lost some battles, they had gained some. They knew what defeat was, and what was victory. But here is the greatest praise that I can bestow upon them, or upon any army: With the elation of victory, or the depression of defeat, amidst the hardest toils of the campaign, under unwelcome leadership, at all times, and under all circumstances, they were a reliable army still. The Army of the Potomac would do as it was told, always. Well clothed, and well fed--there never could be any ground for complaint on these heads--but a mighty work was before them. Onward they moved--night and day were blended--over many a weary mile, through dust, and through mud, in the broiling sunshine, in the flooding rain, over steeps, through defiles, across rivers, over last year's battle fields, where the skeletons of our dead brethren, by hundreds, lay bare and bleaching, weary, without sleep for days, tormented with the newspapers, and their rumors, that the enemy was in Philadelphia, in Baltimore, in all places where he was not, yet these men could still be relied upon, I believe, when the day of conflict should come. \"_Haec olim meminisse juvabit._\" We did not then know this. I mention them now, that you may see that in those times we had several matters to think about, and to do, that were not as pleasant as sleeping upon a bank of violets in the shade. In moving from near Falmouth, Va., the army was formed in several columns, and took several roads. The Second Corps, the rear of the whole, was the last to move, and left Falmouth at daybreak, on the 15th of June, and pursued its march through Aquia, Dumfries, Wolf Run Shoales, Centerville, Gainesville, Thoroughfare Gap--this last we left on the 25th, marching back to Haymarket, where we had a skirmish with the cavalry and horse artillery of the enemy--Gum Spring, crossing the Potomac at Edward's Ferry, thence through Poolesville, Frederick, Liberty, and Union Town. We marched from near Frederick to Union Town, a distance of thirty-two miles, from eight o'clock A. M. to nine P. M., on the 28th, and I think this is the longest march, accomplished in so short a time, by a corps during the war. On the 28th, while we were near this latter place, we breathed a full breath of joy, and of hope. The Providence of God had been with us--we ought not to have doubted it--General Meade commanded the Army of the Potomac. Not a favorable time, one would be apt to suppose, to change the General of a large army, on the eve of battle, the result of which might be to destroy the Government and country! But it should have been done long before. At all events, any change could not have been for the worse, and the Administration, therefore, hazarded little, in making it now. From this moment my own mind was easy concerning results. I now felt that we had a clear-headed, honest soldier, to command the army, who would do his best always--that there would be no repetition of Chancellorsville. Meade was not as much known in the Army as many of the other corps commanders, but the officers who knew, all thought highly of him, a man of great modesty, with none of those qualities which are noisy and assuming, and hankering for cheap newspaper fame, not at all of the \"_gallant_\" Sickles stamp. I happened to know much of General Meade--he and General Gibbon had always been very intimate, and I had seen much of him--I think my own notions concerning General Meade at this time, were shared quite generally by the army; at all events, all who knew him shared them. By this time, by reports that were not mere rumors, we began to hear frequently of the enemy, and of his proximity. His cavalry was all about us, making little raids here and there, capturing now and then a few of our wagons, and stealing a good many horses, but doing us really the least amount possible of harm, for we were not by these means impeded at all, and his cavalry gave no information at all to Lee, that he could rely upon, of the movements of the Army of the Potomac. The Infantry of the enemy was at this time in the neighborhood of Hagerstown, Chambersburg, and some had been at Gettysburg, possibly were there now. Gettysburg was a point of strategic importance, a great many roads, some ten or twelve at least concentrating there, so the army could easily converge to, or, should a further march be necessary, diverge from this point. General Meade, therefore, resolved to try to seize Gettysburg, and accordingly gave the necessary orders for the concentration of his different columns there. Under the new auspices the army brightened, and moved on with a more elastic step towards the yet undefined field of conflict. The 1st Corps, General Reynolds, already having the advance, was ordered to push forward rapidly, and take and hold the town, if he could. The rest of the Army would assemble to his support. Buford's Cavalry co-operated with this corps, and on the morning of the 1st of July found the enemy near Gettysburg and to the West, and promptly engaged him. The First Corps having bivouaced the night before, South of the town, came up rapidly to Buford's support, and immediately a sharp battle was opened with the advance of the enemy. The first Division Gen. Wadsworth was the first of the infantry to become engaged, but the other two, commanded respectively by Generals Robinson and Doubleday, were close at hand, and forming the line of battle to the West and North-west of the town, at a mean distance of about a mile away, the battle continued for some hours, with various success, which was on the whole with us until near noon. At this time a lull occurred, which was occupied, by both sides, in supervising and re-establishing the hastily formed lines of the morning. New Divisions of the enemy were constantly arriving and taking up positions, for this purpose marching in upon the various roads that terminate at the town, from the West and North. The position of the First Corps was then becoming perilous in the extreme, but it was improved a little before noon by the arrival upon the field of two Divisions of the Eleventh Corps (Gen Howard), these Divisions commanded respectively by Generals Schurz and Barlow, who by order posted their commands to the right of the First Corps, with their right retired, forming an angle with the line of the First Corps. Between three and four o'clock in the afternoon the enemy, now in overwhelming force, resumed the battle, with spirit. The portion of the Eleventh Corps making but feeble opposition to the advancing enemy, soon began to fall back. Back in disorganized masses they fled into the town, hotly pursued, and in lanes, in barns, in yards and cellars, throwing away their arms, they sought to hide like rabbits, and were there captured, unresisting, by hundreds. The First Corps, deprived of this support, if support it could be called, outflanked upon either hand, and engaged in front, was compelled to yield the field. Making its last stand upon what is called \"Seminary Ridge,\" not far from the town, it fell back in considerable confusion, through the South-west part of the town, making brave resistance, however, but with considerable loss. The enemy did not see fit to follow, or to attempt to, further than the town, and so the fight of the 1st of July closed here. I suppose our losses during the day would exceed four thousand, of whom a large number were prisoners. Such usually is the kind of loss sustained by the Eleventh Corps. You will remember that the old \"Iron Brigade\" is in the First Corps, and consequently shared this fight, and I hear their conduct praised on all hands. In the 2nd Wis., Col. Fairchild lost his left arm; Lieut. Col. Stevens, was mortally wounded, and Major Mansfield was wounded; Lieut. Col. Callis, of the 7th Wis., and Lieut. Col. Dudley, of the 19th Ind., were badly, dangerously, wounded, the latter by the loss of his right leg above the knee. I saw \"_John Burns_,\" the only citizen of Gettysburg who fought in the battle, and I asked him what troops he fought with. He said: \"O, I pitched in with them Wisconsin fellers.\" I asked what sort of men they were, and he answered: \"They fit terribly. The Rebs couldn't make anything of them fellers.\" And so the brave compliment the brave. This man was touched by three bullets from the enemy, but not seriously wounded. But the loss of the enemy to-day was severe also, probably in killed and wounded, as heavy as our own, but not so great in prisoners. Of these latter the \"Iron Brigade\" captured almost an entire Mississippi Brigade, however. Of the events so far, of the 1st of July, I do not speak from personal knowledge. I shall now tell my introduction to these events. At eleven o'clock A. M., on that day, the Second Corps was halted at Taneytown, which is thirteen miles from Gettysburg, South, and there awaiting orders, the men were allowed to make coffee and rest. At between one and two o'clock in the afternoon, a message was brought to Gen. Gibbon, requiring his immediate presence at the headquarters of Gen. Hancock, who commanded the Corps. I went with Gen. Gibbon, and we rode at a rapid gallop, to Gen. Hancock. At Gen. Hancock's headquarters the following was learned: The First Corps had met the enemy at Gettysburg, and had possession of the town. Gen. Reynolds was badly, it was feared mortally wounded; the fight of the First Corps still continued. By Gen. Meade's order, Gen. Hancock was to hurry forward and take command upon the field, of all troops there, or which should arrive there. The Eleventh Corps was near Gettysburg when the messenger who told of the fight left there, and the Third Corps was marching up, by order, on the Emmetsburg Road--Gen. Gibbon--he was not the ranking officer of the Second Corps after Hancock--was ordered to assume the command of the Second Corps. All this was sudden, and for that reason at least, exciting; but there were other elements in this information, that aroused our profoundest interest. The great battle that we had so anxiously looked for during so many days, had at length opened, and it was a relief, in some sense, to have these accidents of time and place established. What would be the result? Might not the enemy fall upon and destroy the First Corps before succor could arrive? Gen. Hancock, with his personal staff, at about two o'clock P. M., galloped off towards Gettysburg; Gen. Gibbon took his place in command of the Corps, appointing me his acting Assistant Adjutant General. The Second Corps took arms at once, and moved rapidly towards the field. It was not long before we began to hear the dull booming of the guns, and as we advanced, from many an eminence or opening among the trees, we could look out upon the white battery smoke, puffing up from the distant field of blood, and drifting up to the clouds. At these sights and sounds, the men looked more serious than before and were more silent, but they marched faster, and straggled less. At about five o'clock P. M., as we were riding along at the head of the column, we met an ambulance, accompanied by two or three mounted officers--we knew them to be staff officers of Gen. Reynolds--their faces told plainly enough what load the vehicle carried--it was the dead body of Gen. Reynolds. Very early in the action, while seeing personally to the formation of his lines under fire, he was shot through the head by a musket or rifle bullet, and killed almost instantly. His death at this time affected us much, for he was one of the _soldier_ Generals of the army, a man whose soul was in his country's work, which he did with a soldier's high honor and fidelity. I remember seeing him often at the first battle of Fredericksburg--he then commanded the First Corps--and while Meade's and Gibbon's Divisions were assaulting the enemy's works, he was the very beau ideal of the gallant general. Mounted upon a superb black horse, with his head thrown back and his great black eyes flashing fire, he was every where upon the field, seeing all things and giving commands in person. He died as many a friend, and many a foe to the country have died in this war. Just as the dusk of evening fell, from Gen. Meade, the Second Corps had orders to halt, where the head of the column then was, and to go into position for the night. The Second Division (Gibbon's) was accordingly put in position, upon the left of the (Taneytown) road, its left near the South-eastern base of \"Round Top\"--of which mountain more anon--and the right near the road; the Third Division was posted upon the right of the road, abreast of the Second; and the first Division in the rear of these two--all facing towards Gettysburg. Arms were stacked, and the men lay down to sleep, alas! many of them their last but the great final sleep upon the earth. Late in the afternoon as we came near the field, from some slightly wounded men we met, and occasional stragglers from the scene of operations in front, we got many rumors, and much disjointed information of battle, of lakes of blood, of rout and panic and undescribable disaster, from all of which the narrators were just fortunate enough to have barely escaped, the sole survivors. These stragglers are always terrible liars! About nine o'clock in the evening, while I was yet engaged in showing the troops their positions, I met Gen. Hancock, then on his way from the front, to Gen. Meade, who was back toward Taneytown; and he, for the purpose of having me advise Gen. Gibbon, for his information, gave me quite a detailed account of the situation of matters at Gettysburg, and of what had transpired subsequently to his arrival. He had arrived and assumed command there, just when the troops of the First and Eleventh Corps, after their repulse, were coming in confusion through the town. Hancock is just the man for such an emergency as this. Upon horseback I think he was the most magnificent looking General in the whole Army of the Potomac at that time. With a large, well shaped person, always dressed with elegance, even upon that field of confusion, he would look as if he was \"monarch of all he surveyed,\" and few of his subjects would dare to question his right to command, or do aught else but to obey. His quick eye, in a flash, saw what was to be done, and his voice and his royal right hand at once commenced to do it. Gen. Howard had put one of his Divisions--Steinwehr--with some batteries, in position, upon a commanding eminence, at the \"Cemetery,\" which, as a reserve, had not participated in the fight of the day, and this Division was now of course steady. Around this Division the fugitives were stopped, and the shattered Brigades and Regiments, as they returned, were formed upon either flank, and faced toward the enemy again. A show of order at least, speedily came from chaos--the rout was at an end--the First and Eleventh Corps were in line of battle again--not very systematically formed perhaps--in a splendid position, and in a condition to offer resistance, should the enemy be willing to try them. These formations were all accomplished long before night. Then some considerable portion of the Third Corps--Gen. Sickles--came up by the Emmetsburg road, and was formed to the left of the Taneytown road, on an extension of the line that I have mentioned; and all the Twelfth Corps--Gen. Slocum--arriving before night, the Divisions were put in position, to the right of the troops already there, to the East of the Baltimore Pike. The enemy was in the town, and behind it, and to the East and West, and appeared to be in strong force, and was jubilant over his day's success. Such was the posture of affairs as evening came on of the first of July. Gen. Hancock was hopeful, and in the best of spirits; and from him I also learned that the reason for halting the Second Corps in its present position, was that it was not then known where, in the coming fight, the line of battle would be formed, up near the town, where the troops then were, or further back, towards Taneytown. He would give his views upon this subject to Gen. Meade, which were in favor of the line near the town--the one that was subsequently adopted--and Gen. Meade would determine. The night before a great pitched battle would not ordinarily, I suppose, be a time for much sleep for Generals and their staff officers. We needed it enough, but there was work to be done. This war makes strange confusion of night and day! I did not sleep at all that night. It would, perhaps, be expected, on the eve of such great events, that one should have some peculiar sort of feelings, something extraordinary, some great arousing and excitement of the sensibilities and faculties, commensurate with the event itself; this certainly would be very poetical and pretty, but so far as I was concerned, and I think I can speak for the army in this matter, there was nothing of the kind. Men who had volunteered to fight the battles of the country, had met the enemy in many battles, and had been constantly before them, as had the Army of the Potomac, were too old soldiers, and long ago too well had weighed chances and probabilities, to be so disturbed now. No, I believe, the army slept soundly that night, and well, and I am glad the men did, for they needed it. At midnight Gen. Meade and staff rode by Gen. Gibbon's Head Quarters, on their way to the field; and in conversation with Gen. Gibbon, Gen. Meade announced that he had decided to assemble the whole army before Gettysburg, and offer the enemy battle there. The Second Corps would move at the earliest daylight, to take up its position. At three o'clock, A. M., of the second of July, the sleepy soldiers of the Corps were aroused; before six the Corps was up to the field, and halted temporarily by the side of the Taneytown road, upon which it had marched, while some movements of the other troops were being made, to enable it to take position in the order of battle. The morning was thick and sultry, the sky overcast with low, vapory clouds. As we approached all was astir upon the crests near the Cemetery, and the work of preparation was speedily going on. Men looked like giants there in the mist, and the guns of the frowning batteries so big, that it was a relief to know that they were our friends. Without a topographical map, some description of the ground and location is necessary to a clear understanding of the battle. With the sketch I have rudely drawn, without scale or compass, I hope you may understand my description. The line of battle as it was established, on the evening of the first, and morning of the second of July was in the form of the letter \"U,\" the troops facing outwards. And the \"Cemetery,\" which is at the point of the sharpest curvature of the line, being due South of the town of Gettysburg. \"Round Top,\" the extreme left of the line, is a small, woody, rocky elevation, a very little West of South of the town, and nearly two miles from it. The sides of this are in places very steep, and its rocky summit is almost inaccessible. A short distance North of this is a smaller elevation called \"Little Round Top.\" On the very top of \"Little Round Top,\" we had heavy rifled guns in position during the battle. Near the right of the line is a small, woody eminence, named \"Culp's Hill.\" Three roads come up to the town from the South, which near the town are quite straight, and at the town the external ones unite, forming an angle of about sixty, or more degrees. Of these, the farthest to the East is the \"Baltimore Pike,\" which passes by the East entrance to the Cemetery; the farthest to the West is the \"Emmetsburg road,\" which is wholly outside of our line of battle, but near the Cemetery, is within a hundred yards of it; the \"Taneytown road\" is between these, running nearly due North and South, by the Eastern base of \"Round Top,\" by the Western side of the Cemetery, and uniting with the Emmetsburg road between the Cemetery and the town. High ground near the Cemetery, is named \"Cemetery Ridge.\" The Eleventh Corps--Gen. Howard--was posted at the Cemetery, some of its batteries and troops, actually among the graves and monuments, which they used for shelter from the enemy's fire, its left resting upon the Taneytown road, extending thence to the East, crossing the Baltimore Pike, and thence bending backwards towards the South-east; on the right of the Eleventh came the First Corps, now, since the death of Gen. Reynolds, commanded by Gen. Newton, formed in a line curving still more towards the South. The troops of these two Corps, were re-formed on the morning of the second, in order that each might be by itself, and to correct some things not done well during the hasty formations here the day before. To the right of the First Corps, and on an extension of the same line, along the crest and down the South-eastern slope of Culp's Hill, was posted the Twelfth Corps--Gen. Slocum--its right, which was the extreme right of the line of the army, resting near a small stream called \"Rock Run.\" No changes, that I am aware of, occurred in the formation of this Corps, on the morning of the Second. The Second Corps, after the brief halt that I have mentioned, moved up and took position, its right resting upon the Taneytown road, at the left of the Eleventh Corps, and extending the line thence, nearly a half mile, almost due South, towards Round Top, with its Divisions in the following order, from right to left: The Third, Gen. Alex Hays; the Second (Gibbon's), Gen. Harrow, (temporarily); the First, Gen. Caldwell. The formation was in line by brigade in column, the brigade being in column by regiment, with forty paces interval between regimental lines, the Second and Third Divisions having each one, and the First Division, two brigades--there were four brigades in the First--similarly formed, in reserve, one hundred and fifty paces in the rear of the line of their respective Divisions. That is, the line of the Corps, exclusive of its reserves, was the length of six regiments, deployed, and the intervals between them, some of which were left wide for the posting of the batteries, and consisted of four common deployed lines, each of two ranks of men, and a little more than one-third over in reserve. The five batteries, in all twenty-eight guns, were posted as follows: Woodruff's regular, six twelve-pound Napoleon's, brass, between the two brigades, in line of the Third Division; Arnold's \"A\" first R. I., six three-inch Parrotts, rifled, and Cushing's Regular, four three-inch Ordnance, rifled, between the Third and Second Division; Hazard's, (commanded during the battle by Lieut. Brown,) \"B\" first R. I., and Rhorty's N. G. each, six twelve-pound Napoleon's, brass, between the Second and First Division. I have been thus specific in the description of the posting and formation of the Second Corps, because they were works that I assisted to perform; and also that the other Corps were similarly posted, with reference to the strength of the lines, and the intermixing of infantry and artillery. From this, you may get a notion of the whole. The Third Corps--Gen. Sickles--the remainder of it arriving upon the field this morning, was posted upon the left of the Second extending the line still in the direction of Round Top, with its left resting near \"Little Round Top.\" The left of the Third Corps was the extreme left of the line of battle, until changes occurred, which will be mentioned in the proper place. The Fifth Corps--Gen. Sykes--coming on the Baltimore Pike about this time, was massed there, near the line of battle, and held in reserve until some time in the afternoon, when it changed position, as I shall describe. I cannot give a detailed account of the cavalry, for I saw but little of it. It was posted near the wings, and watched the roads and the movements of the enemy upon the flanks of the army, but further than this participated but little in the battle. Some of it was also used for guarding the trains, which were far to the rear. The artillery reserve, which consisted of a good many batteries, were posted between the Baltimore Pike and the Taneytown road, on very nearly the center of a direct line passing through the extremities of the wings. Thus it could be readily sent to any part of the line. The Sixth Corps--Gen. Sedgwick--did not arrive upon the field until some time in the afternoon, but it was now not very far away, and was coming up rapidly on the Baltimore Pike. No fears were entertained that \"Uncle John,\" as his men call Gen. Sedgwick, would not be in the right place at the right time. These dispositions were all made early, I think before eight o'clock in the morning. Skirmishers were posted well out all around the line, and all put in readiness for battle. The enemy did not yet demonstrate himself. With a look at the ground now, I think you may understand the movements of the battle. From Round Top, by the line of battle, round to the extreme right, I suppose is about three miles. From this same eminence to the Cemetery, extends a long ridge or hill--more resembling a great wave than a hill, however--with its crest, which was the line of battle, quite direct, between the points mentioned. To the West of this, that is towards the enemy, the ground falls away by a very gradual descent, across the Emmetsburg road, and then rises again, forming another ridge, nearly parallel to the first, but inferior in altitude, and something over a thousand yards away. A belt of woods extends partly along this second ridge, and partly farther to the West, at distances of from one thousand to thirteen hundred yards away from our line. Between these ridges, and along their slopes, that is, in front of the Second and Third Corps, the ground is cultivated, and is covered with fields of wheat, now nearly ripe, with grass and pastures, with some peach orchards, with fields of waving corn, and some farm houses, and their out buildings along the Emmetsburg road. There are very few places within the limits mentioned where troops and guns could move concealed. There are some oaks of considerable growth, along the position of the right of the Second Corps, a group of small trees, sassafras and oak, in front of the right of the Second Division of this Corps also; and considerable woods immediately in front of the left of the Third Corps, and also to the West of, and near Round Top. At the Cemetery, where is Cemetery Ridge, to which the line of the Eleventh Corps conforms, is the highest point in our line, except Round Top. From this the ground falls quite abruptly to the town, the nearest point of which is some five hundred yards away from the line, and is cultivated, and checkered with stone fences. The same is the character of the ground occupied by, and in front of the left of the First Corps, which is also on a part of Cemetery Ridge. The right of this Corps, and the whole of the Twelfth, are along Culp's Hill, and in woods, and the ground is very rocky, and in places in front precipitous--a most admirable position for defense from an attack in front, where, on account of the woods, no artillery could be used with effect by the enemy. Then these last three mentioned Corps had, by taking rails, by appropriating stone fences, by felling trees, and digging the earth, during the night of the first of July, made for themselves excellent breast works, which were a very good thing indeed. The position of the First and Twelfth Corps was admirably strong, therefore. Within the line of battle is an irregular basin, somewhat woody and rocky in places, but presenting few obstacles to the moving of troops and guns, from place to place along the lines, and also affording the advantage that all such movements, by reason of the surrounding crests, were out of view of the enemy. On the whole this was an admirable position to fight a defensive battle, good enough, I thought, when I saw it first, and better I believe than could be found elsewhere in a circle of many miles. Evils, sometimes at least, are blessings in disguise, for the repulse of our forces, and the death of Reynolds, on the first of July, with the opportune arrival of Hancock to arrest the tide of fugitives and fix it on these heights, gave us this position--perhaps the position gave us the victory. On arriving upon the field, Gen. Meade established his headquarters at a shabby little farm house on the left of the Taneytown road, the house nearest the line, and a little more than five hundred yards in the rear of what became the center of the position of the Second Corps, a point where he could communicate readily and rapidly with all parts of the army. The advantages of the position, briefly, were these: the flanks were quite well protected by the natural defences there, Round Top up the left, and a rocky, steep, untraversable ground up the right. Our line was more elevated than that of the enemy, consequently our artillery had a greater range and power than theirs. On account of the convexity of our line, every part of the line could be reinforced by troops having to move a shorter distance than if the line were straight; further, for the same reason, the line of the enemy must be concave, and, consequently, longer, and with an equal force, thinner, and so weaker than ours. Upon those parts of our line which were wooded, neither we nor the enemy could use artillery; but they were so strong by nature, aided by art, as to be readily defended by a small, against a very large, body of infantry. When the line was open, it had the advantage of having open country in front, consequently, the enemy here could not surprise, as we were on a crest, which besides the other advantages that I have mentioned, had this: the enemy must advance to the attack up an ascent, and must therefore move slower, and be, before coming upon us, longer under our fire, as well as more exhausted. These, and some other things, rendered our position admirable--for a defensive battle. So, before a great battle, was ranged the Army of the Potomac. The day wore on, the weather still sultry, and the sky overcast, with a mizzling effort at rain. When the audience has all assembled, time seems long until the curtain rises; so to-day. \"Will there be a battle to-day?\" \"Shall we attack the Rebel?\" \"Will he attack us?\" These and similar questions, later in the morning, were thought or asked a million times. Meanwhile, on our part, all was put in the last state of readiness for battle. Surgeons were busy riding about selecting eligible places for Hospitals, and hunting streams, and springs, and wells. Ambulances, and ambulance men, were brought up near the lines, and stretchers gotten ready for use. Who of us could tell but that he would be the first to need them? The Provost Guards were busy driving up all stragglers, and causing them to join their regiments. Ammunition wagons were driven to suitable places, and pack mules bearing boxes of cartridges; and the commands were informed where they might be found. Officers were sent to see that the men had each his hundred rounds of ammunition. Generals and their Staffs were riding here and there among their commands to see that all was right. A staff officer, or an orderly might be seen galloping furiously in the transmission of some order or message.--All, all was ready--and yet the sound of no gun had disturbed the air or ear to-day. And so the men stacked their arms--in long bristling rows they stood along the crests--and were at ease. Some men of the Second and Third Corps pulled down the rail fences near and piled them up for breastworks in their front. Some loitered, some went to sleep upon the ground, some, a single man, carrying twenty canteens slung over his shoulder, went for water. Some made them a fire and boiled a dipper of coffee. Some with knees cocked up, enjoyed the soldier's peculiar solace, a pipe of tobacco. Some were mirthful and chatty, and some were serious and silent. Leaving them thus--I suppose of all arms and grades there were about a hundred thousand of them somewhere about that field--each to pass the hour according to his duty or his humor, let us look to the enemy. Here let me state that according to the best information that I could get, I think a fair estimate of the Rebel force engaged in this battle would be a little upwards of a hundred thousand men of all arms. Of course we can't now know, but there are reasonable data for this estimate. At all events there was no great disparity of numbers in the two opposing armies. We thought the enemy to be somewhat more numerous than we, and he probably was. But if ninety-five men should fight with a hundred and five, the latter would not always be victors--and slight numerical differences are of much less consequence in great bodies of men. Skillful generalship and good fighting are the jewels of war. These concurring are difficult to overcome; and these, not numbers, must determine this battle. During all the morning--and of the night, too--the skirmishers of the enemy had been confronting those of the Eleventh, First and Twelfth Corps. At the time of the fight of the First, he was seen in heavy force North of the town--he was believed to be now in the same neighborhood, in full force. But from the woody character of the country, and thereby the careful concealment of troops, which the Rebel is always sure to effect, during the early part of the morning almost nothing was actually seen by us of the invaders of the North. About nine o'clock in the morning, I should think, our glasses began to reveal them at the West and North-west of the town, a mile and a half away from our lines. They were moving towards our left, but the woods of Seminary Ridge so concealed them that we could not make out much of their movements. About this time some rifled guns in the Cemetery, at the left of the Eleventh Corps, opened fire--almost the first shots of any kind this morning--and when it was found they were firing at a Rebel line of skirmishers merely, that were advancing upon the left of that, and the right of the Second Corps, the officer in charge of the guns was ordered to cease firing, and was rebuked for having fired at all. These skirmishers soon engaged those at the right of the Second Corps, who stood their ground and were reinforced to make the line entirely secure. The Rebel skirmish line kept extending further and further to their right--toward our left. They would dash up close upon ours and sometimes drive them back a short distance, in turn to be repulsed themselves--and so they continued to do until their right was opposite the extreme left of the Third Corps. By these means they had ascertained the position and extent of our lines--but their own masses were still out of view. From the time that the firing commenced, as I have mentioned, it was kept up, among the skirmishers, until quite noon, often briskly; but with no definite results further than those mentioned, and with no considerable show of infantry on the part of the enemy to support. There was a farm house and outbuildings in front of the Third Division of the Second Corps, at which the skirmishers of the enemy had made a dash, and dislodged ours posted there, and from there their sharp shooters began to annoy our line of skirmishers and even the main line, with their long range rifles. I was up to the line, and a bullet from one of the rascals hid there, hissed by my cheek so close that I felt the movement of the air distinctly. And so I was not at all displeased when I saw one of our regiments go down and attack and capture the house and buildings and several prisoners, after a spirited little fight, and, by Gen. Hays' order, burn the buildings to the ground. About noon the Signal Corps, from the top of Little Round Top, with their powerful glasses, and the cavalry at the extreme left, began to report the enemy in heavy force, making disposition of battle, to the West of Round Top, and opposite to the left of the Third Corps. Some few prisoners had been captured, some deserters from the enemy had come in, and from all sources, by this time, we had much important and reliable information of the enemy--of his disposition and apparent purposes. The Rebel infantry consisted of three Army Corps, each consisting of three Divisions, Longstreet, Ewell--the same whose leg Gibbons' shell knocked off at Gainesville on the 28th of August last year--and A. P. Hill, each in the Rebel service having the rank of Lieutenant General, were the commanders of these Corps. Longstreet's Division commanders were Hood, McLaws, and Pickett; Ewell's were Rhodes, Early and Johnson, and Hill's were Pender, Heth and Anderson. Stewart and Fitzhugh Lee commanded Divisions of the Rebel cavalry. The rank of these Division commands, I believe, was that of Major General. The Rebels had about as much artillery as we did; but we never have thought much of this arm in the hands of our adversaries. They have courage enough, but not the skill to handle it well. They generally fire far too high, and the ammunition is usually of a very inferior quality. And, of late, we have begun to despise the enemies' cavalry too. It used to have enterprise and dash, but in the late cavalry contests ours have always been victor; and so now we think about all this _chivalry_ is fit for is to steal a few of our mules occasionally, and their negro drivers. This army of the rebel infantry, however, is good--to deny this is useless. I never had any desire to--and if one should count up, it would possibly be found that they have gained more victories over us, than we have over them, and they will now, doubtless, fight well, even desperately. And it is not horses or cannon that will determine the result of this confronting of the two armies, but the men with the muskets must do it--the infantry must do the sharp work. So we watched all this posting of forces as closely as possible, for it was a matter of vital interest to us, and all information relating to it was hurried to the commander of the army. The Rebel line of battle was concave, bending around our own, with the extremities of the wings opposite to, or a little outside of ours. Longstreet's Corps was upon their right; Hill's in the center. These two Rebel Corps occupied the second or inferior ridge to the West of our position, as I have mentioned, with Hill's left bending towards, and resting near the town, and Ewell's was upon their left, his troops being in, and to the East of the town. This last Corps confronted our Twelfth, First, and the right of the Eleventh Corps. When I have said that ours was a good _defensive_ position, this is equivalant to saying that that of the enemy was not a good _offensive_ one; for these are relative terms, and cannot be both predicated of the respective positions of the two armies at the same time. The reasons that this was not a good offensive position, are the same already stated in favor of ours for defense. Excepting, occasionally, for a brief time, during some movement of troops, as when advancing to attack, their men and guns were kept constantly and carefully, by woods and inequalities of ground, out of our view. Noon is past, one o'clock is past, and, save the skirmishing, that I have mentioned, and an occasional shot from our guns, at something or other, the nature of which the ones who fired it were ignorant, there was no fight yet. Our arms were still stacked, and the men were at ease. As I looked upon those interminable rows of muskets along the crests, and saw how cool and good spirited the men were, who were lounging about on the ground among them, I could not, and did not, have any fears as to the result of the battle. The storm was near, and we all knew it well enough by this time, which was to rain death upon these crests and down their slopes, and yet the men who could not, and would not escape it, were as calm and cheerful, generally, as if nothing unusual were about to happen. You see, these men were veterans, and had been in such places so often that they were accustomed to them. But I was well pleased with the tone of the men to-day--I could almost see the fore-shadowing of victory upon their faces, I thought. And I thought, too, as I had seen the mighty preparations go on to completion for this great conflict--the marshaling of these two hundred thousand men and the guns of the hosts, that now but a narrow valley divided, that to have been in such a battle, and to survive on the side of the victors, would be glorious. Oh, the world is most unchristian yet! Somewhat after one o'clock P. M.--the skirmish firing had nearly ceased now--a movement of the Third Corps occurred, which I shall describe. I cannot conjecture the reason of this movement. From the position of the Third Corps, as I have mentioned, to the second ridge West, the distance is about a thousand yards, and there the Emmetsburg road runs near the crest of the ridge. Gen. Sickles commenced to advance his whole Corps, from the general line, straight to the front, with a view to occupy this second ridge, along, and near the road. What his purpose could have been is past conjecture. It was not ordered by Gen. Meade, as I heard him say, and he disapproved of it as soon as it was made known to him. Generals Hancock and Gibbon, as they saw the move in progress, criticized its propriety sharply, as I know, and foretold quite accurately what would be the result. I suppose the truth probably is that General Sickles supposed he was doing for the best; but he was neither born nor bred a soldier. But one can scarcely tell what may have been the motives of such a man--a politician, and some other things, exclusive of the _Barton Key_ affair--a man after show and notoriety, and newspaper fame, and the adulation of the mob! O, there is a grave responsibility on those in whose hands are the lives of ten thousand men; and on those who put stars upon men's shoulders, too! Bah! I kindle when I see some things that I have to see. But this move of the Third Corps was an important one--it developed the battle--the results of the move to the Corps itself we shall see. O, if this Corps had kept its strong position upon the crest, and supported by the rest of the army, had waited for the attack of the enemy! It was magnificent to see those ten or twelve thousand men--they were good men--with their batteries, and some squadrons of cavalry upon the left flank, all in battle order, in several lines, with flags streaming, sweep steadily down the slope, across the valley, and up the next ascent, toward their destined position! From our position we could see it all. In advance Sickles pushed forward his heavy line of skirmishers, who drove back those of the enemy, across the Emmetsburg road, and thus cleared the way for the main body. The Third Corps now became the absorbing object of interest of all eyes. The Second Corps took arms, and the 1st Division of this Corps was ordered to be in readiness to support the Third Corps, should circumstances render support necessary. As the Third Corps was the extreme left of our line, as it advanced, if the enemy was assembling to the West of Round Top with a view to turn our left, as we had heard, there would be nothing between the left flank of the Corps and the enemy, and the enemy would be square upon its flank by the time it had attained the road. So when this advance line came near the Emmetsburg road, and we saw the squadrons of cavalry mentioned, come dashing back from their position as flankers, and the smoke of some guns, and we heard the reports away to Sickles left, anxiety became an element in our interest in these movements. The enemy opened slowly at first, and from long range; but he was square upon Sickles' left flank. General Caldwell was ordered at once to put his Division--the 1st of the Second Corps, as mentioned--in motion, and to take post in the woods at the left slope of Round Top, in such a manner as to resist the enemy should he attempt to come around Sickles left and gain his rear. The Division moved as ordered, and disappeared from view in the woods, towards the point indicated at between two and three o'clock P. M., and the reserve brigade--the First, Col. Heath temporarily commanding--of the Second Division, was therefore moved up and occupied the position vacated by the Third Division. About the same time the Fifth Corps could be seen marching by the flank from its position on the Baltimore Pike, and in the opening of the woods heading for the same locality where the 1st Division of the Second Corps had gone. The Sixth Corps had now come up and was halted upon the Baltimore Pike. So the plot thickened. As the enemy opened upon Sickles with his batteries, some five or six in all, I suppose, firing slowly, Sickles with as many replied, and with much more spirit. The artillery fire became quite animated, soon; but the enemy was forced to withdraw his guns farther and farther away, and ours advanced upon him. It was not long before the cannonade ceased altogether, the enemy having retired out of range, and Sickles, having temporarily halted his command, pending this, moved forward again to the position he desired, or nearly that. It was now about five o'clock, and we shall soon see what Sickles gained by his move. First we hear more artillery firing upon Sickles' left--the enemy seems to be opening again, and as we watch the Rebel batteries seem to be advancing there. The cannonade is soon opened again, and with great spirit upon both sides. The enemy's batteries press those of Sickles, and pound the shot upon them, and this time they in turn begin to retire to position nearer the infantry. The enemy seem to be fearfully in earnest this time. And what is more ominous than the thunder or the shot of his advancing guns, this time, in the intervals between his batteries, far to Sickles' left, appear the long lines and the columns of the Rebel infantry, now unmistakably moving out to the attack. The position of the Third Corps becomes at once one of great peril, and it is probable that its commander by this time began to realize his true situation. All was astir now on our crest. Generals and their Staffs were galloping hither and thither--the men were all in their places, and you might have heard the rattle of ten thousand ramrods as they drove home and \"thugged\" upon the little globes and cones of lead. As the enemy was advancing upon Sickles' flank, he commenced a change, or at least a partial one, of front, by swinging back his left and throwing forward his right, in order that his lines might be parallel to those of his adversary, his batteries meantime doing what they could to check the enemy's advance; but this movement was not completely executed before new Rebel batteries opened upon Sickles' right flank--his former front--and in the same quarter appeared the Rebel infantry also. Now came the dreadful battle picture, of which we for a time could be but spectators. Upon the front and right flank of Sickles came sweeping the infantry of Longstreet and Hill. Hitherto there had been skirmishing and artillery practice--now the battle began; for amid the heavier smoke and larger tongues of flame of the batteries, now began to appear the countless flashes, and the long fiery sheets of the muskets, and the rattle of the volleys, mingled with the thunder of the guns. We see the long gray lines come sweeping down upon Sickles' front, and mix with the battle smoke; now the same colors emerge from the bushes and orchards upon his right, and envelope his flank in the confusion of the conflict. O, the din and the roar, and these thirty thousand Rebel wolf cries! What a hell is there down that valley! These ten or twelve thousand men of the Third Corps fight well, but it soon becomes apparent that they must be swept from the field, or perish there where they are doing so well, so thick and overwhelming a storm of Rebel fire involves them. It was fearful to see, but these men, such as ever escape, must come from that conflict as best they can. To move down and support them with other troops is out of the question, for this would be to do as Sickles did, to relinquish a good position, and advance to a bad one. There is no other alternative--the Third Corps must fight itself out of its position of destruction! What was it ever put there for? In the meantime some other dispositions must be made to meet the enemy, in the event that Sickles is overpowered. With this Corps out of the way, the enemy would be in a position to advance upon the line of the Second Corps, not in a line parallel with its front, but they would come obliquely from the left. To meet this contingency the left of the Second Division of the Second Corps is thrown back slightly, and two Regiments, the 15th Mass., Col. Ward, and the 82nd N. Y., Lieut. Col. Horton, are advanced down to the Emmetsburg road, to a favorable position nearer us than the fight has yet come, and some new batteries from the artillery reserve are posted upon the crest near the left of the Second Corps. This was all Gen. Gibbon could do. Other dispositions were made or were now being made upon the field, which I shall mention presently. The enemy is still giving Sickles fierce battle--or rather the Third Corps, for Sickles has been borne from the field minus one of his legs, and Gen. Birney now commands--and we of the Second Corps, a thousand yards away, with our guns and men are, and must be, still idle spectators of the fight. The Rebel, as anticipated, tries to gain the left of the Third Corps, and for this purpose is now moving into the woods at the west of Round Top. We knew what he would find there. No sooner had the enemy gotten a considerable force into the woods mentioned, in the attempted execution of his purpose, than the roar of the conflict was heard there also. The Fifth Corps and the First Division of the Second were there at the right time, and promptly engaged him; and there, too, the battle soon became general and obstinate. Now the roar of battle has become twice the volume that it was before, and its range extends over more than twice the space. The Third Corps has been pressed back considerably, and the wounded are streaming to the rear by hundreds, but still the battle there goes on, with no considerable abatement on our part. The field of actual conflict extends now from a point to the front of the left of the Second Corps, away down to the front of Round Top, and the fight rages with the greatest fury. The fire of artillery and infantry and the yells of the Rebels fill the air with a mixture of hideous sounds. When the First Division of the Second Corps first engaged the enemy, for a time it was pressed back somewhat, but under the able and judicious management of Gen. Caldwell, and the support of the Fifth Corps, it speedily ceased to retrograde, and stood its ground; and then there followed a time, after the Fifth Corps became well engaged, when from appearances we hoped the troops already engaged would be able to check entirely, or repulse the further assault of the enemy. But fresh bodies of the Rebels continued to advance out of the woods to the front of the position of the Third Corps, and to swell the numbers of the assailants of this already hard pressed command. The men there begin to show signs of exhaustion--their ammunition must be nearly expended--they have now been fighting more than an hour, and against greatly superior numbers. From the sound of the firing at the extreme left, and the place where the smoke rises above the tree tops there, we know that the Fifth Corps is still steady, and holding its own there; and as we see the Sixth Corps now marching and near at hand to that point, we have no fears for the left--we have more apparent reason to fear for ourselves. The Third Corps is being overpowered--here and there its lines begin to break--the men begin to pour back to the rear in confusion--the enemy are close upon them and among them--organization is lost to a great degree--guns and caissons are abandoned and in the hands of the enemy--the Third Corps, after a heroic but unfortunate fight, is being literally swept from the field. That Corps gone, what is there between the Second Corps, and these yelling masses of the enemy? Do you not think that by this time we began to feel a personal interest in this fight? We did indeed. We had been mere observers--the time was at hand when we must be actors in this drama. Up to this hour Gen. Gibbon had been in command of the Second Corps, since yesterday, but Gen. Hancock, relieved of his duties elsewhere, now assumed command. Five or six hundred yards away the Third Corps was making its last opposition; and the enemy was hotly pressing his advantages there, and throwing in fresh troops whose line extended still more along our front, when Generals Hancock and Gibbon rode along the lines of their troops; and at once cheer after cheer--not Rebel, mongrel cries, but genuine cheers--rang out all along the line, above the roar of battle, for \"Hancock\" and \"Gibbon,\" and \"our Generals.\" These were good. Had you heard their voices, you would have known these men would fight. Just at this time we saw another thing that made us glad:--we looked to our rear, and there, and all up the hillside which was the rear of the Third Corps before it went forward, were rapidly advancing large bodies of men from the extreme right of our line of battle, coming to the support of the part now so hotly pressed. There was the whole Twelfth Corps, with the exception of about one brigade, that is, the larger portion of the Divisions of Gens. Williams and Geary; the Third Division of the First Corps, Gen. Doubleday; and some other brigades from the same Corps--and some of them were moving at the double quick. They formed lines of battle at the foot of the Taneytown road, and when the broken fragments of the Third Corps were swarming by them towards the rear, without halting or wavering they came sweeping up, and with glorious old cheers, under fire, took their places on the crest in line of battle to the left of the Second Corps. Now Sickles' blunder is repaired. Now, Rebel chief, hurl forward your howling lines and columns! Yell out your loudest and your last, for many of your best will never yell, or wave the spurious flag again! The battle still rages all along the left, where the Fifth Corps is, and the West slope of Round Top is the scene of the conflict; and nearer us there was but short abatement, as the last of the Third Corps retired from the field, for the enemy is flushed with his success. He has been throwing forward brigade after brigade, and Division after Division, since the battle began, and his advancing line now extends almost as far to our right as the right of the Second Division of the Second Corps. The whole slope in our front is full of them; and in various formation, in line, in column, and in masses which are neither, with yells and thick volleys, they are rushing towards our crest. The Third Corps is out of the way. Now we are in for it. The battery men are ready by their loaded guns. All along the crest is ready. Now Arnold and Brown--now Cushing, and Woodruff, and Rhorty!--you three shall survive to-day! They drew the cords that moved the friction primers, and gun after gun, along the batteries, in rapid succession, leaped where it stood and bellowed its canister upon the enemy. The enemy still advance. The infantry open fire--first the two advance regiments, the 15th Mass. and the 82d N. Y.--then here and there throughout the length of the long line, at the points where the enemy comes nearest, and soon the whole crest, artillery and infantry, is one continued sheet of fire. From Round Top to near the Cemetery stretches an uninterrupted field of conflict. There is a great army upon each side, now hotly engaged. To see the fight, while it went on in the valley below us, was terrible,--what must it be now, when we are in it, and it is all around us, in all its fury? All senses for the time are dead but the one of sight. The roar of the discharges and the yells of the enemy all pass unheeded; but the impassioned soul is all eyes, and sees all things, that the smoke does not hide. How madly the battery men are driving home the double charges of canister in those broad-mouthed Napoleons, whose fire seems almost to reach the enemy. How rapidly these long, blue-coated lines of infantry deliver their file fire down the slope. But there is no faltering--the men stand nobly to their work. Men are dropping dead or wounded on all sides, by scores and by hundreds, and the poor mutilated creatures, some with an arm dangling, some with a leg broken by a bullet, are limping and crawling towards the rear. They make no sound of complaint or pain, but are as silent as if dumb and mute. A sublime heroism seems to pervade all, and the intuition that to lose that crest, all is lost. How our officers, in the work of cheering on and directing the men, are falling. We have heard that Gen. Zook and Col. Cross, in the First Division of our Corps, are mortally wounded--they both commanded brigades,--now near us Col. Ward of the 15th Mass.--he lost a leg at Balls Bluff--and Lieut. Col. Horton of the 82d N. Y., are mortally struck while trying to hold their commands, which are being forced back; Col. Revere, 20th Mass., grandson of old Paul Revere, of the Revolution, is killed, Lieut. Col. Max Thoman, commanding 59th N. Y., is mortally wounded, and a host of others that I cannot name. These were of Gibbon's Division. Lieut. Brown is wounded among his guns--his position is a hundred yards in advance of the main line--the enemy is upon his battery, and he escapes, but leaves three of his six guns in the hands of the enemy. The fire all along our crest is terrific, and it is a wonder how anything human could have stood before it, and yet the madness of the enemy drove them on, clear up to the muzzle of the guns, clear up to the lines of our infantry--but the lines stood right in their places. Gen. Hancock and his Aides rode up to Gibbon's Division, under the smoke. Gen. Gibbon, with myself, was near, and there was a flag dimly visible, coming towards us from the direction of the enemy. \"Here, what are these men falling back for?\" said Hancock. The flag was no more than fifty yards away, but it was the head of a Rebel column, which at once opened fire with a volley. Lieut. Miller, Gen. Hancock's Aide, fell, twice struck, but the General was unharmed, and he told the 1st Minn., which was near, to drive these people away. That splendid regiment, the less than three hundred that are left out of fifteen hundred that it has had, swings around upon the enemy, gives them a volley in their faces, and advances upon them with the bayonet. The Rebels fled in confusion, but Col. Colville, Lieut. Col. Adams and Major Downie, are all badly, dangerously wounded, and many of the other officers and men will never fight again. More than two-thirds fell. Such fighting as this cannot last long. It is now near sundown, and the battle has gone on wonderfully long already. But if you will stop to notice it, a change has occurred. The Rebel cry has ceased, and the men of the Union begin to shout there, under the smoke, and their lines to advance. See, the Rebels are breaking! They are in confusion in all our front! The wave has rolled upon the rock, and the rock has smashed it. Let us shout, too! First upon their extreme left the Rebels broke, where they had almost pierced our lines; thence the repulse extended rapidly to their right. They hung longest about Round Top, where the Fifth Corps punished them, but in a space of time incredibly short, after they first gave signs of weakness, the whole force of the Rebel assault along the whole line, in spite of waving red flags, and yells, and the entreaties of officers, and the pride of the chivalry, fled like chaff before the whirlwind, back down the slope, over the valley, across the Emmetsburg road, shattered, without organization in utter confusion, fugitive into the woods, and victory was with the arms of the Republic. The great Rebel assault, the greatest ever made upon this continent, has been made and signally repulsed, and upon this part of the field the fight of to-day is now soon over. Pursuit was made as rapidly and as far as practicable, but owing to the proximity of night, and the long distance which would have to be gone over before any of the enemy, where they would be likely to halt, could be overtaken, further success was not attainable to-day. Where the Rebel rout first commenced, a large number of prisoners, some thousands at least, were captured; almost all their dead, and such of their wounded as could not themselves get to the rear, were within our lines; several of their flags were gathered up, and a good many thousand muskets, some nine or ten guns and some caissons lost by the Third Corps, and the three of Brown's battery--these last were in Rebel hands but a few minutes--were all safe now with us, the enemy having had no time to take them off. Not less, I estimate, than twenty thousand men were killed or wounded in this fight. Our own losses must have been nearly half this number,--about four thousand in the Third Corps, fully two thousand in the Second, and I think two thousand in the Fifth, and I think the losses of the First, Twelfth, and a little more than a brigade of the Sixth--all of that Corps which was actually engaged--would reach nearly two thousand more. Of course it will never be possible to know the numbers upon either side who fell in this particular part of the general battle, but from the position of the enemy and his numbers, and the appearance of the field, his loss must have been as heavy, or as I think much heavier than our own, and my estimates are probably short of the actual loss. [Illustration: Battle of Gettysburg--Final attack, July 2 (Compiled by C. E. Estabrook)] The fight done, the sudden revulsions of sense and feeling follow, which more or less characterize all similar occasions. How strange the stillness seems! The whole air roared with the conflict but a moment since--now all is silent; not a gunshot sound is heard, and the silence comes distinctly, almost painfully to the senses. And the sun purples the clouds in the West, and the sultry evening steals on as if there had been no battle, and the furious shout and the cannon's roar had never shaken the earth. And how look these fields? We may see them before dark--the ripening grain, the luxuriant corn, the orchards, the grassy meadows, and in their midst the rural cottage of brick or wood. They were beautiful this morning. They are desolate now--trampled by the countless feet of the combatants, plowed and scored by the shot and shell, the orchards splintered, the fences prostrate, the harvest trodden in the mud. And more dreadful than the sight of all this, thickly strewn over all their length and breadth, are the habiliments of the soldiers, the knapsacks cast aside in the stress of the fight, or after the fatal lead had struck; haversacks, yawning with the rations the owner will never call for; canteens of cedar of the Rebel men of Jackson, and of cloth-covered tin of the men of the Union; blankets and trowsers, and coats and caps, and some are blue and some are gray; muskets and ramrods, and bayonets, and swords, and scabbards and belts, some bent and cut by the shot or shell; broken wheels, exploded caissons, and limber-boxes, and dismantled guns, and all these are sprinkled with blood; horses, some dead, a mangled heap of carnage, some alive, with a leg shot clear off, or other frightful wounds, appealing to you with almost more than brute gaze as you pass; and last, but not least numerous, many thousands of men--and there was no rebellion here now--the men of South Carolina were quiet by the side of those of Massachusetts, some composed, with upturned faces, sleeping the last sleep, some mutilated and frightful, some wretched, fallen, bathed in blood, survivors still and unwilling witnesses of the rage of Gettysburg. And yet with all this before them, as darkness came on, and the dispositions were made and the outposts thrown out for the night, the Army of the Potomac was quite mad with joy. No more light-hearted guests ever graced a banquet, than were these men as they boiled their coffee and munched their soldiers' supper to-night. Is it strange? Otherwise they would not have been soldiers. And such sights as all these will be certain to be seen as long as war lasts in the world, and when war is done, then is the end and the days of the millenium are at hand. The ambulances commenced their work as soon as the battle opened--the twinkling lanterns through the night, and the sun of to-morrow saw them still with the same work unfinished. I wish that I could write, that with the coming on of darkness, ended the fight of to-day, but such was not the case. The armies have fought enough to-day, and ought to sleep to-night, one would think, but not so thought the Rebel. Let us see what he gained by his opinion. When the troops, including those of the Twelfth Corps had been withdrawn from the extreme right of our line, in the afternoon, to support the left, as I have mentioned, thereby, of course, weakening that part of the line so left, the Rebel Ewell, either becoming aware of the fact, or because he thought he could carry our right at all events, late in the afternoon commenced an assault upon that part of our line. His battle had been going on there simultaneously with the fight on the left, but not with any great degree of obstinacy on his part. He had advanced his men through the woods, and in front of the formidable position lately held by the Twelfth Corps cautiously, and to his surprise, I have no doubt, found our strong defenses upon the extreme right, entirely abandoned. These he at once took possession of, and simultaneously made an attack upon our right flank, which was now near the summit of Culp's hill, and upon the front of that part of the line. That small portion of the Twelfth Corps, which had been left there, and some of the Eleventh Corps, sent to their assistance, did what they could to check the Rebels; but the Eleventh Corps men were getting shot at there, and they did not want to stay. Matters began to have a bad look in that part of the field. A portion of the First Division of the First Corps, was sent there for support--the 6th Wisconsin, among others, and this improved matters--but still, as we had but a small number of men there, all told, the enemy with their great numbers, were having too much prospect of success, and it seems that, probably emboldened by this, Ewell had resolved upon a night attack upon that wing of the army, and was making his dispositions accordingly. The enemy had not at sundown, actually carried any part of our rifle pits there, save the ones abandoned, but he was getting troops assembled upon our flank, and altogether, with our weakness there, at that time, matters did not look as we would like to have them. Such was then the posture of affairs, when the fight upon our left, that I have described, was done. Under such circumstances it is not strange that the Twelfth Corps, as soon as its work was done upon the left, was quickly ordered back to the right, to its old position. There it arrived in good time; not soon enough, of course, to avoid the mortification of finding the enemy in the possession of a part of the works the men had labored so hard to construct, but in ample time before dark to put the men well in the pits we already held, and to take up a strong defensible position, at right angles to, and in rear of the main line, in order to resist these flanking dispositions of the enemy. The army was secure again. The men in the works would be steady against all attacks in front, as long as they knew that their flank was safe. Until between ten and eleven o'clock at night, the woods upon the right, resounded with the discharges of musketry. Shortly after or about dark, the enemy made a dash upon the right of the Eleventh Corps. They crept up the windings of a valley, not in a very heavy force, but from the peculiar mode in which this Corps does outpost duty, quite unperceived in the dark until they were close upon the main line. It is said, I do not know it to be true, that they spiked two guns of one of the Eleventh Corps' batteries, and that the battery men had to drive them off with their sabres and rammers, and that there was some fearful \"Dutch\" swearing on the occasion, \"_donner wetter_\" among other similar impious oaths, having been freely used. The enemy here were finally repulsed by the assistance of Col. Correll's brigade of the Third Division of the Second Corps, and the 106th Pa., from the Second Division of the same Corps, was by Gen. Howard's request sent there to do outpost duty. It seems to have been a matter of utter madness and folly on the part of the enemy to have continued their night attack, as they did upon the right. Our men were securely covered by ample works and even in most places a log was placed a few inches above the top of the main breastwork, as a protection to the heads of the men as they thrust out their pieces beneath it to fire. Yet in the darkness the enemy would rush up, clambering over rocks and among trees, even to the front of the works, but only to leave their riddled bodies there upon the ground or to be swiftly repulsed headlong into the woods again. In the darkness the enemy would climb trees close to the works, and endeavor to shoot our men by the light of the flashes. When discovered, a thousand bullets would whistle after them in the dark, and some would hit, and then the Rebel would make up his mind to come down. Our loss was light, almost nothing in this fight--the next morning the enemy's dead were thick all along this part of the line. Near eleven o'clock the enemy, wearied with his disastrous work, desisted, and thereafter until morning, not a shot was heard in all the armies. So much for the battle. There is another thing that I wish to mention, of the matters of the 2d of July. After evening came on, and from reports received, all was known to be going satisfactorily upon the right, Gen. Meade summoned his Corps Commanders to his Headquarters for consultation. A consultation is held upon matters of vast moment to the country, and that poor little farm-house is honored with more distinguished guests than it ever had before, or than it will ever have again, probably. Do you expect to see a degree of ceremony, and severe military aspect characterize this meeting, in accordance with strict military rules, and commensurate with the moment of the matters of their deliberation? Name it \"Major General Meade, Commander of the Army of the Potomac, with his Corps Generals, holding a Council of War, upon the field of Gettysburg,\" and it would sound pretty well,--and that was what it was; and you might make a picture of it and hang it up by the side of \"Napoleon and his Marshals,\" and \"Washington and his Generals,\" maybe, at some future time. But for the artist to draw his picture from, I will tell how this council appeared. Meade, Sedgwick, Slocum, Howard, Hancock, Sykes, Newton, Pleasanton--commander of the cavalry--and Gibbon, were the Generals present. Hancock, now that Sickles is wounded, has charge of the Third Corps, and Gibbon again has the Second. Meade is a tall spare man, with full beard, which with his hair, originally brown, is quite thickly sprinkled with gray--has a Romanish face, very large nose, and a white, large forehead, prominent and wide over the eyes, which are full and large, and quick in their movements, and he wears spectacles. His _fibres_ are all of the long and sinewy kind. His habitual personal appearance is quite careless, and it would be rather difficult to make him look well dressed. Sedgwick is quite a heavy man, short, thick-set and muscular, with florid complexion, dark, calm, straight-looking eyes, with full, heavyish features, which, with his eyes, have plenty of animation when he is aroused. He has a magnificent profile, well cut, with the nose and forehead forming almost a straight line, curly, short, chestnut hair and full beard, cut short, with a little gray in it. He dresses carelessly, but can look magnificently when he is well dressed. Like Meade, he looks and is, honest and modest. You might see at once, why his men, because they love him, call him \"Uncle John,\" not to his face, of course, but among themselves. Slocum is small, rather spare, with black, straight hair and beard, which latter is unshaven and thin, large, full, quick, black eyes, white skin, sharp nose, wide cheek bones, and hollow cheeks and small chin. His movements are quick and angular, and he dresses with a sufficient degree of elegance. Howard is medium in size, has nothing marked about him, is the youngest of them all, I think--has lost an arm in the war, has straight brown hair and beard, shaves his short upper lip, over which his nose slants down, dim blue eyes, and on the whole, appears a very pleasant, affable, well dressed little gentleman. Hancock is the tallest and most shapely, and in many respects is the best looking officer of them all. His hair is very light brown, straight and moist, and always looks well, his beard is of the same color, of which he wears the moustache and a tuft upon the chin; complexion ruddy, features neither large nor small, but well cut, with full jaw and chin, compressed mouth, straight nose, full, deep blue eyes, and a very mobile, emotional countenance. He always dresses remarkably well, and his manner is dignified, gentlemanly and commanding. I think if he were in citizens clothes, and should give commands in the army to those who did not know him, he would be likely to be obeyed at once, and without any question as to his right to command. Sykes is a small, rather thin man, well dressed and gentlemanly, brown hair and beard, which he wears full, with a red, pinched, rough-looking skin, feeble blue eyes, long nose, with the general air of one who is weary and a little ill-natured. Newton is a well-sized, shapely, muscular, well dressed man, with brown hair, with a very ruddy, clean-shaved, full face, blue eyes, blunt, round features, walks very erect, curbs in his chin, and has somewhat of that smart sort of swagger that people are apt to suppose characterizes soldiers. Pleasonton is quite a nice little dandy, with brown hair and beard, a straw hat with a little jockey rim, which he cocks upon one side of his head, with an unsteady eye, that looks slyly at you and then dodges. Gibbon, the youngest of them all, save Howard, is about the same size as Slocum, Howard, Sykes and Pleasonton, and there are none of these who will weigh one hundred and fifty pounds. He is compactly made, neither spare nor corpulent, with ruddy complexion, chestnut brown hair, with a clean-shaved face, except his moustache, which is decidedly reddish in color, medium-sized, well-shaped head, sharp, moderately-jutting brow, deep blue, calm eyes, sharp, slightly aquiline nose, compressed mouth, full jaws and chin, with an air of calm firmness in his manner. He always looks well dressed. I suppose Howard is about thirty-five and Meade about forty-five years of age; the rest are between these ages, but not many under forty. As they come to the council now, there is the appearance of fatigue about them, which is not customary, but is only due to the hard labors of the past few days. They all wear clothes of dark blue, some have top boots and some not, and except the two-starred straps upon the shoulders of all save Gibbon, who has but one star, there was scarcely a piece of regulation uniform about them all. They wore their swords, of various patterns, but no sashes, the Army hat, but with the crown pinched into all sorts of shapes and the rim slouched down and shorn of all its ornaments but the gilt band--except Sykes who wore a blue cap, and Pleasonton with his straw hat with broad black band. Then the mean little room where they met,--its only furniture consisted of a large, wide bed in one corner, a small pine table in the center, upon which was a wooden pail of water, with a tin cup for drinking, and a candle, stuck to the table by putting the end in tallow melted down from the wick, and five or six straight-backed rush-bottomed chairs. The Generals came in--some sat, some kept walking or standing, two lounged upon the bed, some were constantly smoking cigars. And thus disposed, they deliberated whether the army should fall back from its present position to one in rear which it was said was stronger, should attack the enemy on the morrow, wherever he could be found, or should stand there upon the horse-shoe crest, still on the defensive, and await the further movements of the enemy. The latter proposition was unanimously agreed to. Their heads were sound. The Army of the Potomac would just halt right there, and allow the Rebel to come up and smash his head against it, to any reasonable extent he desired, as he had to-day. After some two hours the council dissolved, and the officers went their several ways. Night, sultry and starless, droned on, and it was almost midnight that I found myself peering my way from the line of the Second Corps, back down to the General's Headquarters, which were an ambulance in the rear, in a little peach orchard. All was silent now but the sound of the ambulances, as they were bringing off the wounded, and you could hear them rattle here and there about the field, and see their lanterns. I am weary and sleepy, almost to such an extent as not to be able to sit on my horse. And my horse can hardly move--the spur will not start him--what can be the reason? I know that he has been touched by two or three bullets to-day, but not to wound or lame him to speak of. Then, in riding by a horse that is hitched, in the dark, I got kicked; had I not a very thick boot, the blow would have been likely to have broken my ankle--it did break my temper as it was--and, as if it would cure matters, I foolishly spurred my horse again. No use, he would but walk. I dismounted; I could not lead him along at all, so out of temper I rode at the slowest possible walk to the Headquarters, which I reached at last. General Hancock and Gibbon were asleep in the ambulance. With a light I found what was the matter with \"Billy.\" A bullet had entered his chest just in front of my left leg, as I was mounted, and the blood was running down all his side and leg, and the air from his lungs came out of the bullet-hole. I begged his pardon mentally for my cruelty in spurring him, and should have done so in words if he could have understood me. Kind treatment as is due to the wounded he could understand, and he had it. Poor Billy! He and I were first under fire together, and I rode him at the second Bull Run and the first and second Fredericksburg, and at Antietam after brave \"Joe\" was killed; but I shall never mount him again--Billy's battles are over. \"George, make my bed here upon the ground by the side of this ambulance. Pull off my sabre and my boots--that will do!\" Was ever princely couch or softest down so soft as those rough blankets, there upon the unroofed sod? At midnight they received me for four hours delicious, dreamless oblivion of weariness and of battle. So to me ended the Second of July. At four o'clock on the morning of the Third, I was awakened by Gen. Gibbon's pulling me by the foot and saying: \"Come, don't you hear that?\" I sprang up to my feet. Where was I? A moment and my dead senses and memory were alive again, and the sound of brisk firing of musketry to the front and right of the Second Corps, and over at the extreme right of our line, where we heard it last in the night, brought all back to my memory. We surely were on the field of battle, and there were palpable evidences to my reason that to-day was to be another of blood. Oh! for a moment the thought of it was sickening to every sense and feeling! But the motion of my horse as I galloped over the crest a few minutes later, and the serene splendor of the morning now breaking through rifted clouds and spreading over the landscape, soon reassured me. Come day of battle! Up Rebel hosts, and thunder with your arms! We are all ready to do and to die for the Republic! I found a sharp skirmish going on in front of the right of the Second Corps, between our outposts and those of the enemy, but save this--and none of the enemy but his outposts were in sight--all was quiet in that part of the field. On the extreme right of the line the sound of musketry was quite heavy; and this I learned was brought on by the attack of the Second Division, Twelfth Corps, Gen. Geary, upon the enemy in order to drive him out of our works which he had sneaked into yesterday, as I have mentioned. The attack was made at the earliest moment in the morning when it was light enough to discern objects to fire at. The enemy could not use the works, but was confronting Geary in woods, and had the cover of many rocks and trees, so the fight was an irregular one, now breaking out and swelling to a vigorous fight, now subsiding to a few scattering shots; and so it continued by turns until the morning was well advanced, when the enemy was finally wholly repulsed and driven from the pits, and the right of our line was again re-established in the place it first occupied. The heaviest losses the Twelfth Corps sustained in all the battle, occurred during this attack, and they were here quite severe. I heard Gen. Meade express dissatisfaction at Gen. Geary for making this attack, as a thing not ordered and not necessary, as the works of ours were of no intrinsic importance, and had not been captured from us by a fight, and Geary's position was just as good as they, where he was during the night. And I heard Gen. Meade say that he sent an order to have the fight stopped; but I believe the order was not communicated to Geary until after the repulse of the enemy. Late in the forenoon the enemy again tried to carry our right by storm. We heard that old Rebel Ewell had sworn an oath that he would break our right. He had Stonewall Jackson's Corps, and possibly imagined himself another Stonewall, but he certainly _hankered_ after the right of our line--and so up through the woods, and over the rocks, and up the steeps he sent his storming parties--our men could see them now in the day time. But all the Rebel's efforts were fruitless, save in one thing, slaughter to his own men. These assaults were made with great spirit and determination, but as the enemy would come up, our men lying behind their secure defenses would just singe them with the blaze of their muskets, and riddle them, as a hail-storm the tender blades of corn. The Rebel oath was not kept, any more than his former one to support the Constitution of the United States. The Rebel loss was very heavy indeed, here, ours but trifling. I regret that I cannot give more of the details of this fighting upon the right--it was so determined upon the part of the enemy, both last night and this morning--so successful to us. About all that I actually saw of it during its progress, was the smoke, and I heard the discharges. My information is derived from officers who were personally in it. Some of our heavier artillery assisted our infantry in this by firing, with the piece elevated, far from the rear, over the heads of our men, at a distance from the enemy of two miles, I suppose. Of course they could have done no great damage. It was nearly eleven o'clock that the battle in this part of the field subsided, not to be again renewed. All the morning we felt no apprehension for this part of the line, for we knew its strength, and that our troops engaged, the Twelfth Corps and the First Division, Wadsworth's, of the First, could be trusted. For the sake of telling one thing at a time, I have anticipated events somewhat, in writing of this fight upon the right. I shall now go back to the starting point, four o'clock this morning, and, as other events occurred during the day, second to none in the battle in importance, which I think I saw as much of as any man living, I will tell you something of them, and what I saw, and how the time moved on. The outpost skirmish that I have mentioned, soon subsided. I suppose it was the natural escape of the wrath which the men had, during the night, hoarded up against each other, and which, as soon as they could see in the morning, they could no longer contain, but must let it off through their musket barrels, at their adversaries. At the commencement of the war such firing would have awaked the whole army and roused it to its feet and to arms; not so now. The men upon the crest lay snoring in their blankets, even though some of the enemy's bullets dropped among them, as if bullets were as harmless as the drops of dew around them. As the sun arose to-day, the clouds became broken, and we had once more glimpses of sky, and fits of sunshine--a rarity, to cheer us. From the crest, save to the right of the Second Corps, no enemy, not even his outposts could be discovered, along all the position where he so thronged upon the Third Corps yesterday. All was silent there--the wounded horses were limping about the field; the ravages of the conflict were still fearfully visible--the scattered arms and the ground thickly dotted with the dead--but no hostile foe. The men were roused early, in order that the morning meal might be out of the way in time for whatever should occur. Then ensued the hum of an army, not in ranks, chatting in low tones, and running about and jostling among each other, rolling and packing their blankets and tents. They looked like an army of rag-gatherers, while shaking these very useful articles of the soldier's outfit, for you must know that rain and mud in conjunction have not had the effect to make them clean, and the wear and tear of service have not left them entirely whole. But one could not have told by the appearance of the men, that they were in battle yesterday, and were likely to be again to-day. They packed their knapsacks, boiled their coffee and munched their hard bread, just as usual--just like old soldiers who know what campaigning is; and their talk is far more concerning their present employment--some joke or drollery--than concerning what they saw or did yesterday. As early as practicable the lines all along the left are revised and reformed, this having been rendered necessary by yesterday's battle, and also by what is anticipated to-day. It is the opinion of many of our Generals that the Rebel will not give us battle to-day--that he had enough yesterday--that he will be heading towards the Potomac at the earliest practicable moment, if he has not already done so; but the better, and controlling judgment is, that he will make another grand effort to pierce or turn our lines--that he will either mass and attack the left again, as yesterday, or direct his operations against the left of our center, the position of the Second Corps, and try to sever our line. I infer that Gen. Meade was of the opinion that the attack to-day would be upon the left--this from the disposition he ordered, I know that Gen. Hancock anticipated the attack upon the center. The dispositions to-day upon the left are as follows: The Second and Third Divisions of the Second Corps are in the position of yesterday; then on the left come Doubleday's--the Third Division and Col. Stannard's brigade of the First Corps; then Colwell's--the First Division of the Second Corps; then the Third Corps, temporarily under the command of Hancock, since Sickles' wound. The Third Corps is upon the same ground in part, and on the identical line where it first formed yesterday morning, and where, had it stayed instead of moving out to the front, we should have many more men to-day, and should not have been upon the brink of disaster yesterday. On the left of the Third Corps is the Fifth Corps, with a short front and deep line; then comes the Sixth Corps, all but one brigade, which is sent over to the Twelfth. The Sixth, a splendid Corps, almost intact in the fight of yesterday, is the extreme left of our line, which terminates to the south of Round Top, and runs along its western base, in the woods, and thence to the Cemetery. This Corps is burning to pay off the old scores made on the 4th of May, there back of Fredericksburg. Note well the position of the Second and Third Divisions of the Second Corps--it will become important. There are nearly six thousand men and officers in these two Divisions here upon the field--the losses were quite heavy yesterday, some regiments are detached to other parts of the field--so all told there are less than six thousand men now in the two Divisions, who occupy a line of about a thousand yards. The most of the way along this line upon the crest was a stone fence, constructed of small, rough stones, a good deal of the way badly pulled down, but the men had improved it and patched it with rails from the neighboring fences, and with earth, so as to render it in many places a very passable breastwork against musketry and flying fragments of shells. These works are so low as to compel the men to kneel or lie down generally to obtain cover. Near the right of the Second Division, and just by the little group of trees that I have mentioned there, this stone fence made a right angle, and extended thence to the front, about twenty or thirty yards, where with another less than a right angle it followed along the crest again. The lines were conformed to these breastworks and to the nature of the ground upon the crest, so as to occupy the most favorable places, to be covered, and still be able to deliver effective fire upon the enemy should he come there. In some places a second line was so posted as to be able to deliver its fire over the heads of the first line behind the works; but such formation was not practicable all of the way. But all the force of these two divisions was in line, in position, without reserves, and in such a manner that every man of them could have fired his piece at the same instant. The division flags, that of the Second Division, being a white trefoil upon a square blue field, and of the Third Division a blue trefoil upon a white rectangular field, waved behind the divisions at the points where the Generals of Division were supposed to be; the brigade flags, similar to these but with a triangular field, were behind the brigades; and the national flags of the regiments were in the lines of their regiments. To the left of the Second Division, and advanced something over a hundred yards, were posted a part of Stannard's Brigade two regiments or more, behind a small bush-crowned crest that ran in a direction oblique to the general line. These were well covered by the crest, and wholly concealed by the bushes, so that an advancing enemy would be close upon them before they could be seen. Other troops of Doubleday's Division were strongly posted in rear of these in the general line. I could not help wishing all the morning that this line of the two divisions of the Second Corps was stronger; it was so far as numbers constitute strength, the weakest part of our whole line of battle. What if, I thought, the enemy should make an assault here to-day, with two or three heavy lines--a great overwhelming mass; would he not sweep through that thin six thousand? But I was not General Meade, who alone had power to send other troops there; and he was satisfied with that part of the line as it was. He was early on horseback this morning, and rode along the whole line, looking to it himself, and with glass in hand sweeping the woods and fields in the direction of the enemy, to see if aught of him could be discovered. His manner was calm and serious, but earnest. There was no arrogance of hope, or timidity of fear discernible in his face; but you would have supposed he would do his duty conscientiously and well, and would be willing to abide the result. You would have seen this in his face. He was well pleased with the left of the line to-day, it was so strong with good troops. He had no apprehension for the right where the fight now was going on, on account of the admirable position of our forces there. He was not of the opinion that the enemy would attack the center, our artillery had such sweep there, and this was not the favorite point of attack with the Rebel. Besides, should he attack the center, the General thought he could reinforce it in good season. I heard Gen. Meade speak of these matters to Hancock and some others, at about nine o'clock in the morning, while they were up by the line, near the Second Corps. No further changes of importance except those mentioned, were made in the disposition of the troops this morning, except to replace some of the batteries that were disabled yesterday by others from the artillery reserve, and to brace up the lines well with guns wherever there were eligible places, from the same source. The line is all in good order again, and we are ready for general battle. Save the operations upon the right, the enemy so far as we could see, was very quiet all the morning. Occasionally the outposts would fire a little, and then cease. Movements would be discovered which would indicate the attempt on the part of the enemy to post a battery. Our Parrotts would send a few shells to the spot, then silence would follow. At one of these times a painful accident happened to us, this morning. First Lieut. Henry Ropes, 20th Mass., in Gen. Gibbon's Division, a most estimable gentleman and officer, intelligent, educated, refined, one of the noble souls that came to the country's defense, while lying at his post with his regiment, in front of one of the Batteries, which fired over the Infantry, was instantly killed by a badly made shell, which, or some portion of it, fell but a few yards in front of the muzzle of the gun. The same accident killed or wounded several others. The loss of Ropes would have pained us at any time, and in any manner; in this manner his death was doubly painful. Between ten and eleven o'clock, over in a peach orchard in front of the position of Sickles yesterday, some little show of the enemy's infantry was discovered; a few shells scattered the gray-backs; they again appeared, and it becoming apparent that they were only posting a skirmish line, no further molestation was offered them. A little after this some of the enemy's flags could be discerned over near the same quarter, above the top and behind a small crest of a ridge. There seemed to be two or three of them--possibly they were guidons--and they moved too fast to be carried on foot. Possibly, we thought, the enemy is posting some batteries there. We knew in about two hours from this time better about the matter. Eleven o'clock came. The noise of battle has ceased upon the right; not a sound of a gun or musket can be heard on all the field; the sky is bright, with only the white fleecy clouds floating over from the West. The July sun streams down its fire upon the bright iron of the muskets in stacks upon the crest, and the dazzling brass of the Napoleons. The army lolls and longs for the shade, of which some get a hand's breadth, from a shelter tent stuck upon a ramrod. The silence and sultriness of a July noon are supreme. Now it so happened that just about this time of day a very original and interesting thought occurred to Gen. Gibbon and several of his staff; that it would be a very good thing, and a very good time, to have something to eat. When I announce to you that I had not tasted a mouthful of food since yesterday noon, and that all I had had to drink since that time, but the most miserable muddy warm water, was a little drink of whiskey that Major Biddle, General Meade's aide-de-camp, gave me last evening, and a cup of strong coffee that I gulped down as I was first mounting this morning, and further, that, save the four or five hours in the night, there was scarcely a moment since that time but that I was in the saddle, you may have some notion of the reason of my assent to this extraordinary proposition. Nor will I mention the doubts I had as to the feasibility of the execution of this very novel proposal, except to say that I knew this morning that our larder was low; not to put too fine a point upon it, that we had nothing but some potatoes and sugar and coffee in the world. And I may as well say here, that of such, in scant proportion, would have been our repast, had it not been for the riding of miles by two persons, one an officer, to procure supplies; and they only succeeded in getting some few chickens, some butter, and one huge loaf of bread, which last was bought of a soldier, because he had grown faint in carrying it, and was afterwards rescued with much difficulty and after a long race from a four-footed hog, which had got hold of and had actually eaten a part of it. \"There is a divinity,\" etc. Suffice it, this very ingenious and unheard of contemplated proceeding, first announced by the General, was accepted and at once undertaken by his staff. Of the absolute quality of what we had to eat, I could not pretend to judge, but I think an unprejudiced person would have said of the bread that it was good; so of the potatoes before they were boiled. Of the chickens he would have questioned their age, but they were large and in good _running_ order. The toast was good, and the butter. There were those who, when coffee was given them, called for tea, and vice versa, and were so ungracious as to suggest that the water that was used in both might have come from near a barn. Of course it did not. We all came down to the little peach orchard where we had stayed last night, and, wonderful to see and tell, ever mindful of our needs, had it all ready, had our faithful John. There was an enormous pan of stewed chickens, and the potatoes, and toast, all hot, and the bread and the butter, and tea and coffee. There was satisfaction derived from just naming them all over. We called John an angel, and he snickered and said he \"knowed\" we'd come. General Hancock is of course invited to partake, and without delay we commence operations. Stools are not very numerous, two in all, and these the two Generals have by common consent. Our table was the top of a mess chest. By this the Generals sat. The rest of us sat upon the ground, cross-legged, like the picture of a smoking Turk, and held our plates upon our laps. How delicious was the stewed chicken. I had a cucumber pickle in my saddle bags, the last of a lunch left there two or three days ago, which George brought, and I had half of it. We were just well at it when General Meade rode down to us from the line, accompanied by one of his staff, and by General Gibbon's invitation, they dismounted and joined us. For the General commanding the Army of the Potomac George, by an effort worthy of the person and the occasion, finds an empty cracker box for a seat. The staff officer must sit upon the ground with the rest of us. Soon Generals Newton and Pleasonton, each with an aide, arrive. By an almost superhuman effort a roll of blankets is found, which, upon a pinch, is long enough to seat these Generals both, and room is made for them. The aides sit with us. And, fortunate to relate, there was enough cooked for us all, and from General Meade to the youngest second lieutenant we all had a most hearty and well relished dinner. Of the \"past\" we were \"secure.\" The Generals ate, and after, lighted cigars, and under the flickering shade of a very small tree, discoursed of the incidents of yesterday's battle and of the probabilities of to-day. General Newton humorously spoke of General Gibbon as \"this young North Carolinian,\" and how he was becoming arrogant and above his position, because he commanded a corps. General Gibbon retorted by saying that General Newton had not been long enough in such a command, only since yesterday, to enable him to judge of such things. General Meade still thought that the enemy would attack his left again to-day towards evening; but he was ready for them. General Hancock thought that the attack would be upon the position of the Second Corps. It was mentioned that General Hancock would again assume command of the Second Corps from that time, so that General Gibbon would again return to the Second Division. General Meade spoke of the Provost Guards, that they were good men, and that it would be better to-day to have them in the works than to stop stragglers and skulkers, as these latter would be good for but little even in the works; and so he gave the order that all the Provost Guards should at once temporarily rejoin their regiments. Then General Gibbon called up Captain Farrel, First Minnesota, who commanded the provost guard of his division, and directed him for that day to join the regiment. \"Very well, sir,\" said the Captain, as he touched his hat and turned away. He was a quiet, excellent gentleman and thorough soldier. I knew him well and esteemed him. I never saw him again. He was killed in two or three hours from that time, and over half of his splendid company were either killed or wounded. And so the time passed on, each General now and then dispatching some order or message by an officer or orderly, until about half-past twelve, when all the Generals, one by one, first General Meade, rode off their several ways, and General Gibbon and his staff alone remained. We dozed in the heat, and lolled upon the ground, with half open eyes. Our horses were hitched to the trees munching some oats. A great lull rests upon all the field. Time was heavy, and for want of something better to do, I yawned, and looked at my watch. It was five minutes before one o'clock. I returned my watch to its pocket, and thought possibly that I might go to sleep, and stretched myself upon the ground accordingly. _Ex uno disce omnes._ My attitude and purpose were those of the General and the rest of the staff. What sound was that? There was no mistaking it. The distinct sharp sound of one of the enemy's guns, square over to the front, caused us to open our eyes and turn them in that direction, when we saw directly above the crest the smoke of the bursting shell, and heard its noise. In an instant, before a word was spoken, as if that was the signal gun for general work, loud, startling, booming, the report of gun after gun in rapid succession smote our ears and their shells plunged down and exploded all around us. We sprang to our feet. In briefest time the whole Rebel line to the West was pouring out its thunder and its iron upon our devoted crest. The wildest confusion for a few moments obtained sway among us. The shells came bursting all about. The servants ran terror-stricken for dear life and disappeared. The horses, hitched to the trees or held by the slack hands of orderlies, neighed out in fright, and broke away and plunged riderless through the fields. The General at the first had snatched his sword, and started on foot for the front. I called for my horse; nobody responded. I found him tied to a tree, near by, eating oats, with an air of the greatest composure, which under the circumstances, even then struck me as exceedingly ridiculous. He alone, of all beasts or men near was cool. I am not sure but that I learned a lesson then from a horse. Anxious alone for his oats, while I put on the bridle and adjusted the halter, he delayed me by keeping his head down, so I had time to see one of the horses of our mess wagon struck and torn by a shell. The pair plunge--the driver has lost the reins--horses, driver and wagon go into a heap by a tree. Two mules close at hand, packed with boxes of ammunition, are knocked all to pieces by a shell. General Gibbon's groom has just mounted his horse and is starting to take the General's horse to him, when the flying iron meets him and tears open his breast. He drops dead and the horses gallop away. No more than a minute since the first shot was fired, and I am mounted and riding after the General. The mighty din that now rises to heaven and shakes the earth is not all of it the voice of the rebellion; for our guns, the guardian lions of the crest, quick to awake when danger comes, have opened their fiery jaws and begun to roar--the great hoarse roar of battle. I overtake the General half way up to the line. Before we reach the crest his horse is brought by an orderly. Leaving our horses just behind a sharp declivity of the ridge, on foot we go up among the batteries. How the long streams of fire spout from the guns, how the rifled shells hiss, how the smoke deepens and rolls. But where is the infantry? Has it vanished in smoke? Is this a nightmare or a juggler's devilish trick? All too real. The men of the infantry have seized their arms, and behind their works, behind every rock, in every ditch, wherever there is any shelter, they hug the ground, silent, quiet, unterrified, little harmed. The enemy's guns now in action are in position at their front of the woods along the second ridge that I have before mentioned and towards their right, behind a small crest in the open field, where we saw the flags this morning. Their line is some two miles long, concave on the side towards us, and their range is from one thousand to eighteen hundred yards. A hundred and twenty-five rebel guns, we estimate, are now active, firing twenty-four pound, twenty, twelve and ten-pound projectiles, solid shot and shells, spherical, conical, spiral. The enemy's fire is chiefly concentrated upon the position of the Second Corps. From the Cemetery to Round Top, with over a hundred guns, and to all parts of the enemy's line, our batteries reply, of twenty and ten-pound Parrotts, ten-pound rifled ordnance, and twelve-pound Napoleons, using projectiles as various in shape and name as those of the enemy. Captain Hazard commanding the artillery brigade of the Second Corps was vigilant among the batteries of his command, and they were all doing well. All was going on satisfactorily. We had nothing to do, therefore, but to be observers of the grand spectacle of battle. Captain Wessels, Judge Advocate of the Division, now joined us, and we sat down behind the crest, close to the left of Cushing's Battery, to bide our time, to see, to be ready to act when the time should come, which might be at any moment. Who can describe such a conflict as is raging around us? To say that it was like a summer storm, with the crash of thunder, the glare of lightning, the shrieking of the wind, and the clatter of hailstones, would be weak. The thunder and lightning of these two hundred and fifty guns and their shells, whose smoke darkens the sky, are incessant, all pervading, in the air above our heads, on the ground at our feet, remote, near, deafening, ear-piercing, astounding; and these hailstones are massy iron, charged with exploding fire. And there is little of human interest in a storm; it is an absorbing element of this. You may see flame and smoke, and hurrying men, and human passion at a great conflagration; but they are all earthly and nothing more. These guns are great infuriate demons, not of the earth, whose mouths blaze with smoky tongues of living fire, and whose murky breath, sulphur-laden, rolls around them and along the ground, the smoke of Hades. These grimy men, rushing, shouting, their souls in frenzy, plying the dusky globes and the igniting spark, are in their league, and but their willing ministers. We thought that at the second Bull Run, at the Antietam and at Fredericksburg on the 11th of December, we had heard heavy cannonading; they were but holiday salutes compared with this. Besides the great ceaseless roar of the guns, which was but the background of the others, a million various minor sounds engaged the ear. The projectiles shriek long and sharp. They hiss, they scream, they growl, they sputter; all sounds of life and rage; and each has its different note, and all are discordant. Was ever such a chorus of sound before? We note the effect of the enemies' fire among the batteries and along the crest. We see the solid shot strike axle, or pole, or wheel, and the tough iron and heart of oak snap and fly like straws. The great oaks there by Woodruff's guns heave down their massy branches with a crash, as if the lightning smote them. The shells swoop down among the battery horses standing there apart. A half a dozen horses start, they tumble, their legs stiffen, their vitals and blood smear the ground. And these shot and shells have no respect for men either. We see the poor fellows hobbling back from the crest, or unable to do so, pale and weak, lying on the ground with the mangled stump of an arm or leg, dripping their life-blood away; or with a cheek torn open, or a shoulder mashed. And many, alas! hear not the roar as they stretch upon the ground with upturned faces and open eyes, though a shell should burst at their very ears. Their ears and their bodies this instant are only mud. We saw them but a moment since there among the flame, with brawny arms and muscles of iron wielding the rammer and pushing home the cannon's plethoric load. Strange freaks these round shot play! We saw a man coming up from the rear with his full knapsack on, and some canteens of water held by the straps in his hands. He was walking slowly and with apparent unconcern, though the iron hailed around him. A shot struck the knapsack, and it, and its contents flew thirty yards in every direction, the knapsack disappearing like an egg, thrown spitefully against a rock. The soldier stopped and turned about in puzzled surprise, put up one hand to his back to assure himself that the knapsack was not there, and then walked slowly on again unharmed, with not even his coat torn. Near us was a man crouching behind a small disintegrated stone, which was about the size of a common water bucket. He was bent up, with his face to the ground, in the attitude of a Pagan worshipper before his idol. It looked so absurd to see him thus, that I went and said to him, \"Do not lie there like a toad. Why not go to your regiment and be a man?\" He turned up his face with a stupid, terrified look upon me, and then without a word turned his nose again to the ground. An orderly that was with me at the time, told me a few moments later, that a shot struck the stone, smashing it in a thousand fragments, but did not touch the man, though his head was not six inches from the stone. All the projectiles that came near us were not so harmless. Not ten yards away from us a shell burst among some small bushes, where sat three or four orderlies holding horses. Two of the men and one horse were killed. Only a few yards off a shell exploded over an open limber box in Cushing's battery, and at the same instant, another shell over a neighboring box. In both the boxes the ammunition blew up with an explosion that shook the ground, throwing fire and splinters and shells far into the air and all around, and destroying several men. We watched the shells bursting in the air, as they came hissing in all directions. Their flash was a bright gleam of lightning radiating from a point, giving place in the thousandth part of a second to a small, white, puffy cloud, like a fleece of the lightest, whitest wool. These clouds were very numerous. We could not often see the shell before it burst; but sometimes, as we faced towards the enemy, and looked above our heads, the approach would be heralded by a prolonged hiss, which always seemed to me to be a line of something tangible, terminating in a black globe, distinct to the eye, as the sound had been to the ear. The shell would seem to stop, and hang suspended in the air an instant, and then vanish in fire and smoke and noise. We saw the missiles tear and plow the ground. All in rear of the crest for a thousand yards, as well as among the batteries, was the field of their blind fury. Ambulances, passing down the Taneytown road with wounded men, were struck. The hospitals near this road were riddled. The house which was General Meade's headquarters was shot through several times, and a great many horses of officers and orderlies were lying dead around it. Riderless horses, galloping madly through the fields, were brought up, or down rather, by these invisible horse-tamers, and they would not run any more. Mules with ammunition, pigs wallowing about, cows in the pastures, whatever was animate or inanimate, in all this broad range, were no exception to their blind havoc. The percussion shells would strike, and thunder, and scatter the earth and their whistling fragments; the Whitworth bolts would pound and ricochet, and bowl far away sputtering, with the sound of a mass of hot iron plunged in water; and the great solid shot would smite the unresisting ground with a sounding \"thud,\" as the strong boxer crashes his iron fist into the jaws of his unguarded adversary. Such were some of the sights and sounds of this great iron battle of missiles. Our artillerymen upon the crest budged not an inch, nor intermitted, but, though caisson and limber were smashed, and guns dismantled, and men and horses killed, there amidst smoke and sweat, they gave back, without grudge, or loss of time in the sending, in kind whatever the enemy sent, globe, and cone, and bolt, hollow or solid, an iron greeting to the rebellion, the compliments of the wrathful Republic. An hour has droned its flight since first the war began. There is no sign of weariness or abatement on either side. So long it seemed, that the din and crashing around began to appear the normal condition of nature there, and fighting man's element. The General proposed to go among the men and over to the front of the batteries, so at about two o'clock he and I started. We went along the lines of the infantry as they lay there flat upon the earth, a little to the front of the batteries. They were suffering little, and were quiet and cool. How glad we were that the enemy were no better gunners, and that they cut the shell fuses too long. To the question asked the men, \"What do you think of this?\" the replies would be, \"O, this is bully,\" \"We are getting to like it,\" \"O, we don't mind this.\" And so they lay under the heaviest cannonade that ever shook the continent, and among them a thousand times more jokes than heads were cracked. We went down in front of the line some two hundred yards, and as the smoke had a tendency to settle upon a higher plain than where we were, we could see near the ground distinctly all over the fields, as well back to the crest where were our own guns as to the opposite ridge where were those of the enemy. No infantry was in sight, save the skirmishers, and they stood silent and motionless--a row of gray posts through the field on one side confronted by another of blue. Under the grateful shade of some elm trees, where we could see much of the field, we made seats of the ground and sat down. Here all the more repulsive features of the fight were unseen, by reason of the smoke. Man had arranged the scenes, and for a time had taken part in the great drama; but at last, as the plot thickened, conscious of his littleness and inadequacy to the mighty part, he had stepped aside and given place to more powerful actors. So it seemed; for we could see no men about the batteries. On either crest we could see the great flaky streams of fire, and they seemed numberless, of the opposing guns, and their white banks of swift, convolving smoke; but the sound of the discharges was drowned in the universal ocean of sound. Over all the valley the smoke, a sulphury arch, stretched its lurid span; and through it always, shrieking on their unseen courses, thickly flew a myriad iron deaths. With our grim horizon on all sides round toothed thick with battery flame, under that dissonant canopy of warring shells, we sat and heard in silence. What other expression had we that was not mean, for such an awful universe of battle? A shell struck our breastwork of rails up in sight of us, and a moment afterwards we saw the men bearing some of their wounded companions away from the same spot; and directly two men came from there down toward where we were and sought to get shelter in an excavation near by, where many dead horses, killed in yesterday's fight, had been thrown. General Gibbon said to these men, more in a tone of kindly expostulation than of command: \"My men, do not leave your ranks to try to get shelter here. All these matters are in the hands of God, and nothing that you can do will make you safer in one place than in another.\" The men went quietly back to the line at once. The General then said to me: \"I am not a member of any church, but I have always had a strong religious feeling; and so in all these battles I have always believed that I was in the hands of God, and that I should be unharmed or not, according to his will. For this reason, I think it is, I am always ready to go where duty calls, no matter how great the danger.\" Half-past two o'clock, an hour and a half since the commencement, and still the cannonade did not in the least abate; but soon thereafter some signs of weariness and a little slacking of fire began to be apparent upon both sides. First we saw Brown's battery retire from the line, too feeble for further battle. Its position was a little to the front of the line. Its commander was wounded, and many of its men were so, or worse; some of its guns had been disabled, many of its horses killed; its ammunition was nearly expended. Other batteries in similar case had been withdrawn before to be replaced by fresh ones, and some were withdrawn afterwards. Soon after the battery named had gone the General and I started to return, passing towards the left of the division, and crossing the ground where the guns had stood. The stricken horses were numerous, and the dead and wounded men lay about, and as we passed these latter, their low, piteous call for water would invariably come to us, if they had yet any voice left. I found canteens of water near--no difficult matter where a battle has been--and held them to livid lips, and even in the faintness of death the eagerness to drink told of their terrible torture of thirst. But we must pass on. Our infantry was still unshaken, and in all the cannonade suffered very little. The batteries had been handled much more severely. I am unable to give any figures. A great number of horses had been killed, in some batteries more than half of all. Guns had been dismounted. A great many caissons, limbers and carriages had been destroyed, and usually from ten to twenty-five men to each battery had been struck, at least along our part of the crest. Altogether the fire of the enemy had injured us much, both in the modes that I have stated, and also by exhausting our ammunition and fouling our guns, so as to render our batteries unfit for further immediate use. The scenes that met our eyes on all hands among the batteries were fearful. All things must end, and the great cannonade was no exception to the general law of earth. In the number of guns active at one time, and in the duration and rapidity of their fire, this artillery engagement, up to this time, must stand alone and pre-eminent in this war. It has not been often, or many times, surpassed in the battles of the world. Two hundred and fifty guns, at least, rapidly fired for two mortal hours. Cipher out the number of tons of gunpowder and iron that made these two hours hideous. Of the injury of our fire upon the enemy, except the facts that ours was the superior position, if not better served and constructed artillery, and that the enemy's artillery hereafter during the battle was almost silent, we know little. Of course, during the fight we often saw the enemy's caissons explode, and the trees rent by our shot crashing about his ears, but we can from these alone infer but little of general results. At three o'clock almost precisely the last shot hummed, and bounded and fell, and the cannonade was over. The purpose of General Lee in all this fire of his guns--we know it now, we did not at the time so well--was to disable our artillery and break up our infantry upon the position of the Second Corps, so as to render them less an impediment to the sweep of his own brigades and divisions over our crest and through our lines. He probably supposed our infantry was massed behind the crest and the batteries; and hence his fire was so high, and his fuses to the shells were cut so long, too long. The Rebel General failed in some of his plans in this behalf, as many generals have failed before and will again. The artillery fight over, men began to breathe more freely, and to ask, What next, I wonder? The battery men were among their guns, some leaning to rest and wipe the sweat from their sooty faces, some were handling ammunition boxes and replenishing those that were empty. Some batteries from the artillery reserve were moving up to take the places of the disabled ones; the smoke was clearing from the crests. There was a pause between acts, with the curtain down, soon to rise upon the great final act, and catastrophe of Gettysburg. We have passed by the left of the Second Division, coming from the First; when we crossed the crest the enemy was not in sight, and all was still--we walked slowly along in the rear of the troops, by the ridge cut off now from a view of the enemy in his position, and were returning to the spot where we had left our horses. General Gibbon had just said that he inclined to the belief that the enemy was falling back, and that the cannonade was only one of his noisy modes of covering the movement. I said that I thought that fifteen minutes would show that, by all his bowling, the Rebel did not mean retreat. We were near our horses when we noticed Brigadier General Hunt, Chief of Artillery of the Army, near Woodruff's Battery, swiftly moving about on horseback, and apparently in a rapid manner giving some orders about the guns. Thought we, what could this mean? In a moment afterwards we met Captain Wessels and the orderlies who had our horses; they were on foot leading the horses. Captain Wessels was pale, and he said, excited: \"General, they say the enemy's infantry is advancing.\" We sprang into our saddles, a score of bounds brought us upon the all-seeing crest. To say that men grew pale and held their breath at what we and they there saw, would not be true. Might not six thousand men be brave and without shade of fear, and yet, before a hostile eighteen thousand, armed, and not five minutes' march away, turn ashy white? None on that crest now need be told that _the enemy is advancing_. Every eye could see his legions, an overwhelming resistless tide of an ocean of armed men sweeping upon us! Regiment after regiment and brigade after brigade move from the woods and rapidly take their places in the lines forming the assault. Pickett's proud division, with some additional troops, hold their right; Pettigrew's (Worth's) their left. The first line at short interval is followed by a second, and that a third succeeds; and columns between support the lines. More than half a mile their front extends; more than a thousand yards the dull gray masses deploy, man touching man, rank pressing rank, and line supporting line. The red flags wave, their horsemen gallop up and down; the arms of eighteen thousand men, barrel and bayonet, gleam in the sun, a sloping forest of flashing steel. Right on they move, as with one soul, in perfect order, without impediment of ditch, or wall or stream, over ridge and slope, through orchard and meadow, and cornfield, magnificent, grim, irresistible. All was orderly and still upon our crest; no noise and no confusion. The men had little need of commands, for the survivors of a dozen battles knew well enough what this array in front portended, and, already in their places, they would be prepared to act when the right time should come. The click of the locks as each man raised the hammer to feel with his fingers that the cap was on the nipple; the sharp jar as a musket touched a stone upon the wall when thrust in aiming over it, and the clicking of the iron axles as the guns were rolled up by hand a little further to the front, were quite all the sounds that could be heard. Cap-boxes were slid around to the front of the body; cartridge boxes opened, officers opened their pistol-holsters. Such preparations, little more was needed. The trefoil flags, colors of the brigades and divisions moved to their places in rear; but along the lines in front the grand old ensign that first waved in battle at Saratoga in 1777, and which these people coming would rob of half its stars, stood up, and the west wind kissed it as the sergeants sloped its lance towards the enemy. I believe that not one above whom it then waved but blessed his God that he was loyal to it, and whose heart did not swell with pride towards it, as the emblem of the Republic before that treason's flaunting rag in front. General Gibbon rode down the lines, cool and calm, and in an unimpassioned voice he said to the men, \"Do not hurry, men, and fire too fast, let them come up close before you fire, and then aim low and steadily.\" The coolness of their General was reflected in the faces of his men. Five minutes has elapsed since first the enemy have emerged from the woods--no great space of time surely, if measured by the usual standard by which men estimate duration--but it was long enough for us to note and weigh some of the elements of mighty moment that surrounded us; the disparity of numbers between the assailants and the assailed; that few as were our numbers we could not be supported or reinforced until support would not be needed or would be too late; that upon the ability of the two trefoil divisions to hold the crest and repel the assault depended not only their own safety or destruction, but also the honor of the Army of the Potomac and defeat or victory at Gettysburg. Should these advancing men pierce our line and become the entering wedge, driven home, that would sever our army asunder, what hope would there be afterwards, and where the blood-earned fruits of yesterday? It was long enough for the Rebel storm to drift across more than half the space that had at first separated it from us. None, or all, of these considerations either depressed or elevated us. They might have done the former, had we been timid; the latter had we been confident and vain. But, we were there waiting, and ready to do our duty--that done, results could not dishonor us. Our skirmishers open a spattering fire along the front, and, fighting, retire upon the main line--the first drops, the heralds of the storm, sounding on our windows. Then the thunders of our guns, first Arnold's then Cushing's and Woodruff's and the rest, shake and reverberate again through the air, and their sounding shells smite the enemy. The General said I had better go and tell General Meade of this advance. To gallop to General Meade's headquarters, to learn there that he had changed them to another part of the field, to dispatch to him by the Signal Corps in General Gibbon's name the message, \"The enemy is advancing his infantry in force upon my front,\" and to be again upon the crest, were but the work of a minute. All our available guns are now active, and from the fire of shells, as the range grows shorter and shorter, they change to shrapnel, and from shrapnel to canister; but in spite of shells, and shrapnel and canister, without wavering or halt, the hardy lines of the enemy continue to move on. The Rebel guns make no reply to ours, and no charging shout rings out to-day, as is the Rebel wont; but the courage of these silent men amid our shots seems not to need the stimulus of other noise. The enemy's right flank sweeps near Stannard's bushy crest, and his concealed Vermonters rake it with a well-delivered fire of musketry. The gray lines do not halt or reply, but withdrawing a little from that extreme, they still move on. And so across all that broad open ground they have come, nearer and nearer, nearly half the way, with our guns bellowing in their faces, until now a hundred yards, no more, divide our ready left from their advancing right. The eager men there are impatient to begin. Let them. First, Harrow's breastworks flame; then Hall's; then Webb's. As if our bullets were the fire coals that touched off their muskets, the enemy in front halts, and his countless level barrels blaze back upon us. The Second Division is struggling in battle. The rattling storm soon spreads to the right, and the blue trefoils are vieing with the white. All along each hostile front, a thousand yards, with narrowest space between, the volleys blaze and roll; as thick the sound as when a summer hail-storm pelts the city roofs; as thick the fire as when the incessant lightning fringes a summer cloud. When the Rebel infantry had opened fire our batteries soon became silent, and this without their fault, for they were foul by long previous use. They were the targets of the concentrated Rebel bullets, and some of them had expended all their canister. But they were not silent before Rhorty was killed, Woodruff had fallen mortally wounded, and Cushing, firing almost his last canister, had dropped dead among his guns shot through the head by a bullet. The conflict is left to the infantry alone. Unable to find my general when I had returned to the crest after transmitting his message to General Meade, and while riding in the search having witnessed the development of the fight, from the first fire upon the left by the main lines until all of the two divisions were furiously engaged, I gave up hunting as useless--I was convinced General Gibbon could not be on the field; I left him mounted; I could easily have found him now had he so remained--but now, save myself, there was not a mounted officer near the engaged lines--and was riding towards the right of the Second Division, with purpose to stop there, as the most eligible position to watch the further progress of the battle, there to be ready to take part according to my own notions whenever and wherever occasion was presented. The conflict was tremendous, but I had seen no wavering in all our line. Wondering how long the Rebel ranks, deep though they were, could stand our sheltered volleys, I had come near my destination, when--great heaven! were my senses mad? The larger portion of Webb's brigade--my God, it was true--there by the group of trees and the angles of the wall, was breaking from the cover of their works, and, without orders or reason, with no hand lifted to check them, was falling back, a fear-stricken flock of confusion! The fate of Gettysburg hung upon a spider's single thread! A great magnificent passion came on me at the instant, not one that overpowers and confounds, but one that blanches the face and sublimes every sense and faculty. My sword, that had always hung idle by my side, the sign of rank only in every battle, I drew, bright and gleaming, the symbol of command. Was not that a fit occasion, and these fugitives the men on whom to try the temper of the Solinzen steel? All rules and proprieties were forgotten; all considerations of person, and danger and safety despised; for, as I met the tide of these rabbits, the damned red flags of the rebellion began to thicken and flaunt along the wall they had just deserted, and one was already waving over one of the guns of the dead Cushing. I ordered these men to \"halt,\" and \"face about\" and \"fire,\" and they heard my voice and gathered my meaning, and obeyed my commands. On some unpatriotic backs of those not quick of comprehension, the flat of my sabre fell not lightly, and at its touch their love of country returned, and, with a look at me as if I were the destroying angel, as I might have become theirs, they again faced the enemy. General Webb soon came to my assistance. He was on foot, but he was active, and did all that one could do to repair the breach, or to avert its calamity. The men that had fallen back, facing the enemy, soon regained confidence in themselves, and became steady. This portion of the wall was lost to us, and the enemy had gained the cover of the reverse side, where he now stormed with fire. But Webb's men, with their bodies in part protected by the abruptness of the crest, now sent back in the enemies' faces as fierce a storm. Some scores of venturesome Rebels, that in their first push at the wall had dared to cross at the further angle, and those that had desecrated Cushing's guns, were promptly shot down, and speedy death met him who should raise his body to cross it again. At this point little could be seen of the enemy, by reason of his cover and the smoke, except the flash of his muskets and his waving flags. These red flags were accumulating at the wall every moment, and they maddened us as the same color does the bull. Webb's men are falling fast, and he is among them to direct and encourage; but, however well they may now do, with that walled enemy in front, with more than a dozen flags to Webb's three, it soon becomes apparent that in not many minutes they will be overpowered, or that there will be none alive for the enemy to overpower. Webb, has but three regiments, all small, the 69th, 71st and 72d Pennsylvania--the 106th Pennsylvania, except two companies, is not here to-day--and he must have speedy assistance, or this crest will be lost. Oh, where is Gibbon? where is Hancock?--some general--anybody with the power and the will to support that wasting, melting line? No general came, and no succor! I thought of Hayes upon the right, but from the smoke and war along his front, it was evident that he had enough upon his hands, if he stayed the in-rolling tide of the Rebels there. Doubleday upon the left was too far off and too slow, and on another occasion I had begged him to send his idle regiments to support another line battling with thrice its numbers, and this \"Old Sumpter Hero\" had declined. As a last resort I resolved to see if Hall and Harrow could not send some of their commands to reinforce Webb. I galloped to the left in the execution of my purpose, and as I attained the rear of Hall's line, from the nature of the ground and the position of the enemy it was easy to discover the reason and the manner of this gathering of Rebel flags in front of Webb. The enemy, emboldened by his success in gaining our line by the group of trees and the angle of the wall, was concentrating all his right against and was further pressing that point. There was the stress of his assault; there would he drive his fiery wedge to split our line. In front of Harrow's and Hall's Brigades he had been able to advance no nearer than when he first halted to deliver fire, and these commands had not yielded an inch. To effect the concentration before Webb, the enemy would march the regiment on his extreme right of each of his lines by the left flank to the rear of the troops, still halted and facing to the front, and so continuing to draw in his right, when they were all massed in the position desired, he would again face them to the front, and advance to the storming. This was the way he made the wall before Webb's line blaze red with his battle flags, and such was the purpose there of his thick-crowding battalions. Not a moment must be lost. Colonel Hall I found just in rear of his line, sword in hand, cool, vigilant, noting all that passed and directing the battle of his brigade. The fire was constantly diminishing now in his front, in the manner and by the movement of the enemy that I have mentioned, drifting to the right. \"How is it going?\" Colonel Hall asked me, as I rode up. \"Well, but Webb is hotly pressed and must have support, or he will be overpowered. Can you assist him?\" \"Yes.\" \"You cannot be too quick.\" \"I will move my brigade at once.\" \"Good.\" He gave the order, and in briefest time I saw five friendly colors hurrying to the aid of the imperilled three; and each color represented true, battle-tried men, that had not turned back from Rebel fire that day nor yesterday, though their ranks were sadly thinned, to Webb's brigade, pressed back as it had been from the wall, the distance was not great from Hall's right. The regiments marched by the right flank. Col. Hall superintended the movement in person. Col. Devereux coolly commanded the 19th Massachusetts. His major, Rice, had already been wounded and carried off. Lieut. Col. Macy, of the 20th Mass., had just had his left hand shot off, and so Capt. Abbott gallantly led over this fine regiment. The 42d New York followed their excellent Colonel Mallon. Lieut. Col. Steele, 7th Mich., had just been killed, and his regiment, and the handful of the 59th N. Y., followed their colors. The movement, as it did, attracting the enemy's fire, and executed in haste, as it must be, was difficult; but in reasonable time, and in order that is serviceable, if not regular, Hall's men are fighting gallantly side by side with Webb's before the all important point. I did not stop to see all this movement of Hall's, but from him I went at once further to the left, to the 1st brigade. Gen'l Harrow I did not see, but his fighting men would answer my purpose as well. The 19th Me., the 15th Mass., the 32d N. Y. and the shattered old thunderbolt, the 1st Minn.--poor Farrell was dying then upon the ground where he had fallen,--all men that I could find I took over to the right at the _double quick_. As we were moving to, and near the other brigade of the division, from my position on horseback I could see that the enemy's right, under Hall's fire, was beginning to stagger and to break. \"See,\" I said to the men, \"See the _chivalry_! See the gray-backs run!\" The men saw, and as they swept to their places by the side of Hall and opened fire, they roared, and this in a manner that said more plainly than words--for the deaf could have seen it in their faces, and the blind could have heard it in their voices--_the crest is safe_! The whole Division concentrated, and changes of position, and new phases, as well on our part as on that of the enemy, having as indicated occurred, for the purpose of showing the exact present posture of affairs, some further description is necessary. Before the 2d Division the enemy is massed, the main bulk of his force covered by the ground that slopes to his rear, with his front at the stone wall. Between his front and us extends the very apex of the crest. All there are left of the White Trefoil Division--yesterday morning there were three thousand eight hundred, this morning there were less than three thousand--at this moment there are somewhat over two thousand;--twelve regiments in three brigades are below or behind the crest, in such a position that by the exposure of the head and upper part of the body above the crest they can deliver their fire in the enemy's faces along the top of the wall. By reason of the disorganization incidental in Webb's brigade to his men's having broken and fallen back, as mentioned, in the two other brigades to their rapid and difficult change of position under fire, and in all the division in part to severe and continuous battle, formation of companies and regiments in regular ranks is lost; but commands, companies, regiments and brigades are blended and intermixed--an irregular extended mass--men enough, if in order, to form a line of four or five ranks along the whole front of the division. The twelve flags of the regiments wave defiantly at intervals along the front; at the stone wall, at unequal distances from ours of forty, fifty or sixty yards, stream nearly double this number of the battle flags of the enemy. These changes accomplished on either side, and the concentration complete, although no cessation or abatement in the general din of conflict since the commencement had at any time been appreciable, now it was as if a new battle, deadlier, stormier than before, had sprung from the body of the old--a young Phoenix of combat, whose eyes stream lightning, shaking his arrowy wings over the yet glowing ashes of his progenitor. The jostling, swaying lines on either side boil, and roar, and dash their flamy spray, two hostile billows of a fiery ocean. Thick flashes stream from the wall, thick volleys answer from the crest. No threats or expostulation now, only example and encouragement. All depths of passion are stirred, and all combatives fire, down to their deep foundations. Individuality is drowned in a sea of clamor, and timid men, breathing the breath of the multitude, are brave. The frequent dead and wounded lie where they stagger and fall--there is no humanity for them now, and none can be spared to care for them. The men do not cheer or shout; they growl, and over that uneasy sea, heard with the roar of musketry, sweeps the muttered thunder of a storm of growls. Webb, Hall, Devereux, Mallon, Abbott among the men where all are heroes, are doing deeds of note. Now the loyal wave rolls up as if it would overleap its barrier, the crest. Pistols flash with the muskets. My \"Forward to the wall\" is answered by the Rebel counter-command, \"Steady, men!\" and the wave swings back. Again it surges, and again it sinks. These men of Pennsylvania, on the soil of their own homesteads, the first and only to flee the wall, must be the first to storm it. \"Major--, _lead_ your men over the crest, they will follow.\" \"By the tactics I understand my place is in rear of the men.\" \"Your pardon, sir; I see _your_ place is in rear of the men. I thought you were fit to lead.\" \"Capt. Sapler, come on with your men.\" \"Let me first stop this fire in the rear, or we shall be hit by our own men.\" \"Never mind the fire in the rear; let us take care of this in front first.\" \"Sergeant, forward with your color. Let the Rebels see it close to their eyes once before they die.\" The color sergeant of the 72d Pa., grasping the stump of the severed lance in both his hands, waved the flag above his head and rushed towards the wall. \"Will you see your color storm the wall alone?\" One man only starts to follow. Almost half way to the wall, down go color bearer and color to the ground--the gallant sergeant is dead. The line springs--the crest of the solid ground with a great roar, heaves forward its maddened load, men, arms, smoke, fire, a fighting mass. It rolls to the wall--flash meets flash, the wall is crossed--a moment ensues of thrusts, yells, blows, shots, and undistinguishable conflict, followed by a shout universal that makes the welkin ring again, and the last and bloodiest fight of the great battle of Gettysburg is ended and won. Many things cannot be described by pen or pencil--such a fight is one. Some hints and incidents may be given, but a description or picture never. From what is told the imagination may for itself construct the scene; otherwise he who never saw can have no adequate idea of what such a battle is. When the vortex of battle passion had subsided, hopes, fears, rage, joy, of which the maddest and the noisiest was the last, and we were calm enough to look about us, we saw that, as with us, the fight with the Third Division was ended, and that in that division was a repetition of the scenes immediately about us. In that moment the judgment almost refused to credit the senses. Are these abject wretches about us, whom our men are now disarming and driving together in flocks, the jaunty men of Pickett's Division, whose steady lines and flashing arms but a few moment's since came sweeping up the slope to destroy us? Are these red cloths that our men toss about in derision the \"fiery Southern crosses,\" thrice ardent, the battle flags of the rebellion that waved defiance at the wall? We know, but so sudden has been the transition, we yet can scarce believe. [Illustration: Battle of Gettysburg--Final attack, July 3 (Compiled by C E. Estabrook)] Just as the fight was over, and the first outburst of victory had a little subsided, when all in front of the crest was noise and confusion--prisoners being collected, small parties in pursuit of them far down into the fields, flags waving, officers giving quick, sharp commands to their men--I stood apart for a few moments upon the crest, by that group of trees which ought to be historic forever, a spectator of the thrilling scene around. Some few musket shots were still heard in the Third Division; and the enemy's guns, almost silent since the advance of his infantry until the moment of his defeat, were dropping a few sullen shells among friend and foe upon the crest. Rebellion fosters such humanity. Near me, saddest sight of the many of such a field and not in keeping with all this noise, were mingled alone the thick dead of Maine and Minnesota, and Michigan and Massachusetts, and the Empire and Keystone States, who, not yet cold, with the blood still oozing from their death-wounds, had given their lives to the country upon that stormy field. So mingled upon that crest let their honored graves be. Look with me about us. These dead have been avenged already. Where the long lines of the enemy's thousands so proudly advanced, see how thick the silent men of gray are scattered. It is not an hour since these legions were sweeping along so grandly; now sixteen hundred of that fiery mass are strewn among the trampled grass, dead as the clods they load; more than seven thousand, probably eight thousand, are wounded, some there with the dead, in our hands, some fugitive far towards the woods, among them Generals Pettigrew, Garnett, Kemper and Armstead, the last three mortally, and the last one in our hands. \"Tell General Hancock,\" he said to Lieutenant Mitchell, Hancock's aide-de-camp, to whom he handed his watch, \"that I know I did my country a great wrong when I took up arms against her, for which I am sorry, but for which I cannot live to atone.\" Four thousand, not wounded, are prisoners of war. More in number of the captured than the captors. Our men are still \"gathering them in.\" Some hold up their hands or a handkerchief in sign of submission; some have hugged the ground to escape our bullets and so are taken; few made resistance after the first moment of our crossing the wall; some yield submissively with good grace, some with grim, dogged aspect, showing that but for the other alternative they could not submit to this. Colonels, and all less grades of officers, in the usual proportion are among them, and all are being stripped of their arms. Such of them as escaped wounds and capture are fleeing routed and panic stricken, and disappearing in the woods. Small arms, more thousands than we can count, are in our hands, scattered over the field. And these defiant battle-flags, some inscribed with \"First Manassas,\" the numerous battles of the Peninsula, \"Second Manassas,\" \"South Mountain,\" \"Sharpsburg,\" (our Antietam), \"Fredericksburg,\" \"Chancellorsville,\" and many more names, our men have, and are showing about, _over thirty of them_. Such was really the closing scene of the grand drama of Gettysburg. After repeated assaults upon the right and the left, where, and in all of which repulse had been his only success, this persistent and presuming enemy forms his chosen troops, the flower of his army, for a grand assault upon our center. The manner and result of such assault have been told--a loss to the enemy of from twelve thousand to fourteen thousand, killed, wounded and prisoners, and of over thirty battle-flags. This was accomplished by not over six thousand men, with a loss on our part of not over two thousand five hundred killed and wounded. Would to Heaven General Hancock and Gibbon could have stood there where I did, and have looked upon that field! It would have done two men, to whom the country owes much, good to have been with their men in that moment of victory--to have seen the result of those dispositions which they had made, and of that splendid fighting which men schooled by their discipline, had executed. But they are both severely wounded and have been carried from the field. One person did come then that I was glad to see there, and that was no less than Major General Meade, whom the Army of the Potomac was fortunate enough to have at that time to command it. See how a great General looked upon the field, and what he said and did at the moment, and when he learned of his great victory. To appreciate the incident I give, it should be borne in mind that one coming up from the rear of the line, as did General Meade, could have seen very little of our own men, who had now crossed the crest, and although he could have heard the noise, he could not have told its occasion, or by whom made, until he had actually attained the crest. One who did not know results, so coming, would have been quite as likely to have supposed that our line there had been carried and captured by the enemy--so many gray Rebels were on the crest--as to have discovered the real truth. Such mistake was really made by one of our officers, as I shall relate. General Meade rode up, accompanied alone by his son, who is his aide-de-camp, an escort, if select, not large for a commander of such an army. The principal horseman was no bedizened hero of some holiday review, but he was a plain man, dressed in a serviceable summer suit of dark blue cloth, without badge or ornament, save the shoulder-straps of his grade, and a light, straight sword of a General or General staff officer. He wore heavy, high-top boots and buff gauntlets, and his soft black felt hat was slouched down over his eyes. His face was very white, not pale, and the lines were marked and earnest and full of care. As he arrived near me, coming up the hill, he asked, in a sharp, eager voice: \"How is it going here?\" \"I believe, General, the enemy's attack is repulsed,\" I answered. Still approaching, and a new light began to come in his face, of gratified surprise, with a touch of incredulity, of which his voice was also the medium, he further asked: \"_What! Is the assault already repulsed?_\" his voice quicker and more eager than before. \"It is, sir,\" I replied. By this time he was on the crest, and when his eye had for an instant swept over the field, taking in just a glance of the whole--the masses of prisoners, the numerous captured flags which the men were derisively flaunting about, the fugitives of the routed enemy, disappearing with the speed of terror in the woods--partly at what I had told him, partly at what he saw, he said, impressively, and his face lighted: \"Thank God.\" And then his right hand moved as if it would have caught off his hat and waved it; but this gesture he suppressed, and instead he waved his hand, and said \"Hurrah!\" The son, with more youth in his blood and less rank upon his shoulders, snatched off his cap, and roared out his three \"hurrahs\" right heartily. The General then surveyed the field, some minutes, in silence. He at length asked who was in command--he had heard that Hancock and Gibbon were wounded--and I told him that General Caldwell was the senior officer of the Corps and General Harrow of the Division. He asked where they were, but before I had time to answer that I did not know, he resumed: \"No matter; I will give my orders to you and you will see them executed.\" He then gave direction that the troops should be reformed as soon as practicable, and kept in their places, as the enemy might be mad enough to attack again. He also gave directions concerning the posting of some reinforcements which he said would soon be there, adding: \"If the enemy does attack, charge him in the flank and sweep him from the field; do you understand.\" The General then, a gratified man, galloped in the direction of his headquarters. Then the work of the field went on. First, the prisoners were collected and sent to the rear. \"There go the men,\" the Rebels were heard to say, by some of our surgeons who were in Gettysburg, at the time Pickett's Division marched out to take position--\"There go the men that will go through your d--d Yankee lines, for you,\" A good many of them did \"go through our lines for us,\" but in a very different way from the one they intended--not impetuous victors, sweeping away our thin lines with ball and bayonet, but crestfallen captives, without arms, guarded by the true bayonets of the Union, with the cheers of their conquerors ringing in their ears. There was a grim truth after all in this Rebel remark. Collected, the prisoners began their dreary march, a miserable, melancholy stream of dirty gray, to pour over the crest to our rear. Many of the officers were well dressed, fine, proud gentlemen, such men as it would be a pleasure to meet, when the war is over. I had no desire to exult over them, and pity and sympathy were the general feelings of us all upon the occasion. The cheering of our men, and the unceremonious handling of the captured flags was probably not gratifying to the prisoners, but not intended for taunt or insult to the men; they could take no exception to such practices. When the prisoners were turned to the rear and were crossing the crest, Lieut. Col. Morgan, General Hancock's Chief of Staff, was conducting a battery from the artillery reserve, towards the Second Corps. As he saw the men in gray coming over the hill, he said to the officer in command of the battery: \"See up there! The enemy has carried the crest. See them come pouring over! The old Second Corps is gone, and you had better get your battery away from here as quickly as possible, or it will be captured.\" The officer was actually giving the order to his men to move back, when close observation discovered that the gray-backs that were coming had no arms, and then the truth flashed upon the minds of the observers. The same mistake was made by others. In view of the results of that day--the successes of the arms of the country, would not the people of the whole country, standing there upon the crest with General Meade, have said, with him: \"Thank God?\" I have no knowledge and little notion of how long a time elapsed from the moment the fire of the infantry commenced, until the enemy was entirely repulsed, in this his grand assault. I judge, from the amount of fighting and the changes of position that occurred, that probably the fight was of nearly an hour's duration, but I cannot tell, and I have seen none who knew. The time seemed but a very few minutes, when the battle was over. When the prisoners were cleared away and order was again established upon our crest, where the conflict had impaired it, until between five and six o'clock, I remained upon the field, directing some troops to their position, in conformity to the orders of General Meade. The enemy appeared no more in front of the Second Corps; but while I was engaged as I have mentioned, farther to our left some considerable force of the enemy moved out and made show of attack. Our artillery, now in good order again, in due time opened fire, and the shells scattered the \"Butternuts,\" as clubs do the gray snow-birds of winter, before they came within range of our infantry. This, save unimportant outpost firing, was the last of the battle. Of the pursuit of the enemy and the movements of the army subsequent to the battle, until the crossing of the Potomac by Lee and the closing of the campaign, it is not my purpose to write. Suffice it that on the night of the 3d of July the enemy withdrew his left, Ewell's Corps, from our front, and on the morning of the 4th we again occupied the village of Gettysburg, and on that national day victory was proclaimed to the country; that floods of rain on that day prevented army movements of any considerable magnitude, the day being passed by our army in position upon the field, in burying our dead, and some of those of the enemy, and in making the movements already indicated; that on the 5th the pursuit of the enemy was commenced--his dead were buried by us--and the corps of our army, upon various roads, moved from the battlefield. With a statement of some of the results of the battle, as to losses and captures, and of what I saw in riding over the field, when the enemy was gone, my account is done. Our own losses in killed, wounded and missing I estimate at _twenty-three thousand_. Of the \"missing\" the larger proportion were prisoners, lost on the 1st of July. Our loss in prisoners, not wounded, probably was _four thousand_. The losses were distributed among the different army corps about as follows: In the Second Corps, which sustained the heaviest loss of any corps, a little over _four thousand five hundred_, of whom the missing were a mere nominal number; in the First Corps a little over _four thousand_, of whom a great many were missing; in the Third Corps _four thousand_, of whom some were missing; in the Eleventh Corps nearly _four thousand_, of whom the most were missing; and the rest of the loss, to make the aggregate mentioned, was shared by the Fifth, Sixth and Twelfth Corps and the cavalry. Among these the missing were few; and the losses of the Sixth Corps and of the cavalry were light. I do not think the official reports will show my estimate of our losses to be far from correct, for I have taken great pains to question staff officers upon the subject, and have learned approximate numbers from them. We lost no gun or flag that I have heard of in all the battle. Some small arms, I suppose, were lost on the 1st of July. The enemy's loss in killed, wounded and prisoners I estimate at _forty thousand_, and from the following data and for the following reasons: So far as I can learn we took _ten thousand_ prisoners, who were not wounded--many more than these were captured, but several thousands of them were wounded. I have so far as practicable ascertained the number of dead the enemy left upon the field, approximately, by getting the reports of different burying parties. I think his dead upon the field were _five thousand_, almost all of whom, save those killed on the first of July, were buried by us--the enemy not having them in their possession. In looking at a great number of tables of killed and wounded in battles I have found that the proportion of the killed to the wounded is as _one_ to _five_, or more than five, rarely less than five. So with the killed at the number stated, _twenty-five thousand_ mentioned. I think _fourteen thousand_ of the enemy, wounded and unwounded, fell into our hands. Great numbers of his small arms, two or three guns, and forty or more--was there ever such bannered harvest?--of his regimental battle-flags, were captured by us. Some day possibly we may learn the enemy's loss, but I doubt if he will ever tell truly how many flags he did not take home with him. I have great confidence however in my estimates, for they have been carefully made, and after much inquiry, and with no desire or motive to overestimate the enemy's loss. The magnitude of the armies engaged, the number of the casualties, the object sought by the Rebel, the result, will all contribute to give Gettysburg a place among the great historic battles of the world. That General Meade's concentration was rapid--over thirty miles a day was marched by some of the Corps--that his position was skillfully selected and his dispositions good; that he fought the battle hard and well; that his victory was brilliant and complete, I think all should admit. I cannot but regard it as highly fortunate to us and commendable in General Meade, that the enemy was allowed the initiative, the offensive, in the main battle; that it was much better to allow the Rebel, for his own destruction, to come up and smash his lines and columns upon the defensive solidity of our position, than it would have been to hunt him, for the same purpose, in the woods, or to unearth him from his rifle-pits. In this manner our losses were lighter, and his heavier, than if the case had been reversed. And whatever the books may say of troops fighting the better who make the attack, I am satisfied that in this war, Americans, the Rebels, as well as ourselves, are best on the defensive. The proposition is deducible from the battles of the war, I think, and my own observation confirms it. But men there are who think that nothing was gained or done well in this battle, because some other general did not have the command, or because any portion of the army of the enemy was permitted to escape capture or destruction. As if one army of a hundred thousand men could encounter another of the same number of as good troops and annihilate it! Military men do not claim or expect this; but the McClellan destroyers do, the doughty knights of purchasable newspaper quills; the formidable warriors from the brothels of politics, men of much warlike experience against honesty and honor, of profound attainments in ignorance, who have the maxims of Napoleon, whose spirit they as little understand as they do most things, to quote, to prove all things; but who, unfortunately, have much influence in the country and with the Government, and so over the army. It is very pleasant for these people, no doubt, at safe distances from guns, in the enjoyment of a lucrative office, or of a fraudulently obtained government contract, surrounded by the luxuries of their own firesides, where mud and flooding storms, and utter weariness never penetrate, to discourse of battles and how campaigns should be conducted and armies of the enemy destroyed. But it should be enough, perhaps, to say that men here, or elsewhere, who have knowledge enough of military affairs to entitle them to express an opinion on such matters, and accurate information enough to realize the nature and the means of this desired destruction of Lee's army before it crossed the Potomac into Virginia, will be most likely to vindicate the Pennsylvania campaign of Gen. Meade, and to see that he accomplished all that could have been reasonably expected of any general of any army. Complaint has been, and is, made specially against Meade, that he did not attack Lee near Williamsport before he had time to withdraw across the river. These were the facts concerning this matter: The 13th of July was the earliest day when such an attack, if practicable at all, could have been made. The time before this, since the battle, had been spent in moving the army from the vicinity of the field, finding something of the enemy and concentrating before him. On that day the army was concentrated and in order of battle near the turnpike that leads from Sharpsburg to Hagerstown, Md., the right resting at or near the latter place, the left near Jones' crossroads, some six miles in the direction of Sharpsburg, and in the following order from left to right: the 12th corps, the 2d, the 5th, the 6th, the 1st, the 11th; the 3d being in reserve behind the 2d. The mean distance to the Potomac was some six miles, and the enemy was between Meade and the river. The Potomac, swelled by the recent rain, was boiling and swift and deep, a magnificent place to have drowned all the Rebel crew. I have not the least doubt but that Gen. Meade would have liked to drown them all, if he could, but they were unwilling to be drowned, and would fight first. To drive them into the river then, they must be routed. Gen. Meade, I believe, favored an attack upon the enemy at that time, and he summoned his corps commanders to a council upon the subject. The 1st corps was represented by William Hayes, the 3d by French, the 5th by Sykes, the 6th by Sedgwick, the 11th by Howard, the 12th by Slocum, and the Cavalry by Pleasanton. Of the eight generals there, Wadsworth, Howard and Pleasanton were in favor of immediate attack, and five, Hayes, French, Sykes, Sedgwick and Slocum were not in favor of attack until better information was obtained of the position and situation of the enemy. Of the _pros_ Wadsworth only temporarily represented the 1st corps in the brief absence of Newton, who, had a battle occurred, would have commanded. Pleasanton, with his horses, would have been a spectator only, and Howard, with the _brilliant 11th corps_, would have been trusted nowhere but a safe distance from the enemy--not by Gen. Howard's fault, however, for he is a good and brave man. Such was the position of those who felt sanguinarily inclined. Of the _cons_ were all of the fighting generals of the fighting corps, save the 1st. This, then, was the feeling of these generals--all who would have had no responsibility or part in all probability, _hankered_ for a fight--those who would have had both part and responsibility, did not. The attack was not made. At daylight on the morning of the 14th, strong reconnoissances from the 12th, 2d and 5th corps were the means of discovering that between the enemy, except a thousand or fifteen hundred of his rear guard, who fell into our hands, and the Army of the Potomac, rolled the rapid, unbridged river. The Rebel General, Pettigrew, was here killed. The enemy had constructed bridges, had crossed during all the preceding night, but so close were our cavalry and infantry upon him in the morning, that the bridges were destroyed before his rear guard had all crossed. Among the considerations influencing these generals against the propriety of attack at that time, were probably the following: The army was wearied and worn down by four weeks of constant forced marching or battle, in the midst of heat, mud and drenching showers, burdened with arms, accoutrements, blankets, sixty to a hundred cartridges, and five to eight days' rations. What such weariness means few save soldiers know. Since the battle the army had been constantly diminished by sickness or prostration and by more straggling than I ever saw before. Poor fellows--they could not help it. The men were near the point when further efficient physical exertion was quite impossible. Even the sound of the skirmishing, which was almost constant, and the excitement of impending battle, had no effect to arouse for an hour the exhibition of their wonted former vigor. The enemy's loss in battle, it is true, had been far heavier than ours; but his army was less weary than ours, for in a given time since the first of the campaign, it had marched far less and with lighter loads. These Rebels are accustomed to hunger and nakedness, customs to which our men do not take readily. And the enemy had straggled less, for the men were going away from battle and towards home, and for them to straggle was to go into captivity, whose end they could not conjecture. The enemy was somewhere in position in a ridgy, wooded country, abounding in strong defensive positions, his main bodies concealed, protected by rifle-pits and epaulements, acting strictly on the defensive. His dispositions, his position even, with any considerable degree of accuracy was unknown, nor could they be known except by reconnoisances in such force, and carried to such extent, as would have constituted them attacks liable to bring on at any moment a general engagement, and at places where we were least prepared and least likely to be successful. To have had a battle there then, Gen. Meade would have had to attack a cunning enemy in the dark, where surprises, undiscovered rifle-pits and batteries, and unseen bodies of men might have met his forces at every point. With his not greatly superior numbers, under such circumstances had Gen. Meade attacked, would he have been victorious? The vote of these generals at the council shows their opinion--my own is that he would have been repulsed with heavy loss with little damage to the enemy. Such a result might have satisfied the bloody politicians better than the end of the campaign as it was; but I think the country did not need that sacrifice of the Army of the Potomac at that time--that enough odor of sacrifice came up to its nostrils from the 1st Fredericksburg field, to stop their snuffing for some time. I felt the probability of defeat strongly at the time, when we all supposed that a conflict would certainly ensue; for always before a battle--at least it so happens to me--some dim presentiment of results, some unaccountable fore-shadowing pervades the army. I never knew the result to prove it untrue, which rests with the weight of a conviction. Whether such shadows are cause or consequence, I shall not pretend to determine; but when, as they often are, they are general, I think they should not be wholly disregarded by the commander. I believe the Army of the Potomac is always willing, often eager, to fight the enemy, whenever, as it thinks, there is a fair chance for victory; that it always will fight, let come victory or defeat whenever it is ordered so to do. Of course the army, both officers and men, had very great disappointment and very great sorrow that the Rebels _escaped_--so it was called--across the river; the disappointment was genuine, at least to the extent that disappointment is like surprise; but the sorrow to judge by looks, tones and actions, rather than by words, was not of that deep, sable character for which there is no balm. Would it be an imputation upon the courage or patriotism of this army if it was not rampant for fight at this particular time and under the existing circumstances? Had the enemy stayed upon the left bank of the Potomac twelve hours longer, there would have been a great battle there near Williamsport on the 14th of July. After such digression, if such it is, I return to Gettysburg. As good generalship is claimed for Gen. Meade in the battle, so was the conduct of his subordinate commanders good. I know, and have heard, of no bad conduct or blundering on the part of any officer, save that of Sickles, on the 2d of July, and that was so gross, and came so near being the cause of irreparable disaster that I cannot discuss it with moderation. I hope the man may never return to the Army of the Potomac, or elsewhere, to a position where his incapacity, or something worse, may bring fruitless destruction to thousands again. The conduct of officers and men was good. The 11th corps behaved badly; but I have yet to learn the occasion when, in the opinion of any save their own officers and themselves, the men of this corps have behaved well on the march or before the enemy, either under Siegel or any other commander. With this exception, and some minor cases of very little consequence in the general result, our troops whenever and wherever the enemy came, stood against them storms of impassable fire. Such was the infantry, such the artillery--the cavalry did less but it did all that was required. The enemy, too, showed a determination and valor worthy of a better cause. Their conduct in this battle even makes me proud of them as Americans. They would have been victorious over any but the best of soldiers. Lee and his generals presumed too much upon some past successes, and did not estimate how much they were due on their part to position, as at Fredericksburg, or on our part to bad generalship, as at the 2d Bull Run and Chancellorsville. The fight of the 1st of July we do not, of course, claim as a victory; but even that probably would have resulted differently had Reynolds not been struck. The success of the enemy in the battle ended with the 1st of July. The Rebels were joyous and jubilant--so said our men in their hands, and the citizens of Gettysburg--at their achievements on that day. Fredericksburg and Chancellorsville were remembered by them. They saw victory already won, or only to be snatched from the streaming coat-tails of the 11th corps, or the \"_raw Pennsylvania militia_\" as they thought they were, when they saw them run; and already the spires of Baltimore and the dome of the National Capitol were forecast upon their glad vision--only two or three days march away through the beautiful valleys of Pennsylvania and \"_my_\" Maryland. Was there ever anything so fine before? How splendid it would be to enjoy the poultry and the fruit, the meats, the cakes, the beds, the clothing, the _Whiskey_, without price in this rich land of the Yankee! It would, indeed! But on the 2d of July something of a change came over the spirit of these dreams. They were surprised at results and talked less and thought more as they prepared supper that night. After the fight of the 3d they talked only of the means of their own safety from destruction. Pickett's splendid division had been almost annihilated, they said, and they talked not of how many were lost, but of who had escaped. They talked of these \"Yanks\" that had _clubs_ on their flags and caps, the trefoils of the 2d corps that are like _clubs_ in cards. The battle of Gettysburg is distinguished in this war, not only as by far the greatest and severest conflict that has occurred, but for some other things that I may mention. The fight of the 2d of July, on the left, which was almost a separate and complete battle, is, so far as I know, alone in the following particulars: the numbers of men actually engaged at one time, and the enormous losses that occurred in killed and wounded in the space of about two hours. If the truth could be obtained, it would probably show a much larger number of casualties in this than my estimate in a former part of these sheets. Few battles of the war that have had so many casualties altogether as those of the two hours on the 2d of July. The 3d of July is distinguished. Then occurred the \"great cannonade\"--so we call it, and so it would be called in any war, and in almost any battle. And besides this, the main operations that followed have few parallels in history, none in this war, of the magnitude and magnificence of the assault, single and simultaneous, the disparity of the numbers engaged, and the brilliancy, completeness and overwhelming character of the result in favor of the side numerically the weaker. I think I have not, in giving the results of this encounter, overestimated the numbers or the losses of the enemy. We learned on all hands, by prisoners and by the newspapers, that over two divisions moved up to the assault--Pickett's and Pettigrew's--that this was the first engagement of Pickett's in the battle, and the first of Pettigrew's save a light participation on the 1st of July. The Rebel divisions usually number nine or ten thousand, or did at that time, as we understood. Then I have seen something of troops and think I can estimate their numbers somewhat. The number of the Rebels killed here I have estimated in this way: the 2d and 3d divisions of the 2d corps buried the Rebel dead in their own front, and where they fought upon their own grounds, by count they buried over _one thousand eight hundred_. I think no more than about _two hundred_ of these were killed on the 2d of July in front of the 2d division, and the rest must have fallen upon the 3d. My estimates that depend upon this contingency may be erroneous, but to no great extent. The rest of the particulars of the assault, our own losses and our captures, I know are approximately accurate. Yet the whole sounds like romance, a grand stage piece of blood. Of all the corps d'armie, for hard fighting, severe losses and brilliant results, the palm should be, as by the army it is, awarded to the \"_Old Second_.\" It did more fighting than any other corps, inflicted severer losses upon the enemy in killed and wounded, and sustained a heavier like loss, and captured more flags than all the rest of the army, and almost as many prisoners as the rest of the army. The loss of the 2d corps in killed and wounded in this battle--there is no other test of hard fighting--was almost as great as that of all Gen. Grant's forces in the battle that preceded and in the siege of Vicksburg. Three-eighths of the whole corps were killed and wounded. Why does the Western Army suppose that the Army of the Potomac does not fight? Was ever a more absurd supposition? The Army of the Potomac is grand! Give it good leadership--let it alone--and it will not fail to accomplish all that reasonable men desire. Of Gibbon's white trefoil division, if I am not cautious, I shall speak too enthusiastically. This division has been accustomed to distinguished leadership. Sumner, Sedgwick and Howard have honored, and been honored by, its command. It was repulsed under Sedgwick at Antietam and under Howard at Fredericksburg; it was victorious under Gibbon at the 2d Fredericksburg and at Gettysburg. At Gettysburg its loss in killed and wounded was over _one thousand seven hundred_, near one-half of all engaged; it captured _seventeen_ battle-flags and _two thousand three hundred_ prisoners. Its bullets hailed on Pickett's division, and killed or mortally wounded four Rebel generals, _Barksdale_ on the 2d of July, with the three on the 3d, _Armstead_, _Garnett_ and _Kemper_. In losses in killed and wounded, and in captures from the enemy of prisoners and flags, it stood pre-eminent among all the divisions at Gettysburg. Under such generals as Hancock and Gibbon brilliant results may be expected. Will the country remember them? It is understood in the army that the President thanked the slayer of Barton Key for _saving the day_ at Gettysburg. Does the country know any better than the President that Meade, Hancock and Gibbon were entitled to some little share of such credit? At about six o'clock on the afternoon of the 3d of July, my duties done upon the field, I quitted it to go to the General. My brave horse _Dick_--poor creature, his good conduct in the battle that afternoon had been complimented by a Brigadier--was a sight to see. He was literally covered with blood. Struck repeatedly, his right thigh had been ripped open in a ghastly manner by a piece of shell, and three bullets were lodged deep in his body, and from his wounds the blood oozed and ran down his sides and legs and with the sweat formed a bloody foam. Dick's was no mean part in that battle. Good conduct in men under such circumstances as he was placed in might result from a sense of duty--his was the result of his bravery. Most horses would have been unmanageable with the flash and roar of arms about and the shouting. Dick was utterly cool, and would have obeyed the rein had it been a straw. To Dick belongs the honor of first mounting that stormy crest before the enemy, not forty yards away, whose bullets smote him, and of being the only horse there during the heat of the battle. Even the enemy noticed Dick, and one of their reports of the battle mentions the \"_solitary horseman_\" who rallied our wavering line. He enabled me to do twelve times as much as I could have done on foot. It would not be dignified for an officer on foot to run; it is entirely so, mounted, to gallop. I do not approve of officers dismounting in battle, which is the time of all when they most need to be mounted, for thereby they have so much greater facilities for being everywhere present. Most officers, however, in close action, dismount. Dick deserves well of his country, and one day should have a horse-monument. If there be \"_ut sapientibus placit_,\" and equine elysium, I will send to Charon the brass coin, the fee for Dick's passage over, and on the other side of the Styx in those shadowy clover-fields he may nibble the blossoms forever. I had been struck upon the thigh by a bullet which I think must have glanced and partially spent its force upon my saddle. It had pierced the thick cloth of my trowsers and two thicknesses of underclothing, but had not broken the skin, leaving me with an enormous bruise that for a time benumbed the entire leg. At the time of receiving it, I heard the thump, and noticed it and the hole in the cloth into which I thrust my finger, and I experienced a feeling of relief I am sure, when I found that my leg was not pierced. I think when I dismounted my horse after that fight that I was no very comely specimen of humanity. Drenched with sweat, the white of battle, by the reaction, now turned to burning red. I felt like a boiled man; and had it not been for the exhiliration at results I should have been miserable. This kept me up, however, and having found a man to transfer the saddle from poor Dick, who was now disposed to lie down by loss of blood and exhaustion, to another horse, I hobbled on among the hospitals in search of Gen. Gibbon. The skulkers were about, and they were as loud as any in their rejoicings at the victory, and I took a malicious pleasure as I went along and met them, in taunting the _sneaks_ with their cowardice and telling them--it was not true--that Gen. Meade had just given the order to the Provost Guard to arrest and shoot all men they could find away from their regiments who could not prove a good account of themselves. To find the General was no easy matter. I inquired for both Generals Hancock and Gibbon--I knew well enough that they would be together--and for the hospitals of the 2d corps. My search was attended with many incidents that were provokingly humorous. The stupidity of most men is amazing. I would ask of a man I met, \"Do you know, sir, where the 2d corps hospitals are?\" \"The 12th corps hospital is there!\" Then I would ask sharply, \"Did you understand me to ask for the 12th corps hospital?\" \"No!\" \"Then why tell me what I do not ask or care to know?\" Then stupidity would stare or mutter about the ingratitude of some people for kindness. Did I ask for the Generals I was looking for, they would announce the interesting fact, in reply, that they had seen some other generals. Some were sure that Gen. Hancock or Gibbon was dead. They had seen his dead body. This was a falsehood, and they knew it. Then it was Gen. Longstreet. This was also, as they knew, a falsehood. Oh, sorrowful was the sight to see so many wounded! The whole neighborhood in rear of the field became one vast hospital of miles in extent. Some could walk to the hospitals; such as could not were taken upon stretchers from the places where they fell to selected points and thence the ambulance bore them, a miserable load, to their destination. Many were brought to the building, along the Taneytown road, and too badly wounded to be carried further, died and were buried there, Union and Rebel soldiers together. At every house, and barn, and shed the wounded were; by many a cooling brook, or many a shady slope or grassy glade, the red flags beckoned them to their tented asylums, and there they gathered, in numbers a great army, a mutilated, bruised mass of humanity. Men with gray hair and furrowed cheeks and soft-lipped, beardless boys were there, for these bullets have made no distinction between age and youth. Every conceivable wound that iron and lead can make, blunt or sharp, bullet, ball and shell, piercing, bruising, tearing, was there; sometimes so light that a bandage and cold water would restore the soldier to the ranks again; sometimes so severe that the poor victim in his hopeless pain, remedy-less save by the only panacea for all mortal suffering, invoked that. The men are generally cheerful, and even those with frightful wounds, often are talking with animated faces of nothing but the battle and the victory. But some are downcast, their faces distorted with pain. Some have undergone the surgeon's work; some, like men at a ticket office, await impatiently their turn to have an arm or a leg cut off. Some walk about with an arm in a sling; some sit idly upon the ground; some lie at full length upon a little straw, or a blanket, with their brawny, now blood-stained, limbs bare, and you may see where the minie bullet has struck or the shell has torn. From a small round hole upon many a manly breast, the red blood trickles, but the pallid cheek, the hard-drawn breath and dim closed eyes tell how near the source of life it has gone. The surgeons, with coats off and sleeves rolled up, and the hospital attendants with green bands upon their caps, are about their work; and their faces and clothes are spattered with blood; and though they look weary and tired, their work goes systematically and steadily on. How much and how long they have worked, the piles of legs, arms, feet, hands, and fingers about partially tell. Such sounds are heard sometimes--you would not have heard them upon the field--as convince that bodies, bones, sinews and muscles are not made of insensible stone. Near by appear a row of small fresh mounds, placed side by side. They were not there day before yesterday. They will become more numerous every day. Such things I saw as I rode along. At last I found the Generals. Gen. Gibbon was sitting on a chair that had been borrowed somewhere, with his wounded shoulder bare, and an attendant was bathing it with cold water. Gen. Hancock was near by in an ambulance. They were at the tents of the Second Corps hospitals, which were on Rock Run. As I approached Gen. Gibbon, when he saw me, he began to hurrah and wave his right hand. He had heard the result. I said: \"O, General, long and well may you wave\"--and he shook me warmly by the hand. Gen. Gibbon was struck by a bullet in the left shoulder, which had passed from the front through the flesh and out behind, fracturing the shoulder blade and inflicting a severe but not dangerous wound. He thinks he was the mark of a sharpshooter of the enemy hid in the bushes, near where he and I had sat so long during the cannonade; and he was wounded and taken off the field before the fire of the main lines of infantry had commenced, he being at the time he was hit near the left of his division. Gen. Hancock was struck a little later near the same part of the field by a bullet, piercing and almost going through his thigh, without touching the bone, however. His wound was severe, also. He was carried back out of range, but before he would be carried off the field, he lay upon the ground in sight of the crest, where he could see something of the fight, until he knew what would be the result. And then, at Gen. Gibbon's request, I had to tell him and a large voluntary crowd of the wounded who pressed around now, for the wounds they showed not rebuked for closing up to the Generals, the story of the fight. I was nothing loth; and I must say though I used sometimes before the war to make speeches, that I never had so enthusiastic an audience before. Cries of \"good,\" \"glorious,\" frequently interrupted me, and the storming of the wall was applauded by enthusiastic tears and the waving of battered, bloody hands. By the custom of the service the General had the right to have me along with him, while away with his wound; but duty and inclination attracted me still to the field, and I obtained the General's consent to stay. Accompanying Gen. Gibbon to Westminster, the nearest point to which railroad trains then ran, and seeing him transferred from an ambulance to the cars for Baltimore on the 4th, the next day I returned to the field to his division, since his wounding in the command of Gen. Harrow. On the 6th of July, while my bullet bruise was yet too inflamed and sensitive for me to be good for much in the way of duty--the division was then halted for the day some four miles from the field on the Baltimore turnpike--I could not repress the desire or omit the opportunity to see again where the battle had been. With the right stirrup strap shortened in a manner to favor the bruised leg, I could ride my horse at a walk without serious discomfort. It seemed very strange upon approaching the horse-shoe crest again, not to see it covered with the thousands of troops and horses and guns, but they were all gone--the armies, to my seeming, had vanished--and on that lovely summer morning the stillness and silence of death pervaded the localities where so recently the shouts and the cannon had thundered. The recent rains had washed out many an unsightly spot, and smoothed many a harrowed trace of the conflict; but one still needed no guide save the eyes, to follow the track of that storm, which the storms of heaven were powerless soon to entirely efface. The spade and shovel, so far as a little earth for the human bodies would render their task done, had completed their work--a great labor, that. But still might see under some concealing bush, or sheltering rock, what had once been a man, and the thousands of stricken horses still lay scattered as they had died. The scattered small arms and the accoutrements had been collected and carried away, almost all that were of any value; but great numbers of bent and splintered muskets, rent knapsacks and haversacks, bruised canteens, shreds of caps, coats, trowsers, of blue or gray cloth, worthless belts and cartridge boxes, torn blankets, ammunition boxes, broken wheels, smashed limbers, shattered gun carriages, parts of harness, of all that men or horses wear or use in battle, were scattered broadcast over miles of the field. From these one could tell where the fight had been hottest. The rifle-pits and epaulements and the trampled grass told where the lines had stood, and the batteries--the former being thicker where the enemy had been than those of our own construction. No soldier was to be seen, but numbers of civilians and boys, and some girls even, were curiously loitering about the field, and their faces showed not sadness or horror, but only staring wonder or smirking curiosity. They looked for mementoes of the battle to keep, they said; but their furtive attempts to conceal an uninjured musket or an untorn blanket--they had been told that all property left here belonged to the Government--showed that the love of gain was an ingredient at least of their motive for coming here. Of course there was not the slightest objection to their taking anything they could find now; but their manner of doing it was the objectionable thing. I could now understand why soldiers had been asked a dollar for a small strip of old linen to bind their own wound, and not be compelled to go off to the hospitals. Never elsewhere upon any field have I seen such abundant evidences of a terrific fire of cannon and musketry as upon this. Along the enemy's position, where our shells and shot had struck during the cannonade of the third, the trees had cast their trunks and branches as if they had been icicles shaken by a blast. And graves of the Rebel's making, and dead horses and scattered accoutrements, showed that other things besides trees had been struck by our projectiles. I must say that, having seen the work of their guns upon the same occasion, I was gratified to see these things. Along the slope of Culp's Hill, in front of the position of the 12th, and the 1st Division of the 1st Corps, the trees were almost literally peeled, from the ground up some fifteen or twenty feet, so thick upon them were the scars the bullets had made. Upon a single tree, not over a foot and a half in diameter, I actually counted as many as two hundred and fifty bullet marks. The ground was covered by the little twigs that had been cut off by the hailstorm of lead. Such were the evidences of the storm under which Ewell's bold Rebels assaulted our breastworks on the night of the 2d and the morning of the 3d of July. And those works looked formidable, zig-zaging along these rocky crests, even now when not a musket was behind them. What madness on the part of the enemy to have attacked them! All along through these bullet-stormed woods were interspersed little patches of fresh earth, raised a foot or so above the surrounding ground. Some were very near the front of the works; and near by, upon a tree whose bark had been smoothed by an axe, written in red chalk would be the words, not in fine handwriting, \"75 Rebels buried here.\" \"54 Rebs. there.\" And so on. Such was the burial and such the epitaph of many of those famous men, once led by the mighty Stonewall Jackson. Oh, this damned rebellion will make brutes of us all, if it is not soon quelled! Our own men were buried in graves, not trenches; and upon a piece of board, or stave of a barrel, or bit of cracker box, placed at the head, were neatly cut or penciled the name and regiment of the one buried in such. This practice was general, but of course there must be some exceptions, for sometimes the cannon's load had not left enough of a man to recognize or name. The reasons here for the more careful interment of our own dead than such as was given to the dead of the enemy are obvious and I think satisfactory. Our own dead were usually buried not long after they fell, and without any general order to that effect. It was a work that the men's hearts were in as soon as the fight was over and opportunity offered, to hunt out their dead companions, to make them a grave in some convenient spot, and decently composed with their blankets wrapped about them, to cover them tenderly with earth and mark their resting place. Such burials were not without as scalding tears as ever fell upon the face of coffined mortality. The dead of the enemy could not be buried until after the close of the whole battle. The army was about to move--some of it was already upon the march, before such burial commenced. Tools, save those carried by the pioneers, were many miles away with the train, and the burying parties were required to make all haste in their work, in order to be ready to move with their regiments. To make long shallow trenches, to collect the Rebel dead, often hundreds in one place, and to cover them hastily with a little earth, without name, number, or mark, save the shallow mound above them--their names of course they did not know--was the best that could be done. I should have been glad to have seen more formal burial, even of these men of the rebellion, both because hostilities should cease with death, and of the respect I have for them as my brave, though deluded, countrymen. I found fault with such burial at the time, though I knew that the best was done that could be under the circumstances; but it may perhaps soften somewhat the rising feelings upon this subject, of any who may be disposed to share mine, to remember that under similar circumstances--had the issue of the battle been reversed--our own dead would have had no burial at all, at the hands of the enemy, but, stripped of their clothing, their naked bodies would have been left to rot, and their bones to whiten upon the top of the ground where they fell. Plenty of such examples of Rebel magnanimity are not wanting, and one occurred on this field, too. Our dead that fell into the hands of the enemy on the 1st of July had been plundered of all their clothing, but they were left unburied until our own men buried them after the Rebels had retreated at the end of the battle. All was bustle and noise in the little town of Gettysburg as I entered it on my tour of the field. From the afternoon of the 1st to the morning of the 4th of July, the enemy was in possession. Very many of the inhabitants had, upon the first approach of the enemy, or upon the retirement of our troops, fled their homes and the town not to return until after the battle. Now the town was a hospital where gray and blue mingled in about equal proportion. The public buildings, the courthouse, the churches and many private dwellings were full of wounded. There had been in some of the streets a good deal of fighting, and bullets had thickly spattered the fences and walls, and shells had riddled the houses from side to side. And the Rebels had done their work of pillage there, too, in spite of the smooth-sounding general order of the Rebel commander enjoining a sacred regard for private property--the order was really good and would sound marvelously well abroad or in history. All stores of drugs and medicines, of clothing, tin-ware and all groceries had been rifled and emptied without pay or offer of recompense. Libraries, public and private, had been entered and the books scattered about the yards or destroyed. Great numbers of private dwellings had been entered and occupied without ceremony and whatever was liked had been appropriated or wantonly destroyed. Furniture had been smashed and beds ripped open, and apparently unlicensed pillage had reigned. Citizens and women who had remained had been kindly relieved of their money, their jewelry and their watches--all this by the high-toned chivalry, the army of the magnanimous Lee! Put these things by the side of the acts of the \"vandal Yankees\" in Virginia, and then let mad Rebeldom prate of honor! But the people, the women and children that had fled, were returning, or had returned to their homes--such homes--and amid the general havoc were restoring as they could order to the desecrated firesides. And the faces of them all plainly told that, with all they had lost and bad as was the condition of all things they found, they were better pleased with such homes than with wandering houseless in the fields with the Rebels there. All had treasures of incidents of the battle and of the occupation of the enemy--wonderful sights, escapes, witnessed encounters, wounds, the marvelous passage of shells or bullets which, upon the asking, or even without, they were willing to share with the stranger. I heard of no more than one or two cases of any personal injury received by any of the inhabitants. One woman was said to have been killed while at her wash-tub, sometime during the battle; but probably by a stray bullet coming a very long distance from our own men. For the next hundred years Gettysburg will be rich in legends and traditions of the battle. I rode through the Cemetery on \"Cemetery Hill.\" How these quiet sleepers must have been astounded in their graves when the twenty pound Parrott guns thundered above them and the solid shot crushed their gravestones! The flowers, roses and creeping vines that pious hands had planted to bloom and shed their odors over the ashes of dead ones gone, were trampled upon the ground and black with the cannon's soot. A dead horse lay by the marble shaft, and over it the marble finger pointed to the sky. The marble lamb that had slept its white sleep on the grave of a child, now lies blackened upon a broken gun-carriage. Such are the incongruities and jumblings of battle. I looked away to _the group of trees_--the Rebel gunners know what ones I mean, and so do the survivors of Pickett's division--and a strange fascination led me thither. How thick are the marks of battle as I approach--the graves of the men of the 3d division of the 2d corps; the splintered oaks, the scattered horses--seventy-one dead horses were on a spot some fifty yards square near the position of Woodruff's battery, and where he fell. I stood solitary upon the crest by \"_the trees_\" where, less than three days ago, I had stood before; but now how changed is all the eye beholds. Do these thick mounds cover the fiery hearts that in the battle rage swept the crest and stormed the wall? I read their names--them, alas, I do not know--but I see the regiments marked on their frail monuments--\"20th Mass. Vols.,\" \"69 P. V.,\" \"1st Minn. Vols.,\" and the rest--they are all represented, and as they fought commingled here. So I am not alone. These, my brethren of the fight, are with me. Sleep, noble brave! The foe shall not desecrate your sleep. Yonder thick trenches will hold them. As long as patriotism is a virtue, and treason a crime your deeds have made this crest, your resting place, hallowed ground! But I have seen and said enough of this battle. The unfortunate wounding of my General so early in the action of the 3d of July, leaving important duties which, in the unreasoning excitement of the moment I in part assumed, enabled me to do for the successful issue, something which under other circumstances would not have fallen to my rank or place. Deploring the occasion for taking away from the division in that moment of its need its soldierly, appropriate head, so cool, so clear, I am yet glad, as that was to be, that his example and his tuition have not been entirely in vain to me, and that my impulses then prompted me to do somewhat as he might have done had he been on the field. The encomiums of officers, so numerous and some of so high rank, generously accorded me for my conduct upon that occasion--I am not without vanity--were gratifying. My position as a staff officer gave me an opportunity to see much, perhaps as much as any one person, of that conflict. My observations were not so particular as if I had been attached to a smaller command; not so general as may have been those of a staff officer to the General commanding the army; but of such as they were, my heart was there, and I could do no less than to write something of them, in the intervals between marches and during the subsequent repose of the army at the close of the campaign. I have put somewhat upon these pages--I make no apology for the egotism, if such there is, of this account--it is not designed to be a history, but simply _my account_ of the battle. It should not be assumed, if I have told of some occurrences, that there were not other important ones. I would not have it supposed that I have attempted to do full justice to the good conduct of the fallen, or the survivors of the 1st and 12th Corps. Others must tell of them. I did not see their work. A full account of _the battle as it was_ will never, can never be made. Who could sketch the changes, the constant shifting of the bloody panorama? It is not possible. The official reports may give results as to losses, with statements of attacks and repulses; they may also note the means by which results were attained, which is a statement of the number and kind of the forces employed, but the connection between means and results, the mode, the battle proper, these reports touch lightly. Two prominent reasons at least exist which go far to account for the general inadequacy of these official reports, or to account for their giving no true idea of what they assume to describe--the literary infirmity of the reporters and their not seeing themselves and their commands as others would have seen them. And factions, and parties, and politics, the curses of this Republic, are already putting in their unreasonable demands for the foremost honors of the field. \"Gen. Hooker won Gettysburg.\" How? Not with the army in person or by infinitesimal influence--leaving it almost four days before the battle when both armies were scattered and fifty miles apart! Was ever claim so absurd? Hooker, and he alone, won the result at Chancellorsville. \"Gen. Howard won Gettysburg!\" \"Sickles saved the day!\" Just Heaven, save the poor Army of the Potomac from its friends! It has more to dread and less to hope from them than from the red bannered hosts of the rebellion. The states prefer each her claim for the sole brunt and winning of the fight. \"Pennsylvania won it!\" \"New York won it!\" \"Did not Old Greece, or some tribe from about the sources of the Nile win it?\" For modern Greeks--from Cork--and African Hannibals were there. Those intermingled graves along the crest bearing the names of every loyal state, save one or two, should admonish these geese to cease to cackle. One of the armies of the country won the battle, and that army supposes that Gen. Meade led it upon that occasion. If it be not one of the lessons that this war teaches, that we have a country paramount and supreme over faction, and party, and state, then was the blood of fifty thousand citizens shed on this field in vain. For the reasons mentioned, of this battle, greater than that of Waterloo, a history, just, comprehensive, complete will never be written. By-and-by, out of the chaos of trash and falsehood that the newspapers hold, out of the disjointed mass of reports, out of the traditions and tales that come down from the field, some eye that never saw the battle will select, and some pen will write what will be named _the history_. With that the world will be and, if we are alive, we must be, content. Already, as I rode down from the heights, nature's mysterious loom was at work, joining and weaving on her ceaseless web the shells had broken there. Another spring shall green these trampled slopes, and flowers, planted by unseen hands, shall bloom upon these graves; another autumn and the yellow harvest shall ripen there--all not in less, but in higher perfection for this poured out blood. In another decade of years, in another century, or age, we hope that the Union, by the same means, may repose in a securer peace and bloom in a higher civilization. Then what matter if it lame Tradition glean on this field and hand down her garbled sheaf--if deft story with furtive fingers plait her ballad wreaths, deeds of her heroes here? or if stately history fill as she list her arbitrary tablet, the sounding record of this fight? Tradition, story, history--all will not efface the true, grand epic of Gettysburg. FRANK A. HASKELL\n"
     ]
    }
   ],
   "source": [
    "def concat_lines(line_list):\n",
    "    concat_lines = ''\n",
    "    for i in line_list:\n",
    "        if line_list == '\\n':\n",
    "          print(i)\n",
    "          continue\n",
    "        concat_lines += ' ' + i\n",
    "    return concat_lines\n",
    "\n",
    "getty_docs = concat_lines(getty_docs)\n",
    "print(len(docs), len(getty_docs), len(got_docs))\n",
    "print(''.join(getty_docs))"
   ]
  },
  {
   "cell_type": "code",
   "execution_count": 13,
   "metadata": {
    "colab": {
     "base_uri": "https://localhost:8080/"
    },
    "id": "Tq7vsNqmUIwu",
    "outputId": "701cbcf9-07b9-4d1e-ff1a-978d6645953e"
   },
   "outputs": [
    {
     "name": "stdout",
     "output_type": "stream",
     "text": [
      "2063 3039 23911\n"
     ]
    }
   ],
   "source": [
    "docets = pd.DataFrame(docs)\n",
    "docets.columns=['sentence']\n"
   ]
  },
  {
   "cell_type": "code",
   "execution_count": 17,
   "metadata": {
    "colab": {
     "base_uri": "https://localhost:8080/"
    },
    "id": "dRvEz86gQxyF",
    "outputId": "603d24eb-26c8-4ef2-af6c-407f8db5f9fa"
   },
   "outputs": [
    {
     "name": "stdout",
     "output_type": "stream",
     "text": [
      "heart.\n",
      "always.\n",
      "shade.\n",
      "conflict.\n",
      "back.\n",
      "hands.\n",
      "time.\n",
      "times.\n",
      "enemy.\n",
      "men.\n",
      "Gettysburg.\n",
      "hand.\n",
      "yesterday.\n",
      "battle?\n",
      "wounded.\n",
      "loss.\n",
      "required.\n",
      "blood.\n",
      "battle.\n"
     ]
    }
   ],
   "source": [
    "for i in getty_docs:\n",
    "  if len(i.split()) <= 1:\n",
    "    print(i)"
   ]
  },
  {
   "cell_type": "code",
   "execution_count": 56,
   "metadata": {
    "id": "BKhwmiZxyZj4"
   },
   "outputs": [],
   "source": [
    "import requests\n",
    "from bs4 import BeautifulSoup\n",
    "\n",
    "data = []\n",
    "\n",
    "# Make a request\n",
    "# https://awoiaf.westeros.org/index.php/Winterfell\n",
    "# https://awoiaf.westeros.org/index.php/Westeros\n",
    "# page = requests.get('https://www.gutenberg.org/cache/epub/3811/pg3811-images.html')\n",
    "# page = requests.get('https://en.wikipedia.org/wiki/The_Killer_Angels')\n",
    "page = requests.get('http://www.script-o-rama.com/movie_scripts/g/gettysburg-script-transcript-civil-war.html')\n",
    "soup = BeautifulSoup(page.content, 'html.parser')\n",
    "\n",
    "data.append({\n",
    "    'book': soup.h2.get_text(),\n",
    "    'table' : soup.find(\"pre\").find(text=True),\n",
    "    'text': ' '.join([p.get_text(strip=True) for p in soup.select('body p')[2:]])\n",
    "    }\n",
    ")\n",
    "getty = [data[0]['table']]"
   ]
  },
  {
   "cell_type": "code",
   "execution_count": 57,
   "metadata": {
    "colab": {
     "base_uri": "https://localhost:8080/",
     "height": 365
    },
    "id": "w1L5awuU70xP",
    "outputId": "f146e760-7e55-4aa9-c784-13c61ddcda15"
   },
   "outputs": [
    {
     "ename": "FeatureNotFound",
     "evalue": "ignored",
     "output_type": "error",
     "traceback": [
      "\u001B[0;31m---------------------------------------------------------------------------\u001B[0m",
      "\u001B[0;31mFeatureNotFound\u001B[0m                           Traceback (most recent call last)",
      "\u001B[0;32m<ipython-input-57-8fb2195a1306>\u001B[0m in \u001B[0;36m<module>\u001B[0;34m\u001B[0m\n\u001B[1;32m      1\u001B[0m \u001B[0;32mimport\u001B[0m \u001B[0mlxml\u001B[0m\u001B[0;34m\u001B[0m\u001B[0;34m\u001B[0m\u001B[0m\n\u001B[1;32m      2\u001B[0m \u001B[0mresponse\u001B[0m \u001B[0;34m=\u001B[0m \u001B[0mrequests\u001B[0m\u001B[0;34m.\u001B[0m\u001B[0mget\u001B[0m\u001B[0;34m(\u001B[0m\u001B[0;34m'https://awoiaf.westeros.org/index.php/Westeros'\u001B[0m\u001B[0;34m,\u001B[0m \u001B[0mcookies\u001B[0m\u001B[0;34m=\u001B[0m\u001B[0;34m{\u001B[0m\u001B[0;34m'cookies'\u001B[0m\u001B[0;34m:\u001B[0m\u001B[0;34m''\u001B[0m\u001B[0;34m}\u001B[0m\u001B[0;34m)\u001B[0m\u001B[0;34m\u001B[0m\u001B[0;34m\u001B[0m\u001B[0m\n\u001B[0;32m----> 3\u001B[0;31m \u001B[0msoup\u001B[0m \u001B[0;34m=\u001B[0m \u001B[0mBeautifulSoup\u001B[0m\u001B[0;34m(\u001B[0m\u001B[0mpage\u001B[0m\u001B[0;34m.\u001B[0m\u001B[0mcontent\u001B[0m\u001B[0;34m,\u001B[0m \u001B[0;34m'xml.parser'\u001B[0m\u001B[0;34m)\u001B[0m\u001B[0;34m\u001B[0m\u001B[0;34m\u001B[0m\u001B[0m\n\u001B[0m\u001B[1;32m      4\u001B[0m \u001B[0msoup\u001B[0m \u001B[0;34m=\u001B[0m \u001B[0mBeautifulSoup\u001B[0m\u001B[0;34m(\u001B[0m\u001B[0msoup\u001B[0m\u001B[0;34m.\u001B[0m\u001B[0mtext\u001B[0m\u001B[0;34m,\u001B[0m \u001B[0;34m\"lxml\"\u001B[0m\u001B[0;34m)\u001B[0m\u001B[0;34m\u001B[0m\u001B[0;34m\u001B[0m\u001B[0m\n\u001B[1;32m      5\u001B[0m \u001B[0;34m\u001B[0m\u001B[0m\n",
      "\u001B[0;32m/usr/local/lib/python3.8/dist-packages/bs4/__init__.py\u001B[0m in \u001B[0;36m__init__\u001B[0;34m(self, markup, features, builder, parse_only, from_encoding, exclude_encodings, **kwargs)\u001B[0m\n\u001B[1;32m    193\u001B[0m             \u001B[0mbuilder_class\u001B[0m \u001B[0;34m=\u001B[0m \u001B[0mbuilder_registry\u001B[0m\u001B[0;34m.\u001B[0m\u001B[0mlookup\u001B[0m\u001B[0;34m(\u001B[0m\u001B[0;34m*\u001B[0m\u001B[0mfeatures\u001B[0m\u001B[0;34m)\u001B[0m\u001B[0;34m\u001B[0m\u001B[0;34m\u001B[0m\u001B[0m\n\u001B[1;32m    194\u001B[0m             \u001B[0;32mif\u001B[0m \u001B[0mbuilder_class\u001B[0m \u001B[0;32mis\u001B[0m \u001B[0;32mNone\u001B[0m\u001B[0;34m:\u001B[0m\u001B[0;34m\u001B[0m\u001B[0;34m\u001B[0m\u001B[0m\n\u001B[0;32m--> 195\u001B[0;31m                 raise FeatureNotFound(\n\u001B[0m\u001B[1;32m    196\u001B[0m                     \u001B[0;34m\"Couldn't find a tree builder with the features you \"\u001B[0m\u001B[0;34m\u001B[0m\u001B[0;34m\u001B[0m\u001B[0m\n\u001B[1;32m    197\u001B[0m                     \u001B[0;34m\"requested: %s. Do you need to install a parser library?\"\u001B[0m\u001B[0;34m\u001B[0m\u001B[0;34m\u001B[0m\u001B[0m\n",
      "\u001B[0;31mFeatureNotFound\u001B[0m: Couldn't find a tree builder with the features you requested: xml.parser. Do you need to install a parser library?"
     ]
    }
   ],
   "source": [
    "import lxml\n",
    "response = requests.get('https://awoiaf.westeros.org/index.php/Westeros', cookies={'cookies':''})\n",
    "soup = BeautifulSoup(page.content, 'xml.parser')\n",
    "soup = BeautifulSoup(soup.text, \"lxml\")\n",
    "\n",
    "soup.findAll('p')"
   ]
  }
 ],
 "metadata": {
  "accelerator": "GPU",
  "colab": {
   "provenance": []
  },
  "gpuClass": "standard",
  "kernelspec": {
   "display_name": "Python 3 (ipykernel)",
   "language": "python",
   "name": "python3"
  },
  "language_info": {
   "codemirror_mode": {
    "name": "ipython",
    "version": 3
   },
   "file_extension": ".py",
   "mimetype": "text/x-python",
   "name": "python",
   "nbconvert_exporter": "python",
   "pygments_lexer": "ipython3",
   "version": "3.9.6"
  }
 },
 "nbformat": 4,
 "nbformat_minor": 1
}
