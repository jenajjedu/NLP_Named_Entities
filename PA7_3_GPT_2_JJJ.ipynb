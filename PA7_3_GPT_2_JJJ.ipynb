{
 "cells": [
  {
   "cell_type": "markdown",
   "metadata": {
    "id": "EKOTlwcmxmej"
   },
   "source": [
    "# GPT-2 Fine-Tuning Tutorial using raw text corpus\n",
    "\n",
    "From Rey Farhan (https://reyfarhan.com/posts/easy-gpt2-finetuning-huggingface/)\n",
    "\n",
    "\n"
   ]
  },
  {
   "cell_type": "markdown",
   "metadata": {
    "id": "0ZX8fCuuGA4P"
   },
   "source": [
    "Jena Jordahl\n",
    "Other people consulted\n",
    "\n",
    "Ran the first past of the pride and prejudice model on colab and then was unable to get a GPU to continue training on my own dataset.  Therefore, I switched to my own mac and processed on the CPU because I received errors when running pytorch using the GPU on the mac."
   ]
  },
  {
   "cell_type": "markdown",
   "metadata": {
    "id": "NKGBoVwuhM4H"
   },
   "source": [
    "This is a simplified script for fine-tuning GPT2 using Hugging Face's [Transformers library](https://huggingface.co/transformers/) and PyTorch on raw data. "
   ]
  },
  {
   "cell_type": "markdown",
   "metadata": {
    "id": "lS58Tugpg5gf"
   },
   "source": [
    "---------\n",
    "Your task is to modify this assignment on raw text of your choice (I have put Pride and Prejudice as an example below) and include 10 sample generations from your chosen text that you find interesting. \n"
   ]
  },
  {
   "cell_type": "markdown",
   "metadata": {
    "id": "Xf3Qw77SZGbS"
   },
   "source": [
    "# Setup"
   ]
  },
  {
   "cell_type": "code",
   "execution_count": 1,
   "metadata": {
    "colab": {
     "base_uri": "https://localhost:8080/"
    },
    "id": "0NmMdkZO8R6q",
    "outputId": "5642b62e-fbea-40ca-f3df-1b301d7a14df"
   },
   "outputs": [
    {
     "name": "stdout",
     "output_type": "stream",
     "text": [
      "Requirement already satisfied: transformers in ./venv/lib/python3.9/site-packages (4.25.1)\r\n",
      "Requirement already satisfied: tokenizers!=0.11.3,<0.14,>=0.11.1 in ./venv/lib/python3.9/site-packages (from transformers) (0.13.2)\r\n",
      "Requirement already satisfied: numpy>=1.17 in ./venv/lib/python3.9/site-packages (from transformers) (1.24.1)\r\n",
      "Requirement already satisfied: tqdm>=4.27 in ./venv/lib/python3.9/site-packages (from transformers) (4.64.1)\r\n",
      "Requirement already satisfied: regex!=2019.12.17 in ./venv/lib/python3.9/site-packages (from transformers) (2022.10.31)\r\n",
      "Requirement already satisfied: filelock in ./venv/lib/python3.9/site-packages (from transformers) (3.9.0)\r\n",
      "Requirement already satisfied: pyyaml>=5.1 in ./venv/lib/python3.9/site-packages (from transformers) (6.0)\r\n",
      "Requirement already satisfied: packaging>=20.0 in ./venv/lib/python3.9/site-packages (from transformers) (22.0)\r\n",
      "Requirement already satisfied: huggingface-hub<1.0,>=0.10.0 in ./venv/lib/python3.9/site-packages (from transformers) (0.11.1)\r\n",
      "Requirement already satisfied: requests in ./venv/lib/python3.9/site-packages (from transformers) (2.28.1)\r\n",
      "Requirement already satisfied: typing-extensions>=3.7.4.3 in ./venv/lib/python3.9/site-packages (from huggingface-hub<1.0,>=0.10.0->transformers) (4.4.0)\r\n",
      "Requirement already satisfied: idna<4,>=2.5 in ./venv/lib/python3.9/site-packages (from requests->transformers) (3.4)\r\n",
      "Requirement already satisfied: urllib3<1.27,>=1.21.1 in ./venv/lib/python3.9/site-packages (from requests->transformers) (1.26.13)\r\n",
      "Requirement already satisfied: certifi>=2017.4.17 in ./venv/lib/python3.9/site-packages (from requests->transformers) (2022.12.7)\r\n",
      "Requirement already satisfied: charset-normalizer<3,>=2 in ./venv/lib/python3.9/site-packages (from requests->transformers) (2.1.1)\r\n",
      "\u001B[33mWARNING: You are using pip version 21.3.1; however, version 22.3.1 is available.\r\n",
      "You should consider upgrading via the '/Users/mwh/PycharmProjects/pythonProject/venv/bin/python -m pip install --upgrade pip' command.\u001B[0m\r\n",
      "Requirement already satisfied: spacy in ./venv/lib/python3.9/site-packages (3.4.4)\r\n",
      "Requirement already satisfied: murmurhash<1.1.0,>=0.28.0 in ./venv/lib/python3.9/site-packages (from spacy) (1.0.9)\r\n",
      "Requirement already satisfied: srsly<3.0.0,>=2.4.3 in ./venv/lib/python3.9/site-packages (from spacy) (2.4.5)\r\n",
      "Requirement already satisfied: cymem<2.1.0,>=2.0.2 in ./venv/lib/python3.9/site-packages (from spacy) (2.0.7)\r\n",
      "Requirement already satisfied: jinja2 in ./venv/lib/python3.9/site-packages (from spacy) (3.1.2)\r\n",
      "Requirement already satisfied: packaging>=20.0 in ./venv/lib/python3.9/site-packages (from spacy) (22.0)\r\n",
      "Requirement already satisfied: spacy-loggers<2.0.0,>=1.0.0 in ./venv/lib/python3.9/site-packages (from spacy) (1.0.4)\r\n",
      "Requirement already satisfied: pathy>=0.3.5 in ./venv/lib/python3.9/site-packages (from spacy) (0.10.1)\r\n",
      "Requirement already satisfied: tqdm<5.0.0,>=4.38.0 in ./venv/lib/python3.9/site-packages (from spacy) (4.64.1)\r\n",
      "Requirement already satisfied: requests<3.0.0,>=2.13.0 in ./venv/lib/python3.9/site-packages (from spacy) (2.28.1)\r\n",
      "Requirement already satisfied: langcodes<4.0.0,>=3.2.0 in ./venv/lib/python3.9/site-packages (from spacy) (3.3.0)\r\n",
      "Requirement already satisfied: spacy-legacy<3.1.0,>=3.0.10 in ./venv/lib/python3.9/site-packages (from spacy) (3.0.10)\r\n",
      "Requirement already satisfied: smart-open<7.0.0,>=5.2.1 in ./venv/lib/python3.9/site-packages (from spacy) (6.3.0)\r\n",
      "Requirement already satisfied: thinc<8.2.0,>=8.1.0 in ./venv/lib/python3.9/site-packages (from spacy) (8.1.6)\r\n",
      "Requirement already satisfied: numpy>=1.15.0 in ./venv/lib/python3.9/site-packages (from spacy) (1.24.1)\r\n",
      "Requirement already satisfied: typer<0.8.0,>=0.3.0 in ./venv/lib/python3.9/site-packages (from spacy) (0.7.0)\r\n",
      "Requirement already satisfied: setuptools in ./venv/lib/python3.9/site-packages (from spacy) (60.2.0)\r\n",
      "Requirement already satisfied: preshed<3.1.0,>=3.0.2 in ./venv/lib/python3.9/site-packages (from spacy) (3.0.8)\r\n",
      "Requirement already satisfied: wasabi<1.1.0,>=0.9.1 in ./venv/lib/python3.9/site-packages (from spacy) (0.10.1)\r\n",
      "Requirement already satisfied: catalogue<2.1.0,>=2.0.6 in ./venv/lib/python3.9/site-packages (from spacy) (2.0.8)\r\n",
      "Requirement already satisfied: pydantic!=1.8,!=1.8.1,<1.11.0,>=1.7.4 in ./venv/lib/python3.9/site-packages (from spacy) (1.10.2)\r\n",
      "Requirement already satisfied: typing-extensions>=4.1.0 in ./venv/lib/python3.9/site-packages (from pydantic!=1.8,!=1.8.1,<1.11.0,>=1.7.4->spacy) (4.4.0)\r\n",
      "Requirement already satisfied: charset-normalizer<3,>=2 in ./venv/lib/python3.9/site-packages (from requests<3.0.0,>=2.13.0->spacy) (2.1.1)\r\n",
      "Requirement already satisfied: idna<4,>=2.5 in ./venv/lib/python3.9/site-packages (from requests<3.0.0,>=2.13.0->spacy) (3.4)\r\n",
      "Requirement already satisfied: urllib3<1.27,>=1.21.1 in ./venv/lib/python3.9/site-packages (from requests<3.0.0,>=2.13.0->spacy) (1.26.13)\r\n",
      "Requirement already satisfied: certifi>=2017.4.17 in ./venv/lib/python3.9/site-packages (from requests<3.0.0,>=2.13.0->spacy) (2022.12.7)\r\n",
      "Requirement already satisfied: confection<1.0.0,>=0.0.1 in ./venv/lib/python3.9/site-packages (from thinc<8.2.0,>=8.1.0->spacy) (0.0.3)\r\n",
      "Requirement already satisfied: blis<0.8.0,>=0.7.8 in ./venv/lib/python3.9/site-packages (from thinc<8.2.0,>=8.1.0->spacy) (0.7.9)\r\n",
      "Requirement already satisfied: click<9.0.0,>=7.1.1 in ./venv/lib/python3.9/site-packages (from typer<0.8.0,>=0.3.0->spacy) (8.1.3)\r\n",
      "Requirement already satisfied: MarkupSafe>=2.0 in ./venv/lib/python3.9/site-packages (from jinja2->spacy) (2.1.1)\r\n",
      "\u001B[33mWARNING: You are using pip version 21.3.1; however, version 22.3.1 is available.\r\n",
      "You should consider upgrading via the '/Users/mwh/PycharmProjects/pythonProject/venv/bin/python -m pip install --upgrade pip' command.\u001B[0m\r\n",
      "Requirement already satisfied: torch in ./venv/lib/python3.9/site-packages (1.13.1)\r\n",
      "Requirement already satisfied: typing-extensions in ./venv/lib/python3.9/site-packages (from torch) (4.4.0)\r\n",
      "\u001B[33mWARNING: You are using pip version 21.3.1; however, version 22.3.1 is available.\r\n",
      "You should consider upgrading via the '/Users/mwh/PycharmProjects/pythonProject/venv/bin/python -m pip install --upgrade pip' command.\u001B[0m\r\n"
     ]
    }
   ],
   "source": [
    "!pip install transformers\n",
    "!pip install -U spacy\n",
    "!pip install torch"
   ]
  },
  {
   "cell_type": "code",
   "execution_count": 2,
   "metadata": {
    "colab": {
     "base_uri": "https://localhost:8080/"
    },
    "id": "4RVP6rb1GHpw",
    "outputId": "45ea999d-79cc-44fa-899a-4593cbcb1cde"
   },
   "outputs": [
    {
     "name": "stdout",
     "output_type": "stream",
     "text": [
      "/Users/mwh/PycharmProjects/pythonProject/data\n"
     ]
    }
   ],
   "source": [
    "\n",
    "%cd ./data"
   ]
  },
  {
   "cell_type": "code",
   "execution_count": 3,
   "metadata": {
    "colab": {
     "base_uri": "https://localhost:8080/"
    },
    "id": "JCCeyhuDHdOu",
    "outputId": "7154f567-4f39-4d2f-e007-d02c23127196"
   },
   "outputs": [
    {
     "name": "stderr",
     "output_type": "stream",
     "text": [
      "[nltk_data] Downloading package punkt to /Users/mwh/nltk_data...\n",
      "[nltk_data]   Package punkt is already up-to-date!\n"
     ]
    },
    {
     "data": {
      "text/plain": "True"
     },
     "execution_count": 3,
     "metadata": {},
     "output_type": "execute_result"
    }
   ],
   "source": [
    "import os\n",
    "import time\n",
    "import datetime\n",
    "from __future__ import unicode_literals, print_function, division\n",
    "from io import open\n",
    "import glob\n",
    "import random\n",
    "random.seed(12)\n",
    "import spacy\n",
    "from tqdm import tqdm\n",
    "\n",
    "import pandas as pd\n",
    "import seaborn as sns\n",
    "import numpy as np\n",
    "\n",
    "import matplotlib.pyplot as plt\n",
    "%matplotlib inline\n",
    "\n",
    "\n",
    "import torch\n",
    "from torch.utils.data import Dataset, DataLoader, random_split, RandomSampler, SequentialSampler\n",
    "torch.manual_seed(42)\n",
    "from transformers import GPT2LMHeadModel,  GPT2Tokenizer, GPT2Config, GPT2LMHeadModel\n",
    "from transformers import AdamW, get_linear_schedule_with_warmup\n",
    "import nltk\n",
    "import ssl\n",
    "\n",
    "try:\n",
    "    _create_unverified_https_context = ssl._create_unverified_context\n",
    "except AttributeError:\n",
    "    pass\n",
    "else:\n",
    "    ssl._create_default_https_context = _create_unverified_https_context\n",
    "nltk.download('punkt')\n",
    "\n",
    "# !python -m spacy download en_core_web_lg\n"
   ]
  },
  {
   "cell_type": "code",
   "execution_count": 4,
   "metadata": {},
   "outputs": [],
   "source": [
    "# !PYTORCH_ENABLE_MPS_FALLBACK=1"
   ]
  },
  {
   "cell_type": "code",
   "execution_count": 5,
   "metadata": {
    "colab": {
     "base_uri": "https://localhost:8080/"
    },
    "id": "h995BTjQC7B5",
    "outputId": "17cb4314-726a-4142-a549-f755cba82db5"
   },
   "outputs": [
    {
     "name": "stdout",
     "output_type": "stream",
     "text": [
      "No GPU available, using the CPU instead.\n"
     ]
    }
   ],
   "source": [
    "# If there's a GPU available...\n",
    "# if torch.backends.mps.is_available():\n",
    "#     print(torch.backends.mps.is_built())\n",
    "#     dtype = torch.float\n",
    "#     device = torch.device(\"mps\")\n",
    "\n",
    "\n",
    "\n",
    "    # net.to(device)\n",
    "if torch.cuda.is_available():\n",
    "\n",
    "    # Tell PyTorch to use the GPU.\n",
    "    device = torch.device(\"cuda\")\n",
    "\n",
    "    print('There are %d GPU(s) available.' % torch.cuda.device_count())\n",
    "\n",
    "    print('We will use the GPU:', torch.cuda.get_device_name(0))\n",
    "\n",
    "# If not...\n",
    "else:\n",
    "    print('No GPU available, using the CPU instead.')\n",
    "    device = torch.device(\"cpu\")"
   ]
  },
  {
   "cell_type": "code",
   "execution_count": 6,
   "metadata": {},
   "outputs": [],
   "source": [
    "# !nvidia-smi"
   ]
  },
  {
   "cell_type": "code",
   "execution_count": 11,
   "metadata": {},
   "outputs": [],
   "source": [
    "def read_docs(story,idx,df_item=None):\n",
    "\n",
    "    if df_item:\n",
    "        f=open(story[idx], encoding='utf-8')\n",
    "        lines=f.read().strip().split('\\n' ) #.readlines()\n",
    "        doc=[line for line in lines]\n",
    "    else:\n",
    "        lines = pd.read_csv(story[idx],sep=',',header=0)\n",
    "        doc=[b.strip() for b in lines.Sentence.values]\n",
    "    print(doc[:5])\n",
    "    return doc\n",
    "\n",
    "\n",
    "def density_plot(docs):\n",
    "    doc_lengths = []\n",
    "\n",
    "    for doc in docs:\n",
    "\n",
    "        # get rough token count distribution\n",
    "        tokens = nltk.word_tokenize(doc)\n",
    "\n",
    "        doc_lengths.append(len(tokens))\n",
    "\n",
    "    doc_lengths = np.array(doc_lengths)\n",
    "\n",
    "    sns.distplot(doc_lengths)\n",
    "    return doc_lengths\n",
    "\n",
    "\n",
    "def format_time(elapsed):\n",
    "    return str(datetime.timedelta(seconds=int(round((elapsed)))))"
   ]
  },
  {
   "cell_type": "code",
   "execution_count": 12,
   "metadata": {},
   "outputs": [],
   "source": [
    "class GPT2Dataset(Dataset):\n",
    "\n",
    "  def __init__(self, txt_list, tokenizer, gpt2_type=\"gpt2\", max_length=768):\n",
    "\n",
    "    self.tokenizer = tokenizer\n",
    "    self.input_ids = []\n",
    "    self.attn_masks = []\n",
    "\n",
    "    for txt in txt_list:\n",
    "\n",
    "      encodings_dict = tokenizer('<|startoftext|>'+ txt + '<|endoftext|>', truncation=True, max_length=max_length, padding=\"max_length\")\n",
    "\n",
    "\n",
    "      self.input_ids.append(torch.tensor(encodings_dict['input_ids']))\n",
    "      self.attn_masks.append(torch.tensor(encodings_dict['attention_mask']))\n",
    "\n",
    "  def __len__(self):\n",
    "    return len(self.input_ids)\n",
    "\n",
    "  def __getitem__(self, idx):\n",
    "    return self.input_ids[idx], self.attn_masks[idx]"
   ]
  },
  {
   "cell_type": "code",
   "execution_count": 13,
   "outputs": [],
   "source": [
    "def preprocess(textList, batchsz=500):\n",
    "    # Input: text separated by new lines\n",
    "    # Output: sentences with space around punctuation\n",
    "\n",
    "    # sub-task 1: segment all the sentences in the wiki texts.\n",
    "    # sub-task 2: tokenize the sentences from sub-task 2.\n",
    "    # sub-task 3: lower-case the tokens from sub-task 3/4.\n",
    "\n",
    "    nlp = spacy.load('en_core_web_lg')\n",
    "    docDict = {}\n",
    "    docList = []\n",
    "    dropped = []\n",
    "    cnt = 0\n",
    "\n",
    "    for doc in tqdm(nlp.pipe(textList, batch_size=batchsz)): # Step 1\n",
    "        # if doc.has_annotation(\"DEP\"):\n",
    "        # for ent in doc.ents:\n",
    "            #  THIS LINE GIVES THE NAMED ENTITIES IN DOC\n",
    "            # print(ent.text, ent.start_char, ent.end_char, ent.label_)\n",
    "        docString = ''\n",
    "        for spanText in doc.sents:\n",
    "            spanT = spanText.text.strip()\n",
    "            if len(spanT) < 8:\n",
    "                dropped.append(spanT)\n",
    "                continue\n",
    "            if spanT:\n",
    "                for tok in spanText:\n",
    "                    docString += tok.text.strip().lower() + ' ' # Step 2 & 3\n",
    "                docDict[cnt]= docString\n",
    "                docList.append(docString)\n",
    "                cnt += 1\n",
    "    return  docDict, docList, dropped"
   ],
   "metadata": {
    "collapsed": false
   }
  },
  {
   "cell_type": "markdown",
   "source": [
    "# Create Training Set\n"
   ],
   "metadata": {
    "collapsed": false
   }
  },
  {
   "cell_type": "code",
   "execution_count": 23,
   "outputs": [
    {
     "data": {
      "text/plain": [
       "'./prideAndPrejudice.txt'"
      ]
     },
     "execution_count": 23,
     "metadata": {},
     "output_type": "execute_result"
    }
   ],
   "source": [
    "# files = filename=['/content/drive/MyDrive/Colab Notebooks/CS_505_PA7/prideAndPrejudice.txt']\n",
    "files = filename=['./prideAndPrejudice.txt']\n",
    "files[0]"
   ],
   "metadata": {
    "collapsed": false
   }
  },
  {
   "cell_type": "code",
   "execution_count": 15,
   "outputs": [
    {
     "name": "stdout",
     "output_type": "stream",
     "text": [
      "['It is a truth universally acknowledged, that a single man in possession of a good fortune, must be in want of a wife.', 'However little known the feelings or views of such a man may be on his first entering a neighbourhood, this truth is so well fixed in the minds of the surrounding families, that he is considered the rightful property of some one or other of their daughters.', '\"My dear Mr. Bennet,\" said his lady to him one day, \"have you heard that Netherfield Park is let at last?\"', 'Mr. Bennet replied that he had not.', '\"But it is,\" returned she; \"for Mrs. Long has just been here, and she told me all about it.\"']\n",
      "2063\n"
     ]
    }
   ],
   "source": [
    "docs= read_docs(files,0,True)\n",
    "print(len(docs))\n"
   ],
   "metadata": {
    "collapsed": false
   }
  },
  {
   "cell_type": "markdown",
   "source": [
    "We need to get an idea of how long our training documents are.\n",
    "\n",
    "I'm not going to use the same tokenizer as the GPT2 one, which is a [byte pair encoding tokenizer](https://blog.floydhub.com/tokenization-nlp/). Instead, I'm using a simple one just to get a rough understanding."
   ],
   "metadata": {
    "collapsed": false
   }
  },
  {
   "cell_type": "code",
   "execution_count": 27,
   "outputs": [
    {
     "name": "stderr",
     "output_type": "stream",
     "text": [
      "/var/folders/r3/znh92ysd4vbgxhnfwfl_c0lr0000gn/T/ipykernel_10440/3897218905.py:13: UserWarning: \n",
      "\n",
      "`distplot` is a deprecated function and will be removed in seaborn v0.14.0.\n",
      "\n",
      "Please adapt your code to use either `displot` (a figure-level function with\n",
      "similar flexibility) or `histplot` (an axes-level function for histograms).\n",
      "\n",
      "For a guide to updating your code to use the new functions, please see\n",
      "https://gist.github.com/mwaskom/de44147ed2974457ad6372750bbe5751\n",
      "\n",
      "  sns.distplot(doc_lengths)\n"
     ]
    },
    {
     "data": {
      "image/png": "[encoded data removed]",
      "text/plain": [
       "<Figure size 640x480 with 1 Axes>"
      ]
     },
     "metadata": {},
     "output_type": "display_data"
    }
   ],
   "source": [
    "doc_lengths = density_plot(docs)"
   ],
   "metadata": {
    "collapsed": false
   }
  },
  {
   "cell_type": "code",
   "execution_count": 28,
   "outputs": [
    {
     "name": "stdout",
     "output_type": "stream",
     "text": [
      "0.0004847309743092584\n"
     ]
    }
   ],
   "source": [
    "# the max token length\n",
    "print(len(doc_lengths[doc_lengths > 768])/len(doc_lengths))"
   ],
   "metadata": {
    "collapsed": false
   }
  },
  {
   "cell_type": "code",
   "execution_count": 29,
   "outputs": [
    {
     "data": {
      "text/plain": [
       "69.48763936015511"
      ]
     },
     "execution_count": 29,
     "metadata": {},
     "output_type": "execute_result"
    }
   ],
   "source": [
    "np.average(doc_lengths)"
   ],
   "metadata": {
    "collapsed": false
   }
  },
  {
   "cell_type": "markdown",
   "source": [
    "Even though these token counts won't match up to the BPE tokenizer's, I'm confident that most lines will be fit under the 768 embedding size limit for the small GPT2 model."
   ],
   "metadata": {
    "collapsed": false
   }
  },
  {
   "cell_type": "code",
   "execution_count": 30,
   "outputs": [
    {
     "name": "stderr",
     "output_type": "stream",
     "text": [
      "2063it [00:15, 133.40it/s]"
     ]
    },
    {
     "name": "stdout",
     "output_type": "stream",
     "text": [
      " \n",
      "line size: 6005\n",
      "['it is a truth universally acknowledged , that a single man in possession of a good fortune , must be in want of a wife . ', 'however little known the feelings or views of such a man may be on his first entering a neighbourhood , this truth is so well fixed in the minds of the surrounding families , that he is considered the rightful property of some one or other of their daughters . ']\n"
     ]
    },
    {
     "name": "stderr",
     "output_type": "stream",
     "text": [
      "\n"
     ]
    }
   ],
   "source": [
    "# The example output shows the data broken down by sentences not new line breaks.\n",
    "# Therefore, I modified the preprocessing module from other assignments to break\n",
    "# the input data into sentences.\n",
    "sentDict, sent_list, dropped = preprocess(docs)\n",
    "docs = sent_list\n",
    "print(f\" \\nline size: {len(sentDict)}\")\n",
    "print(sent_list[0:2])"
   ],
   "metadata": {
    "collapsed": false
   }
  },
  {
   "cell_type": "markdown",
   "source": [
    "# GPT2 Tokenizer"
   ],
   "metadata": {
    "collapsed": false
   }
  },
  {
   "cell_type": "markdown",
   "source": [
    "Although the defaults take care of this,I thought I'd show that you can specify some of the special tokens."
   ],
   "metadata": {
    "collapsed": false
   }
  },
  {
   "cell_type": "code",
   "execution_count": 31,
   "outputs": [
    {
     "data": {
      "application/vnd.jupyter.widget-view+json": {
       "model_id": "9fafb50d1ac54b6a9c438b08417c0abe",
       "version_major": 2,
       "version_minor": 0
      },
      "text/plain": [
       "Downloading:   0%|          | 0.00/1.04M [00:00<?, ?B/s]"
      ]
     },
     "metadata": {},
     "output_type": "display_data"
    },
    {
     "data": {
      "application/vnd.jupyter.widget-view+json": {
       "model_id": "cb07a2f1e4ac40b78f43345110b29a73",
       "version_major": 2,
       "version_minor": 0
      },
      "text/plain": [
       "Downloading:   0%|          | 0.00/456k [00:00<?, ?B/s]"
      ]
     },
     "metadata": {},
     "output_type": "display_data"
    },
    {
     "data": {
      "application/vnd.jupyter.widget-view+json": {
       "model_id": "9fa2fa18001f47b69990fbe34540172c",
       "version_major": 2,
       "version_minor": 0
      },
      "text/plain": [
       "Downloading:   0%|          | 0.00/665 [00:00<?, ?B/s]"
      ]
     },
     "metadata": {},
     "output_type": "display_data"
    },
    {
     "name": "stderr",
     "output_type": "stream",
     "text": [
      "Special tokens have been added in the vocabulary, make sure the associated word embeddings are fine-tuned or trained.\n"
     ]
    }
   ],
   "source": [
    "# Load the GPT tokenizer.\n",
    "tokenizer = GPT2Tokenizer.from_pretrained('gpt2', bos_token='<|startoftext|>', eos_token='<|endoftext|>', pad_token = '<|pad|>')\n",
    "#gpt2-medium\n"
   ],
   "metadata": {
    "collapsed": false
   }
  },
  {
   "cell_type": "code",
   "execution_count": 32,
   "outputs": [
    {
     "name": "stdout",
     "output_type": "stream",
     "text": [
      "The max model length is 1024 for this model, although the actual embedding size for GPT small is 768\n",
      "The beginning of sequence token <|startoftext|> token has the id 50257\n",
      "The end of sequence token <|endoftext|> has the id 50256\n",
      "The padding token <|pad|> has the id 50258\n"
     ]
    }
   ],
   "source": [
    "print(\"The max model length is {} for this model, although the actual embedding size for GPT small is 768\".format(tokenizer.model_max_length))\n",
    "print(\"The beginning of sequence token {} token has the id {}\".format(tokenizer.convert_ids_to_tokens(tokenizer.bos_token_id), tokenizer.bos_token_id))\n",
    "print(\"The end of sequence token {} has the id {}\".format(tokenizer.convert_ids_to_tokens(tokenizer.eos_token_id), tokenizer.eos_token_id))\n",
    "print(\"The padding token {} has the id {}\".format(tokenizer.convert_ids_to_tokens(tokenizer.pad_token_id), tokenizer.pad_token_id))"
   ],
   "metadata": {
    "collapsed": false
   }
  },
  {
   "cell_type": "markdown",
   "source": [
    "# PyTorch Datasets & Dataloaders\n"
   ],
   "metadata": {
    "collapsed": false
   }
  },
  {
   "cell_type": "markdown",
   "source": [
    "GPT2 is a large model. Increasing the batch size above 2 has lead to out of memory problems. This can be mitigated by accumulating the gradients but that is out of scope here."
   ],
   "metadata": {
    "collapsed": false
   }
  },
  {
   "cell_type": "code",
   "execution_count": 33,
   "outputs": [],
   "source": [
    "batch_size = 2"
   ],
   "metadata": {
    "collapsed": false
   }
  },
  {
   "cell_type": "markdown",
   "source": [
    "\n",
    "\n",
    "\n",
    "\n",
    "\n",
    "\n",
    "\n",
    "\n",
    "\n",
    "\n",
    "\n",
    "\n",
    "\n",
    "\n",
    "\n",
    "\n",
    "\n",
    "\n",
    "\n",
    "\n",
    "\n",
    "\n",
    "\n",
    "\n",
    "\n",
    "\n",
    "\n",
    "\n",
    "\n",
    "\n",
    "\n",
    "\n",
    "\n",
    "\n",
    "\n",
    "\n",
    "\n",
    "\n",
    "\n",
    "\n",
    "\n",
    "\n",
    "\n",
    "\n",
    "\n",
    "\n",
    "\n",
    "\n",
    "\n",
    "\n",
    "\n",
    "\n",
    "\n",
    "\n",
    "\n",
    "\n",
    "\n",
    "\n",
    "\n",
    "\n",
    "\n",
    "\n",
    "\n",
    "\n",
    "\n",
    "\n",
    "\n",
    "\n",
    "\n",
    "\n",
    "\n",
    "\n",
    "\n",
    "\n",
    "\n",
    "\n",
    "\n",
    "\n",
    "\n",
    "\n",
    "\n",
    "\n",
    "\n",
    "\n",
    "\n",
    "\n",
    "\n",
    "\n",
    "\n",
    "\n",
    "\n",
    "\n",
    "\n",
    "\n",
    "\n",
    "\n",
    "\n",
    "\n",
    "\n",
    "\n",
    "\n",
    "\n",
    "\n",
    "\n",
    "\n",
    "\n",
    "\n",
    "\n",
    "\n",
    "\n",
    "\n",
    "\n",
    "\n",
    "\n",
    "\n",
    "\n",
    "\n",
    "\n",
    "\n",
    "\n",
    "\n",
    "\n",
    "\n",
    "\n",
    "\n",
    "\n",
    "\n",
    "\n",
    "\n",
    "\n",
    "\n",
    "\n",
    "\n",
    "\n",
    "\n",
    "\n",
    "\n",
    "\n",
    "\n",
    "\n",
    "\n",
    "\n",
    "\n",
    "\n",
    "\n",
    "\n",
    "\n",
    "\n",
    "\n",
    "\n",
    "\n",
    "\n",
    "\n",
    "\n",
    "\n",
    "\n",
    "\n",
    "\n",
    "\n",
    "\n",
    "\n",
    "\n",
    "\n",
    "\n",
    "\n",
    "\n",
    "\n",
    "\n",
    "\n",
    "\n",
    "\n",
    "\n",
    "\n",
    "\n",
    "\n",
    "\n",
    "\n",
    "\n",
    "\n",
    "\n",
    "\n",
    "\n",
    "\n",
    "\n",
    "\n",
    "\n",
    "\n",
    "\n",
    "\n",
    "\n",
    "\n",
    "\n",
    "\n",
    "\n",
    "\n",
    "\n",
    "\n",
    "\n",
    "\n",
    "\n",
    "\n",
    "\n",
    "\n",
    "\n",
    "\n",
    "\n",
    "\n",
    "\n",
    "\n",
    "\n",
    "\n",
    "\n",
    "\n",
    "\n",
    "\n",
    "\n",
    "\n",
    "\n",
    "\n",
    "\n",
    "\n",
    "\n",
    "\n",
    "\n",
    "\n",
    "\n",
    "\n",
    "\n",
    "\n",
    "\n",
    "\n",
    "\n",
    "\n",
    "\n",
    "\n",
    "\n",
    "\n",
    "\n",
    "\n",
    "\n",
    "\n",
    "\n",
    "\n",
    "\n",
    "\n",
    "\n",
    "\n",
    "\n",
    "\n",
    "\n",
    "\n",
    "\n",
    "\n",
    "\n",
    "\n",
    "\n",
    "\n",
    "\n",
    "\n",
    "\n",
    "\n",
    "\n",
    "\n",
    "\n",
    "\n",
    "\n",
    "\n",
    "\n",
    "\n",
    "\n",
    "\n",
    "\n",
    "\n",
    "\n",
    "\n",
    "\n",
    "\n",
    "\n",
    "\n",
    "\n",
    "\n",
    "\n",
    "\n",
    "\n",
    "\n",
    "\n",
    "\n",
    "\n",
    "\n",
    "\n",
    "\n",
    "\n",
    "\n",
    "\n",
    "\n",
    "\n",
    "\n",
    "\n",
    "\n",
    "\n",
    "\n",
    "\n",
    "\n",
    "\n",
    "\n",
    "\n",
    "\n",
    "\n",
    "\n",
    "\n",
    "\n",
    "\n",
    "\n",
    "\n",
    "\n",
    "\n",
    "\n",
    "\n",
    "\n",
    "\n",
    "\n",
    "\n",
    "\n",
    "\n",
    "\n",
    "\n",
    "\n",
    "\n",
    "\n",
    "\n",
    "\n",
    "\n",
    "\n",
    "\n",
    "\n",
    "\n",
    "\n",
    "\n",
    "\n",
    "\n",
    "\n",
    "\n",
    "\n",
    "\n",
    "\n",
    "\n",
    "\n",
    "\n",
    "\n",
    "\n",
    "\n",
    "\n",
    "\n",
    "\n",
    "\n",
    "\n",
    "\n",
    "\n",
    "\n",
    "\n",
    "\n",
    "\n",
    "\n",
    "\n",
    "\n",
    "\n",
    "\n",
    "\n",
    "\n",
    "\n",
    "\n",
    "\n",
    "\n",
    "\n",
    "\n",
    "\n",
    "\n",
    "\n",
    "\n",
    "\n",
    "\n",
    "\n",
    "\n",
    "\n",
    "\n",
    "\n",
    "\n",
    "\n",
    "\n",
    "\n",
    "\n",
    "\n",
    "\n",
    "\n",
    "\n",
    "\n",
    "\n",
    "\n",
    "\n",
    "\n",
    "\n",
    "\n",
    "\n",
    "\n",
    "\n",
    "\n",
    "\n",
    "\n",
    "\n",
    "\n",
    "\n",
    "\n",
    "\n",
    "\n",
    "\n",
    "\n",
    "\n",
    "\n",
    "\n",
    "\n",
    "\n",
    "\n",
    "\n",
    "\n",
    "\n",
    "\n",
    "\n",
    "\n",
    "\n",
    "\n",
    "\n",
    "\n",
    "\n",
    "\n",
    "\n",
    "\n",
    "\n",
    "\n",
    "\n",
    "\n",
    "\n",
    "\n",
    "\n",
    "\n",
    "\n",
    "\n",
    "\n",
    "\n",
    "\n",
    "\n",
    "\n",
    "\n",
    "\n",
    "\n",
    "\n",
    "\n",
    "\n",
    "\n",
    "\n",
    "\n",
    "\n",
    "\n",
    "\n",
    "\n",
    "\n",
    "\n",
    "\n",
    "\n",
    "\n",
    "\n",
    "\n",
    "\n",
    "\n",
    "\n",
    "\n",
    "\n",
    "\n",
    "\n",
    "\n",
    "\n",
    "\n",
    "\n",
    "\n",
    "\n",
    "\n",
    "\n",
    "\n",
    "\n",
    "\n",
    "\n",
    "\n",
    "\n",
    "\n",
    "\n",
    "\n",
    "\n",
    "\n",
    "\n",
    "\n",
    "\n",
    "\n",
    "\n",
    "\n",
    "\n",
    "\n",
    "\n",
    "\n",
    "\n",
    "\n",
    "\n",
    "\n",
    "\n",
    "\n",
    "\n",
    "\n",
    "\n",
    "\n",
    "\n",
    "\n",
    "\n",
    "\n",
    "\n",
    "\n",
    "\n",
    "\n",
    "\n",
    "\n",
    "\n",
    "\n",
    "\n",
    "\n",
    "\n",
    "\n",
    "\n",
    "\n",
    "\n",
    "\n",
    "\n",
    "\n",
    "\n",
    "\n",
    "\n",
    "\n",
    "\n",
    "\n",
    "\n",
    "\n",
    "\n",
    "\n",
    "\n",
    "\n",
    "\n",
    "\n",
    "\n",
    "\n",
    "\n",
    "\n",
    "\n",
    "\n",
    "\n",
    "\n",
    "\n",
    "\n",
    "\n",
    "\n",
    "\n",
    "\n",
    "\n",
    "\n",
    "\n",
    "\n",
    "\n",
    "\n",
    "\n",
    "\n",
    "\n",
    "\n",
    "\n",
    "\n",
    "\n",
    "\n",
    "\n",
    "\n",
    "\n",
    "\n",
    "\n",
    "\n",
    "\n",
    "\n",
    "\n",
    "\n",
    "\n",
    "\n",
    "\n",
    "\n",
    "\n",
    "\n",
    "\n",
    "\n",
    "\n",
    "\n",
    "\n",
    "\n",
    "\n",
    "\n",
    "\n",
    "\n",
    "\n",
    "\n",
    "\n",
    "\n",
    "\n",
    "\n",
    "\n",
    "\n",
    "\n",
    "\n",
    "\n",
    "\n",
    "\n",
    "\n",
    "\n",
    "\n",
    "\n",
    "\n",
    "\n",
    "\n",
    "\n",
    "\n",
    "\n",
    "\n",
    "\n",
    "\n",
    "\n",
    "\n",
    "\n",
    "\n",
    "\n",
    "\n",
    "\n",
    "\n",
    "\n",
    "\n",
    "\n",
    "\n",
    "\n",
    "\n",
    "\n",
    "\n",
    "\n",
    "\n",
    "\n",
    "\n",
    "\n",
    "\n",
    "\n",
    "\n",
    "\n",
    "\n",
    "\n",
    "\n",
    "\n",
    "\n",
    "\n",
    "\n",
    "\n",
    "\n",
    "\n",
    "\n",
    "\n",
    "\n",
    "\n",
    "\n",
    "\n",
    "\n",
    "\n",
    "\n",
    "\n",
    "\n",
    "\n",
    "\n",
    "\n",
    "\n",
    "\n",
    "\n",
    "\n",
    "\n",
    "\n",
    "\n",
    "\n",
    "\n",
    "\n",
    "\n",
    "\n",
    "\n",
    "\n",
    "\n",
    "\n",
    "\n",
    "\n",
    "\n",
    "\n",
    "\n",
    "\n",
    "\n",
    "\n",
    "\n",
    "\n",
    "\n",
    "\n",
    "\n",
    "\n",
    "\n",
    "\n",
    "\n",
    "\n",
    "\n",
    "\n",
    "\n",
    "\n",
    "\n",
    "\n",
    "\n",
    "\n",
    "\n",
    "\n",
    "\n",
    "\n",
    "\n",
    "\n",
    "\n",
    "\n",
    "\n",
    "\n",
    "\n",
    "I'm using the standard PyTorch approach of loading data in using a [dataset class](https://pytorch.org/tutorials/beginner/data_loading_tutorial.html).\n",
    "\n",
    "I'm passing in the tokenizer as an argument but normally I would  instantiate it within the class."
   ],
   "metadata": {
    "collapsed": false
   }
  },
  {
   "cell_type": "markdown",
   "metadata": {},
   "source": [
    "To understand how I've used the tokenizer, it's worth reading [the docs](https://huggingface.co/transformers/main_classes/tokenizer.html). I've wrapped each line in the bos and eos tokens.\n",
    "\n",
    "Every tensor passed to the model should be the same length.\n",
    "\n",
    "If the line is shorter than 768 tokens, it will be padded to a length of 768 using the padding token. In addition, an attention mask will be returned that needs to be passed to the model to tell it to ignore the padding tokens.\n",
    "\n",
    "If the line is longer than 768 tokens, it will be truncated without the eos_token. This isn't a problem."
   ]
  },
  {
   "cell_type": "code",
   "execution_count": 186,
   "metadata": {},
   "outputs": [
    {
     "name": "stdout",
     "output_type": "stream",
     "text": [
      "5,404 training samples\n",
      "  601 validation samples\n"
     ]
    }
   ],
   "source": [
    "dataset = GPT2Dataset(docs, tokenizer, max_length=768)\n",
    "\n",
    "# Split into training and validation sets\n",
    "train_size = int(0.9 * len(dataset))\n",
    "val_size = len(dataset) - train_size\n",
    "\n",
    "train_dataset, val_dataset = random_split(dataset, [train_size, val_size])\n",
    "\n",
    "print('{:>5,} training samples'.format(train_size))\n",
    "print('{:>5,} validation samples'.format(val_size))"
   ]
  },
  {
   "cell_type": "code",
   "execution_count": 187,
   "metadata": {},
   "outputs": [],
   "source": [
    "# Create the DataLoaders for our training and validation datasets.\n",
    "# We'll take training samples in random order.\n",
    "train_dataloader = DataLoader(\n",
    "            train_dataset,  # The training samples.\n",
    "            sampler = RandomSampler(train_dataset), # Select batches randomly\n",
    "            batch_size = batch_size # Trains with this batch size.\n",
    "        )\n",
    "\n",
    "# For validation the order doesn't matter, so we'll just read them sequentially.\n",
    "validation_dataloader = DataLoader(\n",
    "            val_dataset, # The validation samples.\n",
    "            sampler = SequentialSampler(val_dataset), # Pull out batches sequentially.\n",
    "            batch_size = batch_size # Evaluate with this batch size.\n",
    "        )"
   ]
  },
  {
   "cell_type": "markdown",
   "metadata": {},
   "source": [
    "# Finetune GPT2 Language Model"
   ]
  },
  {
   "cell_type": "code",
   "execution_count": 188,
   "metadata": {},
   "outputs": [],
   "source": [
    "# I'm not really doing anything with the config buheret\n",
    "configuration = GPT2Config.from_pretrained('gpt2', output_hidden_states=False, pad_token_id=tokenizer.pad_token_id )\n",
    "\n",
    "# instantiate the model\n",
    "model = GPT2LMHeadModel.from_pretrained(\"gpt2\", config=configuration)\n",
    "\n",
    "# this step is necessary because I've added some tokens (bos_token, etc) to the embeddings\n",
    "# otherwise the tokenizer and model tensors won't match up\n",
    "model.resize_token_embeddings(len(tokenizer))\n",
    "\n",
    "# Tell pytorch to run this model on the GPU.\n",
    "device = torch.device(\"cuda\")\n",
    "model.cuda()\n",
    "\n",
    "# Set the seed value all over the place to make this reproducible.\n",
    "seed_val = 42\n",
    "\n",
    "random.seed(seed_val)\n",
    "np.random.seed(seed_val)\n",
    "torch.manual_seed(seed_val)\n",
    "torch.cuda.manual_seed_all(seed_val)"
   ]
  },
  {
   "cell_type": "code",
   "execution_count": 189,
   "metadata": {},
   "outputs": [],
   "source": [
    "# some parameters I cooked up that work reasonably well\n",
    "\n",
    "epochs = 5\n",
    "learning_rate = 5e-4\n",
    "warmup_steps = 1e2\n",
    "epsilon = 1e-8\n",
    "\n",
    "# this produces sample output every 100 steps\n",
    "sample_every = 100"
   ]
  },
  {
   "cell_type": "code",
   "execution_count": 190,
   "metadata": {},
   "outputs": [
    {
     "name": "stderr",
     "output_type": "stream",
     "text": [
      "/usr/local/lib/python3.8/dist-packages/transformers/optimization.py:306: FutureWarning: This implementation of AdamW is deprecated and will be removed in a future version. Use the PyTorch implementation torch.optim.AdamW instead, or set `no_deprecation_warning=True` to disable this warning\n",
      "  warnings.warn(\n"
     ]
    }
   ],
   "source": [
    "# Note: AdamW is a class from the huggingface library (as opposed to pytorch)\n",
    "optimizer = AdamW(model.parameters(),\n",
    "                  lr = learning_rate,\n",
    "                  eps = epsilon\n",
    "                )"
   ]
  },
  {
   "cell_type": "code",
   "execution_count": 191,
   "metadata": {},
   "outputs": [],
   "source": [
    "# Total number of training steps is [number of batches] x [number of epochs].\n",
    "# (Note that this is not the same as the number of training samples).\n",
    "total_steps = len(train_dataloader) * epochs\n",
    "\n",
    "# Create the learning rate scheduler.\n",
    "# This changes the learning rate as the training loop progresses\n",
    "scheduler = get_linear_schedule_with_warmup(optimizer,\n",
    "                                            num_warmup_steps = warmup_steps,\n",
    "                                            num_training_steps = total_steps)"
   ]
  },
  {
   "cell_type": "code",
   "execution_count": 193,
   "metadata": {
    "colab": {
     "base_uri": "https://localhost:8080/"
    },
    "id": "hCZRLtVwNk_M",
    "outputId": "e3c0a638-165a-4c6c-bab2-1bb48830ae24"
   },
   "outputs": [
    {
     "name": "stdout",
     "output_type": "stream",
     "text": [
      "\n",
      "======== Epoch 1 / 5 ========\n",
      "Training...\n",
      "  Batch   100  of  2,702. Loss: 0.2627270519733429.   Elapsed: 0:00:49.\n",
      "0:  bipartisan\" i have heard what he said he would not believe in his feelings \" but as a person, \" but her fear of being seen as no more than ten more than ten years after being afraid of being seen.. \" she was not afraid of being seen as it appeared as a ten times longer, and it could have been resolved.\n",
      " information, and. he, she. had not replied to any such letter, he was not the same to the last letter in that opinion of his opinion. \n",
      "  Batch   200  of  2,702. Loss: 0.3054927885532379.   Elapsed: 0:01:39.\n",
      "0:  increasing which we ought to call. \n",
      "  Batch   300  of  2,702. Loss: 1.0877103805541992.   Elapsed: 0:02:30.\n",
      "0: daythe day was over, and it seemed as if the morning had arrived on, for all. my brother, my cousin, did not appear to be in any ill humour. \n",
      "  Batch   400  of  2,702. Loss: 0.2223687469959259.   Elapsed: 0:03:20.\n",
      "0:  Hangit was only a short walk, it had been as long a walk. \" mr. darcy was, \" and mr. darcy was. \n",
      "  Batch   500  of  2,702. Loss: 0.1699652075767517.   Elapsed: 0:04:10.\n",
      "0:  foods\" i do not wish that your father should think too much. he is a kind man to her. \n",
      "  Batch   600  of  2,702. Loss: 0.38445591926574707.   Elapsed: 0:05:00.\n",
      "0:  trailin the evening, as much as possible of mr. wickham, were the two ladies in the garden ; and when they arrived, they were surprised by their visitor. \n",
      "  Batch   700  of  2,702. Loss: 0.2074824720621109.   Elapsed: 0:05:51.\n",
      "0: intendwith such affection as that he deserved, he walked thither. there was a smile on the lips, and there was an air of hope ; no longer that of an ugly smile, but something new in the air. the next day, he returned ; and with a smile that seemed beyond comparison, he took the opportunity of walking to hunsford again ; and there the next day, with her two children, and two small girls, in a walk through the village, made such a difference on their walk of it. there was still a great deal of pleasure in the world ; and the next morning, however, everything was very much softened. for jane was still with him ; and, with so much success as her, mrs. bennet, and mrs. bennet, walked together with him all day, after a day of walking, after a fortnight of walking, and till the next day, he was not at all sorry for such a change of behaviour\n",
      "  Batch   800  of  2,702. Loss: 0.4001465141773224.   Elapsed: 0:06:43.\n",
      "0:  surroundbut his behaviour was as he had hoped, that mr. bingley, whose own reason and his own feelings he must account for were not entirely altered by the change in his mind ; that it was no great misfortune for him, he had received a great deal from one of the gentlemen who were to follow him on. \n",
      "  Batch   900  of  2,702. Loss: 0.4601743221282959.   Elapsed: 0:07:34.\n",
      "0:  reflexin this manner, though as the gentleman acknowledged, it was certain that there was nothing to prevent his being entirely mistaken as to my being attached to mrs. jenkinson's wishes. mr. darcy's attentions to him, and his interference with her domestic affairs, to prevent the mismanagement of his schemes, could not but give me the conviction that his motives might be so well understood as could not be overlooked. it was, moreover, a conviction that there were, on the contrary, so much the more respectable and gentlewomanlike a woman i am, and so much superior to any other woman of his age. mr. darcy could not and could not be happy. but if that have prevented me from making any serious inquiries, the possibility of the latter, i can assure the latter, could have done better. it was in this manner, though, that the lady herself gave me the assurance that she would go into his private apartments,\n",
      "  Batch 1,000  of  2,702. Loss: 0.4429571032524109.   Elapsed: 0:08:26.\n",
      "0:  displayel this period of separation, however, allowed the ladies time to explore all that she could of her mother's acquaintance, and, having heard no other inquiries than those in hertfordshire, she ventured to inquire after their acquaintance, as soon it became known that mr. darcy had been forced from hertfordshire by an unfortunate event, as she had no disposition to inquire in that direction. mr. wickham was now at leisure enough to see her with elopement. \n",
      "  Batch 1,100  of  2,702. Loss: 0.2961183190345764.   Elapsed: 0:09:17.\n",
      "0:  pastoras elizabeth was going to speak of the regiment, they entered the dining parlour, where they had a pleasant visitor ; and, unexpectedly, it was mr. bingley. they had met jane, but not all of them understood the intimacy. \n",
      "  Batch 1,200  of  2,702. Loss: 0.2224677950143814.   Elapsed: 0:10:08.\n",
      "0:  illicit\" yes, it is very plain that you are acquainted with us. \n",
      "  Batch 1,300  of  2,702. Loss: 0.16135630011558533.   Elapsed: 0:10:58.\n",
      "0:  Liberation\" i am sorry you had been there, \" added mrs. gardiner ; \" but if i have really experienced you then i am sure i can not easily have mistaken, unless there may be circumstances of necessity in which i may think most advisable to return immediately. \" \n",
      "  Batch 1,400  of  2,702. Loss: 0.6004982590675354.   Elapsed: 0:11:48.\n",
      "0:  Namwhen they were alone, and with mrs. phillips, elizabeth ran up to her father, and after making assurances, took the long walk which led from the door, which curtseyed him and elizabeth by and miss bingley, and they had walked on. \n",
      "  Batch 1,500  of  2,702. Loss: 0.3037042021751404.   Elapsed: 0:12:39.\n",
      "0: ION\" you are coming down, sir, and i am afraid you will be coming so soon! i want to give it to you, i can assure you we are not going to be married till our wedding day, and by all means, i want you to be married in the meantime. \" \n",
      "  Batch 1,600  of  2,702. Loss: 0.1702897697687149.   Elapsed: 0:13:30.\n",
      "0:  glimpse\" i was excessively sorry to see him last night, \" said mrs. bennet, as soon as the door was shut. \" it is a great honour, \" she added, \" to be at longbourn last night, to be able to be intimate with mr. darcy. and, though the first - class entertainment yesterday went off, i am very glad you have taken your places, and to see him out of the room. if i had been able to see him again, i would have rejoiced to see him at netherfield. i always say never to be in a situation to see him in person's sight. i must not see the man again. the first letter of my sister's was last day. she was in such a pitiable state on the morrow. i have bad news for her -- she was the only creature in the room that morning i could see her. she is actually quite pale, and has\n",
      "  Batch 1,700  of  2,702. Loss: 0.14731715619564056.   Elapsed: 0:14:22.\n",
      "0:  Laure\" i can not assure you, \" said jane, \" that your feeling of innocence is not easily kept ; and i am convinced of your creditability. i will not make any apology, though he has still the respect of my father. your father is not a man to be intimidated, i shall not say ; but i trust you will be aware of that. your father is a man of principle, generous heart, and most excellent understanding ; and if he becomes really attached to me, i shall not see him in life. \n",
      "  Batch 1,800  of  2,702. Loss: 0.26667866110801697.   Elapsed: 0:15:13.\n",
      "0: ismwhen the gentlemen joined them, they took leave together ; and elizabeth could not help in fancying that the great gentleman's presence assured her that he were not to appear so distant. but she did not think it unreasonable for a man of importance to appear so near. \n",
      "  Batch 1,900  of  2,702. Loss: 0.23562830686569214.   Elapsed: 0:16:04.\n",
      "0: oun\" i am sure you did not. at that time i am sure i shall call me one of the very few people that i shall know what i would do ; i never heard a word ; and as to my relationship to mr. wickham's house, i never seen a look of it in my life. i never saw anything of its character in my life. i see it in various forms -- like a letter, an envelope, a book, and a pen. i have not seen anything of it in my life, since i left church. in one instance, i saw the parsonage, and in the last had an idea of its being a charmingly handsome house in town. i never saw anything so charming as the house of my cousin. mr. wickham, upon inquiring me about it, said he had not seen it in the first place ; that his own cousin was there the next day, and that he had seen it a day\n",
      "  Batch 2,000  of  2,702. Loss: 0.03424132615327835.   Elapsed: 0:16:56.\n",
      "0:  election\" oh, lord ;--but i was never bold enough to tell you. \n",
      "  Batch 2,100  of  2,702. Loss: 0.11251752823591232.   Elapsed: 0:17:46.\n",
      "0:  crazyin spite of her deeply - rooted dislike, she still saw elizabeth tremble lest lest the card - tables were over, and in vain to hear elizabeth hear from them. while they were thus arranging their tables, mr. darcy had once again been a favourite with her ; and had she the courage or inclination, for he was a very superior looking creature to elizabeth's, to persuade her that she ought not to give herself the trouble of talking, that it would always be as just as she chooses. \n",
      "  Batch 2,200  of  2,702. Loss: 0.18771624565124512.   Elapsed: 0:18:37.\n",
      "0:  bench\" very, very cordial, \" said she, \" to introduce their daughter, jane -- \" i am so pleased -- so happy. \n",
      "  Batch 2,300  of  2,702. Loss: 0.3121926188468933.   Elapsed: 0:19:28.\n",
      "0:  incorporated\" this is your master, \" replied elizabeth, \" who lived in derbyshire? \n",
      "  Batch 2,400  of  2,702. Loss: 0.16031116247177124.   Elapsed: 0:20:18.\n",
      "0: Peter\" my dear mr. bennet, i do not know whether i could bear so ungenerously ill consequence as you have done at netherfield ; but i do not suppose that, had it not been for the pleasant prospect of being able to say with all the civility, i should be in a way to thank you for so imprudent a match. you received, in my opinion, one of your earliest wishes on entering that place. i had a hope that jane would never be able to say there was something of this. had my having had time it may be, you could not have considered every circumstance with greater pleasure, no longer. your sister's calling yesterday morning would have been the cause of the happiness you soon afterwards. i would now feel that we are not at peace without a quarrel. \" \n",
      "  Batch 2,500  of  2,702. Loss: 0.0734771341085434.   Elapsed: 0:21:10.\n",
      "0: uring\" yes, sir, there are several families with which mr. wickham does not trace his route. the last mentioned were the last of his sisters, who are descended from the same line ; the last of whom, from the maternal line, was last seen about five years ago. mr. and mrs. phillips were found to be unwell this morning, and they were seen to continue the loo - table. after making every possible inquiry on that side lydia informed us at last of their present distress ; and with such inquiries as these, she was able to satisfy the whole party in a tolerably detached room, which is a short walk from the house. with good gracious! all that is known after this is, that they were seen to continue the loo - table with some of the young men who were seen to continue the engagements which she had with sir william, who is an informat in the town, and whose good conduct in the\n",
      "  Batch 2,600  of  2,702. Loss: 0.5637271404266357.   Elapsed: 0:22:02.\n",
      "0:  reproductivewhen the dancing recommenced, the two gentlemen with whom she was immediately acquainted, the two whom had long wished to know her were in very good spirits. \n",
      "  Batch 2,700  of  2,702. Loss: 0.08750864118337631.   Elapsed: 0:22:53.\n",
      "0:  zone\" i do not blame jane, \" replied elizabeth. \" for jane will lose interest as she knows not. her cousin may be prevailed on to give her no notice of their attentions. but she is too little for her own amusement, and will continue the occupation, though she means well. \n",
      "\n",
      "  Average training loss: 0.35\n",
      "  Training epoch took: 0:22:54\n",
      "\n",
      "Running Validation...\n",
      "  Validation Loss: 0.18\n",
      "  Validation took: 0:00:48\n",
      "\n",
      "======== Epoch 2 / 5 ========\n",
      "Training...\n",
      "  Batch   100  of  2,702. Loss: 0.8872039318084717.   Elapsed: 0:00:50.\n",
      "0:  commits\" mr. darcy, \" said elizabeth, \" had you been with us, i do not think we behaved very handsomely, for you, my love, were not only fond of this kind ; we looked the very best of men, and the best of men looked the best. \n",
      "  Batch   200  of  2,702. Loss: 0.1484115719795227.   Elapsed: 0:01:41.\n",
      "0:  irony\" i am sure, \" said she, \" mr. darcy has two or three young ladies in the room ; and he is almost a stranger. \" \n",
      "  Batch   300  of  2,702. Loss: 0.22112762928009033.   Elapsed: 0:02:31.\n",
      "0:  Sah\" he did ; and he had nothing further to do. \n",
      "  Batch   400  of  2,702. Loss: 0.097300224006176.   Elapsed: 0:03:21.\n",
      "0:  Bryanelizabeth was pleased to be congratulated on his figure ; but it was too much for her, as his other compliments were not far from the vestibule. \n",
      "  Batch   500  of  2,702. Loss: 0.1060333326458931.   Elapsed: 0:04:11.\n",
      "0:  spirits\" my aunt told me so, \" said she. \n",
      "  Batch   600  of  2,702. Loss: 0.429957777261734.   Elapsed: 0:05:01.\n",
      "0:  sees\" you need not fret. i have often said, that a young lady is brought up very differently from the rest of the neighbourhood ; and one who had been used to live in the neighbourhood, and whose own manners are decidedly to the advantage of everybody, was so excessively handsome as to meet so young a girl, and live in hertfordshire, that she was so well - bred as to be handsome as to dance with a stranger. i think you will agree with me, that the lady whom you chose to dance with, and who married her to - night, is by all means handsome and charming. \n",
      "  Batch   700  of  2,702. Loss: 0.0629553347826004.   Elapsed: 0:05:53.\n",
      "0:  hungry\" it would be my father, \" cried elizabeth, with some complacency, \" if he had not a father. but what do you mean, mr. darcy? \" \n",
      "  Batch   800  of  2,702. Loss: 0.22662651538848877.   Elapsed: 0:06:43.\n",
      "0:  PTthe tumult of her mind, was painfully great. she was afraid, was sure she would never speak another word. it was impossible. her heart had never been better racked. she was afraid of giving more trouble. \n",
      "  Batch   900  of  2,702. Loss: 0.8617957830429077.   Elapsed: 0:07:33.\n",
      "0: üafter the first fortnight or three weeks of separation, mrs. bennet found that the two youngest were depending on their own judgment in favour of her nephew, in that respect she should be particularly careful to be certain, if he took leave, of their meaning to spend his vacant hours as soon as they were married. this observation, however, had not been entirely without foundation ; as mr. bennet had been rendered so exceedingly agreeable, and as his attachment excited the admiration ofability, her contemplation and his behaviour during the day seemed at times to have been increasing, she considered it necessary to make such a judgement call on his friend, and by such a judgement he recommended it as much as possible. he then invited her to walk into his room, which was large and well laid out, and mr. bennet accepted him into his comfortable and convenient manner of living, of which he was happy to have the comfort of reading two or three times a week, and\n",
      "  Batch 1,000  of  2,702. Loss: 0.11190012842416763.   Elapsed: 0:08:26.\n",
      "0: ruce\" oh, mary, \" said she, \" what say you all? \n",
      "  Batch 1,100  of  2,702. Loss: 0.07892732322216034.   Elapsed: 0:09:16.\n",
      "0:  derivatives\" i am astonished, \" said elizabeth, \" that he could not have chosen a more promising motive from a distance of two miles. perhaps that is why he could not marry so small a distance ; but that he must marry at so low a distance does nothing. it has been very hard. far alone he has taken up half of a kingdom. \n",
      "  Batch 1,200  of  2,702. Loss: 0.13942070305347443.   Elapsed: 0:10:06.\n",
      "0: \u0019the dinner was now a quadrille ball. mr. bennet could neither of them talk fast enough ; darcy looked forward with a heightened complexion than usual to the most agitated questions he must ask while he was alone ; and his daughter said he looked very much fatigued than he had been at any time at rosings. \n",
      "  Batch 1,300  of  2,702. Loss: 0.26637691259384155.   Elapsed: 0:10:57.\n",
      "0:  rememberingelizabeth talked on, but without seeming to have any intention of speaking again of the subjects which had been connected with their last letter. \n",
      "  Batch 1,400  of  2,702. Loss: 0.24659180641174316.   Elapsed: 0:11:47.\n",
      "0:  Sources\" that is too great. \" \n",
      "  Batch 1,500  of  2,702. Loss: 0.04575202614068985.   Elapsed: 0:12:37.\n",
      "0: emsthe longbourn party were the only people in the neighbourhood who continued to be amused with him, and he never looked at miss bennet. \n",
      "  Batch 1,600  of  2,702. Loss: 0.2941335439682007.   Elapsed: 0:13:27.\n",
      "0: tzwithin a short walk of longbourn lived a family with whom the british court was particularly intimate. lady lucas had married a man of nearly the same age, having only one daughter. sir william lucas had been formerly in trade in meryton, where he had made a tolerable fortune, and risen to the honour of knighthood by an address to the king during his mayoralty. he was now, in time, almost a hundred pounds. his residence there was to the purpose ; for a mayoralty in that county, and the business there was not to be mercenary. \n",
      "  Batch 1,700  of  2,702. Loss: 0.1108870655298233.   Elapsed: 0:14:19.\n",
      "0: matic\" yes, miss eliza, \" cried he, slightly relieved as his words were borne. \" do not think me obstinate if i still assert that he is perfectly amiable, and perfectly unassuming ; and that the belief of his sister's being partial to mr. darcy is perfectly false, at least, and i am sincerely grieved to hear that he is not, with respect to any other girl. it is the most unfortunate affair in the world, and perhaps the only point on which we can be at variance.--'there, mrs. bennet, with her daughters. '--my poor mother!--how thankful am i that you have not distressing me by dwelling on her family favourite, mr. darcy. \n",
      "  Batch 1,800  of  2,702. Loss: 0.04165591299533844.   Elapsed: 0:15:11.\n",
      "0:  synd\" if i do not give an answer, \" cried elizabeth, \" i shall be in danger of hating him for it. and who knows who will maintain him? or, with the assistance of her five daughters, who can be benefited by my marrying him? well, my dear jane, we shall be better off than we were last wednesday. and now nothing is to be talked of except the mention of his name and the carriage. it is a relation which no one can or ought to know of. we shall be down in five minutes. \" \n",
      "  Batch 1,900  of  2,702. Loss: 0.03696928545832634.   Elapsed: 0:16:02.\n",
      "0:  gam\" i have not been long in hertfordshire, and, from my time, i am almost ashamed of ever seeing anybody. \n",
      "  Batch 2,000  of  2,702. Loss: 0.18081173300743103.   Elapsed: 0:16:52.\n",
      "0:  injury\" i have told you every thing. i am going to say it without saying how long you may depend upon it ; it has passed. \n",
      "  Batch 2,100  of  2,702. Loss: 0.08437536656856537.   Elapsed: 0:17:42.\n",
      "0: azashe wrote again when the visit was paid, and she had seen miss bingley. her daughter, as she had seen him, was still with jane, but would not leave her -- she wanted to persuade herself that she had no pleasure in being home, that her fancy was sunk in her esteem ; and when she returned, to see how everybody looked after her, she was convinced that jane was still a very tender, elegant woman ; and, consequently, that it was very likely that miss bingley would soon marry mr. darcy. but this was not all settled ; mrs. bennet would not see her, neither in the least nor in the least, and her attentions had continually been pretty much admired by her. nothing would be like it. what was most remarkable how well they behaved! \n",
      "  Batch 2,200  of  2,702. Loss: 0.29714155197143555.   Elapsed: 0:18:34.\n",
      "0:  membranethey entered the woods, and bidding adieu to the river for a while, ascended some of the higher grounds ; when, in spots where the opening of the trees gave the eye power to wander, were many charming views of the opposite hills, with the long range of woods overspreading many, and occasionally part of the stream. \n",
      "  Batch 2,300  of  2,702. Loss: 0.09230975806713104.   Elapsed: 0:19:25.\n",
      "0: ijing\" the engagement between us is of a peculiar kind. from their infancy, they have been intended for each other. they have been intended for each other. \n",
      "  Batch 2,400  of  2,702. Loss: 0.22362306714057922.   Elapsed: 0:20:15.\n",
      "0:  cast\" i beg your pardon, i will try again. at present i am not in love with mr. wickham ; no, i have not. but he is, i believe, the most agreeable man i ever saw -- and if he becomes really attached to me -- i believe it will be better that he should not. i see the imprudence of it. oh! _ that _ abominable mr. darcy! my father's opinion of me does me the greatest honour, and i should be miserable to forfeit it. but since the death of my father's favourite mr. wickham -- how miserable it must be for him to be here -- i have nothing more to wish for his happiness. but this hope is not quite so faulty, as my dear father can be easily prevailed on to overlook it entirely, when he has reason to think as they choose, to heal him from the melancholy scene he has set down. his attachment to\n",
      "  Batch 2,500  of  2,702. Loss: 0.1754768341779709.   Elapsed: 0:21:08.\n",
      "0:  purch\" i would not have thanked you before, my dear aunt, as i ought to have done, for your long, kind, satisfactory, detail of particulars ; but to say the truth, i was too cross to write. you supposed more than really existed. but _ now _ suppose as much as you choose ; give a loose rein to the fancy, indulge the imagination, and wish the belief of the governess. how could i be so silly as to wish it! you must write again very soon, and praise her a great deal more than you did in your last. i thank you, again and again, for not going to the lakes. i thank you, again and again, for not going to the lakes. how could i be so silly as to wish it! your idea of the ponies is delightful. we will go no farther northwards than _ we _ do. mrs. long said so too. how could _ we _ know that she would be the wife of\n",
      "  Batch 2,600  of  2,702. Loss: 0.42684832215309143.   Elapsed: 0:22:00.\n",
      "0:  shoulderselizabeth was prepared to receive her and her noble guest into the house, which as a convenient distance from her own party afforded, and which she could tell lady catherine, was affectionate and obliging. \n",
      "  Batch 2,700  of  2,702. Loss: 0.16189755499362946.   Elapsed: 0:22:51.\n",
      "0:  built\" if you, my dear aunt, are truly sensible of what your sister's situation must be, \" she added, \" and truly do, you ought to have accepted her. i shall not scruple to assert, that the establishment i would receive would be materially lessen your friend's anxiety ; or, on the contrary, to assure you, that if you, i am sure, have actually met with two instances. i have merely proved that i know my sister, that i can perceive that her anxiety for her brother is the cause of all this. i shall not scruple to assert, however, that the serenity of her countenance and manner was in proportion to the distress she was receiving in refusing him. \" \n",
      "\n",
      "  Average training loss: 0.16\n",
      "  Training epoch took: 0:22:53\n",
      "\n",
      "Running Validation...\n",
      "  Validation Loss: 0.12\n",
      "  Validation took: 0:00:48\n",
      "\n",
      "======== Epoch 3 / 5 ========\n",
      "Training...\n",
      "  Batch   100  of  2,702. Loss: 0.058208417147397995.   Elapsed: 0:00:50.\n",
      "0:  openly\" i must go instantly to my mother ; \" she cried. \" i would not on any account trifle with her affectionate solicitude ; or allow her to hear it from anyone but myself. \n",
      "  Batch   200  of  2,702. Loss: 0.23860713839530945.   Elapsed: 0:01:40.\n",
      "0:  haltedthis was not all miss darcy's reply, but elizabeth was in the least more obliged to give implicit confidence to her cousin's assertions, than her own ; and her acceptance of them was entirely dependent on the goodwill of her own feelings ; and elizabeth had moreover a dependence on their cordiality ; and jane, who had been less than steady, and was almost as dependent on them all, as ever on their goodwill. there was nothing else to be done that she could do ; her own interest had been the only sacrifice, her patience had been the only sacrifice, she could think of, which jane could not receive. there was nothing else, however, to be done that she could do ; and the power of doing whatever she could without her husband's encouragement, of engaging their brother's heart in darcy's behalf was by no means capable of engaging them in the act of their affection. she had always been grateful to jane\n",
      "  Batch   300  of  2,702. Loss: 0.040761031210422516.   Elapsed: 0:02:33.\n",
      "0:  Nikelizabeth felt herself completely taken in. \" this is delightful indeed! \n",
      "  Batch   400  of  2,702. Loss: 0.20217011868953705.   Elapsed: 0:03:23.\n",
      "0:  tinelizabeth's astonishment was beyond expression. she stared, coloured, doubted, and was silent. \n",
      "  Batch   500  of  2,702. Loss: 0.06019583344459534.   Elapsed: 0:04:13.\n",
      "0:  clinicalin spite of her deeply - rooted dislike, and though her intentions did not vary for an instant, her feelings towards darcy were at first unwillingly admitted. \n",
      "  Batch   600  of  2,702. Loss: 0.054603561758995056.   Elapsed: 0:05:03.\n",
      "0: lections\" i do not see what has been done or what a good thing done in the education of this parish, but what we have done for the recovery of the parish, and in the discharge of the various pecuniary actions and settlements of settlements, and have occasion to add, to my own family, the names of all the executors and their parents, and all their own children. the situation of your mother's finances, and your father's, seems such a remarkable one. i am sure i never in my life saw him without some assistance to the recovery of his parish, and it was but just done by me, to lessen the pain of separation by an article of news which then brought on a realign of all the advantages which a situation of such amiable companions can boast. \n",
      "  Batch   700  of  2,702. Loss: 0.10634180158376694.   Elapsed: 0:05:55.\n",
      "0: els\" and there is a lady, it seems, a mrs. younge, who was some time ago governess to miss darcy, and was dismissed from her charge on some cause of disapprobation, though he did not say what. she then took a large house in edward - street, and has since maintained herself by letting lodgings. this mrs. younge was, he knew, intimately acquainted with wickham ; and he went to her for intelligence of him as soon as he got to town. but it was two or three days before he could get from her what he wanted. she would not betray her trust, i suppose, without bribery and corruption, for she really did know where her friend was to be found. wickham indeed had gone to her on their first arrival in london, and had she been able to receive them into her house, they would have taken up their abode with her. at length, however\n",
      "  Batch   800  of  2,702. Loss: 0.04406142979860306.   Elapsed: 0:06:48.\n",
      "0: lab\" i do not blame jane, \" she continued, \" for jane would have got mr. bingley if she could. but lizzy! oh, sister! it is very hard to think that she might have been mr. collins's wife by this time, had it not been for her own perverseness. he made her an offer in this very room, and she refused him. the consequence of it is, that lady lucas will have a daughter married before i have, and that the longbourn estate is just as i came back. the lucases are very artful people indeed, sister. they are all for what they can get. i am sorry it took them so long to marry _ prudently _, prudently, prudently, but prudently! they must always be \n",
      "  Batch   900  of  2,702. Loss: 0.20033259689807892.   Elapsed: 0:07:40.\n",
      "0:  triple\" my reasons for marrying are, first, that i think it a right thing for every clergyman in easy circumstances ( like myself ) to set the example of matrimony in his parish ; secondly, that i am convinced that it will add very greatly to my happiness ; and thirdly -- which perhaps i ought to have mentioned earlier, that it is the living in which i should promote and establish a uniform cheerfulness of behaviour in all families within the reach of my influence ; and it is of particular importance that you should not allow the clergyman's estate to be vacant. in this light, i am not afraid of speaking of the church again. \n",
      "  Batch 1,000  of  2,702. Loss: 0.05690024420619011.   Elapsed: 0:08:31.\n",
      "0: 220\" aye, that is just like your formality and discretion. you thought the waiter must not hear, as if he cared! \n",
      "  Batch 1,100  of  2,702. Loss: 0.04282142594456673.   Elapsed: 0:09:22.\n",
      "0:  Seedarcy was fixed in astonishment. \" i have never been a more interesting young man ; \" she added in a yet more agitated voice. \" i have not the talent of _ my _, \" she added in a yet more agitated voice. \" i have not the talent of _ my _, if i had not been taught. \n",
      "  Batch 1,200  of  2,702. Loss: 0.012681015767157078.   Elapsed: 0:10:12.\n",
      "0: @@\" you are perfectly right. your modesty, i trust, does not disgrace you. \n",
      "  Batch 1,300  of  2,702. Loss: 0.14054036140441895.   Elapsed: 0:11:03.\n",
      "0:  host\" miss eliza bennet, \" said miss bingley, \" you puzzle me exceedingly. \n",
      "  Batch 1,400  of  2,702. Loss: 0.09374025464057922.   Elapsed: 0:11:53.\n",
      "0: role\" how very suddenly i rained! i was almost out of my senses! i did not know when i should have said no more. how i detested your language. but i was never bold enough to write to you. i knew you as well as i felt you believed me ; and if i could but tell you how ardently i admire and love, i should think you could not. i do not blame jane, though i never. \n",
      "  Batch 1,500  of  2,702. Loss: 0.05414976552128792.   Elapsed: 0:12:44.\n",
      "0: iac\" we have had a most excellent week, \" said she, as soon as they were left to themselves. \" i wish you had been there. \" \n",
      "  Batch 1,600  of  2,702. Loss: 0.057586416602134705.   Elapsed: 0:13:34.\n",
      "0:  LDthe discomposure of spirits which this extraordinary visit threw elizabeth into, could not be easily overcome ; nor could she, for many hours, learn to think of it less than incessantly. lady catherine, it appeared, had actually taken the trouble of this journey from rosings, for the sole purpose of breaking off her supposed engagement with mr. darcy. it was a rational scheme, to be sure! but from the very day of her arrival in hertfordshire, there was a very good sort of pride in her family, which, in addition to the fear of disadvantage from the connection, had been designed for her. \n",
      "  Batch 1,700  of  2,702. Loss: 0.0452946275472641.   Elapsed: 0:14:26.\n",
      "0:  Listen\" i never gave him credit for any philosophy. my temper, i believe, is not likely to be so marked as your own. it is not known, i believe, by anything but your own. \n",
      "  Batch 1,800  of  2,702. Loss: 0.033292703330516815.   Elapsed: 0:15:17.\n",
      "0:  dy\" and of this place, \" thought she, \" may be deceiving you. \" \n",
      "  Batch 1,900  of  2,702. Loss: 0.05563323572278023.   Elapsed: 0:16:07.\n",
      "0:  Domesticshe did not know at all of his other expressions. in her recollectment, he often addressed her with an expression of mingled incredulity and mortification. he was not always speaking to her, though occasionally looking round her, and sometimes looking at her for a moment. her fancy, however, was extreme, and continually increasing, and continually calling out : \n",
      "  Batch 2,000  of  2,702. Loss: 0.05809710919857025.   Elapsed: 0:16:58.\n",
      "0:  beneficiaries\" good heaven! how strange is this discovery? how abominable! \n",
      "  Batch 2,100  of  2,702. Loss: 0.07771411538124084.   Elapsed: 0:17:48.\n",
      "0:  Title\" no, \" said she, \" i never have. i have a high respect for your nerves. they give me great pleasure every moment. \n",
      "  Batch 2,200  of  2,702. Loss: 0.0928758904337883.   Elapsed: 0:18:38.\n",
      "0:  μ\" there is a lady, it seems, a mrs. younge, who was some time ago governess to miss darcy, and was dismissed from her charge on some cause of disapprobation, though he did not say what. she then took a large house in edward - street, and has since maintained herself by letting lodgings. this mrs. younge was, he knew, intimately acquainted with wickham ; and he went to her for intelligence of him as soon as he got to town. but it was two or three days before he could get from her what he wanted. she would not betray her trust, i suppose, without bribery and corruption, for she really did know where her friend was to be found. wickham indeed had gone to her on their first arrival in london, and had she been able to receive them into her house, they would have taken up their abode with her. at length, however,\n",
      "  Batch 2,300  of  2,702. Loss: 0.02052990533411503.   Elapsed: 0:19:31.\n",
      "0:  selling\" mr. darcy asked him why he had not married your sister at once. though mr. bennet had not imagined such a marriage to take place, he was persuaded that when mr. collins was no longer in his thoughts, he would go to bed. \" \n",
      "  Batch 2,400  of  2,702. Loss: 0.1088847666978836.   Elapsed: 0:20:22.\n",
      "0:  migrant\" my reasons for marrying are, first, that i think it a right thing for every clergyman in easy circumstances ( like myself ) to set the example of matrimony in his parish ; secondly, that i am convinced that it will add very greatly to my happiness ; and thirdly -- which perhaps i ought to have mentioned earlier, that it is the particular advice and recommendation of the very noble lady whom i have the honour of calling patroness. twice has she condescended to give me her opinion ( unasked too! ) on this subject ; and it was but the very saturday night before i left hunsford -- between our pools at quadrille, while mrs. jenkinson was arranging miss de bourgh's footstool, that she said,'mr. collins, you must marry. a clergyman like you must marry. choose properly, choose a gentlewoman for _ my _ sake ; and for your _ own _, let\n",
      "  Batch 2,500  of  2,702. Loss: 0.15369844436645508.   Elapsed: 0:21:14.\n",
      "0: ively\" i have found out, \" said he, \" by a singular accident, that there is now in the room a near relation of my patroness. i happened to overhear the gentleman himself mentioning to the young lady who does the honours of the house the names of his cousin miss de bourgh, and of her mother lady catherine. how wonderfully these sort of things occur! \" \n",
      "  Batch 2,600  of  2,702. Loss: 0.024903971701860428.   Elapsed: 0:22:05.\n",
      "0:  order\" i should not mind aye, \" said wickham, \" if it were ; but i can assure you that when a visitor comes to netherfield, it can be very pretty. \n",
      "  Batch 2,700  of  2,702. Loss: 0.03359893709421158.   Elapsed: 0:22:56.\n",
      "0:  VPNbut why mr. darcy came so often to the parsonage, it was more difficult to understand. it could not be for society, as he frequently sat there ten minutes together without opening his lips ; and when he did speak, it seemed the effect of necessity rather than of choice -- a sacrifice to propriety, not a pleasure to himself. he seldom appeared really animated. mrs. collins knew not what to make of him. colonel forster seldom appeared really animated. mrs. collins knew not what to make of him. colonel forster seldom appeared that he had animation. \n",
      "\n",
      "  Average training loss: 0.09\n",
      "  Training epoch took: 0:22:58\n",
      "\n",
      "Running Validation...\n",
      "  Validation Loss: 0.09\n",
      "  Validation took: 0:00:48\n",
      "\n",
      "======== Epoch 4 / 5 ========\n",
      "Training...\n",
      "  Batch   100  of  2,702. Loss: 0.036563098430633545.   Elapsed: 0:00:50.\n",
      "0:  explanationher father lifted up his eyes in amazement ; and as he sat down to a table set out with his usual deliberation, talked on, of his hope that a letter from jane might be sent from him by express. but the post was always coming, and always moving. bingley had done his duty in that parish, and had he been a regular visitor he could not have been always on good terms with mr.. when his father went away, all bingley had to do. \n",
      "  Batch   200  of  2,702. Loss: 0.08089621365070343.   Elapsed: 0:01:42.\n",
      "0:  Bachshe was immediately told that the two gentlemen from rosings had each called during her absence, and had mr. collins been in waiting near the lodges, when their carriage arrived, or had mr. and mrs. collins appeared at the door, and the lady had entered into conversation directly on the subject, which put an end to by the approach of mr. and mrs. bennet. lady catherine listened in silence to their conversation, and then hurried home with the answer. mr. collins immediately began : \n",
      "  Batch   300  of  2,702. Loss: 0.08046787977218628.   Elapsed: 0:02:34.\n",
      "0:  folder\" your picture may be very exact, louisa, \" said bingley ; \" but this was all lost upon me. \n",
      "  Batch   400  of  2,702. Loss: 0.049379654228687286.   Elapsed: 0:03:24.\n",
      "0:  building\" you are quite right. you can now have nothing further to say, but to say'no more _ \n",
      "  Batch   500  of  2,702. Loss: 0.08944708108901978.   Elapsed: 0:04:15.\n",
      "0:  Babylon\" indeed i had not. i knew nothing at all of lady catherine's connections. that she had been intimately acquainted with every particular of them ; and she would have been equally happy, had i dared endeavour to venture in my endeavour to give greater -- if iambarded against the prepossession of prepossessed strong objections ; or, as i might, prevented the construction of so much more. \n",
      "  Batch   600  of  2,702. Loss: 0.09530472755432129.   Elapsed: 0:05:06.\n",
      "0: perial\" i beg your pardon. it gives me great pleasure to hear that you have passed your time not disagreeably. our journey has not been long, as we saw all the beauty of your sister. \n",
      "  Batch   700  of  2,702. Loss: 0.0449947863817215.   Elapsed: 0:05:56.\n",
      "0:  rents\" i should like balls infinitely better, \" she replied, \" if they were carried on in a different manner ; but there is something insufferably tedious in the usual process of such a meeting. \n",
      "  Batch   800  of  2,702. Loss: 0.0822053849697113.   Elapsed: 0:06:47.\n",
      "0:  Reg\" my dearest sister, now _ be _ serious. \n",
      "  Batch   900  of  2,702. Loss: 0.07072348892688751.   Elapsed: 0:07:37.\n",
      "0: olasthe morrow produced no abatement of mrs. bennet's ill - humour or ill health. mr. collins was also in the same state of angry pride. his resentment was in proportion to the distress of his daughter, and having no reserves from jane, he was anxious to get everyone on the spot ; lest she should hear of him from anybody. \n",
      "  Batch 1,000  of  2,702. Loss: 0.0209131371229887.   Elapsed: 0:08:28.\n",
      "0:  responses\" and of your infliction, \" cried elizabeth with energy. \" you have reduced him to his present state of poverty -- comparative poverty. you have withheld the advantages which you must know to have been designed for him. you have deprived the best years of his life of that independence which was no less his due than his desert. \n",
      "  Batch 1,100  of  2,702. Loss: 0.03225706145167351.   Elapsed: 0:09:18.\n",
      "0:  attendance\" upon my word, i can not pretend to be sorry, sir, for the entail, of so very heavy a sum as three thousand pounds! the more to the advantage of your estate, than of your own, to settle on my own children, i shall endeavour to do away with another of your nearest relations. \" \n",
      "  Batch 1,200  of  2,702. Loss: 0.039141468703746796.   Elapsed: 0:10:09.\n",
      "0:  rigidas for elizabeth, her thoughts were at pemberley this evening more than the last ; and the evening, though as it passed it seemed long, was not long enough to determine her feelings towards _ one _ in that mansion ; and she lay awake two whole hours endeavouring to make them out. she certainly did not hate him. no ; hatred had vanished long ago, and she had almost as long been ashamed of ever feeling a dislike against him, that could be so called. the respect created by the conviction of his valuable qualities, though at first unwillingly admitted, had for some time ceased to be repugnant to her feeling ; and it was now heightened into somewhat of a friendlier nature, by the testimony so highly in his favour, and bringing forward his disposition in so amiable a light, which yesterday had produced. but above all, above respect and esteem, there was a motive within her of goodwill which could not be overlooked. it was gratitude ; gratitude,\n",
      "  Batch 1,300  of  2,702. Loss: 0.025573454797267914.   Elapsed: 0:11:01.\n",
      "0: gro\" i have a high respect for your nerves, \" said mrs. bennet more than once, as they were still very young. \" they are my old friends. \" \n",
      "  Batch 1,400  of  2,702. Loss: 0.0809401348233223.   Elapsed: 0:11:52.\n",
      "0:  Greelizabeth, as she had no longer any interest of her own to pursue, turned her attention almost entirely on her sister and mr. bingley ; and the train of agreeable reflections which her observations gave birth to, made her perhaps almost as happy as jane. she saw her in idea settled in that very house, in all the felicity which a marriage of true affection could bestow ; and she felt capable, under such circumstances, of endeavouring even to like bingley's two sisters. her mother's thoughts she plainly saw were bent the same way, and she determined not to venture near her, lest she might hear too much. when they sat down to supper, therefore, she considered it a most unlucky perverseness which placed them within one of each other ; and deeply was she vexed to find that her mother was talking to that one person ( lady lucas ) freely, openly, and of nothing else but her expectation that jane would soon\n",
      "  Batch 1,500  of  2,702. Loss: 0.024310123175382614.   Elapsed: 0:12:44.\n",
      "0: urabut self, though it would intrude, could not engross her. lydia -- the humiliation, the misery she was bringing on them all, soon swallowed up every private care ; and covering her face with her handkerchief, elizabeth felt how little would be gained by _ coming _ to see her. \n",
      "  Batch 1,600  of  2,702. Loss: 0.02131923846900463.   Elapsed: 0:13:35.\n",
      "0:  2020elizabeth listened, wondered, doubted, and was impatient for more. she wanted to hear, and hoped that she might. but the carriage was not to be had ; and after sitting a few minutes, she found herself, when almost all her attention was on her face, earnestly looking at her with a smile over the evening, and earnestly looking at her with a smile over the evening, that she might have believed the offer of the chaise to be sincere, had not jane pictured to herself a happy evening in the society of her friends. \n",
      "  Batch 1,700  of  2,702. Loss: 0.05788693204522133.   Elapsed: 0:14:27.\n",
      "0:  chargingthe whole party were in hopes of a letter from mr. bennet the next morning, but the post came in without bringing a single line from him. his family knew him to be, on all common occasions, a most negligent and dilatory correspondent ; but at such a time they had hoped for exertion. his friends, though grateful for his affection, could not be insensible to the compliment of such a man. how thankful did the ladies feel for him at such premeditation, and how grateful did the ladies for his kindness to them! they could hardly comprehend his coming to london only to express his sense of inferiority, or relate his character to anybody else. their letters to mrs. bennet, with the greatest attention, were rather thin, and he probably looked at least as handsome as he had been last year at netherfield. \" when i am in your head, \" said jane, \" i am not afraid of his coming here\n",
      "  Batch 1,800  of  2,702. Loss: 0.048711054027080536.   Elapsed: 0:15:19.\n",
      "0:  Sarbut why mr. darcy came so often to the parsonage, it was more difficult to understand. it could not be for society, as he frequently sat there ten minutes together without opening his lips ; and when he did speak, it seemed the effect of necessity rather than of choice -- a sacrifice to propriety, not a pleasure to himself. he seldom appeared really animated. mrs. collins knew not what to make of him. colonel fitzwilliam's occasionally laughing at his stupidity, proved him to be generally different, which her own knowledge of him could not have told her ; and as she would liked to have believed this change the effect of love, and the object of that love her friend eliza, she set herself seriously to work to find it out. they parted from the chaise, and then from the door into the dining - room. \n",
      "  Batch 1,900  of  2,702. Loss: 0.025661733001470566.   Elapsed: 0:16:11.\n",
      "0:  Jas\" by this time, my dearest sister, you have received my hurried letter ; i wish this may be more intelligible, but though not confined for time, my head is so bewildered that i can not answer for being coherent. dearest lizzy, i hardly know what i would write, but i have bad news for you, and it can not be delayed. imprudent as the marriage between mr. wickham and our poor lydia would be, we are now anxious to be assured it has taken place, for there is but too much reason to fear they are not gone to scotland. colonel forster came yesterday, having left brighton the day before, not many hours after the express. though lydia's short letter to mrs. f. gave them to understand that they were going to gretna green, something was dropped by denny expressing his belief that w. never intended to go there, or to marry lydia\n",
      "  Batch 2,000  of  2,702. Loss: 0.11252344399690628.   Elapsed: 0:17:04.\n",
      "0:  permit\" it was greatly my wish that he should do so, \" he added, \" as soon as his marriage was fixed on. and i think you will agree with me, in considering the removal from that corps as highly advisable, both on his account and my niece's. it is mr. wickham's intention to go into the regulars ; and he has the promise of an ensigncy in general ----'s regiment, now quartered in the north. it is an advantage to have it so far from this part of the kingdom. he promises fairly ; and i hope among different people, where they may each have a character to preserve, they will both be more prudent. \n",
      "  Batch 2,100  of  2,702. Loss: 0.041897304356098175.   Elapsed: 0:17:56.\n",
      "0:  Administrator\" i was not so fastidious as i was in myself. \" \n",
      "  Batch 2,200  of  2,702. Loss: 0.02395710162818432.   Elapsed: 0:18:46.\n",
      "0:  EVENTS\" oh, yes!--that, that is the worst of all. till i was in kent, and saw so much both of mr. darcy and his relation colonel fitzwilliam, i was ignorant of the truth myself. and when i returned home, the ----shire was to leave meryton in a week or fortnight's time. as that was the case, neither jane, to whom i related the whole, nor i, thought it necessary to make our knowledge public ; for of what use could it apparently be to any one, that the good opinion which all the neighbourhood had of him should then be overthrown? and even when it was settled that lydia should go with mrs. forster, the necessity of opening her eyes to his character never occurred to me. \n",
      "  Batch 2,300  of  2,702. Loss: 0.01701679639518261.   Elapsed: 0:19:38.\n",
      "0:  Mentalin this perturbed state of mind, with thoughts that could rest on nothing, she walked on ; but it would not do ; in half a minute the letter was unfolded again, and collecting herself as well as she could, she again began the mortifying perusal of all that related to wickham, and commanded herself so far as to examine the meaning of every sentence. the account of his connection with the pemberley family was exactly what he had related himself ; and the kindness of the late mr. darcy, though she had not before known its extent, agreed equally well with his own words. so far each recital confirmed the other ; but when she came to the will, the difference was great. what wickham had said of the living was fresh in her memory, and as she recalled his very words, it was impossible not to feel that there was gross duplicity on one side or the other ; and, for a few moments, she flattered\n",
      "  Batch 2,400  of  2,702. Loss: 0.01759503409266472.   Elapsed: 0:20:30.\n",
      "0: idswhen they were gone, elizabeth, as if intending to exasperate herself as much as possible against mr. darcy, chose for her employment the examination of all the letters which jane had written to her since her being in kent. they contained no actual complaint, nor was there any revival of past occurrences, or any communication of present suffering. but in all, and in almost every line of each, there was a want of that cheerfulness which had been used to characterise her style, and which, proceeding from the serenity of a mind at ease with itself and kindly disposed towards everyone, had been scarcely ever clouded. elizabeth noticed every sentence conveying the idea of uneasiness, with an attention which it had hardly received on the first perusal. mr. darcy's shameful boast of what misery he had been able to inflict, gave her all the shame and misery of that independence which years of happiness could not enough acknowledge\n",
      "  Batch 2,500  of  2,702. Loss: 0.0411582812666893.   Elapsed: 0:21:23.\n",
      "0: ceans\" but why all this secrecy? why any fear of detection? why must their marriage be private? oh, no, no -- this is not likely. his most particular friend, you see by jane's account, was persuaded of his never intending to marry her. wickham will never marry a woman without some money. he can not afford it. and what claims has lydia -- what attraction has she beyond youth, health, and good humour that could make him, for her sake, forego every chance of benefiting himself by marrying well? and as to her using her marriage application, i am not able to judge ; for i know nothing of the effects that a woman who has once been refused in money, can have so large a family. \" \n",
      "  Batch 2,600  of  2,702. Loss: 0.017920516431331635.   Elapsed: 0:22:15.\n",
      "0:  genetically\" why, at that rate, you will have been here only six weeks. i expected you to stay two months. i told mrs. collins so before you came. there was a reason to my delay. \n",
      "  Batch 2,700  of  2,702. Loss: 0.022061601281166077.   Elapsed: 0:23:05.\n",
      "0:  advice\" my dear miss elizabeth, i have the highest opinion in the world in your excellent judgement in all matters within the scope of your understanding ; but permit me to say, that there must be a wide difference between the established forms of ceremony amongst the laity, and those which regulate the clergy ; for, give me leave to observe that i consider the clerical office as equal in point of dignity with the highest rank in the kingdom -- provided that a proper humility of behaviour is at the same time maintained. you must therefore allow me to follow the dictates of my conscience on this occasion, which leads me to perform what i look on as a point of duty. pardon me for neglecting to profit by your advice, which on every other subject shall be my constant guide, though in the case before us i consider myself more fitted by education and habitual study to decide on what is right than a young lady like yourself. \" and with a low bow he left her to attack mr. d\n",
      "\n",
      "  Average training loss: 0.05\n",
      "  Training epoch took: 0:23:08\n",
      "\n",
      "Running Validation...\n",
      "  Validation Loss: 0.09\n",
      "  Validation took: 0:00:48\n",
      "\n",
      "======== Epoch 5 / 5 ========\n",
      "Training...\n",
      "  Batch   100  of  2,702. Loss: 0.031659599393606186.   Elapsed: 0:00:50.\n",
      "0:  incomplete\" i have been making the tour of the park every day, \" he said ; \" but the most part of it is not so pleasant as some of the others. \n",
      "  Batch   200  of  2,702. Loss: 0.0168153028935194.   Elapsed: 0:01:41.\n",
      "0: comment\" oh, yes ; and nobody can ever be introduced in a ball - room. well, colonel fitzwilliam, what do i play next? my fingers wait your orders. \" \n",
      "  Batch   300  of  2,702. Loss: 0.027043092995882034.   Elapsed: 0:02:31.\n",
      "0:  pilotif elizabeth, when mr. darcy gave her the letter, did not expect it to contain a renewal of his offers, she had formed no expectation at all of its contents. but such as they were, it may well be supposed how eagerly she went through them, and what a contrariety of emotion they excited. her feelings as she read were scarcely to be defined. with amazement did she first understand that he believed any apology to be in his power ; and steadfastly was she persuaded, that he could have no explanation to give, which a just sense of shame would not conceal. with a strong prejudice against everything he might say, she began his account of what had happened at netherfield. she read with an eagerness which hardly left her power of comprehension, and from impatience of knowing what the next sentence might bring, was incapable of attending to the sense of the one before her eyes. his belief of her sister's insensibility she instantly\n",
      "  Batch   400  of  2,702. Loss: 0.0149936368688941.   Elapsed: 0:03:24.\n",
      "0: gers\" i think she will. \" \n",
      "  Batch   500  of  2,702. Loss: 0.015285642817616463.   Elapsed: 0:04:14.\n",
      "0:  mutation\" you may as well call it impertinence at once. it was very little less. the fact is, that you were sick of civility, of deference, of officious attention. you were disgusted with the women who were always speaking, and looking, and thinking for _ your _ approbation alone. i roused, and interested you, because i was so unlike _ them _. had you not been really amiable, you would have hated me for it ; but in spite of the pains you took to disguise yourself, your feelings were always noble and just ; and in your heart, you thoroughly despised the persons who so assiduously courted you. there -- i have saved you the trouble of accounting for it ; and really, all things considered, i begin to think it perfectly reasonable. to be sure, you knew no actual good of me -- but nobody thinks of _ that _ in the first place. \" \n",
      "  Batch   600  of  2,702. Loss: 0.046997200697660446.   Elapsed: 0:05:06.\n",
      "0:  Driver\" if i, \" said mr. collins, \" were so fortunate as to be able to sing, i should have great pleasure, i am sure, in obliging the company with an air ; for i consider music as a very innocent diversion, and perfectly compatible with the profession of a clergyman. i do not mean, however, to assert that we can be justified in devoting too much of our time to music, for there are certainly other things to be attended to. the rector of a parish has much to do. in the first place, he must make such an agreement for tithes as may be beneficial to himself and not offensive to his patron. he must write his own sermons ; and the time that remains will not be too much for his parish duties, and the care and improvement of his dwelling, which he can not be excused from making as comfortable as possible. and i do not think it of light importance that he should have attentive and conc\n",
      "  Batch   700  of  2,702. Loss: 0.017678571864962578.   Elapsed: 0:05:59.\n",
      "0: iti\" you need not distress yourself. the moral will be perfectly fair. lady catherine's unjustifiable endeavours to separate us were the means of removing all my doubts. i am not indebted for my present happiness to your eager desire of expressing your gratitude. i was not in a humour to wait for any opening of yours. mr. collins, to be sure, was not a very rational man. \" \n",
      "  Batch   800  of  2,702. Loss: 0.031231949105858803.   Elapsed: 0:06:50.\n",
      "0: fff\" there can be no doubt of that. it is settled between us already, that we are to be the happiest couple in the world. but are you pleased, jane? \n",
      "  Batch   900  of  2,702. Loss: 0.016088036820292473.   Elapsed: 0:07:40.\n",
      "0: riminationmrs. bennet, with great condescension, wished to introduce the subject ; and as she said this, attended the whole house in the drawing - room, as soon as her ladyship was expected. \n",
      "  Batch 1,000  of  2,702. Loss: 0.03411952033638954.   Elapsed: 0:08:31.\n",
      "0: aque\" you are a good girl ; \" he replied, \" and i have great pleasure in thinking you will be so happily settled. i have not a doubt of your doing very well together. your tempers are by no means unlike. \n",
      "  Batch 1,100  of  2,702. Loss: 0.013510585762560368.   Elapsed: 0:09:21.\n",
      "0: lee\" i never heard from you that you were so severe on george wickham as to think him quite the man who, with all his wealth, the true admirer, could ever be so well - bred and agreeable as to be able to keep a man - servant, or allow him to marry a daughter. he was a most highly esteemed, extremely agreeable man, and excessively proud. your mother, miss lydia, i think, had a most attentive mother. you may remember that i never heard you speak ill of him ; and i believe i must have heard you mentioned to you the necessity of placing him in the greatest share of the notice. \" \n",
      "  Batch 1,200  of  2,702. Loss: 0.07276290655136108.   Elapsed: 0:10:13.\n",
      "0:  Alzheimerwhen the party broke up, lydia returned with mrs. forster to meryton, from whence they were to set out early the next morning. the separation between her and her family was rather noisy than pathetic. \n",
      "  Batch 1,300  of  2,702. Loss: 0.02602740377187729.   Elapsed: 0:11:04.\n",
      "0:  checking\" i do not think we were speaking at all. \n",
      "  Batch 1,400  of  2,702. Loss: 0.033326055854558945.   Elapsed: 0:11:54.\n",
      "0: nesiumthe evening altogether passed off pleasantly to the whole family. mrs. bennet had seen her eldest daughter much admired by the netherfield party. mr. bingley had danced with her twice, and she had been distinguished by his sisters. jane was as much gratified by this as her mother could be, though in a quieter way. elizabeth felt jane's pleasure. \n",
      "  Batch 1,500  of  2,702. Loss: 0.020573213696479797.   Elapsed: 0:12:45.\n",
      "0:  1957\" i do assure you, sir, that i have no pretensions whatever to that kind of elegance which consists in tormenting a respectable man. i would rather be paid the compliment of being believed sincere. i thank you again and again for the honour you have done me in your proposals, but to accept them is absolutely impossible. my feelings in every respect forbid it. can i speak plainer? \" \n",
      "  Batch 1,600  of  2,702. Loss: 0.016152873635292053.   Elapsed: 0:13:36.\n",
      "0: manship\" i am sure, \" she added, \" if it was not for such good friends i do not know what would become of her, for she is very ill indeed, and suffers a vast deal, though with the greatest patience in the world, which is always the way with her, for she has, without exception, the sweetest temper i have ever met with. i often tell my other girls they are nothing to _ her _. you have a sweet room here, mr. bingley, and a charming prospect over the gravel walk. \n",
      "  Batch 1,700  of  2,702. Loss: 0.015587401576340199.   Elapsed: 0:14:27.\n",
      "0:  understandas for wickham and lydia, their characters suffered no revolution from the marriage of her sisters. he bore with philosophy the conviction that elizabeth must now become acquainted with whatever of his ingratitude and falsehood had before been unknown to her ; and in spite of every thing, was not wholly without hope that darcy might yet be prevailed on to make his fortune. \n",
      "  Batch 1,800  of  2,702. Loss: 0.014630218036472797.   Elapsed: 0:15:18.\n",
      "0:  passion\" to jane herself, \" she exclaimed, \" there could be no possibility of objection ; all loveliness and goodness as she is!--her understanding excellent, her mind improved, and her manners captivating. neither could anything be urged against my father, who, though with some peculiarities, has abilities mr. darcy himself need not disdain. \" \n",
      "  Batch 1,900  of  2,702. Loss: 0.03484564647078514.   Elapsed: 0:16:10.\n",
      "0:  curvedshe then changed the discourse to one more gratifying to each, and on which there could be no difference of sentiment. elizabeth listened with delight to the happy, though modest hopes which jane entertained of mr. bingley's regard, and said all in her power to heighten her confidence in it. \n",
      "  Batch 2,000  of  2,702. Loss: 0.028758155182003975.   Elapsed: 0:17:01.\n",
      "0:  An\" yes -- the late mr. darcy bequeathed me the next presentation of the best living in his gift. \n",
      "  Batch 2,100  of  2,702. Loss: 0.016735592857003212.   Elapsed: 0:17:51.\n",
      "0: ottimiss bingley's congratulations to her brother, on his approaching marriage, were all that was affectionate and insincere. she wrote even to jane on the occasion, to express her delight, and repeat all her former professions of regard. but georgiana would not join her. she wrote to her brother lydia on the occasion, without any previous acquaintance with their family, or any communication of their plans, except to say that they were under frequent discussion between themselves. \n",
      "  Batch 2,200  of  2,702. Loss: 0.018560970202088356.   Elapsed: 0:18:42.\n",
      "0:  intake\" yes, \" replied mr. wickham ; \" his estate there is a noble one. a clear ten thousand per annum. \n",
      "  Batch 2,300  of  2,702. Loss: 0.024451572448015213.   Elapsed: 0:19:33.\n",
      "0:  Ts\" by this time, my dearest sister, you have received my hurried letter ; i wish this may be more intelligible, but though not confined for time, my head is so bewildered that i can not answer for being coherent. dearest lizzy, i hardly know what i would write, but i have bad news for you, and it can not be delayed. imprudent as the marriage between mr. wickham and our poor lydia would be, we are now anxious to be assured it has taken place, for there is but too much reason to fear they are not gone to scotland. colonel forster came yesterday, having left brighton the day before, not many hours after the express. though lydia's short letter to mrs. f. gave them to understand that they were going to gretna green, something was dropped by denny expressing his belief that w. never intended to go there, or to marry lydia\n",
      "  Batch 2,400  of  2,702. Loss: 0.017994699999690056.   Elapsed: 0:20:25.\n",
      "0:  Main\" i must now mention a circumstance which i would wish to forget myself, and which no obligation less than the present should induce me to unfold to any human being. having said thus much, i feel no doubt of your secrecy. my sister, who is more than ten years my junior, was left to the guardianship of my mother's nephew, colonel fitzwilliam, and myself. about a year ago, she was taken from school, and an establishment formed for her in london ; and last summer she went with the lady who presided over it, to ramsgate ; and thither also went mr. wickham, undoubtedly by design ; for there proved to have been a prior acquaintance between him and mrs. younge, in whose character we were most unhappily deceived ; and by her connivance and aid, he so far recommended himself to georgiana, whose affectionate heart retained a strong impression of his kindness to her as a\n",
      "  Batch 2,500  of  2,702. Loss: 0.03520582616329193.   Elapsed: 0:21:18.\n",
      "0:  tem\" you will laugh when you know where i am gone, and i can not help laughing myself at your surprise to - morrow morning, as soon as i am missed. i am going to gretna green, and if you can not guess with who, i shall think you a simpleton, for there is but one man in the world i love, and he is an angel. i should never be happy without him, so think it no harm to be off. you need not send them word at longbourn of my going, if you do not like it, for it will make the surprise the greater, when i write to them and sign my name'lydia wickham.'what a good joke it will be! i can hardly write for laughing. pray make my excuses to pratt for not keeping my engagement, and dancing with him to - night. tell him i hope he will excuse me when he knows all ; and tell him i will dance with\n",
      "  Batch 2,600  of  2,702. Loss: 0.037343960255384445.   Elapsed: 0:22:10.\n",
      "0:  Clickfrom herself to jane -- from jane to bingley, her thoughts were in a line which soon brought to her recollection that mr. darcy's explanation _ there _ had appeared very insufficient, and she read it again. widely different was the effect of a second perusal. how could she deny that credit to his assertions in one instance, which she had been obliged to give in the other? he declared himself to be totally unsuspicious of her sister's attachment ; and she could not help remembering what charlotte's opinion had always been. neither could she deny the justice of his description of jane. she could not help remembering what charlotte's opinion had always been, and how far off she might have gone with him to meet her, and to justify his description of her as she pointed out. neither could she deny the justice of his description of her. \" she _ saw him go with regret ; she saw him in every\n",
      "  Batch 2,700  of  2,702. Loss: 0.021597670391201973.   Elapsed: 0:23:03.\n",
      "0:  XV\" miss eliza bennet, \" said miss bingley, in an angry tone, \" despises cards. \n",
      "\n",
      "  Average training loss: 0.03\n",
      "  Training epoch took: 0:23:04\n",
      "\n",
      "Running Validation...\n",
      "  Validation Loss: 0.09\n",
      "  Validation took: 0:00:48\n",
      "\n",
      "Training complete!\n",
      "Total training took 1:58:58 (h:mm:ss)\n"
     ]
    }
   ],
   "source": [
    "total_t0 = time.time()\n",
    "\n",
    "training_stats = []\n",
    "\n",
    "model = model.to(device)\n",
    "\n",
    "for epoch_i in range(0, epochs):\n",
    "\n",
    "    # ========================================\n",
    "    #               Training\n",
    "    # ========================================\n",
    "\n",
    "    print(\"\")\n",
    "    print('======== Epoch {:} / {:} ========'.format(epoch_i + 1, epochs))\n",
    "    print('Training...')\n",
    "\n",
    "    t0 = time.time()\n",
    "\n",
    "    total_train_loss = 0\n",
    "\n",
    "    model.train()\n",
    "\n",
    "    for step, batch in enumerate(train_dataloader):\n",
    "\n",
    "        b_input_ids = batch[0].to(device)\n",
    "        b_labels = batch[0].to(device)\n",
    "        b_masks = batch[1].to(device)\n",
    "\n",
    "        model.zero_grad()        \n",
    "\n",
    "        outputs = model(  b_input_ids,\n",
    "                          labels=b_labels, \n",
    "                          attention_mask = b_masks,\n",
    "                          token_type_ids=None\n",
    "                        )\n",
    "\n",
    "        loss = outputs[0]  \n",
    "\n",
    "        batch_loss = loss.item()\n",
    "        total_train_loss += batch_loss\n",
    "\n",
    "        # Get sample every x batches.\n",
    "        if step % sample_every == 0 and not step == 0:\n",
    "\n",
    "            elapsed = format_time(time.time() - t0)\n",
    "            print('  Batch {:>5,}  of  {:>5,}. Loss: {:>5,}.   Elapsed: {:}.'.format(step, len(train_dataloader), batch_loss, elapsed))\n",
    "\n",
    "            model.eval()\n",
    "\n",
    "            sample_outputs = model.generate(\n",
    "                                    bos_token_id=random.randint(1,30000),\n",
    "                                    do_sample=True,   \n",
    "                                    top_k=50, \n",
    "                                    max_length = 200,\n",
    "                                    top_p=0.95, \n",
    "                                    num_return_sequences=1\n",
    "                                )\n",
    "            for i, sample_output in enumerate(sample_outputs):\n",
    "                  print(\"{}: {}\".format(i, tokenizer.decode(sample_output, skip_special_tokens=True)))\n",
    "            \n",
    "            model.train()\n",
    "\n",
    "        loss.backward()\n",
    "\n",
    "        optimizer.step()\n",
    "\n",
    "        scheduler.step()\n",
    "\n",
    "    # Calculate the average loss over all of the batches.\n",
    "    avg_train_loss = total_train_loss / len(train_dataloader)       \n",
    "    \n",
    "    # Measure how long this epoch took.\n",
    "    training_time = format_time(time.time() - t0)\n",
    "\n",
    "    print(\"\")\n",
    "    print(\"  Average training loss: {0:.2f}\".format(avg_train_loss))\n",
    "    print(\"  Training epoch took: {:}\".format(training_time))\n",
    "        \n",
    "    # ========================================\n",
    "    #               Validation\n",
    "    # ========================================\n",
    "\n",
    "    print(\"\")\n",
    "    print(\"Running Validation...\")\n",
    "\n",
    "    t0 = time.time()\n",
    "\n",
    "    model.eval()\n",
    "\n",
    "    total_eval_loss = 0\n",
    "    nb_eval_steps = 0\n",
    "\n",
    "    # Evaluate data for one epoch\n",
    "    for batch in validation_dataloader:\n",
    "        \n",
    "        b_input_ids = batch[0].to(device)\n",
    "        b_labels = batch[0].to(device)\n",
    "        b_masks = batch[1].to(device)\n",
    "        \n",
    "        with torch.no_grad():        \n",
    "\n",
    "            outputs  = model(b_input_ids, \n",
    "                          #  token_type_ids=None, \n",
    "                             attention_mask = b_masks,\n",
    "                            labels=b_labels)\n",
    "          \n",
    "            loss = outputs[0]  \n",
    "            \n",
    "        batch_loss = loss.item()\n",
    "        total_eval_loss += batch_loss        \n",
    "\n",
    "    avg_val_loss = total_eval_loss / len(validation_dataloader)\n",
    "    \n",
    "    validation_time = format_time(time.time() - t0)    \n",
    "\n",
    "    print(\"  Validation Loss: {0:.2f}\".format(avg_val_loss))\n",
    "    print(\"  Validation took: {:}\".format(validation_time))\n",
    "\n",
    "    # Record all statistics from this epoch.\n",
    "    training_stats.append(\n",
    "        {\n",
    "            'epoch': epoch_i + 1,\n",
    "            'Training Loss': avg_train_loss,\n",
    "            'Valid. Loss': avg_val_loss,\n",
    "            'Training Time': training_time,\n",
    "            'Validation Time': validation_time\n",
    "        }\n",
    "    )\n",
    "\n",
    "print(\"\")\n",
    "print(\"Training complete!\")\n",
    "print(\"Total training took {:} (h:mm:ss)\".format(format_time(time.time()-total_t0)))"
   ]
  },
  {
   "cell_type": "markdown",
   "metadata": {
    "id": "DBJc6_eo8Mky"
   },
   "source": [
    "This experiment was run using SPACEY to segment the text into sentences before sending it into GPT2 tokenizer and Model."
   ]
  },
  {
   "cell_type": "code",
   "execution_count": 194,
   "metadata": {
    "colab": {
     "base_uri": "https://localhost:8080/",
     "height": 238
    },
    "id": "ci-wliJU5qeT",
    "outputId": "8ab79f78-2916-406c-cd77-729f73af6d93"
   },
   "outputs": [
    {
     "data": {
      "text/html": [
       "\n",
       "  <div id=\"df-351b7cdc-7a85-4777-bb5e-7189a84c641c\">\n",
       "    <div class=\"colab-df-container\">\n",
       "      <div>\n",
       "<style scoped>\n",
       "    .dataframe tbody tr th:only-of-type {\n",
       "        vertical-align: middle;\n",
       "    }\n",
       "\n",
       "    .dataframe tbody tr th {\n",
       "        vertical-align: top;\n",
       "    }\n",
       "\n",
       "    .dataframe thead th {\n",
       "        text-align: right;\n",
       "    }\n",
       "</style>\n",
       "<table border=\"1\" class=\"dataframe\">\n",
       "  <thead>\n",
       "    <tr style=\"text-align: right;\">\n",
       "      <th></th>\n",
       "      <th>Training Loss</th>\n",
       "      <th>Valid. Loss</th>\n",
       "      <th>Training Time</th>\n",
       "      <th>Validation Time</th>\n",
       "    </tr>\n",
       "    <tr>\n",
       "      <th>epoch</th>\n",
       "      <th></th>\n",
       "      <th></th>\n",
       "      <th></th>\n",
       "      <th></th>\n",
       "    </tr>\n",
       "  </thead>\n",
       "  <tbody>\n",
       "    <tr>\n",
       "      <th>1</th>\n",
       "      <td>0.35</td>\n",
       "      <td>0.18</td>\n",
       "      <td>0:22:54</td>\n",
       "      <td>0:00:48</td>\n",
       "    </tr>\n",
       "    <tr>\n",
       "      <th>2</th>\n",
       "      <td>0.16</td>\n",
       "      <td>0.12</td>\n",
       "      <td>0:22:53</td>\n",
       "      <td>0:00:48</td>\n",
       "    </tr>\n",
       "    <tr>\n",
       "      <th>3</th>\n",
       "      <td>0.09</td>\n",
       "      <td>0.09</td>\n",
       "      <td>0:22:58</td>\n",
       "      <td>0:00:48</td>\n",
       "    </tr>\n",
       "    <tr>\n",
       "      <th>4</th>\n",
       "      <td>0.05</td>\n",
       "      <td>0.09</td>\n",
       "      <td>0:23:08</td>\n",
       "      <td>0:00:48</td>\n",
       "    </tr>\n",
       "    <tr>\n",
       "      <th>5</th>\n",
       "      <td>0.03</td>\n",
       "      <td>0.09</td>\n",
       "      <td>0:23:04</td>\n",
       "      <td>0:00:48</td>\n",
       "    </tr>\n",
       "  </tbody>\n",
       "</table>\n",
       "</div>\n",
       "      <button class=\"colab-df-convert\" onclick=\"convertToInteractive('df-351b7cdc-7a85-4777-bb5e-7189a84c641c')\"\n",
       "              title=\"Convert this dataframe to an interactive table.\"\n",
       "              style=\"display:none;\">\n",
       "        \n",
       "  <svg xmlns=\"http://www.w3.org/2000/svg\" height=\"24px\"viewBox=\"0 0 24 24\"\n",
       "       width=\"24px\">\n",
       "    <path d=\"M0 0h24v24H0V0z\" fill=\"none\"/>\n",
       "    <path d=\"M18.56 5.44l.94 2.06.94-2.06 2.06-.94-2.06-.94-.94-2.06-.94 2.06-2.06.94zm-11 1L8.5 8.5l.94-2.06 2.06-.94-2.06-.94L8.5 2.5l-.94 2.06-2.06.94zm10 10l.94 2.06.94-2.06 2.06-.94-2.06-.94-.94-2.06-.94 2.06-2.06.94z\"/><path d=\"M17.41 7.96l-1.37-1.37c-.4-.4-.92-.59-1.43-.59-.52 0-1.04.2-1.43.59L10.3 9.45l-7.72 7.72c-.78.78-.78 2.05 0 2.83L4 21.41c.39.39.9.59 1.41.59.51 0 1.02-.2 1.41-.59l7.78-7.78 2.81-2.81c.8-.78.8-2.07 0-2.86zM5.41 20L4 18.59l7.72-7.72 1.47 1.35L5.41 20z\"/>\n",
       "  </svg>\n",
       "      </button>\n",
       "      \n",
       "  <style>\n",
       "    .colab-df-container {\n",
       "      display:flex;\n",
       "      flex-wrap:wrap;\n",
       "      gap: 12px;\n",
       "    }\n",
       "\n",
       "    .colab-df-convert {\n",
       "      background-color: #E8F0FE;\n",
       "      border: none;\n",
       "      border-radius: 50%;\n",
       "      cursor: pointer;\n",
       "      display: none;\n",
       "      fill: #1967D2;\n",
       "      height: 32px;\n",
       "      padding: 0 0 0 0;\n",
       "      width: 32px;\n",
       "    }\n",
       "\n",
       "    .colab-df-convert:hover {\n",
       "      background-color: #E2EBFA;\n",
       "      box-shadow: 0px 1px 2px rgba(60, 64, 67, 0.3), 0px 1px 3px 1px rgba(60, 64, 67, 0.15);\n",
       "      fill: #174EA6;\n",
       "    }\n",
       "\n",
       "    [theme=dark] .colab-df-convert {\n",
       "      background-color: #3B4455;\n",
       "      fill: #D2E3FC;\n",
       "    }\n",
       "\n",
       "    [theme=dark] .colab-df-convert:hover {\n",
       "      background-color: #434B5C;\n",
       "      box-shadow: 0px 1px 3px 1px rgba(0, 0, 0, 0.15);\n",
       "      filter: drop-shadow(0px 1px 2px rgba(0, 0, 0, 0.3));\n",
       "      fill: #FFFFFF;\n",
       "    }\n",
       "  </style>\n",
       "\n",
       "      <script>\n",
       "        const buttonEl =\n",
       "          document.querySelector('#df-351b7cdc-7a85-4777-bb5e-7189a84c641c button.colab-df-convert');\n",
       "        buttonEl.style.display =\n",
       "          google.colab.kernel.accessAllowed ? 'block' : 'none';\n",
       "\n",
       "        async function convertToInteractive(key) {\n",
       "          const element = document.querySelector('#df-351b7cdc-7a85-4777-bb5e-7189a84c641c');\n",
       "          const dataTable =\n",
       "            await google.colab.kernel.invokeFunction('convertToInteractive',\n",
       "                                                     [key], {});\n",
       "          if (!dataTable) return;\n",
       "\n",
       "          const docLinkHtml = 'Like what you see? Visit the ' +\n",
       "            '<a target=\"_blank\" href=https://colab.research.google.com/notebooks/data_table.ipynb>data table notebook</a>'\n",
       "            + ' to learn more about interactive tables.';\n",
       "          element.innerHTML = '';\n",
       "          dataTable['output_type'] = 'display_data';\n",
       "          await google.colab.output.renderOutput(dataTable, element);\n",
       "          const docLink = document.createElement('div');\n",
       "          docLink.innerHTML = docLinkHtml;\n",
       "          element.appendChild(docLink);\n",
       "        }\n",
       "      </script>\n",
       "    </div>\n",
       "  </div>\n",
       "  "
      ],
      "text/plain": [
       "       Training Loss  Valid. Loss Training Time Validation Time\n",
       "epoch                                                          \n",
       "1               0.35         0.18       0:22:54         0:00:48\n",
       "2               0.16         0.12       0:22:53         0:00:48\n",
       "3               0.09         0.09       0:22:58         0:00:48\n",
       "4               0.05         0.09       0:23:08         0:00:48\n",
       "5               0.03         0.09       0:23:04         0:00:48"
      ]
     },
     "execution_count": 194,
     "metadata": {},
     "output_type": "execute_result"
    }
   ],
   "source": [
    "# MINE Display floats with two decimal places.\n",
    "pd.set_option('precision', 2)\n",
    "\n",
    "# Create a DataFrame from our training statistics.\n",
    "df_stats = pd.DataFrame(data=training_stats)\n",
    "\n",
    "# Use the 'epoch' as the row index.\n",
    "df_stats = df_stats.set_index('epoch')\n",
    "\n",
    "# A hack to force the column headers to wrap.\n",
    "#df = df.style.set_table_styles([dict(selector=\"th\",props=[('max-width', '70px')])])\n",
    "\n",
    "# Display the table.\n",
    "df_stats"
   ]
  },
  {
   "cell_type": "markdown",
   "metadata": {
    "id": "VQTvJ1vRP7u4"
   },
   "source": [
    "Let's view the summary of the training process."
   ]
  },
  {
   "cell_type": "code",
   "execution_count": 196,
   "metadata": {
    "colab": {
     "base_uri": "https://localhost:8080/",
     "height": 427
    },
    "id": "v6guJA4k8VOv",
    "outputId": "5e8eacbb-bf54-491b-fc1c-1c7b245c9591"
   },
   "outputs": [
    {
     "data": {
      "image/png": "[encoded data removed]",
      "text/plain": [
       "<Figure size 864x432 with 1 Axes>"
      ]
     },
     "metadata": {},
     "output_type": "display_data"
    }
   ],
   "source": [
    "# Use plot styling from seaborn.\n",
    "sns.set(style='darkgrid')\n",
    "\n",
    "# Increase the plot size and font size.\n",
    "sns.set(font_scale=1.5)\n",
    "plt.rcParams[\"figure.figsize\"] = (12,6)\n",
    "\n",
    "# Plot the learning curve.\n",
    "plt.plot(df_stats['Training Loss'], 'b-o', label=\"Training\")\n",
    "plt.plot(df_stats['Valid. Loss'], 'g-o', label=\"Validation\")\n",
    "\n",
    "# Label the plot.\n",
    "plt.title(\"Training & Validation Loss\")\n",
    "plt.xlabel(\"Epoch\")\n",
    "plt.ylabel(\"Loss\")\n",
    "plt.legend()\n",
    "plt.xticks([1, 2, 3, 4])\n",
    "\n",
    "plt.show()"
   ]
  },
  {
   "cell_type": "markdown",
   "metadata": {
    "id": "1PsNQ4lTRQY6"
   },
   "source": [
    "### By using sentences I got a much better model."
   ]
  },
  {
   "cell_type": "markdown",
   "metadata": {
    "id": "bW1JVrui7rX5"
   },
   "source": [
    "### This experiment was run using newlines to segment the text before sending it into GPT2 tokenizer and Model."
   ]
  },
  {
   "cell_type": "code",
   "execution_count": 114,
   "metadata": {
    "colab": {
     "base_uri": "https://localhost:8080/",
     "height": 238
    },
    "id": "fIdRPGARkAEZ",
    "outputId": "d12e4258-bc31-4d87-d463-2628c2aff1f1"
   },
   "outputs": [
    {
     "data": {
      "text/html": [
       "\n",
       "  <div id=\"df-bfcad860-2832-4f6b-a657-d2a88872f5b3\">\n",
       "    <div class=\"colab-df-container\">\n",
       "      <div>\n",
       "<style scoped>\n",
       "    .dataframe tbody tr th:only-of-type {\n",
       "        vertical-align: middle;\n",
       "    }\n",
       "\n",
       "    .dataframe tbody tr th {\n",
       "        vertical-align: top;\n",
       "    }\n",
       "\n",
       "    .dataframe thead th {\n",
       "        text-align: right;\n",
       "    }\n",
       "</style>\n",
       "<table border=\"1\" class=\"dataframe\">\n",
       "  <thead>\n",
       "    <tr style=\"text-align: right;\">\n",
       "      <th></th>\n",
       "      <th>Training Loss</th>\n",
       "      <th>Valid. Loss</th>\n",
       "      <th>Training Time</th>\n",
       "      <th>Validation Time</th>\n",
       "    </tr>\n",
       "    <tr>\n",
       "      <th>epoch</th>\n",
       "      <th></th>\n",
       "      <th></th>\n",
       "      <th></th>\n",
       "      <th></th>\n",
       "    </tr>\n",
       "  </thead>\n",
       "  <tbody>\n",
       "    <tr>\n",
       "      <th>1</th>\n",
       "      <td>0.56</td>\n",
       "      <td>0.33</td>\n",
       "      <td>0:07:59</td>\n",
       "      <td>0:00:16</td>\n",
       "    </tr>\n",
       "    <tr>\n",
       "      <th>2</th>\n",
       "      <td>0.30</td>\n",
       "      <td>0.33</td>\n",
       "      <td>0:07:51</td>\n",
       "      <td>0:00:16</td>\n",
       "    </tr>\n",
       "    <tr>\n",
       "      <th>3</th>\n",
       "      <td>0.26</td>\n",
       "      <td>0.33</td>\n",
       "      <td>0:07:52</td>\n",
       "      <td>0:00:17</td>\n",
       "    </tr>\n",
       "    <tr>\n",
       "      <th>4</th>\n",
       "      <td>0.22</td>\n",
       "      <td>0.35</td>\n",
       "      <td>0:07:49</td>\n",
       "      <td>0:00:16</td>\n",
       "    </tr>\n",
       "    <tr>\n",
       "      <th>5</th>\n",
       "      <td>0.17</td>\n",
       "      <td>0.38</td>\n",
       "      <td>0:07:48</td>\n",
       "      <td>0:00:16</td>\n",
       "    </tr>\n",
       "  </tbody>\n",
       "</table>\n",
       "</div>\n",
       "      <button class=\"colab-df-convert\" onclick=\"convertToInteractive('df-bfcad860-2832-4f6b-a657-d2a88872f5b3')\"\n",
       "              title=\"Convert this dataframe to an interactive table.\"\n",
       "              style=\"display:none;\">\n",
       "        \n",
       "  <svg xmlns=\"http://www.w3.org/2000/svg\" height=\"24px\"viewBox=\"0 0 24 24\"\n",
       "       width=\"24px\">\n",
       "    <path d=\"M0 0h24v24H0V0z\" fill=\"none\"/>\n",
       "    <path d=\"M18.56 5.44l.94 2.06.94-2.06 2.06-.94-2.06-.94-.94-2.06-.94 2.06-2.06.94zm-11 1L8.5 8.5l.94-2.06 2.06-.94-2.06-.94L8.5 2.5l-.94 2.06-2.06.94zm10 10l.94 2.06.94-2.06 2.06-.94-2.06-.94-.94-2.06-.94 2.06-2.06.94z\"/><path d=\"M17.41 7.96l-1.37-1.37c-.4-.4-.92-.59-1.43-.59-.52 0-1.04.2-1.43.59L10.3 9.45l-7.72 7.72c-.78.78-.78 2.05 0 2.83L4 21.41c.39.39.9.59 1.41.59.51 0 1.02-.2 1.41-.59l7.78-7.78 2.81-2.81c.8-.78.8-2.07 0-2.86zM5.41 20L4 18.59l7.72-7.72 1.47 1.35L5.41 20z\"/>\n",
       "  </svg>\n",
       "      </button>\n",
       "      \n",
       "  <style>\n",
       "    .colab-df-container {\n",
       "      display:flex;\n",
       "      flex-wrap:wrap;\n",
       "      gap: 12px;\n",
       "    }\n",
       "\n",
       "    .colab-df-convert {\n",
       "      background-color: #E8F0FE;\n",
       "      border: none;\n",
       "      border-radius: 50%;\n",
       "      cursor: pointer;\n",
       "      display: none;\n",
       "      fill: #1967D2;\n",
       "      height: 32px;\n",
       "      padding: 0 0 0 0;\n",
       "      width: 32px;\n",
       "    }\n",
       "\n",
       "    .colab-df-convert:hover {\n",
       "      background-color: #E2EBFA;\n",
       "      box-shadow: 0px 1px 2px rgba(60, 64, 67, 0.3), 0px 1px 3px 1px rgba(60, 64, 67, 0.15);\n",
       "      fill: #174EA6;\n",
       "    }\n",
       "\n",
       "    [theme=dark] .colab-df-convert {\n",
       "      background-color: #3B4455;\n",
       "      fill: #D2E3FC;\n",
       "    }\n",
       "\n",
       "    [theme=dark] .colab-df-convert:hover {\n",
       "      background-color: #434B5C;\n",
       "      box-shadow: 0px 1px 3px 1px rgba(0, 0, 0, 0.15);\n",
       "      filter: drop-shadow(0px 1px 2px rgba(0, 0, 0, 0.3));\n",
       "      fill: #FFFFFF;\n",
       "    }\n",
       "  </style>\n",
       "\n",
       "      <script>\n",
       "        const buttonEl =\n",
       "          document.querySelector('#df-bfcad860-2832-4f6b-a657-d2a88872f5b3 button.colab-df-convert');\n",
       "        buttonEl.style.display =\n",
       "          google.colab.kernel.accessAllowed ? 'block' : 'none';\n",
       "\n",
       "        async function convertToInteractive(key) {\n",
       "          const element = document.querySelector('#df-bfcad860-2832-4f6b-a657-d2a88872f5b3');\n",
       "          const dataTable =\n",
       "            await google.colab.kernel.invokeFunction('convertToInteractive',\n",
       "                                                     [key], {});\n",
       "          if (!dataTable) return;\n",
       "\n",
       "          const docLinkHtml = 'Like what you see? Visit the ' +\n",
       "            '<a target=\"_blank\" href=https://colab.research.google.com/notebooks/data_table.ipynb>data table notebook</a>'\n",
       "            + ' to learn more about interactive tables.';\n",
       "          element.innerHTML = '';\n",
       "          dataTable['output_type'] = 'display_data';\n",
       "          await google.colab.output.renderOutput(dataTable, element);\n",
       "          const docLink = document.createElement('div');\n",
       "          docLink.innerHTML = docLinkHtml;\n",
       "          element.appendChild(docLink);\n",
       "        }\n",
       "      </script>\n",
       "    </div>\n",
       "  </div>\n",
       "  "
      ],
      "text/plain": [
       "       Training Loss  Valid. Loss Training Time Validation Time\n",
       "epoch                                                          \n",
       "1               0.56         0.33       0:07:59         0:00:16\n",
       "2               0.30         0.33       0:07:51         0:00:16\n",
       "3               0.26         0.33       0:07:52         0:00:17\n",
       "4               0.22         0.35       0:07:49         0:00:16\n",
       "5               0.17         0.38       0:07:48         0:00:16"
      ]
     },
     "execution_count": 114,
     "metadata": {},
     "output_type": "execute_result"
    }
   ],
   "source": [
    "# MINE Display floats with two decimal places.\n",
    "pd.set_option('precision', 2)\n",
    "\n",
    "# Create a DataFrame from our training statistics.\n",
    "df_stats = pd.DataFrame(data=training_stats)\n",
    "\n",
    "# Use the 'epoch' as the row index.\n",
    "df_stats = df_stats.set_index('epoch')\n",
    "\n",
    "# A hack to force the column headers to wrap.\n",
    "#df = df.style.set_table_styles([dict(selector=\"th\",props=[('max-width', '70px')])])\n",
    "\n",
    "# Display the table.\n",
    "df_stats"
   ]
  },
  {
   "cell_type": "code",
   "execution_count": 153,
   "metadata": {
    "colab": {
     "base_uri": "https://localhost:8080/",
     "height": 427
    },
    "id": "68xreA9JAmG5",
    "outputId": "10e8fffa-034e-44c9-ef4e-3f8f1a9c188d"
   },
   "outputs": [
    {
     "data": {
      "image/png": "[encoded data removed]",
      "text/plain": [
       "<Figure size 864x432 with 1 Axes>"
      ]
     },
     "metadata": {},
     "output_type": "display_data"
    }
   ],
   "source": [
    "# Example\n",
    "# Use plot styling from seaborn.\n",
    "sns.set(style='darkgrid')\n",
    "\n",
    "# Increase the plot size and font size.\n",
    "sns.set(font_scale=1.5)\n",
    "plt.rcParams[\"figure.figsize\"] = (12,6)\n",
    "\n",
    "# Plot the learning curve.\n",
    "plt.plot(df_stats['Training Loss'], 'b-o', label=\"Training\")\n",
    "plt.plot(df_stats['Valid. Loss'], 'g-o', label=\"Validation\")\n",
    "\n",
    "# Label the plot.\n",
    "plt.title(\"Training & Validation Loss\")\n",
    "plt.xlabel(\"Epoch\")\n",
    "plt.ylabel(\"Loss\")\n",
    "plt.legend()\n",
    "plt.xticks([1, 2, 3, 4])\n",
    "\n",
    "plt.show()"
   ]
  },
  {
   "cell_type": "code",
   "execution_count": 151,
   "metadata": {
    "colab": {
     "base_uri": "https://localhost:8080/",
     "height": 238
    },
    "id": "puUjv33Bizja",
    "outputId": "f85da619-7bfa-4fc5-99a2-3e4cf23a2933"
   },
   "outputs": [
    {
     "data": {
      "text/html": [
       "\n",
       "  <div id=\"df-9d2e581c-7325-44b7-889a-fc273469e7bf\">\n",
       "    <div class=\"colab-df-container\">\n",
       "      <div>\n",
       "<style scoped>\n",
       "    .dataframe tbody tr th:only-of-type {\n",
       "        vertical-align: middle;\n",
       "    }\n",
       "\n",
       "    .dataframe tbody tr th {\n",
       "        vertical-align: top;\n",
       "    }\n",
       "\n",
       "    .dataframe thead th {\n",
       "        text-align: right;\n",
       "    }\n",
       "</style>\n",
       "<table border=\"1\" class=\"dataframe\">\n",
       "  <thead>\n",
       "    <tr style=\"text-align: right;\">\n",
       "      <th></th>\n",
       "      <th>Training Loss</th>\n",
       "      <th>Valid. Loss</th>\n",
       "      <th>Training Time</th>\n",
       "      <th>Validation Time</th>\n",
       "    </tr>\n",
       "    <tr>\n",
       "      <th>epoch</th>\n",
       "      <th></th>\n",
       "      <th></th>\n",
       "      <th></th>\n",
       "      <th></th>\n",
       "    </tr>\n",
       "  </thead>\n",
       "  <tbody>\n",
       "    <tr>\n",
       "      <th>1</th>\n",
       "      <td>0.51</td>\n",
       "      <td>0.32</td>\n",
       "      <td>0:08:38</td>\n",
       "      <td>0:00:19</td>\n",
       "    </tr>\n",
       "    <tr>\n",
       "      <th>2</th>\n",
       "      <td>0.30</td>\n",
       "      <td>0.32</td>\n",
       "      <td>0:08:32</td>\n",
       "      <td>0:00:19</td>\n",
       "    </tr>\n",
       "    <tr>\n",
       "      <th>3</th>\n",
       "      <td>0.25</td>\n",
       "      <td>0.33</td>\n",
       "      <td>0:08:32</td>\n",
       "      <td>0:00:19</td>\n",
       "    </tr>\n",
       "    <tr>\n",
       "      <th>4</th>\n",
       "      <td>0.20</td>\n",
       "      <td>0.35</td>\n",
       "      <td>0:08:26</td>\n",
       "      <td>0:00:19</td>\n",
       "    </tr>\n",
       "    <tr>\n",
       "      <th>5</th>\n",
       "      <td>0.15</td>\n",
       "      <td>0.39</td>\n",
       "      <td>0:08:28</td>\n",
       "      <td>0:00:19</td>\n",
       "    </tr>\n",
       "  </tbody>\n",
       "</table>\n",
       "</div>\n",
       "      <button class=\"colab-df-convert\" onclick=\"convertToInteractive('df-9d2e581c-7325-44b7-889a-fc273469e7bf')\"\n",
       "              title=\"Convert this dataframe to an interactive table.\"\n",
       "              style=\"display:none;\">\n",
       "        \n",
       "  <svg xmlns=\"http://www.w3.org/2000/svg\" height=\"24px\"viewBox=\"0 0 24 24\"\n",
       "       width=\"24px\">\n",
       "    <path d=\"M0 0h24v24H0V0z\" fill=\"none\"/>\n",
       "    <path d=\"M18.56 5.44l.94 2.06.94-2.06 2.06-.94-2.06-.94-.94-2.06-.94 2.06-2.06.94zm-11 1L8.5 8.5l.94-2.06 2.06-.94-2.06-.94L8.5 2.5l-.94 2.06-2.06.94zm10 10l.94 2.06.94-2.06 2.06-.94-2.06-.94-.94-2.06-.94 2.06-2.06.94z\"/><path d=\"M17.41 7.96l-1.37-1.37c-.4-.4-.92-.59-1.43-.59-.52 0-1.04.2-1.43.59L10.3 9.45l-7.72 7.72c-.78.78-.78 2.05 0 2.83L4 21.41c.39.39.9.59 1.41.59.51 0 1.02-.2 1.41-.59l7.78-7.78 2.81-2.81c.8-.78.8-2.07 0-2.86zM5.41 20L4 18.59l7.72-7.72 1.47 1.35L5.41 20z\"/>\n",
       "  </svg>\n",
       "      </button>\n",
       "      \n",
       "  <style>\n",
       "    .colab-df-container {\n",
       "      display:flex;\n",
       "      flex-wrap:wrap;\n",
       "      gap: 12px;\n",
       "    }\n",
       "\n",
       "    .colab-df-convert {\n",
       "      background-color: #E8F0FE;\n",
       "      border: none;\n",
       "      border-radius: 50%;\n",
       "      cursor: pointer;\n",
       "      display: none;\n",
       "      fill: #1967D2;\n",
       "      height: 32px;\n",
       "      padding: 0 0 0 0;\n",
       "      width: 32px;\n",
       "    }\n",
       "\n",
       "    .colab-df-convert:hover {\n",
       "      background-color: #E2EBFA;\n",
       "      box-shadow: 0px 1px 2px rgba(60, 64, 67, 0.3), 0px 1px 3px 1px rgba(60, 64, 67, 0.15);\n",
       "      fill: #174EA6;\n",
       "    }\n",
       "\n",
       "    [theme=dark] .colab-df-convert {\n",
       "      background-color: #3B4455;\n",
       "      fill: #D2E3FC;\n",
       "    }\n",
       "\n",
       "    [theme=dark] .colab-df-convert:hover {\n",
       "      background-color: #434B5C;\n",
       "      box-shadow: 0px 1px 3px 1px rgba(0, 0, 0, 0.15);\n",
       "      filter: drop-shadow(0px 1px 2px rgba(0, 0, 0, 0.3));\n",
       "      fill: #FFFFFF;\n",
       "    }\n",
       "  </style>\n",
       "\n",
       "      <script>\n",
       "        const buttonEl =\n",
       "          document.querySelector('#df-9d2e581c-7325-44b7-889a-fc273469e7bf button.colab-df-convert');\n",
       "        buttonEl.style.display =\n",
       "          google.colab.kernel.accessAllowed ? 'block' : 'none';\n",
       "\n",
       "        async function convertToInteractive(key) {\n",
       "          const element = document.querySelector('#df-9d2e581c-7325-44b7-889a-fc273469e7bf');\n",
       "          const dataTable =\n",
       "            await google.colab.kernel.invokeFunction('convertToInteractive',\n",
       "                                                     [key], {});\n",
       "          if (!dataTable) return;\n",
       "\n",
       "          const docLinkHtml = 'Like what you see? Visit the ' +\n",
       "            '<a target=\"_blank\" href=https://colab.research.google.com/notebooks/data_table.ipynb>data table notebook</a>'\n",
       "            + ' to learn more about interactive tables.';\n",
       "          element.innerHTML = '';\n",
       "          dataTable['output_type'] = 'display_data';\n",
       "          await google.colab.output.renderOutput(dataTable, element);\n",
       "          const docLink = document.createElement('div');\n",
       "          docLink.innerHTML = docLinkHtml;\n",
       "          element.appendChild(docLink);\n",
       "        }\n",
       "      </script>\n",
       "    </div>\n",
       "  </div>\n",
       "  "
      ],
      "text/plain": [
       "       Training Loss  Valid. Loss Training Time Validation Time\n",
       "epoch                                                          \n",
       "1               0.51         0.32       0:08:38         0:00:19\n",
       "2               0.30         0.32       0:08:32         0:00:19\n",
       "3               0.25         0.33       0:08:32         0:00:19\n",
       "4               0.20         0.35       0:08:26         0:00:19\n",
       "5               0.15         0.39       0:08:28         0:00:19"
      ]
     },
     "execution_count": 151,
     "metadata": {},
     "output_type": "execute_result"
    }
   ],
   "source": [
    "df_stats2 = pd.DataFrame([[1,\t0.51,\t0.32,\t'0:08:38', '0:00:19'],\n",
    "      [2,\t0.30,\t0.32,\t'0:08:32', '0:00:19'],    \n",
    "      [3,\t0.25,\t0.33,\t'0:08:32', '0:00:19'],   \n",
    "      [4,\t0.20,\t0.35,\t'0:08:26', '0:00:19'],    \n",
    "      [5,\t0.15,\t0.39,\t'0:08:28',' 0:00:19']] , \n",
    "      columns=['epoch','Training Loss', 'Valid. Loss', 'Training Time', 'Validation Time'])\n",
    "\n",
    "df_stats2 = df_stats2.set_index('epoch')\n",
    "df_stats2"
   ]
  },
  {
   "cell_type": "code",
   "execution_count": 152,
   "metadata": {
    "colab": {
     "base_uri": "https://localhost:8080/",
     "height": 427
    },
    "id": "KcTshopXkNOJ",
    "outputId": "234116ad-af02-456e-cc68-82ac46ed8c8c"
   },
   "outputs": [
    {
     "data": {
      "image/png": "[encoded data removed]",
      "text/plain": [
       "<Figure size 864x432 with 1 Axes>"
      ]
     },
     "metadata": {},
     "output_type": "display_data"
    }
   ],
   "source": [
    "# Use plot styling from seaborn.\n",
    "sns.set(style='darkgrid')\n",
    "\n",
    "# Increase the plot size and font size.\n",
    "sns.set(font_scale=1.5)\n",
    "plt.rcParams[\"figure.figsize\"] = (12,6)\n",
    "\n",
    "# Plot the learning curve.\n",
    "plt.plot(df_stats2['Training Loss'], 'b-o', label=\"Training\")\n",
    "plt.plot(df_stats2['Valid. Loss'], 'g-o', label=\"Validation\")\n",
    "\n",
    "# Label the plot.\n",
    "plt.title(\"Training & Validation Loss\")\n",
    "plt.xlabel(\"Epoch\")\n",
    "plt.ylabel(\"Loss\")\n",
    "plt.legend()\n",
    "plt.xticks([1, 2, 3, 4])\n",
    "\n",
    "plt.show()"
   ]
  },
  {
   "cell_type": "markdown",
   "metadata": {
    "id": "GfjYoa6WmkN6"
   },
   "source": [
    "# Display Model Info"
   ]
  },
  {
   "cell_type": "code",
   "execution_count": 197,
   "metadata": {
    "colab": {
     "base_uri": "https://localhost:8080/"
    },
    "id": "EQ4X-oZukWpH",
    "outputId": "136901d6-6197-4b5f-ca3f-74553c05ea59"
   },
   "outputs": [
    {
     "name": "stdout",
     "output_type": "stream",
     "text": [
      "The GPT-2 model has 148 different named parameters.\n",
      "\n",
      "==== Embedding Layer ====\n",
      "\n",
      "transformer.wte.weight                                  (50259, 768)\n",
      "transformer.wpe.weight                                   (1024, 768)\n",
      "\n",
      "==== First Transformer ====\n",
      "\n",
      "transformer.h.0.ln_1.weight                                   (768,)\n",
      "transformer.h.0.ln_1.bias                                     (768,)\n",
      "transformer.h.0.attn.c_attn.weight                       (768, 2304)\n",
      "transformer.h.0.attn.c_attn.bias                             (2304,)\n",
      "transformer.h.0.attn.c_proj.weight                        (768, 768)\n",
      "transformer.h.0.attn.c_proj.bias                              (768,)\n",
      "transformer.h.0.ln_2.weight                                   (768,)\n",
      "transformer.h.0.ln_2.bias                                     (768,)\n",
      "transformer.h.0.mlp.c_fc.weight                          (768, 3072)\n",
      "transformer.h.0.mlp.c_fc.bias                                (3072,)\n",
      "transformer.h.0.mlp.c_proj.weight                        (3072, 768)\n",
      "transformer.h.0.mlp.c_proj.bias                               (768,)\n",
      "\n",
      "==== Output Layer ====\n",
      "\n",
      "transformer.ln_f.weight                                       (768,)\n",
      "transformer.ln_f.bias                                         (768,)\n"
     ]
    }
   ],
   "source": [
    "# Get all of the model's parameters as a list of tuples.\n",
    "params = list(model.named_parameters())\n",
    "\n",
    "print('The GPT-2 model has {:} different named parameters.\\n'.format(len(params)))\n",
    "\n",
    "print('==== Embedding Layer ====\\n')\n",
    "\n",
    "for p in params[0:2]:\n",
    "    print(\"{:<55} {:>12}\".format(p[0], str(tuple(p[1].size()))))\n",
    "\n",
    "print('\\n==== First Transformer ====\\n')\n",
    "\n",
    "for p in params[2:14]:\n",
    "    print(\"{:<55} {:>12}\".format(p[0], str(tuple(p[1].size()))))\n",
    "\n",
    "print('\\n==== Output Layer ====\\n')\n",
    "\n",
    "for p in params[-2:]:\n",
    "    print(\"{:<55} {:>12}\".format(p[0], str(tuple(p[1].size()))))"
   ]
  },
  {
   "cell_type": "markdown",
   "metadata": {
    "id": "q2079Qyn8Mt8"
   },
   "source": [
    "# Saving & Loading Fine-Tuned Model\n"
   ]
  },
  {
   "cell_type": "code",
   "execution_count": 198,
   "metadata": {
    "id": "mA_7b69-k9pq"
   },
   "outputs": [],
   "source": [
    "!cd '/content/drive/MyDrive/Colab Notebooks/CS_505_PA7/'"
   ]
  },
  {
   "cell_type": "code",
   "execution_count": 199,
   "metadata": {
    "colab": {
     "base_uri": "https://localhost:8080/"
    },
    "id": "6ulTWaOr8QNY",
    "outputId": "522f3b0c-158a-4cc7-c207-8559e33a6e80"
   },
   "outputs": [
    {
     "name": "stdout",
     "output_type": "stream",
     "text": [
      "Saving model to /content/drive/MyDrive/Colab Notebooks/CS_505_PA7/sent_model_save/\n"
     ]
    },
    {
     "data": {
      "text/plain": [
       "('/content/drive/MyDrive/Colab Notebooks/CS_505_PA7/sent_model_save/tokenizer_config.json',\n",
       " '/content/drive/MyDrive/Colab Notebooks/CS_505_PA7/sent_model_save/special_tokens_map.json',\n",
       " '/content/drive/MyDrive/Colab Notebooks/CS_505_PA7/sent_model_save/vocab.json',\n",
       " '/content/drive/MyDrive/Colab Notebooks/CS_505_PA7/sent_model_save/merges.txt',\n",
       " '/content/drive/MyDrive/Colab Notebooks/CS_505_PA7/sent_model_save/added_tokens.json')"
      ]
     },
     "execution_count": 199,
     "metadata": {},
     "output_type": "execute_result"
    }
   ],
   "source": [
    "# Saving best-practices: if you use defaults names for the model, you can reload it using from_pretrained()\n",
    "\n",
    "output_dir = '/content/drive/MyDrive/Colab Notebooks/CS_505_PA7/sent_model_save/'\n",
    "\n",
    "# Create output directory if needed\n",
    "if not os.path.exists(output_dir):\n",
    "    os.makedirs(output_dir)\n",
    "\n",
    "# Copy the model files to a directory in your Google Drive.\n",
    "print(\"Saving model to %s\" % output_dir)\n",
    "\n",
    "# Save a trained model, configuration and tokenizer using `save_pretrained()`.\n",
    "# They can then be reloaded using `from_pretrained()`\n",
    "model_to_save = model.module if hasattr(model, 'module') else model  # Take care of distributed/parallel training\n",
    "model_to_save.save_pretrained(output_dir)\n",
    "tokenizer.save_pretrained(output_dir)\n",
    "\n",
    "# Good practice: save your training arguments together with the trained model\n",
    "# torch.save(args, os.path.join(output_dir, 'training_args.bin'))\n"
   ]
  },
  {
   "cell_type": "code",
   "execution_count": 200,
   "metadata": {
    "colab": {
     "base_uri": "https://localhost:8080/"
    },
    "id": "mqMzI3VTCZo5",
    "outputId": "e88b8634-2763-4230-fcad-9101782a3891"
   },
   "outputs": [
    {
     "name": "stdout",
     "output_type": "stream",
     "text": [
      "total 499868K\n",
      "-rw------- 1 root root      1K Dec 28 05:48 added_tokens.json\n",
      "-rw------- 1 root root      1K Dec 28 05:48 config.json\n",
      "-rw------- 1 root root    446K Dec 28 05:48 merges.txt\n",
      "-rw------- 1 root root 498442K Dec 28 05:48 pytorch_model.bin\n",
      "-rw------- 1 root root      1K Dec 28 05:48 special_tokens_map.json\n",
      "-rw------- 1 root root      1K Dec 28 05:48 tokenizer_config.json\n",
      "-rw------- 1 root root    976K Dec 28 05:48 vocab.json\n"
     ]
    }
   ],
   "source": [
    "!ls -l --block-size=K ./sent_model_save/"
   ]
  },
  {
   "cell_type": "code",
   "execution_count": 201,
   "metadata": {
    "colab": {
     "base_uri": "https://localhost:8080/"
    },
    "id": "-WUFUIQ8Cu8D",
    "outputId": "26698642-54f3-496b-db97-c188a277e213"
   },
   "outputs": [
    {
     "name": "stdout",
     "output_type": "stream",
     "text": [
      "-rw------- 1 root root 487M Dec 28 05:48 '/content/drive/My Drive/Colab Notebooks/CS_505_PA7/sent_model_save/pytorch_model.bin'\n"
     ]
    }
   ],
   "source": [
    "!ls -l --block-size=M /content/drive/My\\ Drive/Colab\\ Notebooks/CS_505_PA7/sent_model_save/pytorch_model.bin"
   ]
  },
  {
   "cell_type": "code",
   "execution_count": 202,
   "metadata": {
    "colab": {
     "base_uri": "https://localhost:8080/"
    },
    "id": "NxlZsafTC-V5",
    "outputId": "42235e83-3cbf-4195-f2af-05bfd77de732"
   },
   "outputs": [
    {
     "data": {
      "text/plain": [
       "GPT2LMHeadModel(\n",
       "  (transformer): GPT2Model(\n",
       "    (wte): Embedding(50259, 768)\n",
       "    (wpe): Embedding(1024, 768)\n",
       "    (drop): Dropout(p=0.1, inplace=False)\n",
       "    (h): ModuleList(\n",
       "      (0): GPT2Block(\n",
       "        (ln_1): LayerNorm((768,), eps=1e-05, elementwise_affine=True)\n",
       "        (attn): GPT2Attention(\n",
       "          (c_attn): Conv1D()\n",
       "          (c_proj): Conv1D()\n",
       "          (attn_dropout): Dropout(p=0.1, inplace=False)\n",
       "          (resid_dropout): Dropout(p=0.1, inplace=False)\n",
       "        )\n",
       "        (ln_2): LayerNorm((768,), eps=1e-05, elementwise_affine=True)\n",
       "        (mlp): GPT2MLP(\n",
       "          (c_fc): Conv1D()\n",
       "          (c_proj): Conv1D()\n",
       "          (act): NewGELUActivation()\n",
       "          (dropout): Dropout(p=0.1, inplace=False)\n",
       "        )\n",
       "      )\n",
       "      (1): GPT2Block(\n",
       "        (ln_1): LayerNorm((768,), eps=1e-05, elementwise_affine=True)\n",
       "        (attn): GPT2Attention(\n",
       "          (c_attn): Conv1D()\n",
       "          (c_proj): Conv1D()\n",
       "          (attn_dropout): Dropout(p=0.1, inplace=False)\n",
       "          (resid_dropout): Dropout(p=0.1, inplace=False)\n",
       "        )\n",
       "        (ln_2): LayerNorm((768,), eps=1e-05, elementwise_affine=True)\n",
       "        (mlp): GPT2MLP(\n",
       "          (c_fc): Conv1D()\n",
       "          (c_proj): Conv1D()\n",
       "          (act): NewGELUActivation()\n",
       "          (dropout): Dropout(p=0.1, inplace=False)\n",
       "        )\n",
       "      )\n",
       "      (2): GPT2Block(\n",
       "        (ln_1): LayerNorm((768,), eps=1e-05, elementwise_affine=True)\n",
       "        (attn): GPT2Attention(\n",
       "          (c_attn): Conv1D()\n",
       "          (c_proj): Conv1D()\n",
       "          (attn_dropout): Dropout(p=0.1, inplace=False)\n",
       "          (resid_dropout): Dropout(p=0.1, inplace=False)\n",
       "        )\n",
       "        (ln_2): LayerNorm((768,), eps=1e-05, elementwise_affine=True)\n",
       "        (mlp): GPT2MLP(\n",
       "          (c_fc): Conv1D()\n",
       "          (c_proj): Conv1D()\n",
       "          (act): NewGELUActivation()\n",
       "          (dropout): Dropout(p=0.1, inplace=False)\n",
       "        )\n",
       "      )\n",
       "      (3): GPT2Block(\n",
       "        (ln_1): LayerNorm((768,), eps=1e-05, elementwise_affine=True)\n",
       "        (attn): GPT2Attention(\n",
       "          (c_attn): Conv1D()\n",
       "          (c_proj): Conv1D()\n",
       "          (attn_dropout): Dropout(p=0.1, inplace=False)\n",
       "          (resid_dropout): Dropout(p=0.1, inplace=False)\n",
       "        )\n",
       "        (ln_2): LayerNorm((768,), eps=1e-05, elementwise_affine=True)\n",
       "        (mlp): GPT2MLP(\n",
       "          (c_fc): Conv1D()\n",
       "          (c_proj): Conv1D()\n",
       "          (act): NewGELUActivation()\n",
       "          (dropout): Dropout(p=0.1, inplace=False)\n",
       "        )\n",
       "      )\n",
       "      (4): GPT2Block(\n",
       "        (ln_1): LayerNorm((768,), eps=1e-05, elementwise_affine=True)\n",
       "        (attn): GPT2Attention(\n",
       "          (c_attn): Conv1D()\n",
       "          (c_proj): Conv1D()\n",
       "          (attn_dropout): Dropout(p=0.1, inplace=False)\n",
       "          (resid_dropout): Dropout(p=0.1, inplace=False)\n",
       "        )\n",
       "        (ln_2): LayerNorm((768,), eps=1e-05, elementwise_affine=True)\n",
       "        (mlp): GPT2MLP(\n",
       "          (c_fc): Conv1D()\n",
       "          (c_proj): Conv1D()\n",
       "          (act): NewGELUActivation()\n",
       "          (dropout): Dropout(p=0.1, inplace=False)\n",
       "        )\n",
       "      )\n",
       "      (5): GPT2Block(\n",
       "        (ln_1): LayerNorm((768,), eps=1e-05, elementwise_affine=True)\n",
       "        (attn): GPT2Attention(\n",
       "          (c_attn): Conv1D()\n",
       "          (c_proj): Conv1D()\n",
       "          (attn_dropout): Dropout(p=0.1, inplace=False)\n",
       "          (resid_dropout): Dropout(p=0.1, inplace=False)\n",
       "        )\n",
       "        (ln_2): LayerNorm((768,), eps=1e-05, elementwise_affine=True)\n",
       "        (mlp): GPT2MLP(\n",
       "          (c_fc): Conv1D()\n",
       "          (c_proj): Conv1D()\n",
       "          (act): NewGELUActivation()\n",
       "          (dropout): Dropout(p=0.1, inplace=False)\n",
       "        )\n",
       "      )\n",
       "      (6): GPT2Block(\n",
       "        (ln_1): LayerNorm((768,), eps=1e-05, elementwise_affine=True)\n",
       "        (attn): GPT2Attention(\n",
       "          (c_attn): Conv1D()\n",
       "          (c_proj): Conv1D()\n",
       "          (attn_dropout): Dropout(p=0.1, inplace=False)\n",
       "          (resid_dropout): Dropout(p=0.1, inplace=False)\n",
       "        )\n",
       "        (ln_2): LayerNorm((768,), eps=1e-05, elementwise_affine=True)\n",
       "        (mlp): GPT2MLP(\n",
       "          (c_fc): Conv1D()\n",
       "          (c_proj): Conv1D()\n",
       "          (act): NewGELUActivation()\n",
       "          (dropout): Dropout(p=0.1, inplace=False)\n",
       "        )\n",
       "      )\n",
       "      (7): GPT2Block(\n",
       "        (ln_1): LayerNorm((768,), eps=1e-05, elementwise_affine=True)\n",
       "        (attn): GPT2Attention(\n",
       "          (c_attn): Conv1D()\n",
       "          (c_proj): Conv1D()\n",
       "          (attn_dropout): Dropout(p=0.1, inplace=False)\n",
       "          (resid_dropout): Dropout(p=0.1, inplace=False)\n",
       "        )\n",
       "        (ln_2): LayerNorm((768,), eps=1e-05, elementwise_affine=True)\n",
       "        (mlp): GPT2MLP(\n",
       "          (c_fc): Conv1D()\n",
       "          (c_proj): Conv1D()\n",
       "          (act): NewGELUActivation()\n",
       "          (dropout): Dropout(p=0.1, inplace=False)\n",
       "        )\n",
       "      )\n",
       "      (8): GPT2Block(\n",
       "        (ln_1): LayerNorm((768,), eps=1e-05, elementwise_affine=True)\n",
       "        (attn): GPT2Attention(\n",
       "          (c_attn): Conv1D()\n",
       "          (c_proj): Conv1D()\n",
       "          (attn_dropout): Dropout(p=0.1, inplace=False)\n",
       "          (resid_dropout): Dropout(p=0.1, inplace=False)\n",
       "        )\n",
       "        (ln_2): LayerNorm((768,), eps=1e-05, elementwise_affine=True)\n",
       "        (mlp): GPT2MLP(\n",
       "          (c_fc): Conv1D()\n",
       "          (c_proj): Conv1D()\n",
       "          (act): NewGELUActivation()\n",
       "          (dropout): Dropout(p=0.1, inplace=False)\n",
       "        )\n",
       "      )\n",
       "      (9): GPT2Block(\n",
       "        (ln_1): LayerNorm((768,), eps=1e-05, elementwise_affine=True)\n",
       "        (attn): GPT2Attention(\n",
       "          (c_attn): Conv1D()\n",
       "          (c_proj): Conv1D()\n",
       "          (attn_dropout): Dropout(p=0.1, inplace=False)\n",
       "          (resid_dropout): Dropout(p=0.1, inplace=False)\n",
       "        )\n",
       "        (ln_2): LayerNorm((768,), eps=1e-05, elementwise_affine=True)\n",
       "        (mlp): GPT2MLP(\n",
       "          (c_fc): Conv1D()\n",
       "          (c_proj): Conv1D()\n",
       "          (act): NewGELUActivation()\n",
       "          (dropout): Dropout(p=0.1, inplace=False)\n",
       "        )\n",
       "      )\n",
       "      (10): GPT2Block(\n",
       "        (ln_1): LayerNorm((768,), eps=1e-05, elementwise_affine=True)\n",
       "        (attn): GPT2Attention(\n",
       "          (c_attn): Conv1D()\n",
       "          (c_proj): Conv1D()\n",
       "          (attn_dropout): Dropout(p=0.1, inplace=False)\n",
       "          (resid_dropout): Dropout(p=0.1, inplace=False)\n",
       "        )\n",
       "        (ln_2): LayerNorm((768,), eps=1e-05, elementwise_affine=True)\n",
       "        (mlp): GPT2MLP(\n",
       "          (c_fc): Conv1D()\n",
       "          (c_proj): Conv1D()\n",
       "          (act): NewGELUActivation()\n",
       "          (dropout): Dropout(p=0.1, inplace=False)\n",
       "        )\n",
       "      )\n",
       "      (11): GPT2Block(\n",
       "        (ln_1): LayerNorm((768,), eps=1e-05, elementwise_affine=True)\n",
       "        (attn): GPT2Attention(\n",
       "          (c_attn): Conv1D()\n",
       "          (c_proj): Conv1D()\n",
       "          (attn_dropout): Dropout(p=0.1, inplace=False)\n",
       "          (resid_dropout): Dropout(p=0.1, inplace=False)\n",
       "        )\n",
       "        (ln_2): LayerNorm((768,), eps=1e-05, elementwise_affine=True)\n",
       "        (mlp): GPT2MLP(\n",
       "          (c_fc): Conv1D()\n",
       "          (c_proj): Conv1D()\n",
       "          (act): NewGELUActivation()\n",
       "          (dropout): Dropout(p=0.1, inplace=False)\n",
       "        )\n",
       "      )\n",
       "    )\n",
       "    (ln_f): LayerNorm((768,), eps=1e-05, elementwise_affine=True)\n",
       "  )\n",
       "  (lm_head): Linear(in_features=768, out_features=50259, bias=False)\n",
       ")"
      ]
     },
     "execution_count": 202,
     "metadata": {},
     "output_type": "execute_result"
    }
   ],
   "source": [
    "# Load a trained model and vocabulary that you have fine-tuned\n",
    "model = GPT2LMHeadModel.from_pretrained(output_dir)\n",
    "tokenizer = GPT2Tokenizer.from_pretrained(output_dir)\n",
    "model.to(device)"
   ]
  },
  {
   "cell_type": "markdown",
   "metadata": {
    "id": "ZLf6rbRglYhQ"
   },
   "source": [
    "# Generate Text"
   ]
  },
  {
   "cell_type": "markdown",
   "metadata": {
    "id": "YVNk0HBWSQ8m"
   },
   "source": [
    "### Sentence trained version"
   ]
  },
  {
   "cell_type": "code",
   "execution_count": 203,
   "metadata": {
    "colab": {
     "base_uri": "https://localhost:8080/"
    },
    "id": "FyR-1_oWR_YU",
    "outputId": "e94c8cd8-7603-4811-b084-f085d3ca5888"
   },
   "outputs": [
    {
     "name": "stdout",
     "output_type": "stream",
     "text": [
      "tensor([[50257]], device='cuda:0')\n",
      "0: \" yes, very agreeable. \" \n",
      "\n",
      "\n",
      "1: \" yes, sir. \" \n",
      "\n",
      "\n",
      "2: \" i have written to colonel forster to desire him to find out, if possible, from some of the young man's intimates in the regiment, whether wickham has any relations or connections who would be likely to know in what part of town he has now concealed himself. if there were anyone that one could apply to with a probability of gaining such a clue as that, it might be of essential consequence. at present we have nothing to guide us. colonel forster will, i dare say, do everything in his power to satisfy us on this head. \n",
      "\n",
      "\n"
     ]
    }
   ],
   "source": [
    "model.eval()\n",
    "\n",
    "prompt = \"<|startoftext|>\"\n",
    "\n",
    "generated = torch.tensor(tokenizer.encode(prompt)).unsqueeze(0)\n",
    "generated = generated.to(device)\n",
    "\n",
    "print(generated)\n",
    "\n",
    "sample_outputs = model.generate(\n",
    "                                generated, \n",
    "                                bos_token_id=random.randint(1,30000),\n",
    "                                do_sample=True,   \n",
    "                                top_k=50, \n",
    "                                max_length = 300,\n",
    "                                top_p=0.95, \n",
    "                                num_return_sequences=3\n",
    "                                )\n",
    "\n",
    "for i, sample_output in enumerate(sample_outputs):\n",
    "  print(\"{}: {}\\n\\n\".format(i, tokenizer.decode(sample_output, skip_special_tokens=True)))"
   ]
  },
  {
   "cell_type": "markdown",
   "metadata": {
    "id": "dnne9EO7SU0j"
   },
   "source": [
    "### Newline break out of text"
   ]
  },
  {
   "cell_type": "code",
   "execution_count": 163,
   "metadata": {
    "colab": {
     "base_uri": "https://localhost:8080/"
    },
    "id": "v4XhewaV93-_",
    "outputId": "6126654a-f094-467d-b459-1302d7db51d4"
   },
   "outputs": [
    {
     "name": "stdout",
     "output_type": "stream",
     "text": [
      "tensor([[50257]], device='cuda:0')\n",
      "0: Jane soon had enough to say in her answer.\n",
      "\n",
      "\n",
      "1: Elizabeth assured her with real sorrow that she was. \"I could not bear to think her mother's ill; but there were two or three tears in the room upstairs.\"\n",
      "\n",
      "\n",
      "2: Mr. Bennet, though disconcerted by her approach, and unwilling to give her a formal answer, said very stiffly:\n",
      "\n",
      "\n"
     ]
    }
   ],
   "source": [
    "model.eval()\n",
    "\n",
    "prompt = \"<|startoftext|>\"\n",
    "\n",
    "generated = torch.tensor(tokenizer.encode(prompt)).unsqueeze(0)\n",
    "generated = generated.to(device)\n",
    "\n",
    "print(generated)\n",
    "\n",
    "sample_outputs = model.generate(\n",
    "                                generated, \n",
    "                                bos_token_id=random.randint(1,30000),\n",
    "                                do_sample=True,   \n",
    "                                top_k=50, \n",
    "                                max_length = 300,\n",
    "                                top_p=0.95, \n",
    "                                num_return_sequences=3\n",
    "                                )\n",
    "\n",
    "for i, sample_output in enumerate(sample_outputs):\n",
    "  print(\"{}: {}\\n\\n\".format(i, tokenizer.decode(sample_output, skip_special_tokens=True)))"
   ]
  },
  {
   "cell_type": "markdown",
   "metadata": {
    "id": "t4LrX5H-0nAU"
   },
   "source": [
    "These aren't bad at all! Now train the model on your chosen raw text that is roughly comparable in size to pride and prejudice. \n",
    "\n",
    "(5 pts) Draw a figure for tracking train and validation losses. \n",
    "\n",
    "(5 pts) Print out some sample text from your chosen data and report 10 example generations that you think are interesting! Do your examples look like your training text?\n"
   ]
  },
  {
   "cell_type": "markdown",
   "metadata": {
    "id": "-LRDJV1_h735"
   },
   "source": [
    "> YOUR ANSWER HERE  -"
   ]
  },
  {
   "cell_type": "markdown",
   "source": [
    "## MY ANSWER\n",
    "\n",
    "Using the Game of Thrones script, I selected a small section of the first episodes which was about the same size as pride and prejudice."
   ],
   "metadata": {
    "collapsed": false
   }
  },
  {
   "cell_type": "code",
   "execution_count": 16,
   "outputs": [
    {
     "name": "stdout",
     "output_type": "stream",
     "text": [
      "['It is a truth universally acknowledged, that a single man in possession of a good fortune, must be in want of a wife.', 'However little known the feelings or views of such a man may be on his first entering a neighbourhood, this truth is so well fixed in the minds of the surrounding families, that he is considered the rightful property of some one or other of their daughters.', '\"My dear Mr. Bennet,\" said his lady to him one day, \"have you heard that Netherfield Park is let at last?\"', 'Mr. Bennet replied that he had not.', '\"But it is,\" returned she; \"for Mrs. Long has just been here, and she told me all about it.\"']\n",
      "[\"What do you expect? They're savages. One lot steals a goat from another lot and before you know it, they're ripping each other to pieces.\", \"I've never seen wildlings do a thing like this. I've never seen a thing like this, not ever in my life.\", 'How close did you get?', 'Close as any man would.', 'We should head back to the wall.']\n"
     ]
    },
    {
     "data": {
      "text/plain": "2063"
     },
     "execution_count": 16,
     "metadata": {},
     "output_type": "execute_result"
    }
   ],
   "source": [
    "# files = filename=['/content/drive/MyDrive/Colab Notebooks/CS_505_PA7/prideAndPrejudice.txt',\n",
    "#                   '/content/drive/MyDrive/Colab Notebooks/CS_505_PA7/Game_of_Thrones_Script_new.csv'\n",
    "files = filename=['./prideAndPrejudice.txt',\n",
    "                  './Game_of_Thrones_Script_new.csv'\n",
    "                  ]\n",
    "files[1]\n",
    "\n",
    "# docs= read_docs(files,0,True)\n",
    "got_docs= read_docs(files,1,False)\n",
    "got_docs= got_docs[:len(docs)]\n",
    "\n",
    "len(got_docs)"
   ],
   "metadata": {
    "collapsed": false
   }
  },
  {
   "cell_type": "code",
   "execution_count": 17,
   "outputs": [
    {
     "name": "stderr",
     "output_type": "stream",
     "text": [
      "/var/folders/r3/znh92ysd4vbgxhnfwfl_c0lr0000gn/T/ipykernel_12356/3412140581.py:26: UserWarning: \n",
      "\n",
      "`distplot` is a deprecated function and will be removed in seaborn v0.14.0.\n",
      "\n",
      "Please adapt your code to use either `displot` (a figure-level function with\n",
      "similar flexibility) or `histplot` (an axes-level function for histograms).\n",
      "\n",
      "For a guide to updating your code to use the new functions, please see\n",
      "https://gist.github.com/mwaskom/de44147ed2974457ad6372750bbe5751\n",
      "\n",
      "  sns.distplot(doc_lengths)\n"
     ]
    },
    {
     "data": {
      "text/plain": "<Figure size 640x480 with 1 Axes>",
      "image/png": "[encoded data removed]"
     },
     "metadata": {},
     "output_type": "display_data"
    }
   ],
   "source": [
    "\n",
    "got_doc_lengths = density_plot(got_docs)\n",
    "# getty_doc_lengths = density_plot(getty_docs)"
   ],
   "metadata": {
    "collapsed": false
   }
  },
  {
   "cell_type": "code",
   "execution_count": 18,
   "outputs": [
    {
     "name": "stdout",
     "output_type": "stream",
     "text": [
      "Max token length greater than 768: 0.0, \n",
      "average length of sentence: 15.652932622394571\n"
     ]
    }
   ],
   "source": [
    "print(f'Max token length greater than 768: {len(got_doc_lengths[got_doc_lengths > 768])/len(got_doc_lengths)}, \\naverage length of sentence: {np.average(got_doc_lengths)}')"
   ],
   "metadata": {
    "collapsed": false
   }
  },
  {
   "cell_type": "code",
   "execution_count": 19,
   "outputs": [
    {
     "name": "stderr",
     "output_type": "stream",
     "text": [
      "Special tokens have been added in the vocabulary, make sure the associated word embeddings are fine-tuned or trained.\n"
     ]
    }
   ],
   "source": [
    "# Load the GPT tokenizer.\n",
    "tokenizer = GPT2Tokenizer.from_pretrained('gpt2', bos_token='<|startoftext|>', eos_token='<|endoftext|>', pad_token='<|pad|>') #gpt2-medium"
   ],
   "metadata": {
    "collapsed": false
   }
  },
  {
   "cell_type": "code",
   "execution_count": 20,
   "outputs": [
    {
     "name": "stdout",
     "output_type": "stream",
     "text": [
      "The max model length is 1024 for this model, although the actual embedding size for GPT small is 768\n",
      "The beginning of sequence token <|startoftext|> token has the id 50257\n",
      "The end of sequence token <|endoftext|> has the id 50256\n",
      "The padding token <|pad|> has the id 50258\n"
     ]
    }
   ],
   "source": [
    "print(\"The max model length is {} for this model, although the actual embedding size for GPT small is 768\".format(tokenizer.model_max_length))\n",
    "print(\"The beginning of sequence token {} token has the id {}\".format(tokenizer.convert_ids_to_tokens(tokenizer.bos_token_id), tokenizer.bos_token_id))\n",
    "print(\"The end of sequence token {} has the id {}\".format(tokenizer.convert_ids_to_tokens(tokenizer.eos_token_id), tokenizer.eos_token_id))\n",
    "print(\"The padding token {} has the id {}\".format(tokenizer.convert_ids_to_tokens(tokenizer.pad_token_id), tokenizer.pad_token_id))"
   ],
   "metadata": {
    "collapsed": false
   }
  },
  {
   "cell_type": "code",
   "execution_count": 21,
   "outputs": [
    {
     "name": "stdout",
     "output_type": "stream",
     "text": [
      "1,856 training samples\n",
      "  207 validation samples\n"
     ]
    }
   ],
   "source": [
    "# Create new data loaders\n",
    "batch_size = 2\n",
    "\n",
    "dataset = GPT2Dataset(got_docs, tokenizer, max_length=768)\n",
    "\n",
    "# Split into training and validation sets\n",
    "train_size = int(0.9 * len(dataset))\n",
    "val_size = len(dataset) - train_size\n",
    "\n",
    "train_dataset, val_dataset = random_split(dataset, [train_size, val_size])\n",
    "\n",
    "print('{:>5,} training samples'.format(train_size))\n",
    "print('{:>5,} validation samples'.format(val_size))"
   ],
   "metadata": {
    "collapsed": false
   }
  },
  {
   "cell_type": "code",
   "execution_count": 22,
   "outputs": [],
   "source": [
    "# Create the DataLoaders for our training and validation datasets.\n",
    "# We'll take training samples in random order.\n",
    "train_dataloader = DataLoader(\n",
    "            train_dataset,  # The training samples.\n",
    "            sampler = RandomSampler(train_dataset), # Select batches randomly\n",
    "            batch_size = batch_size # Trains with this batch size.\n",
    "        )\n",
    "\n",
    "# For validation the order doesn't matter, so we'll just read them sequentially.\n",
    "validation_dataloader = DataLoader(\n",
    "            val_dataset, # The validation samples.\n",
    "            sampler = SequentialSampler(val_dataset), # Pull out batches sequentially.\n",
    "            batch_size = batch_size # Evaluate with this batch size.\n",
    "        )"
   ],
   "metadata": {
    "collapsed": false
   }
  },
  {
   "cell_type": "code",
   "execution_count": 23,
   "outputs": [],
   "source": [
    "# I'm not really doing anything with the config buheret\n",
    "configuration = GPT2Config.from_pretrained('gpt2', output_hidden_states=False, pad_token_id=tokenizer.pad_token_id )\n",
    "\n",
    "# instantiate the model\n",
    "model = GPT2LMHeadModel.from_pretrained(\"gpt2\", config=configuration)\n",
    "\n",
    "# this step is necessary because I've added some tokens (bos_token, etc) to the embeddings\n",
    "# otherwise the tokenizer and model tensors won't match up\n",
    "model.resize_token_embeddings(len(tokenizer))\n",
    "\n",
    "# Tell pytorch to run this model on the GPU.\n",
    "# device = torch.device(\"cuda\")\n",
    "# model.cuda()\n",
    "model #.to(device)\n",
    "\n",
    "# Set the seed value all over the place to make this reproducible.\n",
    "seed_val = 42\n",
    "\n",
    "random.seed(seed_val)\n",
    "np.random.seed(seed_val)\n",
    "torch.manual_seed(seed_val)\n",
    "torch.cuda.manual_seed_all(seed_val)"
   ],
   "metadata": {
    "collapsed": false
   }
  },
  {
   "cell_type": "code",
   "execution_count": 24,
   "outputs": [
    {
     "name": "stderr",
     "output_type": "stream",
     "text": [
      "/Users/mwh/PycharmProjects/pythonProject/venv/lib/python3.9/site-packages/transformers/optimization.py:306: FutureWarning: This implementation of AdamW is deprecated and will be removed in a future version. Use the PyTorch implementation torch.optim.AdamW instead, or set `no_deprecation_warning=True` to disable this warning\n",
      "  warnings.warn(\n"
     ]
    }
   ],
   "source": [
    "# some parameters I cooked up that work reasonably well\n",
    "\n",
    "epochs = 5\n",
    "learning_rate = 5e-4\n",
    "warmup_steps = 1e2\n",
    "epsilon = 1e-8\n",
    "\n",
    "# this produces sample output every 100 steps\n",
    "sample_every = 100\n",
    "\n",
    "optimizer = AdamW(model.parameters(),\n",
    "                  lr = learning_rate,\n",
    "                  eps = epsilon\n",
    "                )\n",
    "\n",
    "# Total number of training steps is [number of batches] x [number of epochs].\n",
    "# (Note that this is not the same as the number of training samples).\n",
    "total_steps = len(train_dataloader) * epochs\n",
    "\n",
    "# Create the learning rate scheduler.\n",
    "# This changes the learning rate as the training loop progresses\n",
    "scheduler = get_linear_schedule_with_warmup(optimizer,\n",
    "                                            num_warmup_steps = warmup_steps,\n",
    "                                            num_training_steps = total_steps)"
   ],
   "metadata": {
    "collapsed": false
   }
  },
  {
   "cell_type": "code",
   "execution_count": 25,
   "outputs": [
    {
     "name": "stdout",
     "output_type": "stream",
     "text": [
      "\n",
      "======== Epoch 1 / 5 ========\n",
      "Training...\n",
      "  Batch   100  of    928. Loss: 0.045271921902894974.   Elapsed: 0:05:02.\n",
      "0:  bipartisanThe law of it will make all of the people, at the law of your husband. I know that I am talking about one thing.\n",
      "  Batch   200  of    928. Loss: 0.07716172933578491.   Elapsed: 0:10:03.\n",
      "0:  increasingThe title of this council is me, my father is going to have a family... A boy! You're a family.\n",
      "  Batch   300  of    928. Loss: 0.08584555238485336.   Elapsed: 0:15:03.\n",
      "0: dayAye.\n",
      "  Batch   400  of    928. Loss: 0.6756883263587952.   Elapsed: 0:20:03.\n",
      "0:  HangYou're doing great work, Ben.\n",
      "  Batch   500  of    928. Loss: 0.2853453755378723.   Elapsed: 0:25:04.\n",
      "0:  foodsArya.\n",
      "  Batch   600  of    928. Loss: 0.1586478352546692.   Elapsed: 0:30:04.\n",
      "0:  trailIf you're with the Kings - and what is the meaning of the last line?\n",
      "  Batch   700  of    928. Loss: 0.11679034680128098.   Elapsed: 0:35:04.\n",
      "0: intendAnd I know not.\n",
      "  Batch   800  of    928. Loss: 0.0815797820687294.   Elapsed: 0:40:04.\n",
      "0:  surroundThis is not the King. My sister is not a slave.\n",
      "  Batch   900  of    928. Loss: 0.15475915372371674.   Elapsed: 0:45:03.\n",
      "0:  reflexWell, I'm sorry about that. I was taken in by Lady Stark. I'm sure I was always a pretty girl with tits and tits and lots of holes and big tits and lots of big tits and big tits to accommodate you all. My mother was never able to accommodate his size. What I am telling you is not a bit of cock but an almost belly?\n",
      "\n",
      "  Average training loss: 0.17\n",
      "  Training epoch took: 0:46:28\n",
      "\n",
      "Running Validation...\n",
      "  Validation Loss: 0.07\n",
      "  Validation took: 0:01:21\n",
      "\n",
      "======== Epoch 2 / 5 ========\n",
      "Training...\n",
      "  Batch   100  of    928. Loss: 0.03519320487976074.   Elapsed: 0:05:01.\n",
      "0:  displayThe Hand was also brought to life, your Grace, by Lord Stark, the last of the Hand's great thieves, Robert Baratheon, the last of his own sons and daughters. The Hand came to visit your father on your behalf, but now it is the day he died...\n",
      "  Batch   200  of    928. Loss: 0.22139136493206024.   Elapsed: 0:10:02.\n",
      "0:  pastorAll the people who were fighting for you.\n",
      "  Batch   300  of    928. Loss: 0.09914465993642807.   Elapsed: 0:15:01.\n",
      "0:  illicitArya, please don't.\n",
      "  Batch   400  of    928. Loss: 0.05657783895730972.   Elapsed: 0:20:00.\n",
      "0:  LiberationDo you know why the people chose you?\n",
      "  Batch   500  of    928. Loss: 0.02748161181807518.   Elapsed: 0:24:58.\n",
      "0:  NamThis is what you've done, my lord. You've been too stupid to understand and you still aren't sure if you want your father back now.\n",
      "  Batch   600  of    928. Loss: 0.05111237242817879.   Elapsed: 0:29:57.\n",
      "0: IONThe queen has turned her face into a lion.\n",
      "  Batch   700  of    928. Loss: 0.08841230720281601.   Elapsed: 0:34:55.\n",
      "0:  glimpseIt's not like that.\n",
      "  Batch   800  of    928. Loss: 0.0559534914791584.   Elapsed: 0:39:54.\n",
      "0:  LaureIt was a wild affair. But you'd never walk again.\n",
      "  Batch   900  of    928. Loss: 0.08242017775774002.   Elapsed: 0:44:53.\n",
      "0: ismYou have my blood. I'm the King's Hand. Now you want me to murder my son, Ned. We need to talk.\n",
      "\n",
      "  Average training loss: 0.07\n",
      "  Training epoch took: 0:46:15\n",
      "\n",
      "Running Validation...\n",
      "  Validation Loss: 0.08\n",
      "  Validation took: 0:01:21\n",
      "\n",
      "======== Epoch 3 / 5 ========\n",
      "Training...\n",
      "  Batch   100  of    928. Loss: 0.059403881430625916.   Elapsed: 0:05:01.\n",
      "0: ounOh, wait. What are you doing here?\n",
      "  Batch   200  of    928. Loss: 0.05381014943122864.   Elapsed: 0:10:00.\n",
      "0:  electionI hear so.\n",
      "  Batch   300  of    928. Loss: 0.027708204463124275.   Elapsed: 0:14:58.\n",
      "0:  crazyI've been practicing a lot over there since you last saw me. You said you were being good.\n",
      "  Batch   400  of    928. Loss: 0.10373298823833466.   Elapsed: 0:19:58.\n",
      "0:  benchWhat?\n",
      "  Batch   500  of    928. Loss: 0.0818726196885109.   Elapsed: 0:24:58.\n",
      "0:  incorporatedThe city is full.\n",
      "  Batch   600  of    928. Loss: 0.028487134724855423.   Elapsed: 0:29:57.\n",
      "0: PeterMy dear lord, my Lady. Your sister will be having a visit. I beg you, Lady Stark, to help me with my travel.\n",
      "  Batch   700  of    928. Loss: 0.0277921911329031.   Elapsed: 0:34:55.\n",
      "0: uringWe'll make it happen.\n",
      "  Batch   800  of    928. Loss: 0.056804705411195755.   Elapsed: 0:39:51.\n",
      "0:  reproductiveNot enough of this! I'm not your boy anymore! Go on! Put the blade on me! Keep practicing! You're starting to get tired. That wasn't the summer! That wasn't summer. I was coming to see my father.\n",
      "  Batch   900  of    928. Loss: 0.11826629936695099.   Elapsed: 0:44:48.\n",
      "0:  zoneAnd what if he's wrong? We're not speaking of Ser Gregor...\n",
      "\n",
      "  Average training loss: 0.06\n",
      "  Training epoch took: 0:46:11\n",
      "\n",
      "Running Validation...\n",
      "  Validation Loss: 0.08\n",
      "  Validation took: 0:01:21\n",
      "\n",
      "======== Epoch 4 / 5 ========\n",
      "Training...\n",
      "  Batch   100  of    928. Loss: 0.016102053225040436.   Elapsed: 0:04:59.\n",
      "0:  commitsI don't trust them to do it. I trust them to do it.\n",
      "  Batch   200  of    928. Loss: 0.0271990355104208.   Elapsed: 0:10:00.\n",
      "0:  ironyHe still likes to do that when you're looking for a match with a girl.\n",
      "  Batch   300  of    928. Loss: 0.047344133257865906.   Elapsed: 0:15:02.\n",
      "0:  SahI have been practicing this for a month.\n",
      "  Batch   400  of    928. Loss: 0.046613361686468124.   Elapsed: 0:20:08.\n",
      "0:  BryanOh, your Grace, how much did Jon Arryn drink?\n",
      "  Batch   500  of    928. Loss: 0.03171553835272789.   Elapsed: 0:25:10.\n",
      "0:  spiritsOh, we have three stables. Fifty thousand barrels of ale from these barrels of ale from the Riverlands. I demand that you deliver these barrels to me.\n",
      "  Batch   600  of    928. Loss: 0.013965717516839504.   Elapsed: 0:30:13.\n",
      "0:  seesI'm not thirsty.\n",
      "  Batch   700  of    928. Loss: 0.03893030062317848.   Elapsed: 0:35:11.\n",
      "0:  hungryIf not, your Grace. Magister Illyrio will let us both go. I hear it concerns us, my Lord. Everyman is as much concerned with our health and safety as they are with their lives. Now here we sit, seventeen years later, holding still.\n",
      "  Batch   800  of    928. Loss: 0.04132451117038727.   Elapsed: 0:40:06.\n",
      "0:  PTI want them all dead. I want them all to go away. I can't stand the wailing of women.\n",
      "  Batch   900  of    928. Loss: 0.018708471208810806.   Elapsed: 0:45:04.\n",
      "0: üI'm not here to give you back your homes or restore your dead to life.\n",
      "\n",
      "  Average training loss: 0.04\n",
      "  Training epoch took: 0:46:26\n",
      "\n",
      "Running Validation...\n",
      "  Validation Loss: 0.09\n",
      "  Validation took: 0:01:20\n",
      "\n",
      "======== Epoch 5 / 5 ========\n",
      "Training...\n",
      "  Batch   100  of    928. Loss: 0.049612198024988174.   Elapsed: 0:05:00.\n",
      "0: ruceI saw them. The Imp was crazed with the wolves.\n",
      "  Batch   200  of    928. Loss: 0.02649920992553234.   Elapsed: 0:09:57.\n",
      "0:  derivativesThis tournament is called Needle. And we carry a token of his esteem from Lord Stark.\n",
      "  Batch   300  of    928. Loss: 0.03052724152803421.   Elapsed: 0:14:53.\n",
      "0: \u0019The King rides well.\n",
      "  Batch   400  of    928. Loss: 0.04616786539554596.   Elapsed: 0:19:48.\n",
      "0:  rememberingI didn't touch a thing for three years, Lord. But now I'm going to get a hold of some of his men and start breeding.\n",
      "  Batch   500  of    928. Loss: 0.029593873769044876.   Elapsed: 0:24:42.\n",
      "0:  SourcesAye.\n",
      "  Batch   600  of    928. Loss: 0.035066619515419006.   Elapsed: 0:29:37.\n",
      "0: emsI'm speaking of myself.\n",
      "  Batch   700  of    928. Loss: 0.02663484588265419.   Elapsed: 0:34:32.\n",
      "0: tzI was taken at my command to answer for what I had done to Joffrey. When I was brought before the King and Queen, my father asked me to do what he asked. I told him I wanted to do what I could. He asked me to do what I wanted, which I very much did.\n",
      "  Batch   800  of    928. Loss: 0.01767195202410221.   Elapsed: 0:39:29.\n",
      "0: maticThe Hound killed your friend.\n",
      "  Batch   900  of    928. Loss: 0.03024100698530674.   Elapsed: 0:44:25.\n",
      "0:  syndBut he's coming right now. We're at war. And it's only fitting that Ned Stark should have his head when fighting happens.\n",
      "\n",
      "  Average training loss: 0.03\n",
      "  Training epoch took: 0:45:47\n",
      "\n",
      "Running Validation...\n",
      "  Validation Loss: 0.10\n",
      "  Validation took: 0:01:20\n",
      "\n",
      "Training complete!\n",
      "Total training took 3:57:49 (h:mm:ss)\n"
     ]
    }
   ],
   "source": [
    "total_t0 = time.time()\n",
    "\n",
    "training_stats = []\n",
    "\n",
    "model = model #.to(device)\n",
    "\n",
    "for epoch_i in range(0, epochs):\n",
    "\n",
    "    # ========================================\n",
    "    #               Training\n",
    "    # ========================================\n",
    "\n",
    "    print(\"\")\n",
    "    print('======== Epoch {:} / {:} ========'.format(epoch_i + 1, epochs))\n",
    "    print('Training...')\n",
    "\n",
    "    t0 = time.time()\n",
    "\n",
    "    total_train_loss = 0\n",
    "\n",
    "    model.train()\n",
    "\n",
    "    for step, batch in enumerate(train_dataloader):\n",
    "\n",
    "        b_input_ids = batch[0] #.to(device)\n",
    "        b_labels = batch[0] #.to(device)\n",
    "        b_masks = batch[1]  #.to(device)\n",
    "\n",
    "        model.zero_grad()\n",
    "\n",
    "        outputs = model(  b_input_ids,\n",
    "                          labels=b_labels,\n",
    "                          attention_mask = b_masks,\n",
    "                          token_type_ids=None\n",
    "                        )\n",
    "\n",
    "        loss = outputs[0]\n",
    "\n",
    "        batch_loss = loss.item()\n",
    "        total_train_loss += batch_loss\n",
    "\n",
    "        # Get sample every x batches.\n",
    "        if step % sample_every == 0 and not step == 0:\n",
    "\n",
    "            elapsed = format_time(time.time() - t0)\n",
    "            print('  Batch {:>5,}  of  {:>5,}. Loss: {:>5,}.   Elapsed: {:}.'.format(step, len(train_dataloader), batch_loss, elapsed))\n",
    "\n",
    "            model.eval()\n",
    "\n",
    "            sample_outputs = model.generate(\n",
    "                                    bos_token_id=random.randint(1,30000),\n",
    "                                    do_sample=True,\n",
    "                                    top_k=50,\n",
    "                                    max_length = 200,\n",
    "                                    top_p=0.95,\n",
    "                                    num_return_sequences=1\n",
    "                                )\n",
    "            for i, sample_output in enumerate(sample_outputs):\n",
    "                  print(\"{}: {}\".format(i, tokenizer.decode(sample_output, skip_special_tokens=True)))\n",
    "\n",
    "            model.train()\n",
    "\n",
    "        loss.backward()\n",
    "\n",
    "        optimizer.step()\n",
    "\n",
    "        scheduler.step()\n",
    "\n",
    "    # Calculate the average loss over all of the batches.\n",
    "    avg_train_loss = total_train_loss / len(train_dataloader)\n",
    "\n",
    "    # Measure how long this epoch took.\n",
    "    training_time = format_time(time.time() - t0)\n",
    "\n",
    "    print(\"\")\n",
    "    print(\"  Average training loss: {0:.2f}\".format(avg_train_loss))\n",
    "    print(\"  Training epoch took: {:}\".format(training_time))\n",
    "\n",
    "    # ========================================\n",
    "    #               Validation\n",
    "    # ========================================\n",
    "\n",
    "    print(\"\")\n",
    "    print(\"Running Validation...\")\n",
    "\n",
    "    t0 = time.time()\n",
    "\n",
    "    model.eval()\n",
    "\n",
    "    total_eval_loss = 0\n",
    "    nb_eval_steps = 0\n",
    "\n",
    "    # Evaluate data for one epoch\n",
    "    for batch in validation_dataloader:\n",
    "\n",
    "        b_input_ids = batch[0] #.to(device)\n",
    "        b_labels = batch[0] #.to(device)\n",
    "        b_masks = batch[1] #.to(device)\n",
    "\n",
    "        with torch.no_grad():\n",
    "\n",
    "            outputs  = model(b_input_ids,\n",
    "                          #  token_type_ids=None,\n",
    "                             attention_mask = b_masks,\n",
    "                            labels=b_labels)\n",
    "\n",
    "            loss = outputs[0]\n",
    "\n",
    "        batch_loss = loss.item()\n",
    "        total_eval_loss += batch_loss\n",
    "\n",
    "    avg_val_loss = total_eval_loss / len(validation_dataloader)\n",
    "\n",
    "    validation_time = format_time(time.time() - t0)\n",
    "\n",
    "    print(\"  Validation Loss: {0:.2f}\".format(avg_val_loss))\n",
    "    print(\"  Validation took: {:}\".format(validation_time))\n",
    "\n",
    "    # Record all statistics from this epoch.\n",
    "    training_stats.append(\n",
    "        {\n",
    "            'epoch': epoch_i + 1,\n",
    "            'Training Loss': avg_train_loss,\n",
    "            'Valid. Loss': avg_val_loss,\n",
    "            'Training Time': training_time,\n",
    "            'Validation Time': validation_time\n",
    "        }\n",
    "    )\n",
    "\n",
    "print(\"\")\n",
    "print(\"Training complete!\")\n",
    "print(\"Total training took {:} (h:mm:ss)\".format(format_time(time.time()-total_t0)))"
   ],
   "metadata": {
    "collapsed": false
   }
  },
  {
   "cell_type": "markdown",
   "source": [
    "### (5 pts) Draw a figure for tracking train and validation losses.\n",
    "\n"
   ],
   "metadata": {
    "collapsed": false
   }
  },
  {
   "cell_type": "code",
   "execution_count": 34,
   "outputs": [
    {
     "data": {
      "text/plain": "       Training Loss  Valid. Loss Training Time Validation Time\nepoch                                                          \n1               0.17         0.07       0:46:28         0:01:21\n2               0.07         0.08       0:46:15         0:01:21\n3               0.06         0.08       0:46:11         0:01:21\n4               0.04         0.09       0:46:26         0:01:20\n5               0.03         0.10       0:45:47         0:01:20",
      "text/html": "<div>\n<style scoped>\n    .dataframe tbody tr th:only-of-type {\n        vertical-align: middle;\n    }\n\n    .dataframe tbody tr th {\n        vertical-align: top;\n    }\n\n    .dataframe thead th {\n        text-align: right;\n    }\n</style>\n<table border=\"1\" class=\"dataframe\">\n  <thead>\n    <tr style=\"text-align: right;\">\n      <th></th>\n      <th>Training Loss</th>\n      <th>Valid. Loss</th>\n      <th>Training Time</th>\n      <th>Validation Time</th>\n    </tr>\n    <tr>\n      <th>epoch</th>\n      <th></th>\n      <th></th>\n      <th></th>\n      <th></th>\n    </tr>\n  </thead>\n  <tbody>\n    <tr>\n      <th>1</th>\n      <td>0.17</td>\n      <td>0.07</td>\n      <td>0:46:28</td>\n      <td>0:01:21</td>\n    </tr>\n    <tr>\n      <th>2</th>\n      <td>0.07</td>\n      <td>0.08</td>\n      <td>0:46:15</td>\n      <td>0:01:21</td>\n    </tr>\n    <tr>\n      <th>3</th>\n      <td>0.06</td>\n      <td>0.08</td>\n      <td>0:46:11</td>\n      <td>0:01:21</td>\n    </tr>\n    <tr>\n      <th>4</th>\n      <td>0.04</td>\n      <td>0.09</td>\n      <td>0:46:26</td>\n      <td>0:01:20</td>\n    </tr>\n    <tr>\n      <th>5</th>\n      <td>0.03</td>\n      <td>0.10</td>\n      <td>0:45:47</td>\n      <td>0:01:20</td>\n    </tr>\n  </tbody>\n</table>\n</div>"
     },
     "execution_count": 34,
     "metadata": {},
     "output_type": "execute_result"
    }
   ],
   "source": [
    "# Display floats with two decimal places.\n",
    "pd.set_option('display.precision', 2)\n",
    "\n",
    "# Create a DataFrame from our training statistics.\n",
    "df_stats = pd.DataFrame(data=training_stats)\n",
    "\n",
    "# Use the 'epoch' as the row index.\n",
    "df_stats = df_stats.set_index('epoch')\n",
    "\n",
    "# A hack to force the column headers to wrap.\n",
    "# df_stats = df_stats.style.set_table_styles([dict(selector=\"th\",props=[('max-width', '70px')])])\n",
    "\n",
    "# Display the table.\n",
    "df_stats"
   ],
   "metadata": {
    "collapsed": false
   }
  },
  {
   "cell_type": "code",
   "execution_count": 35,
   "outputs": [
    {
     "data": {
      "text/plain": "<Figure size 1200x600 with 1 Axes>",
      "image/png": "[encoded data removed]"
     },
     "metadata": {},
     "output_type": "display_data"
    }
   ],
   "source": [
    "# Use plot styling from seaborn.\n",
    "sns.set(style='darkgrid')\n",
    "\n",
    "# Increase the plot size and font size.\n",
    "sns.set(font_scale=1.5)\n",
    "plt.rcParams[\"figure.figsize\"] = (12,6)\n",
    "\n",
    "# Plot the learning curve.\n",
    "plt.plot(df_stats['Training Loss'], 'b-o', label=\"Training\")\n",
    "plt.plot(df_stats['Valid. Loss'], 'g-o', label=\"Validation\")\n",
    "\n",
    "# Label the plot.\n",
    "plt.title(\"Training & Validation Loss\")\n",
    "plt.xlabel(\"Epoch\")\n",
    "plt.ylabel(\"Loss\")\n",
    "plt.legend()\n",
    "plt.xticks([1, 2, 3, 4])\n",
    "\n",
    "plt.show()"
   ],
   "metadata": {
    "collapsed": false
   }
  },
  {
   "cell_type": "markdown",
   "source": [
    "### (5 pts) Print out some sample text from your chosen data and report 10 example generations that you think are interesting! Do your examples look like your training text?"
   ],
   "metadata": {
    "collapsed": false
   }
  },
  {
   "cell_type": "code",
   "execution_count": 33,
   "outputs": [
    {
     "name": "stdout",
     "output_type": "stream",
     "text": [
      "tensor([[50257]])\n",
      "0: I'm not a boy.\n",
      "\n",
      "\n",
      "1: But you couldn't kill him. You just stood there and watched.\n",
      "\n",
      "\n",
      "2: What did I buy you for?\n",
      "\n",
      "\n"
     ]
    }
   ],
   "source": [
    "model.eval()\n",
    "\n",
    "prompt = \"<|startoftext|>\"\n",
    "\n",
    "generated = torch.tensor(tokenizer.encode(prompt)).unsqueeze(0)\n",
    "generated = generated #.to(device)\n",
    "\n",
    "print(generated)\n",
    "\n",
    "sample_outputs = model.generate(\n",
    "                                generated,\n",
    "                                #bos_token_id=random.randint(1,30000),\n",
    "                                do_sample=True,\n",
    "                                top_k=50,\n",
    "                                max_length = 300,\n",
    "                                top_p=0.95,\n",
    "                                num_return_sequences=3\n",
    "                                )\n",
    "\n",
    "for i, sample_output in enumerate(sample_outputs):\n",
    "  print(\"{}: {}\\n\\n\".format(i, tokenizer.decode(sample_output, skip_special_tokens=True)))"
   ],
   "metadata": {
    "collapsed": false
   }
  },
  {
   "cell_type": "code",
   "execution_count": 37,
   "outputs": [
    {
     "name": "stdout",
     "output_type": "stream",
     "text": [
      "Saving model to ./got_model_save/\n"
     ]
    },
    {
     "data": {
      "text/plain": "('./got_model_save/tokenizer_config.json',\n './got_model_save/special_tokens_map.json',\n './got_model_save/vocab.json',\n './got_model_save/merges.txt',\n './got_model_save/added_tokens.json')"
     },
     "execution_count": 37,
     "metadata": {},
     "output_type": "execute_result"
    }
   ],
   "source": [
    "# Saving best-practices: if you use defaults names for the model, you can reload it using from_pretrained()\n",
    "\n",
    "output_dir = './got_model_save/'\n",
    "\n",
    "# Create output directory if needed\n",
    "if not os.path.exists(output_dir):\n",
    "    os.makedirs(output_dir)\n",
    "\n",
    "# Copy the model files to a directory in your Google Drive.\n",
    "print(\"Saving model to %s\" % output_dir)\n",
    "\n",
    "# Save a trained model, configuration and tokenizer using `save_pretrained()`.\n",
    "# They can then be reloaded using `from_pretrained()`\n",
    "model_to_save = model.module if hasattr(model, 'module') else model  # Take care of distributed/parallel training\n",
    "model_to_save.save_pretrained(output_dir)\n",
    "tokenizer.save_pretrained(output_dir)"
   ],
   "metadata": {
    "collapsed": false
   }
  },
  {
   "cell_type": "code",
   "execution_count": null,
   "outputs": [],
   "source": [
    "# Good practice: save your training arguments together with the trained model\n",
    "# torch.save(args, os.path.join(output_dir, 'training_args.bin'))"
   ],
   "metadata": {
    "collapsed": false
   }
  },
  {
   "cell_type": "markdown",
   "metadata": {
    "id": "OdsK8Z7PC63N"
   },
   "source": []
  }
 ],
 "metadata": {
  "accelerator": "GPU",
  "colab": {
   "provenance": []
  },
  "gpuClass": "standard",
  "kernelspec": {
   "display_name": "Python 3 (ipykernel)",
   "language": "python",
   "name": "python3"
  },
  "language_info": {
   "codemirror_mode": {
    "name": "ipython",
    "version": 3
   },
   "file_extension": ".py",
   "mimetype": "text/x-python",
   "name": "python",
   "nbconvert_exporter": "python",
   "pygments_lexer": "ipython3",
   "version": "3.9.6"
  }
 },
 "nbformat": 4,
 "nbformat_minor": 1
}
